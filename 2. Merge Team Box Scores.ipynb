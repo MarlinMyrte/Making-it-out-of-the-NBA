{
 "cells": [
  {
   "cell_type": "code",
   "execution_count": 5,
   "id": "f058e923",
   "metadata": {},
   "outputs": [],
   "source": [
    "import numpy as np\n",
    "import pandas as pd"
   ]
  },
  {
   "cell_type": "code",
   "execution_count": 8,
   "id": "e847a04a",
   "metadata": {},
   "outputs": [],
   "source": [
    "ratings=pd.DataFrame()\n",
    "advanced=pd.DataFrame()"
   ]
  },
  {
   "cell_type": "code",
   "execution_count": 9,
   "id": "f8b0ac43",
   "metadata": {
    "scrolled": true
   },
   "outputs": [
    {
     "name": "stdout",
     "output_type": "stream",
     "text": [
      "2000\n"
     ]
    },
    {
     "name": "stderr",
     "output_type": "stream",
     "text": [
      "C:\\Users\\marli\\AppData\\Local\\Temp\\ipykernel_11644\\2789114510.py:77: FutureWarning: The frame.append method is deprecated and will be removed from pandas in a future version. Use pandas.concat instead.\n",
      "  comb=reg.append(po)\n",
      "C:\\Users\\marli\\AppData\\Local\\Temp\\ipykernel_11644\\2789114510.py:97: FutureWarning: The frame.append method is deprecated and will be removed from pandas in a future version. Use pandas.concat instead.\n",
      "  ratings=ratings.append(pv)\n",
      "C:\\Users\\marli\\AppData\\Local\\Temp\\ipykernel_11644\\2789114510.py:98: FutureWarning: The frame.append method is deprecated and will be removed from pandas in a future version. Use pandas.concat instead.\n",
      "  advanced=advanced.append(pv2)\n"
     ]
    },
    {
     "name": "stdout",
     "output_type": "stream",
     "text": [
      "2001\n"
     ]
    },
    {
     "name": "stderr",
     "output_type": "stream",
     "text": [
      "C:\\Users\\marli\\AppData\\Local\\Temp\\ipykernel_11644\\2789114510.py:77: FutureWarning: The frame.append method is deprecated and will be removed from pandas in a future version. Use pandas.concat instead.\n",
      "  comb=reg.append(po)\n",
      "C:\\Users\\marli\\AppData\\Local\\Temp\\ipykernel_11644\\2789114510.py:97: FutureWarning: The frame.append method is deprecated and will be removed from pandas in a future version. Use pandas.concat instead.\n",
      "  ratings=ratings.append(pv)\n",
      "C:\\Users\\marli\\AppData\\Local\\Temp\\ipykernel_11644\\2789114510.py:98: FutureWarning: The frame.append method is deprecated and will be removed from pandas in a future version. Use pandas.concat instead.\n",
      "  advanced=advanced.append(pv2)\n"
     ]
    },
    {
     "name": "stdout",
     "output_type": "stream",
     "text": [
      "2002\n"
     ]
    },
    {
     "name": "stderr",
     "output_type": "stream",
     "text": [
      "C:\\Users\\marli\\AppData\\Local\\Temp\\ipykernel_11644\\2789114510.py:77: FutureWarning: The frame.append method is deprecated and will be removed from pandas in a future version. Use pandas.concat instead.\n",
      "  comb=reg.append(po)\n",
      "C:\\Users\\marli\\AppData\\Local\\Temp\\ipykernel_11644\\2789114510.py:97: FutureWarning: The frame.append method is deprecated and will be removed from pandas in a future version. Use pandas.concat instead.\n",
      "  ratings=ratings.append(pv)\n",
      "C:\\Users\\marli\\AppData\\Local\\Temp\\ipykernel_11644\\2789114510.py:98: FutureWarning: The frame.append method is deprecated and will be removed from pandas in a future version. Use pandas.concat instead.\n",
      "  advanced=advanced.append(pv2)\n"
     ]
    },
    {
     "name": "stdout",
     "output_type": "stream",
     "text": [
      "2003\n"
     ]
    },
    {
     "name": "stderr",
     "output_type": "stream",
     "text": [
      "C:\\Users\\marli\\AppData\\Local\\Temp\\ipykernel_11644\\2789114510.py:77: FutureWarning: The frame.append method is deprecated and will be removed from pandas in a future version. Use pandas.concat instead.\n",
      "  comb=reg.append(po)\n",
      "C:\\Users\\marli\\AppData\\Local\\Temp\\ipykernel_11644\\2789114510.py:97: FutureWarning: The frame.append method is deprecated and will be removed from pandas in a future version. Use pandas.concat instead.\n",
      "  ratings=ratings.append(pv)\n",
      "C:\\Users\\marli\\AppData\\Local\\Temp\\ipykernel_11644\\2789114510.py:98: FutureWarning: The frame.append method is deprecated and will be removed from pandas in a future version. Use pandas.concat instead.\n",
      "  advanced=advanced.append(pv2)\n"
     ]
    },
    {
     "name": "stdout",
     "output_type": "stream",
     "text": [
      "2004\n"
     ]
    },
    {
     "name": "stderr",
     "output_type": "stream",
     "text": [
      "C:\\Users\\marli\\AppData\\Local\\Temp\\ipykernel_11644\\2789114510.py:77: FutureWarning: The frame.append method is deprecated and will be removed from pandas in a future version. Use pandas.concat instead.\n",
      "  comb=reg.append(po)\n",
      "C:\\Users\\marli\\AppData\\Local\\Temp\\ipykernel_11644\\2789114510.py:97: FutureWarning: The frame.append method is deprecated and will be removed from pandas in a future version. Use pandas.concat instead.\n",
      "  ratings=ratings.append(pv)\n",
      "C:\\Users\\marli\\AppData\\Local\\Temp\\ipykernel_11644\\2789114510.py:98: FutureWarning: The frame.append method is deprecated and will be removed from pandas in a future version. Use pandas.concat instead.\n",
      "  advanced=advanced.append(pv2)\n"
     ]
    },
    {
     "name": "stdout",
     "output_type": "stream",
     "text": [
      "2005\n"
     ]
    },
    {
     "name": "stderr",
     "output_type": "stream",
     "text": [
      "C:\\Users\\marli\\AppData\\Local\\Temp\\ipykernel_11644\\2789114510.py:77: FutureWarning: The frame.append method is deprecated and will be removed from pandas in a future version. Use pandas.concat instead.\n",
      "  comb=reg.append(po)\n",
      "C:\\Users\\marli\\AppData\\Local\\Temp\\ipykernel_11644\\2789114510.py:97: FutureWarning: The frame.append method is deprecated and will be removed from pandas in a future version. Use pandas.concat instead.\n",
      "  ratings=ratings.append(pv)\n",
      "C:\\Users\\marli\\AppData\\Local\\Temp\\ipykernel_11644\\2789114510.py:98: FutureWarning: The frame.append method is deprecated and will be removed from pandas in a future version. Use pandas.concat instead.\n",
      "  advanced=advanced.append(pv2)\n"
     ]
    },
    {
     "name": "stdout",
     "output_type": "stream",
     "text": [
      "2006\n"
     ]
    },
    {
     "name": "stderr",
     "output_type": "stream",
     "text": [
      "C:\\Users\\marli\\AppData\\Local\\Temp\\ipykernel_11644\\2789114510.py:77: FutureWarning: The frame.append method is deprecated and will be removed from pandas in a future version. Use pandas.concat instead.\n",
      "  comb=reg.append(po)\n",
      "C:\\Users\\marli\\AppData\\Local\\Temp\\ipykernel_11644\\2789114510.py:97: FutureWarning: The frame.append method is deprecated and will be removed from pandas in a future version. Use pandas.concat instead.\n",
      "  ratings=ratings.append(pv)\n",
      "C:\\Users\\marli\\AppData\\Local\\Temp\\ipykernel_11644\\2789114510.py:98: FutureWarning: The frame.append method is deprecated and will be removed from pandas in a future version. Use pandas.concat instead.\n",
      "  advanced=advanced.append(pv2)\n"
     ]
    },
    {
     "name": "stdout",
     "output_type": "stream",
     "text": [
      "2007\n"
     ]
    },
    {
     "name": "stderr",
     "output_type": "stream",
     "text": [
      "C:\\Users\\marli\\AppData\\Local\\Temp\\ipykernel_11644\\2789114510.py:77: FutureWarning: The frame.append method is deprecated and will be removed from pandas in a future version. Use pandas.concat instead.\n",
      "  comb=reg.append(po)\n",
      "C:\\Users\\marli\\AppData\\Local\\Temp\\ipykernel_11644\\2789114510.py:97: FutureWarning: The frame.append method is deprecated and will be removed from pandas in a future version. Use pandas.concat instead.\n",
      "  ratings=ratings.append(pv)\n",
      "C:\\Users\\marli\\AppData\\Local\\Temp\\ipykernel_11644\\2789114510.py:98: FutureWarning: The frame.append method is deprecated and will be removed from pandas in a future version. Use pandas.concat instead.\n",
      "  advanced=advanced.append(pv2)\n"
     ]
    },
    {
     "name": "stdout",
     "output_type": "stream",
     "text": [
      "2008\n"
     ]
    },
    {
     "name": "stderr",
     "output_type": "stream",
     "text": [
      "C:\\Users\\marli\\AppData\\Local\\Temp\\ipykernel_11644\\2789114510.py:77: FutureWarning: The frame.append method is deprecated and will be removed from pandas in a future version. Use pandas.concat instead.\n",
      "  comb=reg.append(po)\n",
      "C:\\Users\\marli\\AppData\\Local\\Temp\\ipykernel_11644\\2789114510.py:97: FutureWarning: The frame.append method is deprecated and will be removed from pandas in a future version. Use pandas.concat instead.\n",
      "  ratings=ratings.append(pv)\n",
      "C:\\Users\\marli\\AppData\\Local\\Temp\\ipykernel_11644\\2789114510.py:98: FutureWarning: The frame.append method is deprecated and will be removed from pandas in a future version. Use pandas.concat instead.\n",
      "  advanced=advanced.append(pv2)\n"
     ]
    },
    {
     "name": "stdout",
     "output_type": "stream",
     "text": [
      "2009\n"
     ]
    },
    {
     "name": "stderr",
     "output_type": "stream",
     "text": [
      "C:\\Users\\marli\\AppData\\Local\\Temp\\ipykernel_11644\\2789114510.py:77: FutureWarning: The frame.append method is deprecated and will be removed from pandas in a future version. Use pandas.concat instead.\n",
      "  comb=reg.append(po)\n",
      "C:\\Users\\marli\\AppData\\Local\\Temp\\ipykernel_11644\\2789114510.py:97: FutureWarning: The frame.append method is deprecated and will be removed from pandas in a future version. Use pandas.concat instead.\n",
      "  ratings=ratings.append(pv)\n",
      "C:\\Users\\marli\\AppData\\Local\\Temp\\ipykernel_11644\\2789114510.py:98: FutureWarning: The frame.append method is deprecated and will be removed from pandas in a future version. Use pandas.concat instead.\n",
      "  advanced=advanced.append(pv2)\n"
     ]
    },
    {
     "name": "stdout",
     "output_type": "stream",
     "text": [
      "2010\n"
     ]
    },
    {
     "name": "stderr",
     "output_type": "stream",
     "text": [
      "C:\\Users\\marli\\AppData\\Local\\Temp\\ipykernel_11644\\2789114510.py:77: FutureWarning: The frame.append method is deprecated and will be removed from pandas in a future version. Use pandas.concat instead.\n",
      "  comb=reg.append(po)\n",
      "C:\\Users\\marli\\AppData\\Local\\Temp\\ipykernel_11644\\2789114510.py:97: FutureWarning: The frame.append method is deprecated and will be removed from pandas in a future version. Use pandas.concat instead.\n",
      "  ratings=ratings.append(pv)\n",
      "C:\\Users\\marli\\AppData\\Local\\Temp\\ipykernel_11644\\2789114510.py:98: FutureWarning: The frame.append method is deprecated and will be removed from pandas in a future version. Use pandas.concat instead.\n",
      "  advanced=advanced.append(pv2)\n"
     ]
    },
    {
     "name": "stdout",
     "output_type": "stream",
     "text": [
      "2011\n"
     ]
    },
    {
     "name": "stderr",
     "output_type": "stream",
     "text": [
      "C:\\Users\\marli\\AppData\\Local\\Temp\\ipykernel_11644\\2789114510.py:77: FutureWarning: The frame.append method is deprecated and will be removed from pandas in a future version. Use pandas.concat instead.\n",
      "  comb=reg.append(po)\n",
      "C:\\Users\\marli\\AppData\\Local\\Temp\\ipykernel_11644\\2789114510.py:97: FutureWarning: The frame.append method is deprecated and will be removed from pandas in a future version. Use pandas.concat instead.\n",
      "  ratings=ratings.append(pv)\n",
      "C:\\Users\\marli\\AppData\\Local\\Temp\\ipykernel_11644\\2789114510.py:98: FutureWarning: The frame.append method is deprecated and will be removed from pandas in a future version. Use pandas.concat instead.\n",
      "  advanced=advanced.append(pv2)\n"
     ]
    },
    {
     "name": "stdout",
     "output_type": "stream",
     "text": [
      "2012\n"
     ]
    },
    {
     "name": "stderr",
     "output_type": "stream",
     "text": [
      "C:\\Users\\marli\\AppData\\Local\\Temp\\ipykernel_11644\\2789114510.py:77: FutureWarning: The frame.append method is deprecated and will be removed from pandas in a future version. Use pandas.concat instead.\n",
      "  comb=reg.append(po)\n",
      "C:\\Users\\marli\\AppData\\Local\\Temp\\ipykernel_11644\\2789114510.py:97: FutureWarning: The frame.append method is deprecated and will be removed from pandas in a future version. Use pandas.concat instead.\n",
      "  ratings=ratings.append(pv)\n",
      "C:\\Users\\marli\\AppData\\Local\\Temp\\ipykernel_11644\\2789114510.py:98: FutureWarning: The frame.append method is deprecated and will be removed from pandas in a future version. Use pandas.concat instead.\n",
      "  advanced=advanced.append(pv2)\n"
     ]
    },
    {
     "name": "stdout",
     "output_type": "stream",
     "text": [
      "2013\n"
     ]
    },
    {
     "name": "stderr",
     "output_type": "stream",
     "text": [
      "C:\\Users\\marli\\AppData\\Local\\Temp\\ipykernel_11644\\2789114510.py:77: FutureWarning: The frame.append method is deprecated and will be removed from pandas in a future version. Use pandas.concat instead.\n",
      "  comb=reg.append(po)\n",
      "C:\\Users\\marli\\AppData\\Local\\Temp\\ipykernel_11644\\2789114510.py:97: FutureWarning: The frame.append method is deprecated and will be removed from pandas in a future version. Use pandas.concat instead.\n",
      "  ratings=ratings.append(pv)\n",
      "C:\\Users\\marli\\AppData\\Local\\Temp\\ipykernel_11644\\2789114510.py:98: FutureWarning: The frame.append method is deprecated and will be removed from pandas in a future version. Use pandas.concat instead.\n",
      "  advanced=advanced.append(pv2)\n"
     ]
    },
    {
     "name": "stdout",
     "output_type": "stream",
     "text": [
      "2014\n"
     ]
    },
    {
     "name": "stderr",
     "output_type": "stream",
     "text": [
      "C:\\Users\\marli\\AppData\\Local\\Temp\\ipykernel_11644\\2789114510.py:77: FutureWarning: The frame.append method is deprecated and will be removed from pandas in a future version. Use pandas.concat instead.\n",
      "  comb=reg.append(po)\n",
      "C:\\Users\\marli\\AppData\\Local\\Temp\\ipykernel_11644\\2789114510.py:97: FutureWarning: The frame.append method is deprecated and will be removed from pandas in a future version. Use pandas.concat instead.\n",
      "  ratings=ratings.append(pv)\n",
      "C:\\Users\\marli\\AppData\\Local\\Temp\\ipykernel_11644\\2789114510.py:98: FutureWarning: The frame.append method is deprecated and will be removed from pandas in a future version. Use pandas.concat instead.\n",
      "  advanced=advanced.append(pv2)\n"
     ]
    },
    {
     "name": "stdout",
     "output_type": "stream",
     "text": [
      "2015\n"
     ]
    },
    {
     "name": "stderr",
     "output_type": "stream",
     "text": [
      "C:\\Users\\marli\\AppData\\Local\\Temp\\ipykernel_11644\\2789114510.py:77: FutureWarning: The frame.append method is deprecated and will be removed from pandas in a future version. Use pandas.concat instead.\n",
      "  comb=reg.append(po)\n",
      "C:\\Users\\marli\\AppData\\Local\\Temp\\ipykernel_11644\\2789114510.py:97: FutureWarning: The frame.append method is deprecated and will be removed from pandas in a future version. Use pandas.concat instead.\n",
      "  ratings=ratings.append(pv)\n",
      "C:\\Users\\marli\\AppData\\Local\\Temp\\ipykernel_11644\\2789114510.py:98: FutureWarning: The frame.append method is deprecated and will be removed from pandas in a future version. Use pandas.concat instead.\n",
      "  advanced=advanced.append(pv2)\n"
     ]
    },
    {
     "name": "stdout",
     "output_type": "stream",
     "text": [
      "2016\n"
     ]
    },
    {
     "name": "stderr",
     "output_type": "stream",
     "text": [
      "C:\\Users\\marli\\AppData\\Local\\Temp\\ipykernel_11644\\2789114510.py:77: FutureWarning: The frame.append method is deprecated and will be removed from pandas in a future version. Use pandas.concat instead.\n",
      "  comb=reg.append(po)\n",
      "C:\\Users\\marli\\AppData\\Local\\Temp\\ipykernel_11644\\2789114510.py:97: FutureWarning: The frame.append method is deprecated and will be removed from pandas in a future version. Use pandas.concat instead.\n",
      "  ratings=ratings.append(pv)\n",
      "C:\\Users\\marli\\AppData\\Local\\Temp\\ipykernel_11644\\2789114510.py:98: FutureWarning: The frame.append method is deprecated and will be removed from pandas in a future version. Use pandas.concat instead.\n",
      "  advanced=advanced.append(pv2)\n"
     ]
    },
    {
     "name": "stdout",
     "output_type": "stream",
     "text": [
      "2017\n"
     ]
    },
    {
     "name": "stderr",
     "output_type": "stream",
     "text": [
      "C:\\Users\\marli\\AppData\\Local\\Temp\\ipykernel_11644\\2789114510.py:77: FutureWarning: The frame.append method is deprecated and will be removed from pandas in a future version. Use pandas.concat instead.\n",
      "  comb=reg.append(po)\n",
      "C:\\Users\\marli\\AppData\\Local\\Temp\\ipykernel_11644\\2789114510.py:97: FutureWarning: The frame.append method is deprecated and will be removed from pandas in a future version. Use pandas.concat instead.\n",
      "  ratings=ratings.append(pv)\n",
      "C:\\Users\\marli\\AppData\\Local\\Temp\\ipykernel_11644\\2789114510.py:98: FutureWarning: The frame.append method is deprecated and will be removed from pandas in a future version. Use pandas.concat instead.\n",
      "  advanced=advanced.append(pv2)\n"
     ]
    },
    {
     "name": "stdout",
     "output_type": "stream",
     "text": [
      "2018\n"
     ]
    },
    {
     "name": "stderr",
     "output_type": "stream",
     "text": [
      "C:\\Users\\marli\\AppData\\Local\\Temp\\ipykernel_11644\\2789114510.py:77: FutureWarning: The frame.append method is deprecated and will be removed from pandas in a future version. Use pandas.concat instead.\n",
      "  comb=reg.append(po)\n",
      "C:\\Users\\marli\\AppData\\Local\\Temp\\ipykernel_11644\\2789114510.py:97: FutureWarning: The frame.append method is deprecated and will be removed from pandas in a future version. Use pandas.concat instead.\n",
      "  ratings=ratings.append(pv)\n",
      "C:\\Users\\marli\\AppData\\Local\\Temp\\ipykernel_11644\\2789114510.py:98: FutureWarning: The frame.append method is deprecated and will be removed from pandas in a future version. Use pandas.concat instead.\n",
      "  advanced=advanced.append(pv2)\n"
     ]
    },
    {
     "name": "stdout",
     "output_type": "stream",
     "text": [
      "2019\n"
     ]
    },
    {
     "name": "stderr",
     "output_type": "stream",
     "text": [
      "C:\\Users\\marli\\AppData\\Local\\Temp\\ipykernel_11644\\2789114510.py:35: FutureWarning: The frame.append method is deprecated and will be removed from pandas in a future version. Use pandas.concat instead.\n",
      "  ratings=ratings.append(pv)\n",
      "C:\\Users\\marli\\AppData\\Local\\Temp\\ipykernel_11644\\2789114510.py:36: FutureWarning: The frame.append method is deprecated and will be removed from pandas in a future version. Use pandas.concat instead.\n",
      "  advanced=advanced.append(pv2)\n"
     ]
    },
    {
     "name": "stdout",
     "output_type": "stream",
     "text": [
      "2020\n"
     ]
    },
    {
     "name": "stderr",
     "output_type": "stream",
     "text": [
      "C:\\Users\\marli\\AppData\\Local\\Temp\\ipykernel_11644\\2789114510.py:77: FutureWarning: The frame.append method is deprecated and will be removed from pandas in a future version. Use pandas.concat instead.\n",
      "  comb=reg.append(po)\n",
      "C:\\Users\\marli\\AppData\\Local\\Temp\\ipykernel_11644\\2789114510.py:97: FutureWarning: The frame.append method is deprecated and will be removed from pandas in a future version. Use pandas.concat instead.\n",
      "  ratings=ratings.append(pv)\n",
      "C:\\Users\\marli\\AppData\\Local\\Temp\\ipykernel_11644\\2789114510.py:98: FutureWarning: The frame.append method is deprecated and will be removed from pandas in a future version. Use pandas.concat instead.\n",
      "  advanced=advanced.append(pv2)\n"
     ]
    },
    {
     "name": "stdout",
     "output_type": "stream",
     "text": [
      "2021\n"
     ]
    },
    {
     "name": "stderr",
     "output_type": "stream",
     "text": [
      "C:\\Users\\marli\\AppData\\Local\\Temp\\ipykernel_11644\\2789114510.py:58: FutureWarning: The frame.append method is deprecated and will be removed from pandas in a future version. Use pandas.concat instead.\n",
      "  ratings=ratings.append(pv)\n",
      "C:\\Users\\marli\\AppData\\Local\\Temp\\ipykernel_11644\\2789114510.py:59: FutureWarning: The frame.append method is deprecated and will be removed from pandas in a future version. Use pandas.concat instead.\n",
      "  advanced=advanced.append(pv2)\n"
     ]
    }
   ],
   "source": [
    "for i in range(2000,2022):\n",
    "    print(i)\n",
    "    if i==2019:\n",
    "        reg=pd.read_excel(\"Data/Euroleague/Team Box Score/\"+str(i)+\"-\"+str(i+1)+\".xlsx\",sheet_name='TEAMS',skiprows=1)\n",
    "        cod=pd.read_excel(\"Data/Euroleague/Teams/\"+str(i)+\"-\"+str(i+1)+\".xlsx\",sheet_name='TM TRAD STATS',skiprows=2)\n",
    "\n",
    "        reg=reg[reg[\"W/L\"]!='TBP']\n",
    "        cod=cod[cod[\"TEAM\"].isna()==False]\n",
    "        \n",
    "        reg[\"TEAM\"]=reg[\"TEAM\"].apply(lambda x: str.upper(x))\n",
    "        cod[\"TEAM\"]=cod[\"TEAM\"].apply(lambda x: str.upper(x))\n",
    "\n",
    "        reg=reg.merge(cod[['TEAM','Code']],left_on='TEAM',right_on='TEAM',how='left')\n",
    "\n",
    "        comb=reg\n",
    "        comb['OR']=pd.to_numeric(comb['OR'])\n",
    "        comb['OR.1']=pd.to_numeric(comb['OR.1'])\n",
    "        comb['Pts']=pd.to_numeric(comb['Pts'])\n",
    "        comb['PTS']=pd.to_numeric(comb['PTS'])\n",
    "\n",
    "        comb['Home Poss']=comb['FGA']+0.44*comb['FTA']-1.07*(comb['OR']/(comb['OR']+comb['DR.1']))*(comb['FGA']-comb['FGM'])+comb['TO']\n",
    "        comb['Away Poss']=comb['FGA.1']+0.44*comb['FTA.1']-1.07*(comb['OR.1']/(comb['OR.1']+comb['DR']))*(comb['FGA.1']-comb['FGM.1'])+comb['TO.1']\n",
    "        comb['Poss']=(comb['Home Poss']+comb['Away Poss'])/2\n",
    "        comb['Pace']=comb['Poss']/comb['Min']*200\n",
    "        comb['Off Rat']=comb['Pts']/comb['Poss']*100\n",
    "        comb['Def Rat']=comb['PTS']/comb['Poss']*100\n",
    "\n",
    "        pv=pd.pivot_table(comb,index=['TEAM','Code'], values=['Poss','Pace','Off Rat','Def Rat'])\n",
    "        pv2=pd.pivot_table(comb,index=['TEAM','Code'], values=['Away Poss','ST','BLK','2PA','Ast','FGM'],aggfunc='sum')\n",
    "        pv2.rename(columns={'2PA':'2PTA.1'},inplace=True)\n",
    "\n",
    "        pv['Year']=str(i)+\"-\"+str(i+1)\n",
    "        pv2['Year']=str(i)+\"-\"+str(i+1)\n",
    "\n",
    "        ratings=ratings.append(pv)\n",
    "        advanced=advanced.append(pv2)\n",
    "    elif i==2021:\n",
    "        data=pd.read_excel(\"Data/Euroleague/Teams/2021-2022.xlsx\",sheet_name='TEAMS_GbG',skiprows=2)\n",
    "        \n",
    "        data=data[data[\"MIN\"]!='DNP']\n",
    "        data=data[data[\"MIN\"]!='TBP']\n",
    "        data=data[data[\"MIN\"].isna()==False]\n",
    "        \n",
    "        comb=data\n",
    "        comb['Home Poss']=comb['FGA']+0.44*comb['FTA']-1.07*(comb['OR']/(comb['OR']+comb['DR.1']))*(comb['FGA']-comb['FGM'])+comb['TO']\n",
    "        comb['Away Poss']=comb['FGA.1']+0.44*comb['FTA.1']-1.07*(comb['OR.1']/(comb['OR.1']+comb['DR']))*(comb['FGA.1']-comb['FGM.1'])+comb['TO.1']\n",
    "        comb['Poss']=(comb['Home Poss']+comb['Away Poss'])/2\n",
    "        comb['Pace']=comb['Poss']/comb['MIN']*200\n",
    "        comb['Off Rat']=comb['PTS']/comb['Poss']*100\n",
    "        comb['Def Rat']=comb['PTS.1']/comb['Poss']*100\n",
    "        \n",
    "        pv=pd.pivot_table(comb,index=['TM NAME','TM TAG'], values=['Poss','Pace','Off Rat','Def Rat'])\n",
    "        pv2=pd.pivot_table(comb,index=['TM NAME','TM TAG'], values=['Away Poss','ST','BLK','2PTA.1','AST','FGM'],aggfunc='sum')\n",
    "        pv2.rename(columns={'AST':'Ast'},inplace=True)\n",
    "        pv['Year']=str(i)+\"-\"+str(i+1)\n",
    "        pv2['Year']=str(i)+\"-\"+str(i+1)\n",
    "\n",
    "        ratings=ratings.append(pv)\n",
    "        advanced=advanced.append(pv2)\n",
    "\n",
    "    else:\n",
    "        reg=pd.read_excel(\"Data/Euroleague/Team Box Score/\"+str(i)+\"-\"+str(i+1)+\".xlsx\",sheet_name='TEAMS',skiprows=1)\n",
    "        po=pd.read_excel(\"Data/Euroleague/Team Box Score/Playoff/\"+str(i)+\"-\"+str(i+1)+\".xlsx\",sheet_name='TEAMS',skiprows=1)\n",
    "        cod=pd.read_excel(\"Data/Euroleague/Teams/\"+str(i)+\"-\"+str(i+1)+\".xlsx\",sheet_name='TM TRAD STATS',skiprows=2)\n",
    "\n",
    "        reg=reg[reg[\"W/L\"]!='TBP']\n",
    "        po=po[po[\"W/L\"]!='TBP']\n",
    "        cod=cod[cod[\"TEAM\"].isna()==False]\n",
    "        \n",
    "        reg[\"TEAM\"]=reg[\"TEAM\"].apply(lambda x: str.upper(x))\n",
    "        po[\"TEAM\"]=po[\"TEAM\"].apply(lambda x: str.upper(x))\n",
    "        cod[\"TEAM\"]=cod[\"TEAM\"].apply(lambda x: str.upper(x))\n",
    "\n",
    "        reg=reg.merge(cod[['TEAM','Code']],left_on='TEAM',right_on='TEAM',how='left')\n",
    "        po=po.merge(cod[['TEAM','Code']],left_on='TEAM',right_on='TEAM',how='left')\n",
    "\n",
    "        comb=reg.append(po)\n",
    "        comb['OR']=pd.to_numeric(comb['OR'])\n",
    "        comb['OR.1']=pd.to_numeric(comb['OR.1'])\n",
    "        comb['Pts']=pd.to_numeric(comb['Pts'])\n",
    "        comb['PTS']=pd.to_numeric(comb['PTS'])\n",
    "\n",
    "        comb['Home Poss']=comb['FGA']+0.44*comb['FTA']-1.07*(comb['OR']/(comb['OR']+comb['DR.1']))*(comb['FGA']-comb['FGM'])+comb['TO']\n",
    "        comb['Away Poss']=comb['FGA.1']+0.44*comb['FTA.1']-1.07*(comb['OR.1']/(comb['OR.1']+comb['DR']))*(comb['FGA.1']-comb['FGM.1'])+comb['TO.1']\n",
    "        comb['Poss']=(comb['Home Poss']+comb['Away Poss'])/2\n",
    "        comb['Pace']=comb['Poss']/comb['Min']*200\n",
    "        comb['Off Rat']=comb['Pts']/comb['Poss']*100\n",
    "        comb['Def Rat']=comb['PTS']/comb['Poss']*100\n",
    "\n",
    "        pv=pd.pivot_table(comb,index=['TEAM','Code'], values=['Poss','Pace','Off Rat','Def Rat'])\n",
    "        pv2=pd.pivot_table(comb,index=['TEAM','Code'], values=['Away Poss','ST','BLK','2PA','Ast','FGM'],aggfunc='sum')\n",
    "        pv2.rename(columns={'2PA':'2PTA.1'},inplace=True)\n",
    "\n",
    "        pv['Year']=str(i)+\"-\"+str(i+1)\n",
    "        pv2['Year']=str(i)+\"-\"+str(i+1)\n",
    "\n",
    "        ratings=ratings.append(pv)\n",
    "        advanced=advanced.append(pv2)"
   ]
  },
  {
   "cell_type": "code",
   "execution_count": 10,
   "id": "b1074eed",
   "metadata": {},
   "outputs": [],
   "source": [
    "ratings['Net Rat']=ratings['Off Rat']-ratings['Def Rat']"
   ]
  },
  {
   "cell_type": "code",
   "execution_count": 11,
   "id": "2f3ffbff",
   "metadata": {},
   "outputs": [],
   "source": [
    "advanced['Ast%']=advanced['Ast']/advanced['FGM']*100\n",
    "advanced['ST%']=advanced['ST']/advanced['Away Poss']*100\n",
    "advanced['BLK%']=advanced['BLK']/advanced['2PTA.1']*100"
   ]
  },
  {
   "cell_type": "code",
   "execution_count": 12,
   "id": "f64bb7cb",
   "metadata": {},
   "outputs": [],
   "source": [
    "ratings.to_csv('euroleague_ratings.csv')\n",
    "advanced.to_csv('euroleague_advanced.csv')"
   ]
  },
  {
   "cell_type": "code",
   "execution_count": null,
   "id": "13675d0c",
   "metadata": {},
   "outputs": [],
   "source": []
  }
 ],
 "metadata": {
  "kernelspec": {
   "display_name": "Python 3 (ipykernel)",
   "language": "python",
   "name": "python3"
  },
  "language_info": {
   "codemirror_mode": {
    "name": "ipython",
    "version": 3
   },
   "file_extension": ".py",
   "mimetype": "text/x-python",
   "name": "python",
   "nbconvert_exporter": "python",
   "pygments_lexer": "ipython3",
   "version": "3.9.12"
  }
 },
 "nbformat": 4,
 "nbformat_minor": 5
}
