{
 "cells": [
  {
   "cell_type": "code",
   "execution_count": 262,
   "id": "e6fcf685",
   "metadata": {},
   "outputs": [],
   "source": [
    "import numpy as np\n",
    "import pandas as pd\n",
    "import matplotlib.pyplot as plt"
   ]
  },
  {
   "cell_type": "code",
   "execution_count": 263,
   "id": "60581fae",
   "metadata": {},
   "outputs": [],
   "source": [
    "vorp=pd.read_csv('nba_players_adv.csv')\n",
    "stats=pd.read_csv('nba_other_stats.csv')"
   ]
  },
  {
   "cell_type": "code",
   "execution_count": 264,
   "id": "b1bf08d5",
   "metadata": {},
   "outputs": [],
   "source": [
    "vorp=vorp.merge(stats,left_on='Link',right_on='link')\n",
    "vorp.drop(columns='link',inplace=True)\n",
    "vorp.drop(columns='\\\\',inplace=True)"
   ]
  },
  {
   "cell_type": "code",
   "execution_count": 267,
   "id": "e10e9cae",
   "metadata": {
    "scrolled": true
   },
   "outputs": [
    {
     "data": {
      "text/plain": [
       "<AxesSubplot:xlabel='Age', ylabel='VORP'>"
      ]
     },
     "execution_count": 267,
     "metadata": {},
     "output_type": "execute_result"
    },
    {
     "data": {
      "image/png": "[encoded data removed]",
      "text/plain": [
       "<Figure size 432x288 with 1 Axes>"
      ]
     },
     "metadata": {
      "needs_background": "light"
     },
     "output_type": "display_data"
    }
   ],
   "source": [
    "vorp.plot.scatter('Age','VORP')"
   ]
  },
  {
   "cell_type": "code",
   "execution_count": 268,
   "id": "86602563",
   "metadata": {},
   "outputs": [],
   "source": [
    "not_all_years=pd.DataFrame(index=vorp['Link'].unique(),columns=['to_exclude'])\n",
    "not_all_years['to_exclude']=0\n",
    "\n",
    "for i in vorp['Link'].unique():\n",
    "    df=vorp[vorp['Link']==i]\n",
    "    if len(df)<df.iloc[0,33]:\n",
    "        not_all_years.loc[i,'to_exclude']=1\n",
    "    if df.iloc[len(df)-1,3]<30:\n",
    "        not_all_years.loc[i,'to_exclude']=1\n",
    "    continue"
   ]
  },
  {
   "cell_type": "code",
   "execution_count": 269,
   "id": "fb048417",
   "metadata": {},
   "outputs": [],
   "source": [
    "not_all_years.reset_index(inplace=True)\n",
    "\n",
    "vorp=vorp.merge(not_all_years,how='left',left_on='Link',right_on='index')"
   ]
  },
  {
   "cell_type": "code",
   "execution_count": 270,
   "id": "f7153d9f",
   "metadata": {
    "scrolled": true
   },
   "outputs": [],
   "source": [
    "vorp_quint=vorp[vorp['to_exclude']==0].copy()\n",
    "vorp_quint.reset_index(drop=True,inplace=True)"
   ]
  },
  {
   "cell_type": "code",
   "execution_count": 271,
   "id": "b19bff35",
   "metadata": {},
   "outputs": [],
   "source": [
    "vorp_quint['link_id']=vorp_quint['Link']+vorp_quint['year']\n",
    "\n",
    "peak=pd.DataFrame(index=vorp_quint['link_id'].unique(),columns=['is_peak','peak_age'])\n",
    "peak['is_peak']=0\n",
    "peak['peak_age']='No'\n",
    "\n",
    "for i in vorp_quint['Link'].unique():\n",
    "    df=vorp_quint[vorp_quint['Link']==i]\n",
    "    idx=df['VORP'].idxmax()\n",
    "    peak.loc[vorp_quint.loc[idx,'link_id'],'is_peak']=1\n",
    "    peak.loc[vorp_quint.loc[idx,'link_id'],'peak_age']=df.loc[idx,'Age']"
   ]
  },
  {
   "cell_type": "code",
   "execution_count": 272,
   "id": "074ed8f7",
   "metadata": {},
   "outputs": [],
   "source": [
    "peak.reset_index(inplace=True)"
   ]
  },
  {
   "cell_type": "code",
   "execution_count": 273,
   "id": "5b497444",
   "metadata": {
    "scrolled": true
   },
   "outputs": [],
   "source": [
    "vorp_quint=vorp_quint.merge(peak,how='left',left_on='link_id',right_on='index')"
   ]
  },
  {
   "cell_type": "code",
   "execution_count": 274,
   "id": "1dbf6c4c",
   "metadata": {},
   "outputs": [],
   "source": [
    "vorp_peaks=vorp_quint[vorp_quint['is_peak']==1]"
   ]
  },
  {
   "cell_type": "code",
   "execution_count": 275,
   "id": "89e5b655",
   "metadata": {},
   "outputs": [],
   "source": [
    "q1=vorp_peaks['VORP'].quantile(q=0.2)\n",
    "q2=vorp_peaks['VORP'].quantile(q=0.4)\n",
    "q3=vorp_peaks['VORP'].quantile(q=0.6)\n",
    "q4=vorp_peaks['VORP'].quantile(q=0.8)"
   ]
  },
  {
   "cell_type": "code",
   "execution_count": 276,
   "id": "bbd890f6",
   "metadata": {},
   "outputs": [
    {
     "name": "stdout",
     "output_type": "stream",
     "text": [
      "0.4\n",
      "1.1\n",
      "1.9\n",
      "3.0\n"
     ]
    }
   ],
   "source": [
    "print(q1)\n",
    "print(q2)\n",
    "print(q3)\n",
    "print(q4)"
   ]
  },
  {
   "cell_type": "code",
   "execution_count": 277,
   "id": "d5d28ed1",
   "metadata": {
    "scrolled": true
   },
   "outputs": [
    {
     "name": "stderr",
     "output_type": "stream",
     "text": [
      "C:\\Users\\marli\\AppData\\Local\\Temp\\ipykernel_1332\\639019981.py:1: SettingWithCopyWarning: \n",
      "A value is trying to be set on a copy of a slice from a DataFrame.\n",
      "Try using .loc[row_indexer,col_indexer] = value instead\n",
      "\n",
      "See the caveats in the documentation: https://pandas.pydata.org/pandas-docs/stable/user_guide/indexing.html#returning-a-view-versus-a-copy\n",
      "  vorp_peaks['group']=vorp_peaks['VORP'].apply(lambda x: 1 if x<=q1 else 2 if x<=q2 else 3 if x<=q3 else 4 if x<=q4 else 5)\n"
     ]
    }
   ],
   "source": [
    "vorp_peaks['group']=vorp_peaks['VORP'].apply(lambda x: 1 if x<=q1 else 2 if x<=q2 else 3 if x<=q3 else 4 if x<=q4 else 5)"
   ]
  },
  {
   "cell_type": "code",
   "execution_count": 278,
   "id": "3f797f96",
   "metadata": {
    "scrolled": true
   },
   "outputs": [
    {
     "data": {
      "text/html": [
       "<div>\n",
       "<style scoped>\n",
       "    .dataframe tbody tr th:only-of-type {\n",
       "        vertical-align: middle;\n",
       "    }\n",
       "\n",
       "    .dataframe tbody tr th {\n",
       "        vertical-align: top;\n",
       "    }\n",
       "\n",
       "    .dataframe thead th {\n",
       "        text-align: right;\n",
       "    }\n",
       "</style>\n",
       "<table border=\"1\" class=\"dataframe\">\n",
       "  <thead>\n",
       "    <tr style=\"text-align: right;\">\n",
       "      <th></th>\n",
       "      <th>Age</th>\n",
       "      <th>G</th>\n",
       "      <th>MP</th>\n",
       "      <th>PER</th>\n",
       "      <th>TS%</th>\n",
       "      <th>3PAr</th>\n",
       "      <th>FTr</th>\n",
       "      <th>ORB%</th>\n",
       "      <th>DRB%</th>\n",
       "      <th>TRB%</th>\n",
       "      <th>...</th>\n",
       "      <th>WS</th>\n",
       "      <th>WS/48</th>\n",
       "      <th>OBPM</th>\n",
       "      <th>DBPM</th>\n",
       "      <th>BPM</th>\n",
       "      <th>VORP</th>\n",
       "      <th>birth_year</th>\n",
       "      <th>exp</th>\n",
       "      <th>to_exclude</th>\n",
       "      <th>is_peak</th>\n",
       "    </tr>\n",
       "    <tr>\n",
       "      <th>group</th>\n",
       "      <th></th>\n",
       "      <th></th>\n",
       "      <th></th>\n",
       "      <th></th>\n",
       "      <th></th>\n",
       "      <th></th>\n",
       "      <th></th>\n",
       "      <th></th>\n",
       "      <th></th>\n",
       "      <th></th>\n",
       "      <th></th>\n",
       "      <th></th>\n",
       "      <th></th>\n",
       "      <th></th>\n",
       "      <th></th>\n",
       "      <th></th>\n",
       "      <th></th>\n",
       "      <th></th>\n",
       "      <th></th>\n",
       "      <th></th>\n",
       "      <th></th>\n",
       "    </tr>\n",
       "  </thead>\n",
       "  <tbody>\n",
       "    <tr>\n",
       "      <th>1</th>\n",
       "      <td>27.654762</td>\n",
       "      <td>39.654762</td>\n",
       "      <td>686.916667</td>\n",
       "      <td>11.563095</td>\n",
       "      <td>0.503702</td>\n",
       "      <td>0.254083</td>\n",
       "      <td>0.307190</td>\n",
       "      <td>6.315476</td>\n",
       "      <td>13.286905</td>\n",
       "      <td>9.815476</td>\n",
       "      <td>...</td>\n",
       "      <td>1.323810</td>\n",
       "      <td>0.064762</td>\n",
       "      <td>-2.205952</td>\n",
       "      <td>-0.158333</td>\n",
       "      <td>-2.353571</td>\n",
       "      <td>0.126190</td>\n",
       "      <td>1981.821429</td>\n",
       "      <td>5.940476</td>\n",
       "      <td>0.0</td>\n",
       "      <td>1.0</td>\n",
       "    </tr>\n",
       "    <tr>\n",
       "      <th>2</th>\n",
       "      <td>26.571429</td>\n",
       "      <td>71.896104</td>\n",
       "      <td>1636.740260</td>\n",
       "      <td>14.810390</td>\n",
       "      <td>0.561156</td>\n",
       "      <td>0.248338</td>\n",
       "      <td>0.285558</td>\n",
       "      <td>6.158442</td>\n",
       "      <td>14.935065</td>\n",
       "      <td>10.535065</td>\n",
       "      <td>...</td>\n",
       "      <td>3.844156</td>\n",
       "      <td>0.118727</td>\n",
       "      <td>-0.072727</td>\n",
       "      <td>0.250649</td>\n",
       "      <td>0.172727</td>\n",
       "      <td>0.810390</td>\n",
       "      <td>1983.857143</td>\n",
       "      <td>9.064935</td>\n",
       "      <td>0.0</td>\n",
       "      <td>1.0</td>\n",
       "    </tr>\n",
       "    <tr>\n",
       "      <th>3</th>\n",
       "      <td>26.670455</td>\n",
       "      <td>75.034091</td>\n",
       "      <td>2088.500000</td>\n",
       "      <td>15.369318</td>\n",
       "      <td>0.571614</td>\n",
       "      <td>0.315830</td>\n",
       "      <td>0.281807</td>\n",
       "      <td>4.709091</td>\n",
       "      <td>14.123864</td>\n",
       "      <td>9.415909</td>\n",
       "      <td>...</td>\n",
       "      <td>5.273864</td>\n",
       "      <td>0.123261</td>\n",
       "      <td>0.652273</td>\n",
       "      <td>0.278409</td>\n",
       "      <td>0.920455</td>\n",
       "      <td>1.487500</td>\n",
       "      <td>1984.545455</td>\n",
       "      <td>10.897727</td>\n",
       "      <td>0.0</td>\n",
       "      <td>1.0</td>\n",
       "    </tr>\n",
       "    <tr>\n",
       "      <th>4</th>\n",
       "      <td>26.452055</td>\n",
       "      <td>75.671233</td>\n",
       "      <td>2265.000000</td>\n",
       "      <td>17.731507</td>\n",
       "      <td>0.581411</td>\n",
       "      <td>0.302753</td>\n",
       "      <td>0.283438</td>\n",
       "      <td>5.243836</td>\n",
       "      <td>15.082192</td>\n",
       "      <td>10.189041</td>\n",
       "      <td>...</td>\n",
       "      <td>7.032877</td>\n",
       "      <td>0.151452</td>\n",
       "      <td>1.908219</td>\n",
       "      <td>0.471233</td>\n",
       "      <td>2.379452</td>\n",
       "      <td>2.460274</td>\n",
       "      <td>1984.863014</td>\n",
       "      <td>12.315068</td>\n",
       "      <td>0.0</td>\n",
       "      <td>1.0</td>\n",
       "    </tr>\n",
       "    <tr>\n",
       "      <th>5</th>\n",
       "      <td>26.184211</td>\n",
       "      <td>77.171053</td>\n",
       "      <td>2741.776316</td>\n",
       "      <td>22.190789</td>\n",
       "      <td>0.581013</td>\n",
       "      <td>0.229724</td>\n",
       "      <td>0.378974</td>\n",
       "      <td>5.205263</td>\n",
       "      <td>16.865789</td>\n",
       "      <td>11.071053</td>\n",
       "      <td>...</td>\n",
       "      <td>10.751316</td>\n",
       "      <td>0.187882</td>\n",
       "      <td>4.119737</td>\n",
       "      <td>0.919737</td>\n",
       "      <td>5.031579</td>\n",
       "      <td>4.894737</td>\n",
       "      <td>1984.710526</td>\n",
       "      <td>13.618421</td>\n",
       "      <td>0.0</td>\n",
       "      <td>1.0</td>\n",
       "    </tr>\n",
       "  </tbody>\n",
       "</table>\n",
       "<p>5 rows × 27 columns</p>\n",
       "</div>"
      ],
      "text/plain": [
       "             Age          G           MP        PER       TS%      3PAr  \\\n",
       "group                                                                     \n",
       "1      27.654762  39.654762   686.916667  11.563095  0.503702  0.254083   \n",
       "2      26.571429  71.896104  1636.740260  14.810390  0.561156  0.248338   \n",
       "3      26.670455  75.034091  2088.500000  15.369318  0.571614  0.315830   \n",
       "4      26.452055  75.671233  2265.000000  17.731507  0.581411  0.302753   \n",
       "5      26.184211  77.171053  2741.776316  22.190789  0.581013  0.229724   \n",
       "\n",
       "            FTr      ORB%       DRB%       TRB%  ...         WS     WS/48  \\\n",
       "group                                            ...                        \n",
       "1      0.307190  6.315476  13.286905   9.815476  ...   1.323810  0.064762   \n",
       "2      0.285558  6.158442  14.935065  10.535065  ...   3.844156  0.118727   \n",
       "3      0.281807  4.709091  14.123864   9.415909  ...   5.273864  0.123261   \n",
       "4      0.283438  5.243836  15.082192  10.189041  ...   7.032877  0.151452   \n",
       "5      0.378974  5.205263  16.865789  11.071053  ...  10.751316  0.187882   \n",
       "\n",
       "           OBPM      DBPM       BPM      VORP   birth_year        exp  \\\n",
       "group                                                                   \n",
       "1     -2.205952 -0.158333 -2.353571  0.126190  1981.821429   5.940476   \n",
       "2     -0.072727  0.250649  0.172727  0.810390  1983.857143   9.064935   \n",
       "3      0.652273  0.278409  0.920455  1.487500  1984.545455  10.897727   \n",
       "4      1.908219  0.471233  2.379452  2.460274  1984.863014  12.315068   \n",
       "5      4.119737  0.919737  5.031579  4.894737  1984.710526  13.618421   \n",
       "\n",
       "       to_exclude  is_peak  \n",
       "group                       \n",
       "1             0.0      1.0  \n",
       "2             0.0      1.0  \n",
       "3             0.0      1.0  \n",
       "4             0.0      1.0  \n",
       "5             0.0      1.0  \n",
       "\n",
       "[5 rows x 27 columns]"
      ]
     },
     "execution_count": 278,
     "metadata": {},
     "output_type": "execute_result"
    }
   ],
   "source": [
    "vorp_peaks.groupby('group').mean()"
   ]
  },
  {
   "cell_type": "code",
   "execution_count": 279,
   "id": "44a14ba3",
   "metadata": {},
   "outputs": [
    {
     "data": {
      "text/html": [
       "<div>\n",
       "<style scoped>\n",
       "    .dataframe tbody tr th:only-of-type {\n",
       "        vertical-align: middle;\n",
       "    }\n",
       "\n",
       "    .dataframe tbody tr th {\n",
       "        vertical-align: top;\n",
       "    }\n",
       "\n",
       "    .dataframe thead th {\n",
       "        text-align: right;\n",
       "    }\n",
       "</style>\n",
       "<table border=\"1\" class=\"dataframe\">\n",
       "  <thead>\n",
       "    <tr style=\"text-align: right;\">\n",
       "      <th></th>\n",
       "      <th>Player</th>\n",
       "      <th>Link</th>\n",
       "      <th>Pos</th>\n",
       "      <th>Age</th>\n",
       "      <th>Tm</th>\n",
       "      <th>G</th>\n",
       "      <th>MP</th>\n",
       "      <th>PER</th>\n",
       "      <th>TS%</th>\n",
       "      <th>3PAr</th>\n",
       "      <th>...</th>\n",
       "      <th>college</th>\n",
       "      <th>recruiting_rank</th>\n",
       "      <th>draft</th>\n",
       "      <th>exp</th>\n",
       "      <th>index_x</th>\n",
       "      <th>to_exclude</th>\n",
       "      <th>link_id</th>\n",
       "      <th>index_y</th>\n",
       "      <th>is_peak</th>\n",
       "      <th>peak_age</th>\n",
       "    </tr>\n",
       "    <tr>\n",
       "      <th>group</th>\n",
       "      <th></th>\n",
       "      <th></th>\n",
       "      <th></th>\n",
       "      <th></th>\n",
       "      <th></th>\n",
       "      <th></th>\n",
       "      <th></th>\n",
       "      <th></th>\n",
       "      <th></th>\n",
       "      <th></th>\n",
       "      <th></th>\n",
       "      <th></th>\n",
       "      <th></th>\n",
       "      <th></th>\n",
       "      <th></th>\n",
       "      <th></th>\n",
       "      <th></th>\n",
       "      <th></th>\n",
       "      <th></th>\n",
       "      <th></th>\n",
       "      <th></th>\n",
       "    </tr>\n",
       "  </thead>\n",
       "  <tbody>\n",
       "    <tr>\n",
       "      <th>1</th>\n",
       "      <td>84</td>\n",
       "      <td>84</td>\n",
       "      <td>84</td>\n",
       "      <td>84</td>\n",
       "      <td>84</td>\n",
       "      <td>84</td>\n",
       "      <td>84</td>\n",
       "      <td>84</td>\n",
       "      <td>84</td>\n",
       "      <td>84</td>\n",
       "      <td>...</td>\n",
       "      <td>84</td>\n",
       "      <td>84</td>\n",
       "      <td>84</td>\n",
       "      <td>84</td>\n",
       "      <td>84</td>\n",
       "      <td>84</td>\n",
       "      <td>84</td>\n",
       "      <td>84</td>\n",
       "      <td>84</td>\n",
       "      <td>84</td>\n",
       "    </tr>\n",
       "    <tr>\n",
       "      <th>2</th>\n",
       "      <td>77</td>\n",
       "      <td>77</td>\n",
       "      <td>77</td>\n",
       "      <td>77</td>\n",
       "      <td>77</td>\n",
       "      <td>77</td>\n",
       "      <td>77</td>\n",
       "      <td>77</td>\n",
       "      <td>77</td>\n",
       "      <td>77</td>\n",
       "      <td>...</td>\n",
       "      <td>77</td>\n",
       "      <td>77</td>\n",
       "      <td>77</td>\n",
       "      <td>77</td>\n",
       "      <td>77</td>\n",
       "      <td>77</td>\n",
       "      <td>77</td>\n",
       "      <td>77</td>\n",
       "      <td>77</td>\n",
       "      <td>77</td>\n",
       "    </tr>\n",
       "    <tr>\n",
       "      <th>3</th>\n",
       "      <td>88</td>\n",
       "      <td>88</td>\n",
       "      <td>88</td>\n",
       "      <td>88</td>\n",
       "      <td>88</td>\n",
       "      <td>88</td>\n",
       "      <td>88</td>\n",
       "      <td>88</td>\n",
       "      <td>88</td>\n",
       "      <td>88</td>\n",
       "      <td>...</td>\n",
       "      <td>88</td>\n",
       "      <td>88</td>\n",
       "      <td>88</td>\n",
       "      <td>88</td>\n",
       "      <td>88</td>\n",
       "      <td>88</td>\n",
       "      <td>88</td>\n",
       "      <td>88</td>\n",
       "      <td>88</td>\n",
       "      <td>88</td>\n",
       "    </tr>\n",
       "    <tr>\n",
       "      <th>4</th>\n",
       "      <td>73</td>\n",
       "      <td>73</td>\n",
       "      <td>73</td>\n",
       "      <td>73</td>\n",
       "      <td>73</td>\n",
       "      <td>73</td>\n",
       "      <td>73</td>\n",
       "      <td>73</td>\n",
       "      <td>73</td>\n",
       "      <td>73</td>\n",
       "      <td>...</td>\n",
       "      <td>73</td>\n",
       "      <td>73</td>\n",
       "      <td>73</td>\n",
       "      <td>73</td>\n",
       "      <td>73</td>\n",
       "      <td>73</td>\n",
       "      <td>73</td>\n",
       "      <td>73</td>\n",
       "      <td>73</td>\n",
       "      <td>73</td>\n",
       "    </tr>\n",
       "    <tr>\n",
       "      <th>5</th>\n",
       "      <td>76</td>\n",
       "      <td>76</td>\n",
       "      <td>76</td>\n",
       "      <td>76</td>\n",
       "      <td>76</td>\n",
       "      <td>76</td>\n",
       "      <td>76</td>\n",
       "      <td>76</td>\n",
       "      <td>76</td>\n",
       "      <td>76</td>\n",
       "      <td>...</td>\n",
       "      <td>76</td>\n",
       "      <td>76</td>\n",
       "      <td>76</td>\n",
       "      <td>76</td>\n",
       "      <td>76</td>\n",
       "      <td>76</td>\n",
       "      <td>76</td>\n",
       "      <td>76</td>\n",
       "      <td>76</td>\n",
       "      <td>76</td>\n",
       "    </tr>\n",
       "  </tbody>\n",
       "</table>\n",
       "<p>5 rows × 40 columns</p>\n",
       "</div>"
      ],
      "text/plain": [
       "       Player  Link  Pos  Age  Tm   G  MP  PER  TS%  3PAr  ...  college  \\\n",
       "group                                                      ...            \n",
       "1          84    84   84   84  84  84  84   84   84    84  ...       84   \n",
       "2          77    77   77   77  77  77  77   77   77    77  ...       77   \n",
       "3          88    88   88   88  88  88  88   88   88    88  ...       88   \n",
       "4          73    73   73   73  73  73  73   73   73    73  ...       73   \n",
       "5          76    76   76   76  76  76  76   76   76    76  ...       76   \n",
       "\n",
       "       recruiting_rank  draft  exp  index_x  to_exclude  link_id  index_y  \\\n",
       "group                                                                       \n",
       "1                   84     84   84       84          84       84       84   \n",
       "2                   77     77   77       77          77       77       77   \n",
       "3                   88     88   88       88          88       88       88   \n",
       "4                   73     73   73       73          73       73       73   \n",
       "5                   76     76   76       76          76       76       76   \n",
       "\n",
       "       is_peak  peak_age  \n",
       "group                     \n",
       "1           84        84  \n",
       "2           77        77  \n",
       "3           88        88  \n",
       "4           73        73  \n",
       "5           76        76  \n",
       "\n",
       "[5 rows x 40 columns]"
      ]
     },
     "execution_count": 279,
     "metadata": {},
     "output_type": "execute_result"
    }
   ],
   "source": [
    "vorp_peaks.groupby('group').count()"
   ]
  },
  {
   "cell_type": "code",
   "execution_count": 280,
   "id": "dced4712",
   "metadata": {},
   "outputs": [],
   "source": [
    "# All ability levels peak between 26 and 27"
   ]
  },
  {
   "cell_type": "code",
   "execution_count": 281,
   "id": "4a5af550",
   "metadata": {},
   "outputs": [],
   "source": [
    "# Age labels"
   ]
  },
  {
   "cell_type": "code",
   "execution_count": 282,
   "id": "b6b75e60",
   "metadata": {},
   "outputs": [],
   "source": [
    "vorp['MPG']=vorp['MP']/vorp['G']"
   ]
  },
  {
   "cell_type": "code",
   "execution_count": 283,
   "id": "41fbbd33",
   "metadata": {},
   "outputs": [],
   "source": [
    "def career_stage(df):\n",
    "    if df['Age'] > 27:\n",
    "        return 'Past Prime'\n",
    "    elif df['Age']<=27 and df['G']>=40 and df['MPG']>=15:\n",
    "        return 'Improving Role Player'\n",
    "    else:\n",
    "        return 'Improving End-of-Bench'"
   ]
  },
  {
   "cell_type": "code",
   "execution_count": 284,
   "id": "d5c1da52",
   "metadata": {},
   "outputs": [],
   "source": [
    "vorp['Career stage']=vorp.apply(career_stage,axis=1)"
   ]
  },
  {
   "cell_type": "code",
   "execution_count": 285,
   "id": "e68510b5",
   "metadata": {},
   "outputs": [],
   "source": [
    "vorp.sort_values(by=['Link','year'],inplace=True)\n",
    "vorp.reset_index(drop=True,inplace=True)"
   ]
  },
  {
   "cell_type": "code",
   "execution_count": 286,
   "id": "7886d3bc",
   "metadata": {},
   "outputs": [],
   "source": [
    "exp=pd.DataFrame(index=range(len(vorp['Link'])),columns=['exp'])\n",
    "exp['exp']=0\n",
    "\n",
    "for i in vorp['Link'].unique():\n",
    "    df=vorp[vorp['Link']==i]\n",
    "    k=0\n",
    "    for j in range(len(df),0,-1):\n",
    "        exp.loc[df.iloc[j-1,:].name,'exp']=df.iloc[j-1,33]-k\n",
    "        k+=1"
   ]
  },
  {
   "cell_type": "code",
   "execution_count": 287,
   "id": "e4a9acb4",
   "metadata": {
    "scrolled": true
   },
   "outputs": [],
   "source": [
    "vorp['exp']=exp['exp']"
   ]
  },
  {
   "cell_type": "code",
   "execution_count": 288,
   "id": "8b73f0e4",
   "metadata": {},
   "outputs": [],
   "source": [
    "recruiting_ranks=pd.read_csv('recruiting_ranks.csv')"
   ]
  },
  {
   "cell_type": "code",
   "execution_count": 289,
   "id": "a639ff33",
   "metadata": {},
   "outputs": [],
   "source": [
    "recruiting_ranks=recruiting_ranks[['RSCI', 'Player', 'Draft', 'Rd', 'Pk', 'College','year']]"
   ]
  },
  {
   "cell_type": "code",
   "execution_count": 290,
   "id": "cd01aeae",
   "metadata": {},
   "outputs": [],
   "source": [
    "recruiting_ranks['RSCI'] = recruiting_ranks['RSCI'].apply(pd.to_numeric, errors='coerce')\n",
    "recruiting_ranks['Draft'] = recruiting_ranks['Draft'].apply(pd.to_numeric, errors='coerce')\n",
    "recruiting_ranks['year'] = recruiting_ranks['year'].apply(pd.to_numeric, errors='coerce')"
   ]
  },
  {
   "cell_type": "code",
   "execution_count": 291,
   "id": "067d5628",
   "metadata": {},
   "outputs": [],
   "source": [
    "final_rank=pd.DataFrame(index=recruiting_ranks['Player'].unique(),columns=['rank','draft','year'])\n",
    "\n",
    "for i in recruiting_ranks['Player']:\n",
    "    df=recruiting_ranks[recruiting_ranks['Player']==i]\n",
    "    final_rank.loc[i,'rank']=df.iloc[len(df)-1,0]\n",
    "    final_rank.loc[i,'draft']=df.iloc[len(df)-1,2]\n",
    "    final_rank.loc[i,'year']=df.iloc[len(df)-1,6]"
   ]
  },
  {
   "cell_type": "code",
   "execution_count": 292,
   "id": "cd10149c",
   "metadata": {},
   "outputs": [],
   "source": [
    "final_rank.reset_index(drop=False,inplace=True)"
   ]
  },
  {
   "cell_type": "code",
   "execution_count": 293,
   "id": "6a063271",
   "metadata": {},
   "outputs": [],
   "source": [
    "final_rank.rename(columns={'index':'Player'},inplace=True)"
   ]
  },
  {
   "cell_type": "code",
   "execution_count": 294,
   "id": "94beabd6",
   "metadata": {},
   "outputs": [],
   "source": [
    "final_rank['Player']=final_rank['Player'].apply(lambda x: x.upper())"
   ]
  },
  {
   "cell_type": "code",
   "execution_count": 295,
   "id": "a4bef0a0",
   "metadata": {},
   "outputs": [],
   "source": [
    "vorp['Player']=vorp['Player'].apply(lambda x: x.upper())"
   ]
  },
  {
   "cell_type": "code",
   "execution_count": 296,
   "id": "339bc7e5",
   "metadata": {
    "scrolled": false
   },
   "outputs": [],
   "source": [
    "vorp=vorp.merge(final_rank[['Player','rank']],left_on='Player',right_on='Player',how='left')"
   ]
  },
  {
   "cell_type": "code",
   "execution_count": 297,
   "id": "f50b9818",
   "metadata": {},
   "outputs": [],
   "source": [
    "vorp.drop(columns='recruiting_rank',inplace=True)\n",
    "vorp.rename(columns={'rank':'recruiting_rank'},inplace=True)"
   ]
  },
  {
   "cell_type": "code",
   "execution_count": 298,
   "id": "6e7867ba",
   "metadata": {},
   "outputs": [],
   "source": [
    "colleges=pd.read_csv('colleges_final.csv',encoding='ISO-8859-1')"
   ]
  },
  {
   "cell_type": "code",
   "execution_count": 299,
   "id": "802cf68d",
   "metadata": {
    "scrolled": true
   },
   "outputs": [],
   "source": [
    "colleges['school']=colleges['school'].apply(lambda x: x.upper())\n",
    "\n",
    "vorp['college']=vorp['college'].apply(lambda x: x.upper())\n",
    "\n",
    "vorp=vorp.merge(colleges[['school','division']],left_on='college',right_on='school',how='left')"
   ]
  },
  {
   "cell_type": "code",
   "execution_count": 300,
   "id": "c0363580",
   "metadata": {},
   "outputs": [],
   "source": [
    "vorp.drop(columns='school',inplace=True)"
   ]
  },
  {
   "cell_type": "code",
   "execution_count": 301,
   "id": "449155d7",
   "metadata": {},
   "outputs": [],
   "source": [
    "vorp.loc[(vorp['division'].isnull()) & (vorp['recruiting_rank'].isnull()), 'division'] = 'Europe'"
   ]
  },
  {
   "cell_type": "code",
   "execution_count": 302,
   "id": "1fe54b15",
   "metadata": {},
   "outputs": [],
   "source": [
    "vorp['division'].fillna('High School',inplace=True)"
   ]
  },
  {
   "cell_type": "code",
   "execution_count": 303,
   "id": "04d9f50d",
   "metadata": {},
   "outputs": [],
   "source": [
    "vorp['recruiting_rank'].fillna('no rank',inplace=True)"
   ]
  },
  {
   "cell_type": "code",
   "execution_count": 304,
   "id": "93dd27d0",
   "metadata": {},
   "outputs": [],
   "source": [
    "vorp['draft'] = vorp['draft'].apply(pd.to_numeric, errors='coerce')"
   ]
  },
  {
   "cell_type": "code",
   "execution_count": 305,
   "id": "f4f74ad4",
   "metadata": {},
   "outputs": [],
   "source": [
    "vorp['recruiting_rank'].replace(['no rank'], 101,inplace=True)\n",
    "vorp['draft'].replace(['undrafted'], 61,inplace=True)"
   ]
  },
  {
   "cell_type": "code",
   "execution_count": 306,
   "id": "f648d04f",
   "metadata": {
    "scrolled": true
   },
   "outputs": [],
   "source": [
    "vorp['rank_labels']=vorp['recruiting_rank'].apply(lambda x: 'Top 20' if x<=20 else 'Mid' if x<=50 else 'Bottom' if x<=100 else x)\n",
    "vorp['draft_labels']=vorp['draft'].apply(lambda x: 'Top 20' if x<=20 else 'Mid 20' if x<=40 else 'Bottom 20' if x<=60 else 'Bottom 20' if x==77 else x)\n",
    "vorp['draft_round']=vorp['draft'].apply(lambda x: 1 if x<=30 else 2 if x<=77 else x)"
   ]
  },
  {
   "cell_type": "code",
   "execution_count": 307,
   "id": "88599c2c",
   "metadata": {},
   "outputs": [],
   "source": [
    "vorp['rank_labels'].replace(101,'no rank',inplace=True)\n",
    "vorp['draft'].fillna('undrafted',inplace=True)\n",
    "vorp['draft_labels'].fillna('undrafted',inplace=True)\n",
    "vorp['draft_round'].fillna('undrafted',inplace=True)"
   ]
  },
  {
   "cell_type": "code",
   "execution_count": 308,
   "id": "479405b9",
   "metadata": {},
   "outputs": [],
   "source": [
    "vorp.to_csv('nba_players_adv_other_stats.csv',index=False)"
   ]
  },
  {
   "cell_type": "code",
   "execution_count": null,
   "id": "2cfe1886",
   "metadata": {},
   "outputs": [],
   "source": []
  },
  {
   "cell_type": "code",
   "execution_count": null,
   "id": "31bbbfe4",
   "metadata": {},
   "outputs": [],
   "source": []
  },
  {
   "cell_type": "code",
   "execution_count": 30,
   "id": "0822b507",
   "metadata": {},
   "outputs": [],
   "source": [
    "from sklearn.preprocessing import PolynomialFeatures\n",
    "from sklearn.linear_model import LinearRegression"
   ]
  },
  {
   "cell_type": "code",
   "execution_count": 19,
   "id": "16840390",
   "metadata": {},
   "outputs": [],
   "source": [
    "# Quadratic regression\n",
    "quadr=vorp_quint[['VORP','Age']]"
   ]
  },
  {
   "cell_type": "code",
   "execution_count": 20,
   "id": "38067979",
   "metadata": {},
   "outputs": [
    {
     "name": "stderr",
     "output_type": "stream",
     "text": [
      "C:\\Users\\marli\\AppData\\Local\\Temp\\ipykernel_18568\\4237062744.py:1: SettingWithCopyWarning: \n",
      "A value is trying to be set on a copy of a slice from a DataFrame.\n",
      "Try using .loc[row_indexer,col_indexer] = value instead\n",
      "\n",
      "See the caveats in the documentation: https://pandas.pydata.org/pandas-docs/stable/user_guide/indexing.html#returning-a-view-versus-a-copy\n",
      "  quadr['Age2']=quadr['Age']**2\n"
     ]
    }
   ],
   "source": [
    "quadr['Age2']=quadr['Age']**2"
   ]
  },
  {
   "cell_type": "code",
   "execution_count": 21,
   "id": "8284b058",
   "metadata": {},
   "outputs": [],
   "source": [
    "model = np.poly1d(np.polyfit(quadr['Age'],quadr['VORP'], 2))"
   ]
  },
  {
   "cell_type": "code",
   "execution_count": 22,
   "id": "c0cff23d",
   "metadata": {},
   "outputs": [
    {
     "name": "stdout",
     "output_type": "stream",
     "text": [
      "           2\n",
      "-0.006639 x + 0.3874 x - 4.965\n"
     ]
    }
   ],
   "source": [
    "print(model)"
   ]
  },
  {
   "cell_type": "code",
   "execution_count": 23,
   "id": "89cf24b3",
   "metadata": {},
   "outputs": [
    {
     "data": {
      "text/plain": [
       "{'r_squared': 0.016387204064207534}"
      ]
     },
     "execution_count": 23,
     "metadata": {},
     "output_type": "execute_result"
    }
   ],
   "source": [
    "def polyfit(x, y, degree):\n",
    "    results = {}\n",
    "    coeffs = np.polyfit(x, y, degree)\n",
    "    p = np.poly1d(coeffs)\n",
    "    #calculate r-squared\n",
    "    yhat = p(x)\n",
    "    ybar = np.sum(y)/len(y)\n",
    "    ssreg = np.sum((yhat-ybar)**2)\n",
    "    sstot = np.sum((y - ybar)**2)\n",
    "    results['r_squared'] = ssreg / sstot\n",
    "\n",
    "    return results\n",
    "\n",
    "#find r-squared of polynomial model with degree = 3\n",
    "polyfit(quadr['Age'],quadr['VORP'], 2)"
   ]
  },
  {
   "cell_type": "code",
   "execution_count": 36,
   "id": "28cea8e9",
   "metadata": {},
   "outputs": [],
   "source": [
    "transformer = PolynomialFeatures(degree=2, include_bias=False)\n",
    "x=quadr['Age'].values.reshape(-1,1)\n",
    "y=quadr['VORP']\n",
    "x_2 = PolynomialFeatures(degree=2, include_bias=False).fit_transform(x)"
   ]
  },
  {
   "cell_type": "code",
   "execution_count": 37,
   "id": "f4217412",
   "metadata": {},
   "outputs": [],
   "source": [
    "model = LinearRegression().fit(x_2, y)"
   ]
  },
  {
   "cell_type": "code",
   "execution_count": 38,
   "id": "099b833d",
   "metadata": {},
   "outputs": [
    {
     "name": "stdout",
     "output_type": "stream",
     "text": [
      "coefficient of determination: 0.016387204064207017\n",
      "intercept: -4.964663081359862\n",
      "coefficients: [ 0.38743163 -0.00663862]\n"
     ]
    }
   ],
   "source": [
    "r_sq = model.score(x_2, y)\n",
    "print(f\"coefficient of determination: {r_sq}\")\n",
    "\n",
    "print(f\"intercept: {model.intercept_}\")\n",
    "\n",
    "print(f\"coefficients: {model.coef_}\")\n"
   ]
  },
  {
   "cell_type": "code",
   "execution_count": 39,
   "id": "121129ac",
   "metadata": {},
   "outputs": [
    {
     "name": "stdout",
     "output_type": "stream",
     "text": [
      "                            OLS Regression Results                            \n",
      "==============================================================================\n",
      "Dep. Variable:                   VORP   R-squared:                       0.016\n",
      "Model:                            OLS   Adj. R-squared:                  0.016\n",
      "Method:                 Least Squares   F-statistic:                     55.16\n",
      "Date:                Thu, 15 Sep 2022   Prob (F-statistic):           1.74e-24\n",
      "Time:                        12:30:39   Log-Likelihood:                -10800.\n",
      "No. Observations:                6625   AIC:                         2.161e+04\n",
      "Df Residuals:                    6622   BIC:                         2.163e+04\n",
      "Df Model:                           2                                         \n",
      "Covariance Type:            nonrobust                                         \n",
      "==============================================================================\n",
      "                 coef    std err          t      P>|t|      [0.025      0.975]\n",
      "------------------------------------------------------------------------------\n",
      "const         -4.9647      0.621     -7.999      0.000      -6.181      -3.748\n",
      "x1             0.3874      0.046      8.356      0.000       0.297       0.478\n",
      "x2            -0.0066      0.001     -7.778      0.000      -0.008      -0.005\n",
      "==============================================================================\n",
      "Omnibus:                     4110.478   Durbin-Watson:                   0.506\n",
      "Prob(Omnibus):                  0.000   Jarque-Bera (JB):            48653.538\n",
      "Skew:                           2.829   Prob(JB):                         0.00\n",
      "Kurtosis:                      15.010   Cond. No.                     2.96e+04\n",
      "==============================================================================\n",
      "\n",
      "Notes:\n",
      "[1] Standard Errors assume that the covariance matrix of the errors is correctly specified.\n",
      "[2] The condition number is large, 2.96e+04. This might indicate that there are\n",
      "strong multicollinearity or other numerical problems.\n"
     ]
    }
   ],
   "source": [
    "import statsmodels.api as sm\n",
    "\n",
    "#add constant to predictor variables\n",
    "x = sm.add_constant(x_2)\n",
    "\n",
    "#fit linear regression model\n",
    "model = sm.OLS(y, x).fit()\n",
    "\n",
    "#view model summary\n",
    "print(model.summary())"
   ]
  },
  {
   "cell_type": "code",
   "execution_count": null,
   "id": "c0845fcd",
   "metadata": {},
   "outputs": [],
   "source": []
  }
 ],
 "metadata": {
  "kernelspec": {
   "display_name": "Python 3 (ipykernel)",
   "language": "python",
   "name": "python3"
  },
  "language_info": {
   "codemirror_mode": {
    "name": "ipython",
    "version": 3
   },
   "file_extension": ".py",
   "mimetype": "text/x-python",
   "name": "python",
   "nbconvert_exporter": "python",
   "pygments_lexer": "ipython3",
   "version": "3.9.12"
  }
 },
 "nbformat": 4,
 "nbformat_minor": 5
}
