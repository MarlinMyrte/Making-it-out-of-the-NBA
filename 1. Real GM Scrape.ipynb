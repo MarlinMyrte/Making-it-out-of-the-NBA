{
 "cells": [
  {
   "cell_type": "code",
   "execution_count": 2,
   "id": "c9d44006",
   "metadata": {},
   "outputs": [],
   "source": [
    "import pandas as pd\n",
    "import numpy as np\n",
    "from urllib.request import urlopen\n",
    "from bs4 import BeautifulSoup"
   ]
  },
  {
   "cell_type": "code",
   "execution_count": 5,
   "id": "b364664a",
   "metadata": {},
   "outputs": [],
   "source": [
    "leagues = {1: ['4','Spanish-ACB'],\n",
    "           2: ['6','Italian-Lega-Basket-Serie-A'],\n",
    "           3: ['7', 'Turkish-BSL'],\n",
    "           4: ['8', 'Greek-HEBA-A1'],\n",
    "           5: ['12', 'French-Jeep-Elite'],\n",
    "           6: ['18', 'Adriatic-League-Liga-ABA'],\n",
    "           7: ['35','VTB-United-League']\n",
    "          }"
   ]
  },
  {
   "cell_type": "code",
   "execution_count": 6,
   "id": "57042db6",
   "metadata": {},
   "outputs": [],
   "source": [
    "roles=['PG','SG','SF','PF','C']"
   ]
  },
  {
   "cell_type": "code",
   "execution_count": 7,
   "id": "2948624e",
   "metadata": {},
   "outputs": [],
   "source": [
    "def get_basic(n):\n",
    "    print(leagues[n][1])\n",
    "    data=pd.DataFrame()\n",
    "    for i in range(2004,2023):\n",
    "        test=0\n",
    "        while test==0:\n",
    "            try:\n",
    "                url = 'https://basketball.realgm.com/international/league/'+leagues[n][0]+'/'+leagues[n][1]+'/team-stats/'+str(i)+'/Totals/Team_Totals'\n",
    "                html = urlopen(url)\n",
    "                soup = BeautifulSoup(html, features=\"lxml\")\n",
    "                test=1\n",
    "            except:\n",
    "                continue\n",
    "            break\n",
    "        try:\n",
    "            table =soup.select('table')[0]\n",
    "            rows = table.find_all('tr')\n",
    "            frame= []\n",
    "            output = []\n",
    "            for row in rows:\n",
    "                cols = row.find_all('th')\n",
    "                cols = [item.text.strip() for item in cols]\n",
    "                frame.append([item for item in cols if item])\n",
    "            columns=frame[0][1:]\n",
    "            columns.insert(0, '#')\n",
    "            for row in rows:\n",
    "                cols = row.find_all('td')\n",
    "                cols = [item.text.strip() for item in cols]\n",
    "                output.append([item for item in cols if item])\n",
    "            output=pd.DataFrame.from_records(output,columns=columns)\n",
    "            output.drop(columns='#',inplace=True)\n",
    "            output=output[output.index!=0]\n",
    "            output['Year']=str(str(i-1)+'-'+str(i))\n",
    "            data=data.append(output)\n",
    "        except:\n",
    "            continue\n",
    "    data['Code']=data['Team'].apply(lambda x: x[:3].upper())\n",
    "    data['id']=data['Team']+data['Year']    \n",
    "    return data"
   ]
  },
  {
   "cell_type": "code",
   "execution_count": 8,
   "id": "6eae518d",
   "metadata": {},
   "outputs": [],
   "source": [
    "def get_advanced(n):\n",
    "    print(leagues[n][1])\n",
    "    data=pd.DataFrame()\n",
    "    for i in range(2004,2023):\n",
    "        test=0\n",
    "        while test==0:\n",
    "            try:\n",
    "                url = 'https://basketball.realgm.com/international/league/'+leagues[n][0]+'/'+leagues[n][1]+'/team-stats/'+str(i)+'/Advanced_Stats/Team_Totals'\n",
    "                html = urlopen(url)\n",
    "                soup = BeautifulSoup(html, features=\"lxml\")\n",
    "                test=1\n",
    "            except:\n",
    "                continue\n",
    "            break\n",
    "        try:\n",
    "            table =soup.select('table')[0]\n",
    "            rows = table.find_all('tr')\n",
    "            frame= []\n",
    "            output = []\n",
    "            for row in rows:\n",
    "                cols = row.find_all('th')\n",
    "                cols = [item.text.strip() for item in cols]\n",
    "                frame.append([item for item in cols if item])\n",
    "            columns=frame[0][1:]\n",
    "            columns.insert(0, '#')\n",
    "            for row in rows:\n",
    "                cols = row.find_all('td')\n",
    "                cols = [item.text.strip() for item in cols]\n",
    "                output.append([item for item in cols if item])\n",
    "            output=pd.DataFrame.from_records(output,columns=columns)\n",
    "            output.drop(columns='#',inplace=True)\n",
    "            output=output[output.index!=0]\n",
    "            output['Year']=str(str(i-1)+'-'+str(i))\n",
    "            data=data.append(output)\n",
    "        except:\n",
    "            continue\n",
    "    data['Code']=data['Team'].apply(lambda x: x[:3].upper())\n",
    "    data['id']=data['Team']+data['Year']    \n",
    "    return data"
   ]
  },
  {
   "cell_type": "code",
   "execution_count": 9,
   "id": "4154dc27",
   "metadata": {},
   "outputs": [],
   "source": [
    "def get_players(n):\n",
    "    print(leagues[n][1])\n",
    "    data=pd.DataFrame()\n",
    "    for i in range(2004,2023):\n",
    "        for k in roles:\n",
    "            for j in range(1,5):\n",
    "                test=0\n",
    "                while test==0:\n",
    "                    try:\n",
    "                        url = 'https://basketball.realgm.com/international/league/'+leagues[n][0]+'/'+leagues[n][1]+'/stats/'+str(i)+'/Totals/All/All/points/'+k+'/desc'+str(j)\n",
    "                        html = urlopen(url)\n",
    "                        soup = BeautifulSoup(html, features=\"lxml\")\n",
    "                        test=1\n",
    "                    except:\n",
    "                        continue\n",
    "                    break\n",
    "                try:\n",
    "                    table =soup.select('table')[0]\n",
    "                    rows = table.find_all('tr')\n",
    "                    frame= []\n",
    "                    output = []\n",
    "                    for row in rows:\n",
    "                        cols = row.find_all('th')\n",
    "                        cols = [item.text.strip() for item in cols]\n",
    "                        frame.append([item for item in cols if item])\n",
    "                    columns=frame[0][1:]\n",
    "                    columns.insert(0, '#')\n",
    "                    for row in rows:\n",
    "                        cols = row.find_all('td')\n",
    "                        cols = [item.text.strip() for item in cols]\n",
    "                        output.append([item for item in cols if item])\n",
    "                    output=pd.DataFrame.from_records(output,columns=columns)\n",
    "                    output.drop(columns='#',inplace=True)\n",
    "                    output=output[output.index!=0]\n",
    "                    output['Year']=str(str(i-1)+'-'+str(i))\n",
    "                    output['Role']=k\n",
    "                    data=data.append(output)\n",
    "                except:\n",
    "                    continue\n",
    "    return data"
   ]
  },
  {
   "cell_type": "code",
   "execution_count": 14,
   "id": "6e9f8894",
   "metadata": {},
   "outputs": [],
   "source": [
    "def get_players_adv(n):\n",
    "    print(leagues[n][1])\n",
    "    data=pd.DataFrame()\n",
    "    for i in range(2004,2023):\n",
    "        for j in range(1,5):\n",
    "            test=0\n",
    "            while test==0:\n",
    "                try:\n",
    "                    url = 'https://basketball.realgm.com/international/league/'+leagues[n][0]+'/'+leagues[n][1]+'/stats/'+str(i)+'/Advanced_Stats/All/All/per/All/asc/'+str(j)\n",
    "                    html = urlopen(url)\n",
    "                    soup = BeautifulSoup(html, features=\"lxml\")\n",
    "                    test=1\n",
    "                except:\n",
    "                    continue\n",
    "                break\n",
    "            try:\n",
    "                table =soup.select('table')[0]\n",
    "                rows = table.find_all('tr')\n",
    "                frame= []\n",
    "                output = []\n",
    "                for row in rows:\n",
    "                    cols = row.find_all('th')\n",
    "                    cols = [item.text.strip() for item in cols]\n",
    "                    frame.append([item for item in cols if item])\n",
    "                columns=frame[0][1:]\n",
    "                columns.insert(0, '#')\n",
    "                for row in rows:\n",
    "                    cols = row.find_all('td')\n",
    "                    cols = [item.text.strip() for item in cols]\n",
    "                    output.append([item for item in cols if item])\n",
    "                output=pd.DataFrame.from_records(output,columns=columns)\n",
    "                output.drop(columns='#',inplace=True)\n",
    "                output=output[output.index!=0]\n",
    "                output['Year']=str(str(i-1)+'-'+str(i))\n",
    "                data=data.append(output)\n",
    "            except:\n",
    "                continue\n",
    "    return data"
   ]
  },
  {
   "cell_type": "code",
   "execution_count": 127,
   "id": "5699a890",
   "metadata": {},
   "outputs": [],
   "source": [
    "def join_teams(basic,advanced):\n",
    "    teams=basic.merge(advanced,right_on='id',left_on='id')\n",
    "    teams.drop(columns=['Year_y','Code_y','Team_y'],inplace=True)\n",
    "    teams.rename(columns={'Year_x':'Year','Code_x':'Code','Team_x':'Team'},inplace=True)\n",
    "    cols = teams.columns.drop(['Team','Year','Code','id'])\n",
    "    teams[cols]=teams[cols].apply(lambda x: x.str.replace(',',''))\n",
    "    teams[cols] = teams[cols].apply(pd.to_numeric, errors='coerce')\n",
    "    return teams"
   ]
  },
  {
   "cell_type": "code",
   "execution_count": 128,
   "id": "243c57cd",
   "metadata": {
    "collapsed": true
   },
   "outputs": [
    {
     "name": "stdout",
     "output_type": "stream",
     "text": [
      "Spanish-ACB\n"
     ]
    },
    {
     "name": "stderr",
     "output_type": "stream",
     "text": [
      "C:\\Users\\marli\\AppData\\Local\\Temp\\ipykernel_29248\\3643650661.py:34: FutureWarning: The frame.append method is deprecated and will be removed from pandas in a future version. Use pandas.concat instead.\n",
      "  data=data.append(output)\n",
      "C:\\Users\\marli\\AppData\\Local\\Temp\\ipykernel_29248\\3643650661.py:34: FutureWarning: The frame.append method is deprecated and will be removed from pandas in a future version. Use pandas.concat instead.\n",
      "  data=data.append(output)\n",
      "C:\\Users\\marli\\AppData\\Local\\Temp\\ipykernel_29248\\3643650661.py:34: FutureWarning: The frame.append method is deprecated and will be removed from pandas in a future version. Use pandas.concat instead.\n",
      "  data=data.append(output)\n",
      "C:\\Users\\marli\\AppData\\Local\\Temp\\ipykernel_29248\\3643650661.py:34: FutureWarning: The frame.append method is deprecated and will be removed from pandas in a future version. Use pandas.concat instead.\n",
      "  data=data.append(output)\n",
      "C:\\Users\\marli\\AppData\\Local\\Temp\\ipykernel_29248\\3643650661.py:34: FutureWarning: The frame.append method is deprecated and will be removed from pandas in a future version. Use pandas.concat instead.\n",
      "  data=data.append(output)\n",
      "C:\\Users\\marli\\AppData\\Local\\Temp\\ipykernel_29248\\3643650661.py:34: FutureWarning: The frame.append method is deprecated and will be removed from pandas in a future version. Use pandas.concat instead.\n",
      "  data=data.append(output)\n",
      "C:\\Users\\marli\\AppData\\Local\\Temp\\ipykernel_29248\\3643650661.py:34: FutureWarning: The frame.append method is deprecated and will be removed from pandas in a future version. Use pandas.concat instead.\n",
      "  data=data.append(output)\n",
      "C:\\Users\\marli\\AppData\\Local\\Temp\\ipykernel_29248\\3643650661.py:34: FutureWarning: The frame.append method is deprecated and will be removed from pandas in a future version. Use pandas.concat instead.\n",
      "  data=data.append(output)\n",
      "C:\\Users\\marli\\AppData\\Local\\Temp\\ipykernel_29248\\3643650661.py:34: FutureWarning: The frame.append method is deprecated and will be removed from pandas in a future version. Use pandas.concat instead.\n",
      "  data=data.append(output)\n",
      "C:\\Users\\marli\\AppData\\Local\\Temp\\ipykernel_29248\\3643650661.py:34: FutureWarning: The frame.append method is deprecated and will be removed from pandas in a future version. Use pandas.concat instead.\n",
      "  data=data.append(output)\n",
      "C:\\Users\\marli\\AppData\\Local\\Temp\\ipykernel_29248\\3643650661.py:34: FutureWarning: The frame.append method is deprecated and will be removed from pandas in a future version. Use pandas.concat instead.\n",
      "  data=data.append(output)\n",
      "C:\\Users\\marli\\AppData\\Local\\Temp\\ipykernel_29248\\3643650661.py:34: FutureWarning: The frame.append method is deprecated and will be removed from pandas in a future version. Use pandas.concat instead.\n",
      "  data=data.append(output)\n",
      "C:\\Users\\marli\\AppData\\Local\\Temp\\ipykernel_29248\\3643650661.py:34: FutureWarning: The frame.append method is deprecated and will be removed from pandas in a future version. Use pandas.concat instead.\n",
      "  data=data.append(output)\n",
      "C:\\Users\\marli\\AppData\\Local\\Temp\\ipykernel_29248\\3643650661.py:34: FutureWarning: The frame.append method is deprecated and will be removed from pandas in a future version. Use pandas.concat instead.\n",
      "  data=data.append(output)\n",
      "C:\\Users\\marli\\AppData\\Local\\Temp\\ipykernel_29248\\3643650661.py:34: FutureWarning: The frame.append method is deprecated and will be removed from pandas in a future version. Use pandas.concat instead.\n",
      "  data=data.append(output)\n",
      "C:\\Users\\marli\\AppData\\Local\\Temp\\ipykernel_29248\\3643650661.py:34: FutureWarning: The frame.append method is deprecated and will be removed from pandas in a future version. Use pandas.concat instead.\n",
      "  data=data.append(output)\n",
      "C:\\Users\\marli\\AppData\\Local\\Temp\\ipykernel_29248\\3643650661.py:34: FutureWarning: The frame.append method is deprecated and will be removed from pandas in a future version. Use pandas.concat instead.\n",
      "  data=data.append(output)\n",
      "C:\\Users\\marli\\AppData\\Local\\Temp\\ipykernel_29248\\3643650661.py:34: FutureWarning: The frame.append method is deprecated and will be removed from pandas in a future version. Use pandas.concat instead.\n",
      "  data=data.append(output)\n",
      "C:\\Users\\marli\\AppData\\Local\\Temp\\ipykernel_29248\\3643650661.py:34: FutureWarning: The frame.append method is deprecated and will be removed from pandas in a future version. Use pandas.concat instead.\n",
      "  data=data.append(output)\n"
     ]
    },
    {
     "name": "stdout",
     "output_type": "stream",
     "text": [
      "Spanish-ACB\n"
     ]
    },
    {
     "name": "stderr",
     "output_type": "stream",
     "text": [
      "C:\\Users\\marli\\AppData\\Local\\Temp\\ipykernel_29248\\2954965646.py:34: FutureWarning: The frame.append method is deprecated and will be removed from pandas in a future version. Use pandas.concat instead.\n",
      "  data=data.append(output)\n",
      "C:\\Users\\marli\\AppData\\Local\\Temp\\ipykernel_29248\\2954965646.py:34: FutureWarning: The frame.append method is deprecated and will be removed from pandas in a future version. Use pandas.concat instead.\n",
      "  data=data.append(output)\n",
      "C:\\Users\\marli\\AppData\\Local\\Temp\\ipykernel_29248\\2954965646.py:34: FutureWarning: The frame.append method is deprecated and will be removed from pandas in a future version. Use pandas.concat instead.\n",
      "  data=data.append(output)\n",
      "C:\\Users\\marli\\AppData\\Local\\Temp\\ipykernel_29248\\2954965646.py:34: FutureWarning: The frame.append method is deprecated and will be removed from pandas in a future version. Use pandas.concat instead.\n",
      "  data=data.append(output)\n",
      "C:\\Users\\marli\\AppData\\Local\\Temp\\ipykernel_29248\\2954965646.py:34: FutureWarning: The frame.append method is deprecated and will be removed from pandas in a future version. Use pandas.concat instead.\n",
      "  data=data.append(output)\n",
      "C:\\Users\\marli\\AppData\\Local\\Temp\\ipykernel_29248\\2954965646.py:34: FutureWarning: The frame.append method is deprecated and will be removed from pandas in a future version. Use pandas.concat instead.\n",
      "  data=data.append(output)\n",
      "C:\\Users\\marli\\AppData\\Local\\Temp\\ipykernel_29248\\2954965646.py:34: FutureWarning: The frame.append method is deprecated and will be removed from pandas in a future version. Use pandas.concat instead.\n",
      "  data=data.append(output)\n",
      "C:\\Users\\marli\\AppData\\Local\\Temp\\ipykernel_29248\\2954965646.py:34: FutureWarning: The frame.append method is deprecated and will be removed from pandas in a future version. Use pandas.concat instead.\n",
      "  data=data.append(output)\n",
      "C:\\Users\\marli\\AppData\\Local\\Temp\\ipykernel_29248\\2954965646.py:34: FutureWarning: The frame.append method is deprecated and will be removed from pandas in a future version. Use pandas.concat instead.\n",
      "  data=data.append(output)\n",
      "C:\\Users\\marli\\AppData\\Local\\Temp\\ipykernel_29248\\2954965646.py:34: FutureWarning: The frame.append method is deprecated and will be removed from pandas in a future version. Use pandas.concat instead.\n",
      "  data=data.append(output)\n",
      "C:\\Users\\marli\\AppData\\Local\\Temp\\ipykernel_29248\\2954965646.py:34: FutureWarning: The frame.append method is deprecated and will be removed from pandas in a future version. Use pandas.concat instead.\n",
      "  data=data.append(output)\n",
      "C:\\Users\\marli\\AppData\\Local\\Temp\\ipykernel_29248\\2954965646.py:34: FutureWarning: The frame.append method is deprecated and will be removed from pandas in a future version. Use pandas.concat instead.\n",
      "  data=data.append(output)\n",
      "C:\\Users\\marli\\AppData\\Local\\Temp\\ipykernel_29248\\2954965646.py:34: FutureWarning: The frame.append method is deprecated and will be removed from pandas in a future version. Use pandas.concat instead.\n",
      "  data=data.append(output)\n",
      "C:\\Users\\marli\\AppData\\Local\\Temp\\ipykernel_29248\\2954965646.py:34: FutureWarning: The frame.append method is deprecated and will be removed from pandas in a future version. Use pandas.concat instead.\n",
      "  data=data.append(output)\n",
      "C:\\Users\\marli\\AppData\\Local\\Temp\\ipykernel_29248\\2954965646.py:34: FutureWarning: The frame.append method is deprecated and will be removed from pandas in a future version. Use pandas.concat instead.\n",
      "  data=data.append(output)\n",
      "C:\\Users\\marli\\AppData\\Local\\Temp\\ipykernel_29248\\2954965646.py:34: FutureWarning: The frame.append method is deprecated and will be removed from pandas in a future version. Use pandas.concat instead.\n",
      "  data=data.append(output)\n",
      "C:\\Users\\marli\\AppData\\Local\\Temp\\ipykernel_29248\\2954965646.py:34: FutureWarning: The frame.append method is deprecated and will be removed from pandas in a future version. Use pandas.concat instead.\n",
      "  data=data.append(output)\n",
      "C:\\Users\\marli\\AppData\\Local\\Temp\\ipykernel_29248\\2954965646.py:34: FutureWarning: The frame.append method is deprecated and will be removed from pandas in a future version. Use pandas.concat instead.\n",
      "  data=data.append(output)\n",
      "C:\\Users\\marli\\AppData\\Local\\Temp\\ipykernel_29248\\2954965646.py:34: FutureWarning: The frame.append method is deprecated and will be removed from pandas in a future version. Use pandas.concat instead.\n",
      "  data=data.append(output)\n"
     ]
    },
    {
     "ename": "NameError",
     "evalue": "name 'join_team' is not defined",
     "output_type": "error",
     "traceback": [
      "\u001b[1;31m---------------------------------------------------------------------------\u001b[0m",
      "\u001b[1;31mNameError\u001b[0m                                 Traceback (most recent call last)",
      "Input \u001b[1;32mIn [128]\u001b[0m, in \u001b[0;36m<cell line: 3>\u001b[1;34m()\u001b[0m\n\u001b[0;32m      1\u001b[0m basic_esp\u001b[38;5;241m=\u001b[39mget_basic(\u001b[38;5;241m1\u001b[39m)\n\u001b[0;32m      2\u001b[0m advanced_esp\u001b[38;5;241m=\u001b[39mget_advanced(\u001b[38;5;241m1\u001b[39m)\n\u001b[1;32m----> 3\u001b[0m \u001b[43mjoin_team\u001b[49m(basic_esp,advanced_escp)\n",
      "\u001b[1;31mNameError\u001b[0m: name 'join_team' is not defined"
     ]
    }
   ],
   "source": [
    "basic_esp=get_basic(1)\n",
    "advanced_esp=get_advanced(1)\n",
    "team_esp=join_teams(basic_esp,advanced_esp)\n",
    "team_esp.to_csv('team_esp.csv',index=False)"
   ]
  },
  {
   "cell_type": "code",
   "execution_count": 130,
   "id": "941d3661",
   "metadata": {
    "collapsed": true
   },
   "outputs": [
    {
     "name": "stdout",
     "output_type": "stream",
     "text": [
      "Italian-Lega-Basket-Serie-A\n"
     ]
    },
    {
     "name": "stderr",
     "output_type": "stream",
     "text": [
      "C:\\Users\\marli\\AppData\\Local\\Temp\\ipykernel_29248\\3643650661.py:34: FutureWarning: The frame.append method is deprecated and will be removed from pandas in a future version. Use pandas.concat instead.\n",
      "  data=data.append(output)\n",
      "C:\\Users\\marli\\AppData\\Local\\Temp\\ipykernel_29248\\3643650661.py:34: FutureWarning: The frame.append method is deprecated and will be removed from pandas in a future version. Use pandas.concat instead.\n",
      "  data=data.append(output)\n",
      "C:\\Users\\marli\\AppData\\Local\\Temp\\ipykernel_29248\\3643650661.py:34: FutureWarning: The frame.append method is deprecated and will be removed from pandas in a future version. Use pandas.concat instead.\n",
      "  data=data.append(output)\n",
      "C:\\Users\\marli\\AppData\\Local\\Temp\\ipykernel_29248\\3643650661.py:34: FutureWarning: The frame.append method is deprecated and will be removed from pandas in a future version. Use pandas.concat instead.\n",
      "  data=data.append(output)\n",
      "C:\\Users\\marli\\AppData\\Local\\Temp\\ipykernel_29248\\3643650661.py:34: FutureWarning: The frame.append method is deprecated and will be removed from pandas in a future version. Use pandas.concat instead.\n",
      "  data=data.append(output)\n",
      "C:\\Users\\marli\\AppData\\Local\\Temp\\ipykernel_29248\\3643650661.py:34: FutureWarning: The frame.append method is deprecated and will be removed from pandas in a future version. Use pandas.concat instead.\n",
      "  data=data.append(output)\n",
      "C:\\Users\\marli\\AppData\\Local\\Temp\\ipykernel_29248\\3643650661.py:34: FutureWarning: The frame.append method is deprecated and will be removed from pandas in a future version. Use pandas.concat instead.\n",
      "  data=data.append(output)\n",
      "C:\\Users\\marli\\AppData\\Local\\Temp\\ipykernel_29248\\3643650661.py:34: FutureWarning: The frame.append method is deprecated and will be removed from pandas in a future version. Use pandas.concat instead.\n",
      "  data=data.append(output)\n",
      "C:\\Users\\marli\\AppData\\Local\\Temp\\ipykernel_29248\\3643650661.py:34: FutureWarning: The frame.append method is deprecated and will be removed from pandas in a future version. Use pandas.concat instead.\n",
      "  data=data.append(output)\n",
      "C:\\Users\\marli\\AppData\\Local\\Temp\\ipykernel_29248\\3643650661.py:34: FutureWarning: The frame.append method is deprecated and will be removed from pandas in a future version. Use pandas.concat instead.\n",
      "  data=data.append(output)\n",
      "C:\\Users\\marli\\AppData\\Local\\Temp\\ipykernel_29248\\3643650661.py:34: FutureWarning: The frame.append method is deprecated and will be removed from pandas in a future version. Use pandas.concat instead.\n",
      "  data=data.append(output)\n",
      "C:\\Users\\marli\\AppData\\Local\\Temp\\ipykernel_29248\\3643650661.py:34: FutureWarning: The frame.append method is deprecated and will be removed from pandas in a future version. Use pandas.concat instead.\n",
      "  data=data.append(output)\n",
      "C:\\Users\\marli\\AppData\\Local\\Temp\\ipykernel_29248\\3643650661.py:34: FutureWarning: The frame.append method is deprecated and will be removed from pandas in a future version. Use pandas.concat instead.\n",
      "  data=data.append(output)\n",
      "C:\\Users\\marli\\AppData\\Local\\Temp\\ipykernel_29248\\3643650661.py:34: FutureWarning: The frame.append method is deprecated and will be removed from pandas in a future version. Use pandas.concat instead.\n",
      "  data=data.append(output)\n",
      "C:\\Users\\marli\\AppData\\Local\\Temp\\ipykernel_29248\\3643650661.py:34: FutureWarning: The frame.append method is deprecated and will be removed from pandas in a future version. Use pandas.concat instead.\n",
      "  data=data.append(output)\n",
      "C:\\Users\\marli\\AppData\\Local\\Temp\\ipykernel_29248\\3643650661.py:34: FutureWarning: The frame.append method is deprecated and will be removed from pandas in a future version. Use pandas.concat instead.\n",
      "  data=data.append(output)\n",
      "C:\\Users\\marli\\AppData\\Local\\Temp\\ipykernel_29248\\3643650661.py:34: FutureWarning: The frame.append method is deprecated and will be removed from pandas in a future version. Use pandas.concat instead.\n",
      "  data=data.append(output)\n",
      "C:\\Users\\marli\\AppData\\Local\\Temp\\ipykernel_29248\\3643650661.py:34: FutureWarning: The frame.append method is deprecated and will be removed from pandas in a future version. Use pandas.concat instead.\n",
      "  data=data.append(output)\n",
      "C:\\Users\\marli\\AppData\\Local\\Temp\\ipykernel_29248\\3643650661.py:34: FutureWarning: The frame.append method is deprecated and will be removed from pandas in a future version. Use pandas.concat instead.\n",
      "  data=data.append(output)\n"
     ]
    },
    {
     "name": "stdout",
     "output_type": "stream",
     "text": [
      "Italian-Lega-Basket-Serie-A\n"
     ]
    },
    {
     "name": "stderr",
     "output_type": "stream",
     "text": [
      "C:\\Users\\marli\\AppData\\Local\\Temp\\ipykernel_29248\\2954965646.py:34: FutureWarning: The frame.append method is deprecated and will be removed from pandas in a future version. Use pandas.concat instead.\n",
      "  data=data.append(output)\n",
      "C:\\Users\\marli\\AppData\\Local\\Temp\\ipykernel_29248\\2954965646.py:34: FutureWarning: The frame.append method is deprecated and will be removed from pandas in a future version. Use pandas.concat instead.\n",
      "  data=data.append(output)\n",
      "C:\\Users\\marli\\AppData\\Local\\Temp\\ipykernel_29248\\2954965646.py:34: FutureWarning: The frame.append method is deprecated and will be removed from pandas in a future version. Use pandas.concat instead.\n",
      "  data=data.append(output)\n",
      "C:\\Users\\marli\\AppData\\Local\\Temp\\ipykernel_29248\\2954965646.py:34: FutureWarning: The frame.append method is deprecated and will be removed from pandas in a future version. Use pandas.concat instead.\n",
      "  data=data.append(output)\n",
      "C:\\Users\\marli\\AppData\\Local\\Temp\\ipykernel_29248\\2954965646.py:34: FutureWarning: The frame.append method is deprecated and will be removed from pandas in a future version. Use pandas.concat instead.\n",
      "  data=data.append(output)\n",
      "C:\\Users\\marli\\AppData\\Local\\Temp\\ipykernel_29248\\2954965646.py:34: FutureWarning: The frame.append method is deprecated and will be removed from pandas in a future version. Use pandas.concat instead.\n",
      "  data=data.append(output)\n",
      "C:\\Users\\marli\\AppData\\Local\\Temp\\ipykernel_29248\\2954965646.py:34: FutureWarning: The frame.append method is deprecated and will be removed from pandas in a future version. Use pandas.concat instead.\n",
      "  data=data.append(output)\n",
      "C:\\Users\\marli\\AppData\\Local\\Temp\\ipykernel_29248\\2954965646.py:34: FutureWarning: The frame.append method is deprecated and will be removed from pandas in a future version. Use pandas.concat instead.\n",
      "  data=data.append(output)\n",
      "C:\\Users\\marli\\AppData\\Local\\Temp\\ipykernel_29248\\2954965646.py:34: FutureWarning: The frame.append method is deprecated and will be removed from pandas in a future version. Use pandas.concat instead.\n",
      "  data=data.append(output)\n",
      "C:\\Users\\marli\\AppData\\Local\\Temp\\ipykernel_29248\\2954965646.py:34: FutureWarning: The frame.append method is deprecated and will be removed from pandas in a future version. Use pandas.concat instead.\n",
      "  data=data.append(output)\n",
      "C:\\Users\\marli\\AppData\\Local\\Temp\\ipykernel_29248\\2954965646.py:34: FutureWarning: The frame.append method is deprecated and will be removed from pandas in a future version. Use pandas.concat instead.\n",
      "  data=data.append(output)\n",
      "C:\\Users\\marli\\AppData\\Local\\Temp\\ipykernel_29248\\2954965646.py:34: FutureWarning: The frame.append method is deprecated and will be removed from pandas in a future version. Use pandas.concat instead.\n",
      "  data=data.append(output)\n",
      "C:\\Users\\marli\\AppData\\Local\\Temp\\ipykernel_29248\\2954965646.py:34: FutureWarning: The frame.append method is deprecated and will be removed from pandas in a future version. Use pandas.concat instead.\n",
      "  data=data.append(output)\n",
      "C:\\Users\\marli\\AppData\\Local\\Temp\\ipykernel_29248\\2954965646.py:34: FutureWarning: The frame.append method is deprecated and will be removed from pandas in a future version. Use pandas.concat instead.\n",
      "  data=data.append(output)\n",
      "C:\\Users\\marli\\AppData\\Local\\Temp\\ipykernel_29248\\2954965646.py:34: FutureWarning: The frame.append method is deprecated and will be removed from pandas in a future version. Use pandas.concat instead.\n",
      "  data=data.append(output)\n",
      "C:\\Users\\marli\\AppData\\Local\\Temp\\ipykernel_29248\\2954965646.py:34: FutureWarning: The frame.append method is deprecated and will be removed from pandas in a future version. Use pandas.concat instead.\n",
      "  data=data.append(output)\n",
      "C:\\Users\\marli\\AppData\\Local\\Temp\\ipykernel_29248\\2954965646.py:34: FutureWarning: The frame.append method is deprecated and will be removed from pandas in a future version. Use pandas.concat instead.\n",
      "  data=data.append(output)\n",
      "C:\\Users\\marli\\AppData\\Local\\Temp\\ipykernel_29248\\2954965646.py:34: FutureWarning: The frame.append method is deprecated and will be removed from pandas in a future version. Use pandas.concat instead.\n",
      "  data=data.append(output)\n",
      "C:\\Users\\marli\\AppData\\Local\\Temp\\ipykernel_29248\\2954965646.py:34: FutureWarning: The frame.append method is deprecated and will be removed from pandas in a future version. Use pandas.concat instead.\n",
      "  data=data.append(output)\n"
     ]
    }
   ],
   "source": [
    "basic_it=get_basic(2)\n",
    "advanced_it=get_advanced(2)\n",
    "team_it=join_teams(basic_it,advanced_it)\n",
    "team_it.to_csv('team_it.csv',index=False)"
   ]
  },
  {
   "cell_type": "code",
   "execution_count": 131,
   "id": "1223b048",
   "metadata": {
    "collapsed": true
   },
   "outputs": [
    {
     "name": "stdout",
     "output_type": "stream",
     "text": [
      "Turkish-BSL\n"
     ]
    },
    {
     "name": "stderr",
     "output_type": "stream",
     "text": [
      "C:\\Users\\marli\\AppData\\Local\\Temp\\ipykernel_29248\\3643650661.py:34: FutureWarning: The frame.append method is deprecated and will be removed from pandas in a future version. Use pandas.concat instead.\n",
      "  data=data.append(output)\n",
      "C:\\Users\\marli\\AppData\\Local\\Temp\\ipykernel_29248\\3643650661.py:34: FutureWarning: The frame.append method is deprecated and will be removed from pandas in a future version. Use pandas.concat instead.\n",
      "  data=data.append(output)\n",
      "C:\\Users\\marli\\AppData\\Local\\Temp\\ipykernel_29248\\3643650661.py:34: FutureWarning: The frame.append method is deprecated and will be removed from pandas in a future version. Use pandas.concat instead.\n",
      "  data=data.append(output)\n",
      "C:\\Users\\marli\\AppData\\Local\\Temp\\ipykernel_29248\\3643650661.py:34: FutureWarning: The frame.append method is deprecated and will be removed from pandas in a future version. Use pandas.concat instead.\n",
      "  data=data.append(output)\n",
      "C:\\Users\\marli\\AppData\\Local\\Temp\\ipykernel_29248\\3643650661.py:34: FutureWarning: The frame.append method is deprecated and will be removed from pandas in a future version. Use pandas.concat instead.\n",
      "  data=data.append(output)\n",
      "C:\\Users\\marli\\AppData\\Local\\Temp\\ipykernel_29248\\3643650661.py:34: FutureWarning: The frame.append method is deprecated and will be removed from pandas in a future version. Use pandas.concat instead.\n",
      "  data=data.append(output)\n",
      "C:\\Users\\marli\\AppData\\Local\\Temp\\ipykernel_29248\\3643650661.py:34: FutureWarning: The frame.append method is deprecated and will be removed from pandas in a future version. Use pandas.concat instead.\n",
      "  data=data.append(output)\n",
      "C:\\Users\\marli\\AppData\\Local\\Temp\\ipykernel_29248\\3643650661.py:34: FutureWarning: The frame.append method is deprecated and will be removed from pandas in a future version. Use pandas.concat instead.\n",
      "  data=data.append(output)\n",
      "C:\\Users\\marli\\AppData\\Local\\Temp\\ipykernel_29248\\3643650661.py:34: FutureWarning: The frame.append method is deprecated and will be removed from pandas in a future version. Use pandas.concat instead.\n",
      "  data=data.append(output)\n",
      "C:\\Users\\marli\\AppData\\Local\\Temp\\ipykernel_29248\\3643650661.py:34: FutureWarning: The frame.append method is deprecated and will be removed from pandas in a future version. Use pandas.concat instead.\n",
      "  data=data.append(output)\n",
      "C:\\Users\\marli\\AppData\\Local\\Temp\\ipykernel_29248\\3643650661.py:34: FutureWarning: The frame.append method is deprecated and will be removed from pandas in a future version. Use pandas.concat instead.\n",
      "  data=data.append(output)\n"
     ]
    },
    {
     "name": "stdout",
     "output_type": "stream",
     "text": [
      "Turkish-BSL\n"
     ]
    },
    {
     "name": "stderr",
     "output_type": "stream",
     "text": [
      "C:\\Users\\marli\\AppData\\Local\\Temp\\ipykernel_29248\\2954965646.py:34: FutureWarning: The frame.append method is deprecated and will be removed from pandas in a future version. Use pandas.concat instead.\n",
      "  data=data.append(output)\n",
      "C:\\Users\\marli\\AppData\\Local\\Temp\\ipykernel_29248\\2954965646.py:34: FutureWarning: The frame.append method is deprecated and will be removed from pandas in a future version. Use pandas.concat instead.\n",
      "  data=data.append(output)\n",
      "C:\\Users\\marli\\AppData\\Local\\Temp\\ipykernel_29248\\2954965646.py:34: FutureWarning: The frame.append method is deprecated and will be removed from pandas in a future version. Use pandas.concat instead.\n",
      "  data=data.append(output)\n",
      "C:\\Users\\marli\\AppData\\Local\\Temp\\ipykernel_29248\\2954965646.py:34: FutureWarning: The frame.append method is deprecated and will be removed from pandas in a future version. Use pandas.concat instead.\n",
      "  data=data.append(output)\n",
      "C:\\Users\\marli\\AppData\\Local\\Temp\\ipykernel_29248\\2954965646.py:34: FutureWarning: The frame.append method is deprecated and will be removed from pandas in a future version. Use pandas.concat instead.\n",
      "  data=data.append(output)\n",
      "C:\\Users\\marli\\AppData\\Local\\Temp\\ipykernel_29248\\2954965646.py:34: FutureWarning: The frame.append method is deprecated and will be removed from pandas in a future version. Use pandas.concat instead.\n",
      "  data=data.append(output)\n",
      "C:\\Users\\marli\\AppData\\Local\\Temp\\ipykernel_29248\\2954965646.py:34: FutureWarning: The frame.append method is deprecated and will be removed from pandas in a future version. Use pandas.concat instead.\n",
      "  data=data.append(output)\n",
      "C:\\Users\\marli\\AppData\\Local\\Temp\\ipykernel_29248\\2954965646.py:34: FutureWarning: The frame.append method is deprecated and will be removed from pandas in a future version. Use pandas.concat instead.\n",
      "  data=data.append(output)\n",
      "C:\\Users\\marli\\AppData\\Local\\Temp\\ipykernel_29248\\2954965646.py:34: FutureWarning: The frame.append method is deprecated and will be removed from pandas in a future version. Use pandas.concat instead.\n",
      "  data=data.append(output)\n",
      "C:\\Users\\marli\\AppData\\Local\\Temp\\ipykernel_29248\\2954965646.py:34: FutureWarning: The frame.append method is deprecated and will be removed from pandas in a future version. Use pandas.concat instead.\n",
      "  data=data.append(output)\n",
      "C:\\Users\\marli\\AppData\\Local\\Temp\\ipykernel_29248\\2954965646.py:34: FutureWarning: The frame.append method is deprecated and will be removed from pandas in a future version. Use pandas.concat instead.\n",
      "  data=data.append(output)\n"
     ]
    }
   ],
   "source": [
    "basic_tur=get_basic(3)\n",
    "advanced_tur=get_advanced(3)\n",
    "team_tur=join_teams(basic_tur,advanced_tur)\n",
    "team_tur.to_csv('team_tur.csv',index=False)"
   ]
  },
  {
   "cell_type": "code",
   "execution_count": 132,
   "id": "ecf9f147",
   "metadata": {
    "collapsed": true
   },
   "outputs": [
    {
     "name": "stdout",
     "output_type": "stream",
     "text": [
      "Greek-HEBA-A1\n"
     ]
    },
    {
     "name": "stderr",
     "output_type": "stream",
     "text": [
      "C:\\Users\\marli\\AppData\\Local\\Temp\\ipykernel_29248\\3643650661.py:34: FutureWarning: The frame.append method is deprecated and will be removed from pandas in a future version. Use pandas.concat instead.\n",
      "  data=data.append(output)\n",
      "C:\\Users\\marli\\AppData\\Local\\Temp\\ipykernel_29248\\3643650661.py:34: FutureWarning: The frame.append method is deprecated and will be removed from pandas in a future version. Use pandas.concat instead.\n",
      "  data=data.append(output)\n",
      "C:\\Users\\marli\\AppData\\Local\\Temp\\ipykernel_29248\\3643650661.py:34: FutureWarning: The frame.append method is deprecated and will be removed from pandas in a future version. Use pandas.concat instead.\n",
      "  data=data.append(output)\n",
      "C:\\Users\\marli\\AppData\\Local\\Temp\\ipykernel_29248\\3643650661.py:34: FutureWarning: The frame.append method is deprecated and will be removed from pandas in a future version. Use pandas.concat instead.\n",
      "  data=data.append(output)\n",
      "C:\\Users\\marli\\AppData\\Local\\Temp\\ipykernel_29248\\3643650661.py:34: FutureWarning: The frame.append method is deprecated and will be removed from pandas in a future version. Use pandas.concat instead.\n",
      "  data=data.append(output)\n",
      "C:\\Users\\marli\\AppData\\Local\\Temp\\ipykernel_29248\\3643650661.py:34: FutureWarning: The frame.append method is deprecated and will be removed from pandas in a future version. Use pandas.concat instead.\n",
      "  data=data.append(output)\n",
      "C:\\Users\\marli\\AppData\\Local\\Temp\\ipykernel_29248\\3643650661.py:34: FutureWarning: The frame.append method is deprecated and will be removed from pandas in a future version. Use pandas.concat instead.\n",
      "  data=data.append(output)\n",
      "C:\\Users\\marli\\AppData\\Local\\Temp\\ipykernel_29248\\3643650661.py:34: FutureWarning: The frame.append method is deprecated and will be removed from pandas in a future version. Use pandas.concat instead.\n",
      "  data=data.append(output)\n",
      "C:\\Users\\marli\\AppData\\Local\\Temp\\ipykernel_29248\\3643650661.py:34: FutureWarning: The frame.append method is deprecated and will be removed from pandas in a future version. Use pandas.concat instead.\n",
      "  data=data.append(output)\n",
      "C:\\Users\\marli\\AppData\\Local\\Temp\\ipykernel_29248\\3643650661.py:34: FutureWarning: The frame.append method is deprecated and will be removed from pandas in a future version. Use pandas.concat instead.\n",
      "  data=data.append(output)\n",
      "C:\\Users\\marli\\AppData\\Local\\Temp\\ipykernel_29248\\3643650661.py:34: FutureWarning: The frame.append method is deprecated and will be removed from pandas in a future version. Use pandas.concat instead.\n",
      "  data=data.append(output)\n"
     ]
    },
    {
     "name": "stdout",
     "output_type": "stream",
     "text": [
      "Greek-HEBA-A1\n"
     ]
    },
    {
     "name": "stderr",
     "output_type": "stream",
     "text": [
      "C:\\Users\\marli\\AppData\\Local\\Temp\\ipykernel_29248\\2954965646.py:34: FutureWarning: The frame.append method is deprecated and will be removed from pandas in a future version. Use pandas.concat instead.\n",
      "  data=data.append(output)\n",
      "C:\\Users\\marli\\AppData\\Local\\Temp\\ipykernel_29248\\2954965646.py:34: FutureWarning: The frame.append method is deprecated and will be removed from pandas in a future version. Use pandas.concat instead.\n",
      "  data=data.append(output)\n",
      "C:\\Users\\marli\\AppData\\Local\\Temp\\ipykernel_29248\\2954965646.py:34: FutureWarning: The frame.append method is deprecated and will be removed from pandas in a future version. Use pandas.concat instead.\n",
      "  data=data.append(output)\n",
      "C:\\Users\\marli\\AppData\\Local\\Temp\\ipykernel_29248\\2954965646.py:34: FutureWarning: The frame.append method is deprecated and will be removed from pandas in a future version. Use pandas.concat instead.\n",
      "  data=data.append(output)\n",
      "C:\\Users\\marli\\AppData\\Local\\Temp\\ipykernel_29248\\2954965646.py:34: FutureWarning: The frame.append method is deprecated and will be removed from pandas in a future version. Use pandas.concat instead.\n",
      "  data=data.append(output)\n",
      "C:\\Users\\marli\\AppData\\Local\\Temp\\ipykernel_29248\\2954965646.py:34: FutureWarning: The frame.append method is deprecated and will be removed from pandas in a future version. Use pandas.concat instead.\n",
      "  data=data.append(output)\n",
      "C:\\Users\\marli\\AppData\\Local\\Temp\\ipykernel_29248\\2954965646.py:34: FutureWarning: The frame.append method is deprecated and will be removed from pandas in a future version. Use pandas.concat instead.\n",
      "  data=data.append(output)\n",
      "C:\\Users\\marli\\AppData\\Local\\Temp\\ipykernel_29248\\2954965646.py:34: FutureWarning: The frame.append method is deprecated and will be removed from pandas in a future version. Use pandas.concat instead.\n",
      "  data=data.append(output)\n",
      "C:\\Users\\marli\\AppData\\Local\\Temp\\ipykernel_29248\\2954965646.py:34: FutureWarning: The frame.append method is deprecated and will be removed from pandas in a future version. Use pandas.concat instead.\n",
      "  data=data.append(output)\n",
      "C:\\Users\\marli\\AppData\\Local\\Temp\\ipykernel_29248\\2954965646.py:34: FutureWarning: The frame.append method is deprecated and will be removed from pandas in a future version. Use pandas.concat instead.\n",
      "  data=data.append(output)\n",
      "C:\\Users\\marli\\AppData\\Local\\Temp\\ipykernel_29248\\2954965646.py:34: FutureWarning: The frame.append method is deprecated and will be removed from pandas in a future version. Use pandas.concat instead.\n",
      "  data=data.append(output)\n"
     ]
    }
   ],
   "source": [
    "basic_gr=get_basic(4)\n",
    "advanced_gr=get_advanced(4)\n",
    "team_gr=join_teams(basic_gr,advanced_gr)\n",
    "team_gr.to_csv('team_gr.csv',index=False)"
   ]
  },
  {
   "cell_type": "code",
   "execution_count": 133,
   "id": "a8ef43ec",
   "metadata": {
    "collapsed": true
   },
   "outputs": [
    {
     "name": "stdout",
     "output_type": "stream",
     "text": [
      "French-Jeep-Elite\n"
     ]
    },
    {
     "name": "stderr",
     "output_type": "stream",
     "text": [
      "C:\\Users\\marli\\AppData\\Local\\Temp\\ipykernel_29248\\3643650661.py:34: FutureWarning: The frame.append method is deprecated and will be removed from pandas in a future version. Use pandas.concat instead.\n",
      "  data=data.append(output)\n",
      "C:\\Users\\marli\\AppData\\Local\\Temp\\ipykernel_29248\\3643650661.py:34: FutureWarning: The frame.append method is deprecated and will be removed from pandas in a future version. Use pandas.concat instead.\n",
      "  data=data.append(output)\n",
      "C:\\Users\\marli\\AppData\\Local\\Temp\\ipykernel_29248\\3643650661.py:34: FutureWarning: The frame.append method is deprecated and will be removed from pandas in a future version. Use pandas.concat instead.\n",
      "  data=data.append(output)\n",
      "C:\\Users\\marli\\AppData\\Local\\Temp\\ipykernel_29248\\3643650661.py:34: FutureWarning: The frame.append method is deprecated and will be removed from pandas in a future version. Use pandas.concat instead.\n",
      "  data=data.append(output)\n",
      "C:\\Users\\marli\\AppData\\Local\\Temp\\ipykernel_29248\\3643650661.py:34: FutureWarning: The frame.append method is deprecated and will be removed from pandas in a future version. Use pandas.concat instead.\n",
      "  data=data.append(output)\n",
      "C:\\Users\\marli\\AppData\\Local\\Temp\\ipykernel_29248\\3643650661.py:34: FutureWarning: The frame.append method is deprecated and will be removed from pandas in a future version. Use pandas.concat instead.\n",
      "  data=data.append(output)\n",
      "C:\\Users\\marli\\AppData\\Local\\Temp\\ipykernel_29248\\3643650661.py:34: FutureWarning: The frame.append method is deprecated and will be removed from pandas in a future version. Use pandas.concat instead.\n",
      "  data=data.append(output)\n",
      "C:\\Users\\marli\\AppData\\Local\\Temp\\ipykernel_29248\\3643650661.py:34: FutureWarning: The frame.append method is deprecated and will be removed from pandas in a future version. Use pandas.concat instead.\n",
      "  data=data.append(output)\n",
      "C:\\Users\\marli\\AppData\\Local\\Temp\\ipykernel_29248\\3643650661.py:34: FutureWarning: The frame.append method is deprecated and will be removed from pandas in a future version. Use pandas.concat instead.\n",
      "  data=data.append(output)\n",
      "C:\\Users\\marli\\AppData\\Local\\Temp\\ipykernel_29248\\3643650661.py:34: FutureWarning: The frame.append method is deprecated and will be removed from pandas in a future version. Use pandas.concat instead.\n",
      "  data=data.append(output)\n",
      "C:\\Users\\marli\\AppData\\Local\\Temp\\ipykernel_29248\\3643650661.py:34: FutureWarning: The frame.append method is deprecated and will be removed from pandas in a future version. Use pandas.concat instead.\n",
      "  data=data.append(output)\n",
      "C:\\Users\\marli\\AppData\\Local\\Temp\\ipykernel_29248\\3643650661.py:34: FutureWarning: The frame.append method is deprecated and will be removed from pandas in a future version. Use pandas.concat instead.\n",
      "  data=data.append(output)\n",
      "C:\\Users\\marli\\AppData\\Local\\Temp\\ipykernel_29248\\3643650661.py:34: FutureWarning: The frame.append method is deprecated and will be removed from pandas in a future version. Use pandas.concat instead.\n",
      "  data=data.append(output)\n",
      "C:\\Users\\marli\\AppData\\Local\\Temp\\ipykernel_29248\\3643650661.py:34: FutureWarning: The frame.append method is deprecated and will be removed from pandas in a future version. Use pandas.concat instead.\n",
      "  data=data.append(output)\n",
      "C:\\Users\\marli\\AppData\\Local\\Temp\\ipykernel_29248\\3643650661.py:34: FutureWarning: The frame.append method is deprecated and will be removed from pandas in a future version. Use pandas.concat instead.\n",
      "  data=data.append(output)\n",
      "C:\\Users\\marli\\AppData\\Local\\Temp\\ipykernel_29248\\3643650661.py:34: FutureWarning: The frame.append method is deprecated and will be removed from pandas in a future version. Use pandas.concat instead.\n",
      "  data=data.append(output)\n",
      "C:\\Users\\marli\\AppData\\Local\\Temp\\ipykernel_29248\\3643650661.py:34: FutureWarning: The frame.append method is deprecated and will be removed from pandas in a future version. Use pandas.concat instead.\n",
      "  data=data.append(output)\n",
      "C:\\Users\\marli\\AppData\\Local\\Temp\\ipykernel_29248\\3643650661.py:34: FutureWarning: The frame.append method is deprecated and will be removed from pandas in a future version. Use pandas.concat instead.\n",
      "  data=data.append(output)\n"
     ]
    },
    {
     "name": "stdout",
     "output_type": "stream",
     "text": [
      "French-Jeep-Elite\n"
     ]
    },
    {
     "name": "stderr",
     "output_type": "stream",
     "text": [
      "C:\\Users\\marli\\AppData\\Local\\Temp\\ipykernel_29248\\2954965646.py:34: FutureWarning: The frame.append method is deprecated and will be removed from pandas in a future version. Use pandas.concat instead.\n",
      "  data=data.append(output)\n",
      "C:\\Users\\marli\\AppData\\Local\\Temp\\ipykernel_29248\\2954965646.py:34: FutureWarning: The frame.append method is deprecated and will be removed from pandas in a future version. Use pandas.concat instead.\n",
      "  data=data.append(output)\n",
      "C:\\Users\\marli\\AppData\\Local\\Temp\\ipykernel_29248\\2954965646.py:34: FutureWarning: The frame.append method is deprecated and will be removed from pandas in a future version. Use pandas.concat instead.\n",
      "  data=data.append(output)\n",
      "C:\\Users\\marli\\AppData\\Local\\Temp\\ipykernel_29248\\2954965646.py:34: FutureWarning: The frame.append method is deprecated and will be removed from pandas in a future version. Use pandas.concat instead.\n",
      "  data=data.append(output)\n",
      "C:\\Users\\marli\\AppData\\Local\\Temp\\ipykernel_29248\\2954965646.py:34: FutureWarning: The frame.append method is deprecated and will be removed from pandas in a future version. Use pandas.concat instead.\n",
      "  data=data.append(output)\n",
      "C:\\Users\\marli\\AppData\\Local\\Temp\\ipykernel_29248\\2954965646.py:34: FutureWarning: The frame.append method is deprecated and will be removed from pandas in a future version. Use pandas.concat instead.\n",
      "  data=data.append(output)\n",
      "C:\\Users\\marli\\AppData\\Local\\Temp\\ipykernel_29248\\2954965646.py:34: FutureWarning: The frame.append method is deprecated and will be removed from pandas in a future version. Use pandas.concat instead.\n",
      "  data=data.append(output)\n",
      "C:\\Users\\marli\\AppData\\Local\\Temp\\ipykernel_29248\\2954965646.py:34: FutureWarning: The frame.append method is deprecated and will be removed from pandas in a future version. Use pandas.concat instead.\n",
      "  data=data.append(output)\n",
      "C:\\Users\\marli\\AppData\\Local\\Temp\\ipykernel_29248\\2954965646.py:34: FutureWarning: The frame.append method is deprecated and will be removed from pandas in a future version. Use pandas.concat instead.\n",
      "  data=data.append(output)\n",
      "C:\\Users\\marli\\AppData\\Local\\Temp\\ipykernel_29248\\2954965646.py:34: FutureWarning: The frame.append method is deprecated and will be removed from pandas in a future version. Use pandas.concat instead.\n",
      "  data=data.append(output)\n",
      "C:\\Users\\marli\\AppData\\Local\\Temp\\ipykernel_29248\\2954965646.py:34: FutureWarning: The frame.append method is deprecated and will be removed from pandas in a future version. Use pandas.concat instead.\n",
      "  data=data.append(output)\n",
      "C:\\Users\\marli\\AppData\\Local\\Temp\\ipykernel_29248\\2954965646.py:34: FutureWarning: The frame.append method is deprecated and will be removed from pandas in a future version. Use pandas.concat instead.\n",
      "  data=data.append(output)\n",
      "C:\\Users\\marli\\AppData\\Local\\Temp\\ipykernel_29248\\2954965646.py:34: FutureWarning: The frame.append method is deprecated and will be removed from pandas in a future version. Use pandas.concat instead.\n",
      "  data=data.append(output)\n",
      "C:\\Users\\marli\\AppData\\Local\\Temp\\ipykernel_29248\\2954965646.py:34: FutureWarning: The frame.append method is deprecated and will be removed from pandas in a future version. Use pandas.concat instead.\n",
      "  data=data.append(output)\n",
      "C:\\Users\\marli\\AppData\\Local\\Temp\\ipykernel_29248\\2954965646.py:34: FutureWarning: The frame.append method is deprecated and will be removed from pandas in a future version. Use pandas.concat instead.\n",
      "  data=data.append(output)\n",
      "C:\\Users\\marli\\AppData\\Local\\Temp\\ipykernel_29248\\2954965646.py:34: FutureWarning: The frame.append method is deprecated and will be removed from pandas in a future version. Use pandas.concat instead.\n",
      "  data=data.append(output)\n",
      "C:\\Users\\marli\\AppData\\Local\\Temp\\ipykernel_29248\\2954965646.py:34: FutureWarning: The frame.append method is deprecated and will be removed from pandas in a future version. Use pandas.concat instead.\n",
      "  data=data.append(output)\n",
      "C:\\Users\\marli\\AppData\\Local\\Temp\\ipykernel_29248\\2954965646.py:34: FutureWarning: The frame.append method is deprecated and will be removed from pandas in a future version. Use pandas.concat instead.\n",
      "  data=data.append(output)\n"
     ]
    }
   ],
   "source": [
    "basic_fr=get_basic(5)\n",
    "advanced_fr=get_advanced(5)\n",
    "team_fr=join_teams(basic_fr,advanced_fr)\n",
    "team_fr.to_csv('team_fr.csv',index=False)"
   ]
  },
  {
   "cell_type": "code",
   "execution_count": 134,
   "id": "fecb7c8e",
   "metadata": {
    "collapsed": true
   },
   "outputs": [
    {
     "name": "stdout",
     "output_type": "stream",
     "text": [
      "Adriatic-League-Liga-ABA\n"
     ]
    },
    {
     "name": "stderr",
     "output_type": "stream",
     "text": [
      "C:\\Users\\marli\\AppData\\Local\\Temp\\ipykernel_29248\\3643650661.py:34: FutureWarning: The frame.append method is deprecated and will be removed from pandas in a future version. Use pandas.concat instead.\n",
      "  data=data.append(output)\n",
      "C:\\Users\\marli\\AppData\\Local\\Temp\\ipykernel_29248\\3643650661.py:34: FutureWarning: The frame.append method is deprecated and will be removed from pandas in a future version. Use pandas.concat instead.\n",
      "  data=data.append(output)\n",
      "C:\\Users\\marli\\AppData\\Local\\Temp\\ipykernel_29248\\3643650661.py:34: FutureWarning: The frame.append method is deprecated and will be removed from pandas in a future version. Use pandas.concat instead.\n",
      "  data=data.append(output)\n",
      "C:\\Users\\marli\\AppData\\Local\\Temp\\ipykernel_29248\\3643650661.py:34: FutureWarning: The frame.append method is deprecated and will be removed from pandas in a future version. Use pandas.concat instead.\n",
      "  data=data.append(output)\n",
      "C:\\Users\\marli\\AppData\\Local\\Temp\\ipykernel_29248\\3643650661.py:34: FutureWarning: The frame.append method is deprecated and will be removed from pandas in a future version. Use pandas.concat instead.\n",
      "  data=data.append(output)\n",
      "C:\\Users\\marli\\AppData\\Local\\Temp\\ipykernel_29248\\3643650661.py:34: FutureWarning: The frame.append method is deprecated and will be removed from pandas in a future version. Use pandas.concat instead.\n",
      "  data=data.append(output)\n",
      "C:\\Users\\marli\\AppData\\Local\\Temp\\ipykernel_29248\\3643650661.py:34: FutureWarning: The frame.append method is deprecated and will be removed from pandas in a future version. Use pandas.concat instead.\n",
      "  data=data.append(output)\n",
      "C:\\Users\\marli\\AppData\\Local\\Temp\\ipykernel_29248\\3643650661.py:34: FutureWarning: The frame.append method is deprecated and will be removed from pandas in a future version. Use pandas.concat instead.\n",
      "  data=data.append(output)\n",
      "C:\\Users\\marli\\AppData\\Local\\Temp\\ipykernel_29248\\3643650661.py:34: FutureWarning: The frame.append method is deprecated and will be removed from pandas in a future version. Use pandas.concat instead.\n",
      "  data=data.append(output)\n",
      "C:\\Users\\marli\\AppData\\Local\\Temp\\ipykernel_29248\\3643650661.py:34: FutureWarning: The frame.append method is deprecated and will be removed from pandas in a future version. Use pandas.concat instead.\n",
      "  data=data.append(output)\n",
      "C:\\Users\\marli\\AppData\\Local\\Temp\\ipykernel_29248\\3643650661.py:34: FutureWarning: The frame.append method is deprecated and will be removed from pandas in a future version. Use pandas.concat instead.\n",
      "  data=data.append(output)\n"
     ]
    },
    {
     "name": "stdout",
     "output_type": "stream",
     "text": [
      "Adriatic-League-Liga-ABA\n"
     ]
    },
    {
     "name": "stderr",
     "output_type": "stream",
     "text": [
      "C:\\Users\\marli\\AppData\\Local\\Temp\\ipykernel_29248\\2954965646.py:34: FutureWarning: The frame.append method is deprecated and will be removed from pandas in a future version. Use pandas.concat instead.\n",
      "  data=data.append(output)\n",
      "C:\\Users\\marli\\AppData\\Local\\Temp\\ipykernel_29248\\2954965646.py:34: FutureWarning: The frame.append method is deprecated and will be removed from pandas in a future version. Use pandas.concat instead.\n",
      "  data=data.append(output)\n",
      "C:\\Users\\marli\\AppData\\Local\\Temp\\ipykernel_29248\\2954965646.py:34: FutureWarning: The frame.append method is deprecated and will be removed from pandas in a future version. Use pandas.concat instead.\n",
      "  data=data.append(output)\n",
      "C:\\Users\\marli\\AppData\\Local\\Temp\\ipykernel_29248\\2954965646.py:34: FutureWarning: The frame.append method is deprecated and will be removed from pandas in a future version. Use pandas.concat instead.\n",
      "  data=data.append(output)\n",
      "C:\\Users\\marli\\AppData\\Local\\Temp\\ipykernel_29248\\2954965646.py:34: FutureWarning: The frame.append method is deprecated and will be removed from pandas in a future version. Use pandas.concat instead.\n",
      "  data=data.append(output)\n",
      "C:\\Users\\marli\\AppData\\Local\\Temp\\ipykernel_29248\\2954965646.py:34: FutureWarning: The frame.append method is deprecated and will be removed from pandas in a future version. Use pandas.concat instead.\n",
      "  data=data.append(output)\n",
      "C:\\Users\\marli\\AppData\\Local\\Temp\\ipykernel_29248\\2954965646.py:34: FutureWarning: The frame.append method is deprecated and will be removed from pandas in a future version. Use pandas.concat instead.\n",
      "  data=data.append(output)\n",
      "C:\\Users\\marli\\AppData\\Local\\Temp\\ipykernel_29248\\2954965646.py:34: FutureWarning: The frame.append method is deprecated and will be removed from pandas in a future version. Use pandas.concat instead.\n",
      "  data=data.append(output)\n",
      "C:\\Users\\marli\\AppData\\Local\\Temp\\ipykernel_29248\\2954965646.py:34: FutureWarning: The frame.append method is deprecated and will be removed from pandas in a future version. Use pandas.concat instead.\n",
      "  data=data.append(output)\n",
      "C:\\Users\\marli\\AppData\\Local\\Temp\\ipykernel_29248\\2954965646.py:34: FutureWarning: The frame.append method is deprecated and will be removed from pandas in a future version. Use pandas.concat instead.\n",
      "  data=data.append(output)\n",
      "C:\\Users\\marli\\AppData\\Local\\Temp\\ipykernel_29248\\2954965646.py:34: FutureWarning: The frame.append method is deprecated and will be removed from pandas in a future version. Use pandas.concat instead.\n",
      "  data=data.append(output)\n"
     ]
    }
   ],
   "source": [
    "basic_adr=get_basic(6)\n",
    "advanced_adr=get_advanced(6)\n",
    "team_adr=join_teams(basic_adr,advanced_adr)\n",
    "team_adr.to_csv('team_adr.csv',index=False)"
   ]
  },
  {
   "cell_type": "code",
   "execution_count": 135,
   "id": "3752b1b2",
   "metadata": {
    "collapsed": true
   },
   "outputs": [
    {
     "name": "stdout",
     "output_type": "stream",
     "text": [
      "VTB-United-League\n"
     ]
    },
    {
     "name": "stderr",
     "output_type": "stream",
     "text": [
      "C:\\Users\\marli\\AppData\\Local\\Temp\\ipykernel_29248\\3643650661.py:34: FutureWarning: The frame.append method is deprecated and will be removed from pandas in a future version. Use pandas.concat instead.\n",
      "  data=data.append(output)\n",
      "C:\\Users\\marli\\AppData\\Local\\Temp\\ipykernel_29248\\3643650661.py:34: FutureWarning: The frame.append method is deprecated and will be removed from pandas in a future version. Use pandas.concat instead.\n",
      "  data=data.append(output)\n",
      "C:\\Users\\marli\\AppData\\Local\\Temp\\ipykernel_29248\\3643650661.py:34: FutureWarning: The frame.append method is deprecated and will be removed from pandas in a future version. Use pandas.concat instead.\n",
      "  data=data.append(output)\n",
      "C:\\Users\\marli\\AppData\\Local\\Temp\\ipykernel_29248\\3643650661.py:34: FutureWarning: The frame.append method is deprecated and will be removed from pandas in a future version. Use pandas.concat instead.\n",
      "  data=data.append(output)\n",
      "C:\\Users\\marli\\AppData\\Local\\Temp\\ipykernel_29248\\3643650661.py:34: FutureWarning: The frame.append method is deprecated and will be removed from pandas in a future version. Use pandas.concat instead.\n",
      "  data=data.append(output)\n",
      "C:\\Users\\marli\\AppData\\Local\\Temp\\ipykernel_29248\\3643650661.py:34: FutureWarning: The frame.append method is deprecated and will be removed from pandas in a future version. Use pandas.concat instead.\n",
      "  data=data.append(output)\n",
      "C:\\Users\\marli\\AppData\\Local\\Temp\\ipykernel_29248\\3643650661.py:34: FutureWarning: The frame.append method is deprecated and will be removed from pandas in a future version. Use pandas.concat instead.\n",
      "  data=data.append(output)\n",
      "C:\\Users\\marli\\AppData\\Local\\Temp\\ipykernel_29248\\3643650661.py:34: FutureWarning: The frame.append method is deprecated and will be removed from pandas in a future version. Use pandas.concat instead.\n",
      "  data=data.append(output)\n",
      "C:\\Users\\marli\\AppData\\Local\\Temp\\ipykernel_29248\\3643650661.py:34: FutureWarning: The frame.append method is deprecated and will be removed from pandas in a future version. Use pandas.concat instead.\n",
      "  data=data.append(output)\n",
      "C:\\Users\\marli\\AppData\\Local\\Temp\\ipykernel_29248\\3643650661.py:34: FutureWarning: The frame.append method is deprecated and will be removed from pandas in a future version. Use pandas.concat instead.\n",
      "  data=data.append(output)\n",
      "C:\\Users\\marli\\AppData\\Local\\Temp\\ipykernel_29248\\3643650661.py:34: FutureWarning: The frame.append method is deprecated and will be removed from pandas in a future version. Use pandas.concat instead.\n",
      "  data=data.append(output)\n"
     ]
    },
    {
     "name": "stdout",
     "output_type": "stream",
     "text": [
      "VTB-United-League\n"
     ]
    },
    {
     "name": "stderr",
     "output_type": "stream",
     "text": [
      "C:\\Users\\marli\\AppData\\Local\\Temp\\ipykernel_29248\\2954965646.py:34: FutureWarning: The frame.append method is deprecated and will be removed from pandas in a future version. Use pandas.concat instead.\n",
      "  data=data.append(output)\n",
      "C:\\Users\\marli\\AppData\\Local\\Temp\\ipykernel_29248\\2954965646.py:34: FutureWarning: The frame.append method is deprecated and will be removed from pandas in a future version. Use pandas.concat instead.\n",
      "  data=data.append(output)\n",
      "C:\\Users\\marli\\AppData\\Local\\Temp\\ipykernel_29248\\2954965646.py:34: FutureWarning: The frame.append method is deprecated and will be removed from pandas in a future version. Use pandas.concat instead.\n",
      "  data=data.append(output)\n",
      "C:\\Users\\marli\\AppData\\Local\\Temp\\ipykernel_29248\\2954965646.py:34: FutureWarning: The frame.append method is deprecated and will be removed from pandas in a future version. Use pandas.concat instead.\n",
      "  data=data.append(output)\n",
      "C:\\Users\\marli\\AppData\\Local\\Temp\\ipykernel_29248\\2954965646.py:34: FutureWarning: The frame.append method is deprecated and will be removed from pandas in a future version. Use pandas.concat instead.\n",
      "  data=data.append(output)\n",
      "C:\\Users\\marli\\AppData\\Local\\Temp\\ipykernel_29248\\2954965646.py:34: FutureWarning: The frame.append method is deprecated and will be removed from pandas in a future version. Use pandas.concat instead.\n",
      "  data=data.append(output)\n",
      "C:\\Users\\marli\\AppData\\Local\\Temp\\ipykernel_29248\\2954965646.py:34: FutureWarning: The frame.append method is deprecated and will be removed from pandas in a future version. Use pandas.concat instead.\n",
      "  data=data.append(output)\n",
      "C:\\Users\\marli\\AppData\\Local\\Temp\\ipykernel_29248\\2954965646.py:34: FutureWarning: The frame.append method is deprecated and will be removed from pandas in a future version. Use pandas.concat instead.\n",
      "  data=data.append(output)\n",
      "C:\\Users\\marli\\AppData\\Local\\Temp\\ipykernel_29248\\2954965646.py:34: FutureWarning: The frame.append method is deprecated and will be removed from pandas in a future version. Use pandas.concat instead.\n",
      "  data=data.append(output)\n",
      "C:\\Users\\marli\\AppData\\Local\\Temp\\ipykernel_29248\\2954965646.py:34: FutureWarning: The frame.append method is deprecated and will be removed from pandas in a future version. Use pandas.concat instead.\n",
      "  data=data.append(output)\n",
      "C:\\Users\\marli\\AppData\\Local\\Temp\\ipykernel_29248\\2954965646.py:34: FutureWarning: The frame.append method is deprecated and will be removed from pandas in a future version. Use pandas.concat instead.\n",
      "  data=data.append(output)\n"
     ]
    }
   ],
   "source": [
    "basic_rus=get_basic(7)\n",
    "advanced_rus=get_advanced(7)\n",
    "team_rus=join_teams(basic_rus,advanced_rus)\n",
    "team_rus.to_csv('team_rus.csv',index=False)"
   ]
  },
  {
   "cell_type": "code",
   "execution_count": 146,
   "id": "8da820b6",
   "metadata": {
    "collapsed": true
   },
   "outputs": [
    {
     "data": {
      "text/html": [
       "<div>\n",
       "<style scoped>\n",
       "    .dataframe tbody tr th:only-of-type {\n",
       "        vertical-align: middle;\n",
       "    }\n",
       "\n",
       "    .dataframe tbody tr th {\n",
       "        vertical-align: top;\n",
       "    }\n",
       "\n",
       "    .dataframe thead th {\n",
       "        text-align: right;\n",
       "    }\n",
       "</style>\n",
       "<table border=\"1\" class=\"dataframe\">\n",
       "  <thead>\n",
       "    <tr style=\"text-align: right;\">\n",
       "      <th></th>\n",
       "      <th>AST%</th>\n",
       "      <th>BLK%</th>\n",
       "      <th>DRtg</th>\n",
       "      <th>ORtg</th>\n",
       "      <th>STL%</th>\n",
       "    </tr>\n",
       "    <tr>\n",
       "      <th>Year</th>\n",
       "      <th></th>\n",
       "      <th></th>\n",
       "      <th></th>\n",
       "      <th></th>\n",
       "      <th></th>\n",
       "    </tr>\n",
       "  </thead>\n",
       "  <tbody>\n",
       "    <tr>\n",
       "      <th>2011-2012</th>\n",
       "      <td>50.336364</td>\n",
       "      <td>6.109091</td>\n",
       "      <td>107.240909</td>\n",
       "      <td>104.627273</td>\n",
       "      <td>9.500000</td>\n",
       "    </tr>\n",
       "    <tr>\n",
       "      <th>2012-2013</th>\n",
       "      <td>54.230000</td>\n",
       "      <td>6.275000</td>\n",
       "      <td>105.435000</td>\n",
       "      <td>104.200000</td>\n",
       "      <td>10.020000</td>\n",
       "    </tr>\n",
       "    <tr>\n",
       "      <th>2013-2014</th>\n",
       "      <td>61.700000</td>\n",
       "      <td>5.475000</td>\n",
       "      <td>109.795000</td>\n",
       "      <td>108.995000</td>\n",
       "      <td>9.760000</td>\n",
       "    </tr>\n",
       "    <tr>\n",
       "      <th>2014-2015</th>\n",
       "      <td>63.450000</td>\n",
       "      <td>6.500000</td>\n",
       "      <td>109.493750</td>\n",
       "      <td>108.543750</td>\n",
       "      <td>9.543750</td>\n",
       "    </tr>\n",
       "    <tr>\n",
       "      <th>2015-2016</th>\n",
       "      <td>63.168750</td>\n",
       "      <td>6.412500</td>\n",
       "      <td>110.506250</td>\n",
       "      <td>109.150000</td>\n",
       "      <td>9.175000</td>\n",
       "    </tr>\n",
       "    <tr>\n",
       "      <th>2016-2017</th>\n",
       "      <td>65.230769</td>\n",
       "      <td>5.923077</td>\n",
       "      <td>110.930769</td>\n",
       "      <td>109.592308</td>\n",
       "      <td>9.246154</td>\n",
       "    </tr>\n",
       "    <tr>\n",
       "      <th>2017-2018</th>\n",
       "      <td>63.953846</td>\n",
       "      <td>6.123077</td>\n",
       "      <td>113.369231</td>\n",
       "      <td>112.761538</td>\n",
       "      <td>9.230769</td>\n",
       "    </tr>\n",
       "    <tr>\n",
       "      <th>2018-2019</th>\n",
       "      <td>64.342857</td>\n",
       "      <td>6.635714</td>\n",
       "      <td>112.978571</td>\n",
       "      <td>111.907143</td>\n",
       "      <td>9.457143</td>\n",
       "    </tr>\n",
       "    <tr>\n",
       "      <th>2019-2020</th>\n",
       "      <td>65.669231</td>\n",
       "      <td>5.969231</td>\n",
       "      <td>114.400000</td>\n",
       "      <td>114.369231</td>\n",
       "      <td>8.469231</td>\n",
       "    </tr>\n",
       "    <tr>\n",
       "      <th>2020-2021</th>\n",
       "      <td>63.346154</td>\n",
       "      <td>6.207692</td>\n",
       "      <td>113.138462</td>\n",
       "      <td>111.992308</td>\n",
       "      <td>9.307692</td>\n",
       "    </tr>\n",
       "    <tr>\n",
       "      <th>2021-2022</th>\n",
       "      <td>63.091667</td>\n",
       "      <td>6.100000</td>\n",
       "      <td>113.425000</td>\n",
       "      <td>110.666667</td>\n",
       "      <td>8.866667</td>\n",
       "    </tr>\n",
       "  </tbody>\n",
       "</table>\n",
       "</div>"
      ],
      "text/plain": [
       "                AST%      BLK%        DRtg        ORtg       STL%\n",
       "Year                                                             \n",
       "2011-2012  50.336364  6.109091  107.240909  104.627273   9.500000\n",
       "2012-2013  54.230000  6.275000  105.435000  104.200000  10.020000\n",
       "2013-2014  61.700000  5.475000  109.795000  108.995000   9.760000\n",
       "2014-2015  63.450000  6.500000  109.493750  108.543750   9.543750\n",
       "2015-2016  63.168750  6.412500  110.506250  109.150000   9.175000\n",
       "2016-2017  65.230769  5.923077  110.930769  109.592308   9.246154\n",
       "2017-2018  63.953846  6.123077  113.369231  112.761538   9.230769\n",
       "2018-2019  64.342857  6.635714  112.978571  111.907143   9.457143\n",
       "2019-2020  65.669231  5.969231  114.400000  114.369231   8.469231\n",
       "2020-2021  63.346154  6.207692  113.138462  111.992308   9.307692\n",
       "2021-2022  63.091667  6.100000  113.425000  110.666667   8.866667"
      ]
     },
     "execution_count": 146,
     "metadata": {},
     "output_type": "execute_result"
    }
   ],
   "source": [
    "pd.pivot_table(team_rus,values=['AST%','STL%','BLK%','ORtg','DRtg'], index=['Year'],aggfunc='mean')"
   ]
  },
  {
   "cell_type": "code",
   "execution_count": 45,
   "id": "cbb5d698",
   "metadata": {
    "scrolled": true
   },
   "outputs": [
    {
     "name": "stdout",
     "output_type": "stream",
     "text": [
      "Spanish-ACB\n"
     ]
    },
    {
     "name": "stderr",
     "output_type": "stream",
     "text": [
      "C:\\Users\\marli\\AppData\\Local\\Temp\\ipykernel_16564\\1379242875.py:37: FutureWarning: The frame.append method is deprecated and will be removed from pandas in a future version. Use pandas.concat instead.\n",
      "  data=data.append(output)\n",
      "C:\\Users\\marli\\AppData\\Local\\Temp\\ipykernel_16564\\1379242875.py:37: FutureWarning: The frame.append method is deprecated and will be removed from pandas in a future version. Use pandas.concat instead.\n",
      "  data=data.append(output)\n",
      "C:\\Users\\marli\\AppData\\Local\\Temp\\ipykernel_16564\\1379242875.py:37: FutureWarning: The frame.append method is deprecated and will be removed from pandas in a future version. Use pandas.concat instead.\n",
      "  data=data.append(output)\n",
      "C:\\Users\\marli\\AppData\\Local\\Temp\\ipykernel_16564\\1379242875.py:37: FutureWarning: The frame.append method is deprecated and will be removed from pandas in a future version. Use pandas.concat instead.\n",
      "  data=data.append(output)\n",
      "C:\\Users\\marli\\AppData\\Local\\Temp\\ipykernel_16564\\1379242875.py:37: FutureWarning: The frame.append method is deprecated and will be removed from pandas in a future version. Use pandas.concat instead.\n",
      "  data=data.append(output)\n",
      "C:\\Users\\marli\\AppData\\Local\\Temp\\ipykernel_16564\\1379242875.py:37: FutureWarning: The frame.append method is deprecated and will be removed from pandas in a future version. Use pandas.concat instead.\n",
      "  data=data.append(output)\n",
      "C:\\Users\\marli\\AppData\\Local\\Temp\\ipykernel_16564\\1379242875.py:37: FutureWarning: The frame.append method is deprecated and will be removed from pandas in a future version. Use pandas.concat instead.\n",
      "  data=data.append(output)\n",
      "C:\\Users\\marli\\AppData\\Local\\Temp\\ipykernel_16564\\1379242875.py:37: FutureWarning: The frame.append method is deprecated and will be removed from pandas in a future version. Use pandas.concat instead.\n",
      "  data=data.append(output)\n",
      "C:\\Users\\marli\\AppData\\Local\\Temp\\ipykernel_16564\\1379242875.py:37: FutureWarning: The frame.append method is deprecated and will be removed from pandas in a future version. Use pandas.concat instead.\n",
      "  data=data.append(output)\n",
      "C:\\Users\\marli\\AppData\\Local\\Temp\\ipykernel_16564\\1379242875.py:37: FutureWarning: The frame.append method is deprecated and will be removed from pandas in a future version. Use pandas.concat instead.\n",
      "  data=data.append(output)\n",
      "C:\\Users\\marli\\AppData\\Local\\Temp\\ipykernel_16564\\1379242875.py:37: FutureWarning: The frame.append method is deprecated and will be removed from pandas in a future version. Use pandas.concat instead.\n",
      "  data=data.append(output)\n",
      "C:\\Users\\marli\\AppData\\Local\\Temp\\ipykernel_16564\\1379242875.py:37: FutureWarning: The frame.append method is deprecated and will be removed from pandas in a future version. Use pandas.concat instead.\n",
      "  data=data.append(output)\n",
      "C:\\Users\\marli\\AppData\\Local\\Temp\\ipykernel_16564\\1379242875.py:37: FutureWarning: The frame.append method is deprecated and will be removed from pandas in a future version. Use pandas.concat instead.\n",
      "  data=data.append(output)\n",
      "C:\\Users\\marli\\AppData\\Local\\Temp\\ipykernel_16564\\1379242875.py:37: FutureWarning: The frame.append method is deprecated and will be removed from pandas in a future version. Use pandas.concat instead.\n",
      "  data=data.append(output)\n",
      "C:\\Users\\marli\\AppData\\Local\\Temp\\ipykernel_16564\\1379242875.py:37: FutureWarning: The frame.append method is deprecated and will be removed from pandas in a future version. Use pandas.concat instead.\n",
      "  data=data.append(output)\n",
      "C:\\Users\\marli\\AppData\\Local\\Temp\\ipykernel_16564\\1379242875.py:37: FutureWarning: The frame.append method is deprecated and will be removed from pandas in a future version. Use pandas.concat instead.\n",
      "  data=data.append(output)\n",
      "C:\\Users\\marli\\AppData\\Local\\Temp\\ipykernel_16564\\1379242875.py:37: FutureWarning: The frame.append method is deprecated and will be removed from pandas in a future version. Use pandas.concat instead.\n",
      "  data=data.append(output)\n",
      "C:\\Users\\marli\\AppData\\Local\\Temp\\ipykernel_16564\\1379242875.py:37: FutureWarning: The frame.append method is deprecated and will be removed from pandas in a future version. Use pandas.concat instead.\n",
      "  data=data.append(output)\n",
      "C:\\Users\\marli\\AppData\\Local\\Temp\\ipykernel_16564\\1379242875.py:37: FutureWarning: The frame.append method is deprecated and will be removed from pandas in a future version. Use pandas.concat instead.\n",
      "  data=data.append(output)\n",
      "C:\\Users\\marli\\AppData\\Local\\Temp\\ipykernel_16564\\1379242875.py:37: FutureWarning: The frame.append method is deprecated and will be removed from pandas in a future version. Use pandas.concat instead.\n",
      "  data=data.append(output)\n",
      "C:\\Users\\marli\\AppData\\Local\\Temp\\ipykernel_16564\\1379242875.py:37: FutureWarning: The frame.append method is deprecated and will be removed from pandas in a future version. Use pandas.concat instead.\n",
      "  data=data.append(output)\n",
      "C:\\Users\\marli\\AppData\\Local\\Temp\\ipykernel_16564\\1379242875.py:37: FutureWarning: The frame.append method is deprecated and will be removed from pandas in a future version. Use pandas.concat instead.\n",
      "  data=data.append(output)\n",
      "C:\\Users\\marli\\AppData\\Local\\Temp\\ipykernel_16564\\1379242875.py:37: FutureWarning: The frame.append method is deprecated and will be removed from pandas in a future version. Use pandas.concat instead.\n",
      "  data=data.append(output)\n",
      "C:\\Users\\marli\\AppData\\Local\\Temp\\ipykernel_16564\\1379242875.py:37: FutureWarning: The frame.append method is deprecated and will be removed from pandas in a future version. Use pandas.concat instead.\n",
      "  data=data.append(output)\n",
      "C:\\Users\\marli\\AppData\\Local\\Temp\\ipykernel_16564\\1379242875.py:37: FutureWarning: The frame.append method is deprecated and will be removed from pandas in a future version. Use pandas.concat instead.\n",
      "  data=data.append(output)\n",
      "C:\\Users\\marli\\AppData\\Local\\Temp\\ipykernel_16564\\1379242875.py:37: FutureWarning: The frame.append method is deprecated and will be removed from pandas in a future version. Use pandas.concat instead.\n",
      "  data=data.append(output)\n",
      "C:\\Users\\marli\\AppData\\Local\\Temp\\ipykernel_16564\\1379242875.py:37: FutureWarning: The frame.append method is deprecated and will be removed from pandas in a future version. Use pandas.concat instead.\n",
      "  data=data.append(output)\n",
      "C:\\Users\\marli\\AppData\\Local\\Temp\\ipykernel_16564\\1379242875.py:37: FutureWarning: The frame.append method is deprecated and will be removed from pandas in a future version. Use pandas.concat instead.\n",
      "  data=data.append(output)\n",
      "C:\\Users\\marli\\AppData\\Local\\Temp\\ipykernel_16564\\1379242875.py:37: FutureWarning: The frame.append method is deprecated and will be removed from pandas in a future version. Use pandas.concat instead.\n",
      "  data=data.append(output)\n",
      "C:\\Users\\marli\\AppData\\Local\\Temp\\ipykernel_16564\\1379242875.py:37: FutureWarning: The frame.append method is deprecated and will be removed from pandas in a future version. Use pandas.concat instead.\n",
      "  data=data.append(output)\n",
      "C:\\Users\\marli\\AppData\\Local\\Temp\\ipykernel_16564\\1379242875.py:37: FutureWarning: The frame.append method is deprecated and will be removed from pandas in a future version. Use pandas.concat instead.\n",
      "  data=data.append(output)\n",
      "C:\\Users\\marli\\AppData\\Local\\Temp\\ipykernel_16564\\1379242875.py:37: FutureWarning: The frame.append method is deprecated and will be removed from pandas in a future version. Use pandas.concat instead.\n",
      "  data=data.append(output)\n",
      "C:\\Users\\marli\\AppData\\Local\\Temp\\ipykernel_16564\\1379242875.py:37: FutureWarning: The frame.append method is deprecated and will be removed from pandas in a future version. Use pandas.concat instead.\n",
      "  data=data.append(output)\n",
      "C:\\Users\\marli\\AppData\\Local\\Temp\\ipykernel_16564\\1379242875.py:37: FutureWarning: The frame.append method is deprecated and will be removed from pandas in a future version. Use pandas.concat instead.\n",
      "  data=data.append(output)\n",
      "C:\\Users\\marli\\AppData\\Local\\Temp\\ipykernel_16564\\1379242875.py:37: FutureWarning: The frame.append method is deprecated and will be removed from pandas in a future version. Use pandas.concat instead.\n",
      "  data=data.append(output)\n",
      "C:\\Users\\marli\\AppData\\Local\\Temp\\ipykernel_16564\\1379242875.py:37: FutureWarning: The frame.append method is deprecated and will be removed from pandas in a future version. Use pandas.concat instead.\n",
      "  data=data.append(output)\n"
     ]
    },
    {
     "name": "stderr",
     "output_type": "stream",
     "text": [
      "C:\\Users\\marli\\AppData\\Local\\Temp\\ipykernel_16564\\1379242875.py:37: FutureWarning: The frame.append method is deprecated and will be removed from pandas in a future version. Use pandas.concat instead.\n",
      "  data=data.append(output)\n",
      "C:\\Users\\marli\\AppData\\Local\\Temp\\ipykernel_16564\\1379242875.py:37: FutureWarning: The frame.append method is deprecated and will be removed from pandas in a future version. Use pandas.concat instead.\n",
      "  data=data.append(output)\n",
      "C:\\Users\\marli\\AppData\\Local\\Temp\\ipykernel_16564\\1379242875.py:37: FutureWarning: The frame.append method is deprecated and will be removed from pandas in a future version. Use pandas.concat instead.\n",
      "  data=data.append(output)\n",
      "C:\\Users\\marli\\AppData\\Local\\Temp\\ipykernel_16564\\1379242875.py:37: FutureWarning: The frame.append method is deprecated and will be removed from pandas in a future version. Use pandas.concat instead.\n",
      "  data=data.append(output)\n",
      "C:\\Users\\marli\\AppData\\Local\\Temp\\ipykernel_16564\\1379242875.py:37: FutureWarning: The frame.append method is deprecated and will be removed from pandas in a future version. Use pandas.concat instead.\n",
      "  data=data.append(output)\n",
      "C:\\Users\\marli\\AppData\\Local\\Temp\\ipykernel_16564\\1379242875.py:37: FutureWarning: The frame.append method is deprecated and will be removed from pandas in a future version. Use pandas.concat instead.\n",
      "  data=data.append(output)\n",
      "C:\\Users\\marli\\AppData\\Local\\Temp\\ipykernel_16564\\1379242875.py:37: FutureWarning: The frame.append method is deprecated and will be removed from pandas in a future version. Use pandas.concat instead.\n",
      "  data=data.append(output)\n",
      "C:\\Users\\marli\\AppData\\Local\\Temp\\ipykernel_16564\\1379242875.py:37: FutureWarning: The frame.append method is deprecated and will be removed from pandas in a future version. Use pandas.concat instead.\n",
      "  data=data.append(output)\n",
      "C:\\Users\\marli\\AppData\\Local\\Temp\\ipykernel_16564\\1379242875.py:37: FutureWarning: The frame.append method is deprecated and will be removed from pandas in a future version. Use pandas.concat instead.\n",
      "  data=data.append(output)\n",
      "C:\\Users\\marli\\AppData\\Local\\Temp\\ipykernel_16564\\1379242875.py:37: FutureWarning: The frame.append method is deprecated and will be removed from pandas in a future version. Use pandas.concat instead.\n",
      "  data=data.append(output)\n",
      "C:\\Users\\marli\\AppData\\Local\\Temp\\ipykernel_16564\\1379242875.py:37: FutureWarning: The frame.append method is deprecated and will be removed from pandas in a future version. Use pandas.concat instead.\n",
      "  data=data.append(output)\n",
      "C:\\Users\\marli\\AppData\\Local\\Temp\\ipykernel_16564\\1379242875.py:37: FutureWarning: The frame.append method is deprecated and will be removed from pandas in a future version. Use pandas.concat instead.\n",
      "  data=data.append(output)\n",
      "C:\\Users\\marli\\AppData\\Local\\Temp\\ipykernel_16564\\1379242875.py:37: FutureWarning: The frame.append method is deprecated and will be removed from pandas in a future version. Use pandas.concat instead.\n",
      "  data=data.append(output)\n",
      "C:\\Users\\marli\\AppData\\Local\\Temp\\ipykernel_16564\\1379242875.py:37: FutureWarning: The frame.append method is deprecated and will be removed from pandas in a future version. Use pandas.concat instead.\n",
      "  data=data.append(output)\n",
      "C:\\Users\\marli\\AppData\\Local\\Temp\\ipykernel_16564\\1379242875.py:37: FutureWarning: The frame.append method is deprecated and will be removed from pandas in a future version. Use pandas.concat instead.\n",
      "  data=data.append(output)\n",
      "C:\\Users\\marli\\AppData\\Local\\Temp\\ipykernel_16564\\1379242875.py:37: FutureWarning: The frame.append method is deprecated and will be removed from pandas in a future version. Use pandas.concat instead.\n",
      "  data=data.append(output)\n",
      "C:\\Users\\marli\\AppData\\Local\\Temp\\ipykernel_16564\\1379242875.py:37: FutureWarning: The frame.append method is deprecated and will be removed from pandas in a future version. Use pandas.concat instead.\n",
      "  data=data.append(output)\n",
      "C:\\Users\\marli\\AppData\\Local\\Temp\\ipykernel_16564\\1379242875.py:37: FutureWarning: The frame.append method is deprecated and will be removed from pandas in a future version. Use pandas.concat instead.\n",
      "  data=data.append(output)\n",
      "C:\\Users\\marli\\AppData\\Local\\Temp\\ipykernel_16564\\1379242875.py:37: FutureWarning: The frame.append method is deprecated and will be removed from pandas in a future version. Use pandas.concat instead.\n",
      "  data=data.append(output)\n",
      "C:\\Users\\marli\\AppData\\Local\\Temp\\ipykernel_16564\\1379242875.py:37: FutureWarning: The frame.append method is deprecated and will be removed from pandas in a future version. Use pandas.concat instead.\n",
      "  data=data.append(output)\n",
      "C:\\Users\\marli\\AppData\\Local\\Temp\\ipykernel_16564\\1379242875.py:37: FutureWarning: The frame.append method is deprecated and will be removed from pandas in a future version. Use pandas.concat instead.\n",
      "  data=data.append(output)\n",
      "C:\\Users\\marli\\AppData\\Local\\Temp\\ipykernel_16564\\1379242875.py:37: FutureWarning: The frame.append method is deprecated and will be removed from pandas in a future version. Use pandas.concat instead.\n",
      "  data=data.append(output)\n",
      "C:\\Users\\marli\\AppData\\Local\\Temp\\ipykernel_16564\\1379242875.py:37: FutureWarning: The frame.append method is deprecated and will be removed from pandas in a future version. Use pandas.concat instead.\n",
      "  data=data.append(output)\n",
      "C:\\Users\\marli\\AppData\\Local\\Temp\\ipykernel_16564\\1379242875.py:37: FutureWarning: The frame.append method is deprecated and will be removed from pandas in a future version. Use pandas.concat instead.\n",
      "  data=data.append(output)\n",
      "C:\\Users\\marli\\AppData\\Local\\Temp\\ipykernel_16564\\1379242875.py:37: FutureWarning: The frame.append method is deprecated and will be removed from pandas in a future version. Use pandas.concat instead.\n",
      "  data=data.append(output)\n",
      "C:\\Users\\marli\\AppData\\Local\\Temp\\ipykernel_16564\\1379242875.py:37: FutureWarning: The frame.append method is deprecated and will be removed from pandas in a future version. Use pandas.concat instead.\n",
      "  data=data.append(output)\n",
      "C:\\Users\\marli\\AppData\\Local\\Temp\\ipykernel_16564\\1379242875.py:37: FutureWarning: The frame.append method is deprecated and will be removed from pandas in a future version. Use pandas.concat instead.\n",
      "  data=data.append(output)\n",
      "C:\\Users\\marli\\AppData\\Local\\Temp\\ipykernel_16564\\1379242875.py:37: FutureWarning: The frame.append method is deprecated and will be removed from pandas in a future version. Use pandas.concat instead.\n",
      "  data=data.append(output)\n",
      "C:\\Users\\marli\\AppData\\Local\\Temp\\ipykernel_16564\\1379242875.py:37: FutureWarning: The frame.append method is deprecated and will be removed from pandas in a future version. Use pandas.concat instead.\n",
      "  data=data.append(output)\n",
      "C:\\Users\\marli\\AppData\\Local\\Temp\\ipykernel_16564\\1379242875.py:37: FutureWarning: The frame.append method is deprecated and will be removed from pandas in a future version. Use pandas.concat instead.\n",
      "  data=data.append(output)\n",
      "C:\\Users\\marli\\AppData\\Local\\Temp\\ipykernel_16564\\1379242875.py:37: FutureWarning: The frame.append method is deprecated and will be removed from pandas in a future version. Use pandas.concat instead.\n",
      "  data=data.append(output)\n",
      "C:\\Users\\marli\\AppData\\Local\\Temp\\ipykernel_16564\\1379242875.py:37: FutureWarning: The frame.append method is deprecated and will be removed from pandas in a future version. Use pandas.concat instead.\n",
      "  data=data.append(output)\n",
      "C:\\Users\\marli\\AppData\\Local\\Temp\\ipykernel_16564\\1379242875.py:37: FutureWarning: The frame.append method is deprecated and will be removed from pandas in a future version. Use pandas.concat instead.\n",
      "  data=data.append(output)\n",
      "C:\\Users\\marli\\AppData\\Local\\Temp\\ipykernel_16564\\1379242875.py:37: FutureWarning: The frame.append method is deprecated and will be removed from pandas in a future version. Use pandas.concat instead.\n",
      "  data=data.append(output)\n",
      "C:\\Users\\marli\\AppData\\Local\\Temp\\ipykernel_16564\\1379242875.py:37: FutureWarning: The frame.append method is deprecated and will be removed from pandas in a future version. Use pandas.concat instead.\n",
      "  data=data.append(output)\n",
      "C:\\Users\\marli\\AppData\\Local\\Temp\\ipykernel_16564\\1379242875.py:37: FutureWarning: The frame.append method is deprecated and will be removed from pandas in a future version. Use pandas.concat instead.\n",
      "  data=data.append(output)\n"
     ]
    },
    {
     "name": "stderr",
     "output_type": "stream",
     "text": [
      "C:\\Users\\marli\\AppData\\Local\\Temp\\ipykernel_16564\\1379242875.py:37: FutureWarning: The frame.append method is deprecated and will be removed from pandas in a future version. Use pandas.concat instead.\n",
      "  data=data.append(output)\n",
      "C:\\Users\\marli\\AppData\\Local\\Temp\\ipykernel_16564\\1379242875.py:37: FutureWarning: The frame.append method is deprecated and will be removed from pandas in a future version. Use pandas.concat instead.\n",
      "  data=data.append(output)\n",
      "C:\\Users\\marli\\AppData\\Local\\Temp\\ipykernel_16564\\1379242875.py:37: FutureWarning: The frame.append method is deprecated and will be removed from pandas in a future version. Use pandas.concat instead.\n",
      "  data=data.append(output)\n",
      "C:\\Users\\marli\\AppData\\Local\\Temp\\ipykernel_16564\\1379242875.py:37: FutureWarning: The frame.append method is deprecated and will be removed from pandas in a future version. Use pandas.concat instead.\n",
      "  data=data.append(output)\n",
      "C:\\Users\\marli\\AppData\\Local\\Temp\\ipykernel_16564\\1379242875.py:37: FutureWarning: The frame.append method is deprecated and will be removed from pandas in a future version. Use pandas.concat instead.\n",
      "  data=data.append(output)\n",
      "C:\\Users\\marli\\AppData\\Local\\Temp\\ipykernel_16564\\1379242875.py:37: FutureWarning: The frame.append method is deprecated and will be removed from pandas in a future version. Use pandas.concat instead.\n",
      "  data=data.append(output)\n",
      "C:\\Users\\marli\\AppData\\Local\\Temp\\ipykernel_16564\\1379242875.py:37: FutureWarning: The frame.append method is deprecated and will be removed from pandas in a future version. Use pandas.concat instead.\n",
      "  data=data.append(output)\n",
      "C:\\Users\\marli\\AppData\\Local\\Temp\\ipykernel_16564\\1379242875.py:37: FutureWarning: The frame.append method is deprecated and will be removed from pandas in a future version. Use pandas.concat instead.\n",
      "  data=data.append(output)\n",
      "C:\\Users\\marli\\AppData\\Local\\Temp\\ipykernel_16564\\1379242875.py:37: FutureWarning: The frame.append method is deprecated and will be removed from pandas in a future version. Use pandas.concat instead.\n",
      "  data=data.append(output)\n",
      "C:\\Users\\marli\\AppData\\Local\\Temp\\ipykernel_16564\\1379242875.py:37: FutureWarning: The frame.append method is deprecated and will be removed from pandas in a future version. Use pandas.concat instead.\n",
      "  data=data.append(output)\n",
      "C:\\Users\\marli\\AppData\\Local\\Temp\\ipykernel_16564\\1379242875.py:37: FutureWarning: The frame.append method is deprecated and will be removed from pandas in a future version. Use pandas.concat instead.\n",
      "  data=data.append(output)\n",
      "C:\\Users\\marli\\AppData\\Local\\Temp\\ipykernel_16564\\1379242875.py:37: FutureWarning: The frame.append method is deprecated and will be removed from pandas in a future version. Use pandas.concat instead.\n",
      "  data=data.append(output)\n",
      "C:\\Users\\marli\\AppData\\Local\\Temp\\ipykernel_16564\\1379242875.py:37: FutureWarning: The frame.append method is deprecated and will be removed from pandas in a future version. Use pandas.concat instead.\n",
      "  data=data.append(output)\n",
      "C:\\Users\\marli\\AppData\\Local\\Temp\\ipykernel_16564\\1379242875.py:37: FutureWarning: The frame.append method is deprecated and will be removed from pandas in a future version. Use pandas.concat instead.\n",
      "  data=data.append(output)\n",
      "C:\\Users\\marli\\AppData\\Local\\Temp\\ipykernel_16564\\1379242875.py:37: FutureWarning: The frame.append method is deprecated and will be removed from pandas in a future version. Use pandas.concat instead.\n",
      "  data=data.append(output)\n",
      "C:\\Users\\marli\\AppData\\Local\\Temp\\ipykernel_16564\\1379242875.py:37: FutureWarning: The frame.append method is deprecated and will be removed from pandas in a future version. Use pandas.concat instead.\n",
      "  data=data.append(output)\n",
      "C:\\Users\\marli\\AppData\\Local\\Temp\\ipykernel_16564\\1379242875.py:37: FutureWarning: The frame.append method is deprecated and will be removed from pandas in a future version. Use pandas.concat instead.\n",
      "  data=data.append(output)\n",
      "C:\\Users\\marli\\AppData\\Local\\Temp\\ipykernel_16564\\1379242875.py:37: FutureWarning: The frame.append method is deprecated and will be removed from pandas in a future version. Use pandas.concat instead.\n",
      "  data=data.append(output)\n",
      "C:\\Users\\marli\\AppData\\Local\\Temp\\ipykernel_16564\\1379242875.py:37: FutureWarning: The frame.append method is deprecated and will be removed from pandas in a future version. Use pandas.concat instead.\n",
      "  data=data.append(output)\n",
      "C:\\Users\\marli\\AppData\\Local\\Temp\\ipykernel_16564\\1379242875.py:37: FutureWarning: The frame.append method is deprecated and will be removed from pandas in a future version. Use pandas.concat instead.\n",
      "  data=data.append(output)\n",
      "C:\\Users\\marli\\AppData\\Local\\Temp\\ipykernel_16564\\1379242875.py:37: FutureWarning: The frame.append method is deprecated and will be removed from pandas in a future version. Use pandas.concat instead.\n",
      "  data=data.append(output)\n",
      "C:\\Users\\marli\\AppData\\Local\\Temp\\ipykernel_16564\\1379242875.py:37: FutureWarning: The frame.append method is deprecated and will be removed from pandas in a future version. Use pandas.concat instead.\n",
      "  data=data.append(output)\n",
      "C:\\Users\\marli\\AppData\\Local\\Temp\\ipykernel_16564\\1379242875.py:37: FutureWarning: The frame.append method is deprecated and will be removed from pandas in a future version. Use pandas.concat instead.\n",
      "  data=data.append(output)\n"
     ]
    }
   ],
   "source": [
    "players_esp=get_players(1)\n",
    "cols = players_esp.columns.drop(['Team','Year','Player','Role'])\n",
    "players_esp[cols]=players_esp[cols].apply(lambda x: x.str.replace(',',''))\n",
    "players_esp[cols] = players_esp[cols].apply(pd.to_numeric, errors='coerce')"
   ]
  },
  {
   "cell_type": "code",
   "execution_count": 46,
   "id": "a9a8444b",
   "metadata": {},
   "outputs": [
    {
     "name": "stdout",
     "output_type": "stream",
     "text": [
      "Italian-Lega-Basket-Serie-A\n"
     ]
    },
    {
     "name": "stderr",
     "output_type": "stream",
     "text": [
      "C:\\Users\\marli\\AppData\\Local\\Temp\\ipykernel_16564\\1379242875.py:37: FutureWarning: The frame.append method is deprecated and will be removed from pandas in a future version. Use pandas.concat instead.\n",
      "  data=data.append(output)\n",
      "C:\\Users\\marli\\AppData\\Local\\Temp\\ipykernel_16564\\1379242875.py:37: FutureWarning: The frame.append method is deprecated and will be removed from pandas in a future version. Use pandas.concat instead.\n",
      "  data=data.append(output)\n",
      "C:\\Users\\marli\\AppData\\Local\\Temp\\ipykernel_16564\\1379242875.py:37: FutureWarning: The frame.append method is deprecated and will be removed from pandas in a future version. Use pandas.concat instead.\n",
      "  data=data.append(output)\n",
      "C:\\Users\\marli\\AppData\\Local\\Temp\\ipykernel_16564\\1379242875.py:37: FutureWarning: The frame.append method is deprecated and will be removed from pandas in a future version. Use pandas.concat instead.\n",
      "  data=data.append(output)\n",
      "C:\\Users\\marli\\AppData\\Local\\Temp\\ipykernel_16564\\1379242875.py:37: FutureWarning: The frame.append method is deprecated and will be removed from pandas in a future version. Use pandas.concat instead.\n",
      "  data=data.append(output)\n",
      "C:\\Users\\marli\\AppData\\Local\\Temp\\ipykernel_16564\\1379242875.py:37: FutureWarning: The frame.append method is deprecated and will be removed from pandas in a future version. Use pandas.concat instead.\n",
      "  data=data.append(output)\n",
      "C:\\Users\\marli\\AppData\\Local\\Temp\\ipykernel_16564\\1379242875.py:37: FutureWarning: The frame.append method is deprecated and will be removed from pandas in a future version. Use pandas.concat instead.\n",
      "  data=data.append(output)\n",
      "C:\\Users\\marli\\AppData\\Local\\Temp\\ipykernel_16564\\1379242875.py:37: FutureWarning: The frame.append method is deprecated and will be removed from pandas in a future version. Use pandas.concat instead.\n",
      "  data=data.append(output)\n",
      "C:\\Users\\marli\\AppData\\Local\\Temp\\ipykernel_16564\\1379242875.py:37: FutureWarning: The frame.append method is deprecated and will be removed from pandas in a future version. Use pandas.concat instead.\n",
      "  data=data.append(output)\n",
      "C:\\Users\\marli\\AppData\\Local\\Temp\\ipykernel_16564\\1379242875.py:37: FutureWarning: The frame.append method is deprecated and will be removed from pandas in a future version. Use pandas.concat instead.\n",
      "  data=data.append(output)\n",
      "C:\\Users\\marli\\AppData\\Local\\Temp\\ipykernel_16564\\1379242875.py:37: FutureWarning: The frame.append method is deprecated and will be removed from pandas in a future version. Use pandas.concat instead.\n",
      "  data=data.append(output)\n",
      "C:\\Users\\marli\\AppData\\Local\\Temp\\ipykernel_16564\\1379242875.py:37: FutureWarning: The frame.append method is deprecated and will be removed from pandas in a future version. Use pandas.concat instead.\n",
      "  data=data.append(output)\n",
      "C:\\Users\\marli\\AppData\\Local\\Temp\\ipykernel_16564\\1379242875.py:37: FutureWarning: The frame.append method is deprecated and will be removed from pandas in a future version. Use pandas.concat instead.\n",
      "  data=data.append(output)\n",
      "C:\\Users\\marli\\AppData\\Local\\Temp\\ipykernel_16564\\1379242875.py:37: FutureWarning: The frame.append method is deprecated and will be removed from pandas in a future version. Use pandas.concat instead.\n",
      "  data=data.append(output)\n",
      "C:\\Users\\marli\\AppData\\Local\\Temp\\ipykernel_16564\\1379242875.py:37: FutureWarning: The frame.append method is deprecated and will be removed from pandas in a future version. Use pandas.concat instead.\n",
      "  data=data.append(output)\n",
      "C:\\Users\\marli\\AppData\\Local\\Temp\\ipykernel_16564\\1379242875.py:37: FutureWarning: The frame.append method is deprecated and will be removed from pandas in a future version. Use pandas.concat instead.\n",
      "  data=data.append(output)\n",
      "C:\\Users\\marli\\AppData\\Local\\Temp\\ipykernel_16564\\1379242875.py:37: FutureWarning: The frame.append method is deprecated and will be removed from pandas in a future version. Use pandas.concat instead.\n",
      "  data=data.append(output)\n",
      "C:\\Users\\marli\\AppData\\Local\\Temp\\ipykernel_16564\\1379242875.py:37: FutureWarning: The frame.append method is deprecated and will be removed from pandas in a future version. Use pandas.concat instead.\n",
      "  data=data.append(output)\n",
      "C:\\Users\\marli\\AppData\\Local\\Temp\\ipykernel_16564\\1379242875.py:37: FutureWarning: The frame.append method is deprecated and will be removed from pandas in a future version. Use pandas.concat instead.\n",
      "  data=data.append(output)\n",
      "C:\\Users\\marli\\AppData\\Local\\Temp\\ipykernel_16564\\1379242875.py:37: FutureWarning: The frame.append method is deprecated and will be removed from pandas in a future version. Use pandas.concat instead.\n",
      "  data=data.append(output)\n",
      "C:\\Users\\marli\\AppData\\Local\\Temp\\ipykernel_16564\\1379242875.py:37: FutureWarning: The frame.append method is deprecated and will be removed from pandas in a future version. Use pandas.concat instead.\n",
      "  data=data.append(output)\n",
      "C:\\Users\\marli\\AppData\\Local\\Temp\\ipykernel_16564\\1379242875.py:37: FutureWarning: The frame.append method is deprecated and will be removed from pandas in a future version. Use pandas.concat instead.\n",
      "  data=data.append(output)\n",
      "C:\\Users\\marli\\AppData\\Local\\Temp\\ipykernel_16564\\1379242875.py:37: FutureWarning: The frame.append method is deprecated and will be removed from pandas in a future version. Use pandas.concat instead.\n",
      "  data=data.append(output)\n",
      "C:\\Users\\marli\\AppData\\Local\\Temp\\ipykernel_16564\\1379242875.py:37: FutureWarning: The frame.append method is deprecated and will be removed from pandas in a future version. Use pandas.concat instead.\n",
      "  data=data.append(output)\n",
      "C:\\Users\\marli\\AppData\\Local\\Temp\\ipykernel_16564\\1379242875.py:37: FutureWarning: The frame.append method is deprecated and will be removed from pandas in a future version. Use pandas.concat instead.\n",
      "  data=data.append(output)\n",
      "C:\\Users\\marli\\AppData\\Local\\Temp\\ipykernel_16564\\1379242875.py:37: FutureWarning: The frame.append method is deprecated and will be removed from pandas in a future version. Use pandas.concat instead.\n",
      "  data=data.append(output)\n",
      "C:\\Users\\marli\\AppData\\Local\\Temp\\ipykernel_16564\\1379242875.py:37: FutureWarning: The frame.append method is deprecated and will be removed from pandas in a future version. Use pandas.concat instead.\n",
      "  data=data.append(output)\n",
      "C:\\Users\\marli\\AppData\\Local\\Temp\\ipykernel_16564\\1379242875.py:37: FutureWarning: The frame.append method is deprecated and will be removed from pandas in a future version. Use pandas.concat instead.\n",
      "  data=data.append(output)\n",
      "C:\\Users\\marli\\AppData\\Local\\Temp\\ipykernel_16564\\1379242875.py:37: FutureWarning: The frame.append method is deprecated and will be removed from pandas in a future version. Use pandas.concat instead.\n",
      "  data=data.append(output)\n",
      "C:\\Users\\marli\\AppData\\Local\\Temp\\ipykernel_16564\\1379242875.py:37: FutureWarning: The frame.append method is deprecated and will be removed from pandas in a future version. Use pandas.concat instead.\n",
      "  data=data.append(output)\n",
      "C:\\Users\\marli\\AppData\\Local\\Temp\\ipykernel_16564\\1379242875.py:37: FutureWarning: The frame.append method is deprecated and will be removed from pandas in a future version. Use pandas.concat instead.\n",
      "  data=data.append(output)\n",
      "C:\\Users\\marli\\AppData\\Local\\Temp\\ipykernel_16564\\1379242875.py:37: FutureWarning: The frame.append method is deprecated and will be removed from pandas in a future version. Use pandas.concat instead.\n",
      "  data=data.append(output)\n",
      "C:\\Users\\marli\\AppData\\Local\\Temp\\ipykernel_16564\\1379242875.py:37: FutureWarning: The frame.append method is deprecated and will be removed from pandas in a future version. Use pandas.concat instead.\n",
      "  data=data.append(output)\n",
      "C:\\Users\\marli\\AppData\\Local\\Temp\\ipykernel_16564\\1379242875.py:37: FutureWarning: The frame.append method is deprecated and will be removed from pandas in a future version. Use pandas.concat instead.\n",
      "  data=data.append(output)\n",
      "C:\\Users\\marli\\AppData\\Local\\Temp\\ipykernel_16564\\1379242875.py:37: FutureWarning: The frame.append method is deprecated and will be removed from pandas in a future version. Use pandas.concat instead.\n",
      "  data=data.append(output)\n",
      "C:\\Users\\marli\\AppData\\Local\\Temp\\ipykernel_16564\\1379242875.py:37: FutureWarning: The frame.append method is deprecated and will be removed from pandas in a future version. Use pandas.concat instead.\n",
      "  data=data.append(output)\n"
     ]
    },
    {
     "name": "stderr",
     "output_type": "stream",
     "text": [
      "C:\\Users\\marli\\AppData\\Local\\Temp\\ipykernel_16564\\1379242875.py:37: FutureWarning: The frame.append method is deprecated and will be removed from pandas in a future version. Use pandas.concat instead.\n",
      "  data=data.append(output)\n",
      "C:\\Users\\marli\\AppData\\Local\\Temp\\ipykernel_16564\\1379242875.py:37: FutureWarning: The frame.append method is deprecated and will be removed from pandas in a future version. Use pandas.concat instead.\n",
      "  data=data.append(output)\n",
      "C:\\Users\\marli\\AppData\\Local\\Temp\\ipykernel_16564\\1379242875.py:37: FutureWarning: The frame.append method is deprecated and will be removed from pandas in a future version. Use pandas.concat instead.\n",
      "  data=data.append(output)\n",
      "C:\\Users\\marli\\AppData\\Local\\Temp\\ipykernel_16564\\1379242875.py:37: FutureWarning: The frame.append method is deprecated and will be removed from pandas in a future version. Use pandas.concat instead.\n",
      "  data=data.append(output)\n",
      "C:\\Users\\marli\\AppData\\Local\\Temp\\ipykernel_16564\\1379242875.py:37: FutureWarning: The frame.append method is deprecated and will be removed from pandas in a future version. Use pandas.concat instead.\n",
      "  data=data.append(output)\n",
      "C:\\Users\\marli\\AppData\\Local\\Temp\\ipykernel_16564\\1379242875.py:37: FutureWarning: The frame.append method is deprecated and will be removed from pandas in a future version. Use pandas.concat instead.\n",
      "  data=data.append(output)\n",
      "C:\\Users\\marli\\AppData\\Local\\Temp\\ipykernel_16564\\1379242875.py:37: FutureWarning: The frame.append method is deprecated and will be removed from pandas in a future version. Use pandas.concat instead.\n",
      "  data=data.append(output)\n",
      "C:\\Users\\marli\\AppData\\Local\\Temp\\ipykernel_16564\\1379242875.py:37: FutureWarning: The frame.append method is deprecated and will be removed from pandas in a future version. Use pandas.concat instead.\n",
      "  data=data.append(output)\n",
      "C:\\Users\\marli\\AppData\\Local\\Temp\\ipykernel_16564\\1379242875.py:37: FutureWarning: The frame.append method is deprecated and will be removed from pandas in a future version. Use pandas.concat instead.\n",
      "  data=data.append(output)\n",
      "C:\\Users\\marli\\AppData\\Local\\Temp\\ipykernel_16564\\1379242875.py:37: FutureWarning: The frame.append method is deprecated and will be removed from pandas in a future version. Use pandas.concat instead.\n",
      "  data=data.append(output)\n",
      "C:\\Users\\marli\\AppData\\Local\\Temp\\ipykernel_16564\\1379242875.py:37: FutureWarning: The frame.append method is deprecated and will be removed from pandas in a future version. Use pandas.concat instead.\n",
      "  data=data.append(output)\n",
      "C:\\Users\\marli\\AppData\\Local\\Temp\\ipykernel_16564\\1379242875.py:37: FutureWarning: The frame.append method is deprecated and will be removed from pandas in a future version. Use pandas.concat instead.\n",
      "  data=data.append(output)\n",
      "C:\\Users\\marli\\AppData\\Local\\Temp\\ipykernel_16564\\1379242875.py:37: FutureWarning: The frame.append method is deprecated and will be removed from pandas in a future version. Use pandas.concat instead.\n",
      "  data=data.append(output)\n",
      "C:\\Users\\marli\\AppData\\Local\\Temp\\ipykernel_16564\\1379242875.py:37: FutureWarning: The frame.append method is deprecated and will be removed from pandas in a future version. Use pandas.concat instead.\n",
      "  data=data.append(output)\n",
      "C:\\Users\\marli\\AppData\\Local\\Temp\\ipykernel_16564\\1379242875.py:37: FutureWarning: The frame.append method is deprecated and will be removed from pandas in a future version. Use pandas.concat instead.\n",
      "  data=data.append(output)\n",
      "C:\\Users\\marli\\AppData\\Local\\Temp\\ipykernel_16564\\1379242875.py:37: FutureWarning: The frame.append method is deprecated and will be removed from pandas in a future version. Use pandas.concat instead.\n",
      "  data=data.append(output)\n",
      "C:\\Users\\marli\\AppData\\Local\\Temp\\ipykernel_16564\\1379242875.py:37: FutureWarning: The frame.append method is deprecated and will be removed from pandas in a future version. Use pandas.concat instead.\n",
      "  data=data.append(output)\n",
      "C:\\Users\\marli\\AppData\\Local\\Temp\\ipykernel_16564\\1379242875.py:37: FutureWarning: The frame.append method is deprecated and will be removed from pandas in a future version. Use pandas.concat instead.\n",
      "  data=data.append(output)\n",
      "C:\\Users\\marli\\AppData\\Local\\Temp\\ipykernel_16564\\1379242875.py:37: FutureWarning: The frame.append method is deprecated and will be removed from pandas in a future version. Use pandas.concat instead.\n",
      "  data=data.append(output)\n",
      "C:\\Users\\marli\\AppData\\Local\\Temp\\ipykernel_16564\\1379242875.py:37: FutureWarning: The frame.append method is deprecated and will be removed from pandas in a future version. Use pandas.concat instead.\n",
      "  data=data.append(output)\n",
      "C:\\Users\\marli\\AppData\\Local\\Temp\\ipykernel_16564\\1379242875.py:37: FutureWarning: The frame.append method is deprecated and will be removed from pandas in a future version. Use pandas.concat instead.\n",
      "  data=data.append(output)\n",
      "C:\\Users\\marli\\AppData\\Local\\Temp\\ipykernel_16564\\1379242875.py:37: FutureWarning: The frame.append method is deprecated and will be removed from pandas in a future version. Use pandas.concat instead.\n",
      "  data=data.append(output)\n",
      "C:\\Users\\marli\\AppData\\Local\\Temp\\ipykernel_16564\\1379242875.py:37: FutureWarning: The frame.append method is deprecated and will be removed from pandas in a future version. Use pandas.concat instead.\n",
      "  data=data.append(output)\n",
      "C:\\Users\\marli\\AppData\\Local\\Temp\\ipykernel_16564\\1379242875.py:37: FutureWarning: The frame.append method is deprecated and will be removed from pandas in a future version. Use pandas.concat instead.\n",
      "  data=data.append(output)\n",
      "C:\\Users\\marli\\AppData\\Local\\Temp\\ipykernel_16564\\1379242875.py:37: FutureWarning: The frame.append method is deprecated and will be removed from pandas in a future version. Use pandas.concat instead.\n",
      "  data=data.append(output)\n",
      "C:\\Users\\marli\\AppData\\Local\\Temp\\ipykernel_16564\\1379242875.py:37: FutureWarning: The frame.append method is deprecated and will be removed from pandas in a future version. Use pandas.concat instead.\n",
      "  data=data.append(output)\n",
      "C:\\Users\\marli\\AppData\\Local\\Temp\\ipykernel_16564\\1379242875.py:37: FutureWarning: The frame.append method is deprecated and will be removed from pandas in a future version. Use pandas.concat instead.\n",
      "  data=data.append(output)\n",
      "C:\\Users\\marli\\AppData\\Local\\Temp\\ipykernel_16564\\1379242875.py:37: FutureWarning: The frame.append method is deprecated and will be removed from pandas in a future version. Use pandas.concat instead.\n",
      "  data=data.append(output)\n",
      "C:\\Users\\marli\\AppData\\Local\\Temp\\ipykernel_16564\\1379242875.py:37: FutureWarning: The frame.append method is deprecated and will be removed from pandas in a future version. Use pandas.concat instead.\n",
      "  data=data.append(output)\n",
      "C:\\Users\\marli\\AppData\\Local\\Temp\\ipykernel_16564\\1379242875.py:37: FutureWarning: The frame.append method is deprecated and will be removed from pandas in a future version. Use pandas.concat instead.\n",
      "  data=data.append(output)\n",
      "C:\\Users\\marli\\AppData\\Local\\Temp\\ipykernel_16564\\1379242875.py:37: FutureWarning: The frame.append method is deprecated and will be removed from pandas in a future version. Use pandas.concat instead.\n",
      "  data=data.append(output)\n",
      "C:\\Users\\marli\\AppData\\Local\\Temp\\ipykernel_16564\\1379242875.py:37: FutureWarning: The frame.append method is deprecated and will be removed from pandas in a future version. Use pandas.concat instead.\n",
      "  data=data.append(output)\n",
      "C:\\Users\\marli\\AppData\\Local\\Temp\\ipykernel_16564\\1379242875.py:37: FutureWarning: The frame.append method is deprecated and will be removed from pandas in a future version. Use pandas.concat instead.\n",
      "  data=data.append(output)\n",
      "C:\\Users\\marli\\AppData\\Local\\Temp\\ipykernel_16564\\1379242875.py:37: FutureWarning: The frame.append method is deprecated and will be removed from pandas in a future version. Use pandas.concat instead.\n",
      "  data=data.append(output)\n",
      "C:\\Users\\marli\\AppData\\Local\\Temp\\ipykernel_16564\\1379242875.py:37: FutureWarning: The frame.append method is deprecated and will be removed from pandas in a future version. Use pandas.concat instead.\n",
      "  data=data.append(output)\n",
      "C:\\Users\\marli\\AppData\\Local\\Temp\\ipykernel_16564\\1379242875.py:37: FutureWarning: The frame.append method is deprecated and will be removed from pandas in a future version. Use pandas.concat instead.\n",
      "  data=data.append(output)\n"
     ]
    },
    {
     "name": "stderr",
     "output_type": "stream",
     "text": [
      "C:\\Users\\marli\\AppData\\Local\\Temp\\ipykernel_16564\\1379242875.py:37: FutureWarning: The frame.append method is deprecated and will be removed from pandas in a future version. Use pandas.concat instead.\n",
      "  data=data.append(output)\n",
      "C:\\Users\\marli\\AppData\\Local\\Temp\\ipykernel_16564\\1379242875.py:37: FutureWarning: The frame.append method is deprecated and will be removed from pandas in a future version. Use pandas.concat instead.\n",
      "  data=data.append(output)\n",
      "C:\\Users\\marli\\AppData\\Local\\Temp\\ipykernel_16564\\1379242875.py:37: FutureWarning: The frame.append method is deprecated and will be removed from pandas in a future version. Use pandas.concat instead.\n",
      "  data=data.append(output)\n",
      "C:\\Users\\marli\\AppData\\Local\\Temp\\ipykernel_16564\\1379242875.py:37: FutureWarning: The frame.append method is deprecated and will be removed from pandas in a future version. Use pandas.concat instead.\n",
      "  data=data.append(output)\n",
      "C:\\Users\\marli\\AppData\\Local\\Temp\\ipykernel_16564\\1379242875.py:37: FutureWarning: The frame.append method is deprecated and will be removed from pandas in a future version. Use pandas.concat instead.\n",
      "  data=data.append(output)\n",
      "C:\\Users\\marli\\AppData\\Local\\Temp\\ipykernel_16564\\1379242875.py:37: FutureWarning: The frame.append method is deprecated and will be removed from pandas in a future version. Use pandas.concat instead.\n",
      "  data=data.append(output)\n",
      "C:\\Users\\marli\\AppData\\Local\\Temp\\ipykernel_16564\\1379242875.py:37: FutureWarning: The frame.append method is deprecated and will be removed from pandas in a future version. Use pandas.concat instead.\n",
      "  data=data.append(output)\n",
      "C:\\Users\\marli\\AppData\\Local\\Temp\\ipykernel_16564\\1379242875.py:37: FutureWarning: The frame.append method is deprecated and will be removed from pandas in a future version. Use pandas.concat instead.\n",
      "  data=data.append(output)\n",
      "C:\\Users\\marli\\AppData\\Local\\Temp\\ipykernel_16564\\1379242875.py:37: FutureWarning: The frame.append method is deprecated and will be removed from pandas in a future version. Use pandas.concat instead.\n",
      "  data=data.append(output)\n",
      "C:\\Users\\marli\\AppData\\Local\\Temp\\ipykernel_16564\\1379242875.py:37: FutureWarning: The frame.append method is deprecated and will be removed from pandas in a future version. Use pandas.concat instead.\n",
      "  data=data.append(output)\n",
      "C:\\Users\\marli\\AppData\\Local\\Temp\\ipykernel_16564\\1379242875.py:37: FutureWarning: The frame.append method is deprecated and will be removed from pandas in a future version. Use pandas.concat instead.\n",
      "  data=data.append(output)\n",
      "C:\\Users\\marli\\AppData\\Local\\Temp\\ipykernel_16564\\1379242875.py:37: FutureWarning: The frame.append method is deprecated and will be removed from pandas in a future version. Use pandas.concat instead.\n",
      "  data=data.append(output)\n",
      "C:\\Users\\marli\\AppData\\Local\\Temp\\ipykernel_16564\\1379242875.py:37: FutureWarning: The frame.append method is deprecated and will be removed from pandas in a future version. Use pandas.concat instead.\n",
      "  data=data.append(output)\n",
      "C:\\Users\\marli\\AppData\\Local\\Temp\\ipykernel_16564\\1379242875.py:37: FutureWarning: The frame.append method is deprecated and will be removed from pandas in a future version. Use pandas.concat instead.\n",
      "  data=data.append(output)\n",
      "C:\\Users\\marli\\AppData\\Local\\Temp\\ipykernel_16564\\1379242875.py:37: FutureWarning: The frame.append method is deprecated and will be removed from pandas in a future version. Use pandas.concat instead.\n",
      "  data=data.append(output)\n",
      "C:\\Users\\marli\\AppData\\Local\\Temp\\ipykernel_16564\\1379242875.py:37: FutureWarning: The frame.append method is deprecated and will be removed from pandas in a future version. Use pandas.concat instead.\n",
      "  data=data.append(output)\n",
      "C:\\Users\\marli\\AppData\\Local\\Temp\\ipykernel_16564\\1379242875.py:37: FutureWarning: The frame.append method is deprecated and will be removed from pandas in a future version. Use pandas.concat instead.\n",
      "  data=data.append(output)\n",
      "C:\\Users\\marli\\AppData\\Local\\Temp\\ipykernel_16564\\1379242875.py:37: FutureWarning: The frame.append method is deprecated and will be removed from pandas in a future version. Use pandas.concat instead.\n",
      "  data=data.append(output)\n",
      "C:\\Users\\marli\\AppData\\Local\\Temp\\ipykernel_16564\\1379242875.py:37: FutureWarning: The frame.append method is deprecated and will be removed from pandas in a future version. Use pandas.concat instead.\n",
      "  data=data.append(output)\n",
      "C:\\Users\\marli\\AppData\\Local\\Temp\\ipykernel_16564\\1379242875.py:37: FutureWarning: The frame.append method is deprecated and will be removed from pandas in a future version. Use pandas.concat instead.\n",
      "  data=data.append(output)\n",
      "C:\\Users\\marli\\AppData\\Local\\Temp\\ipykernel_16564\\1379242875.py:37: FutureWarning: The frame.append method is deprecated and will be removed from pandas in a future version. Use pandas.concat instead.\n",
      "  data=data.append(output)\n",
      "C:\\Users\\marli\\AppData\\Local\\Temp\\ipykernel_16564\\1379242875.py:37: FutureWarning: The frame.append method is deprecated and will be removed from pandas in a future version. Use pandas.concat instead.\n",
      "  data=data.append(output)\n",
      "C:\\Users\\marli\\AppData\\Local\\Temp\\ipykernel_16564\\1379242875.py:37: FutureWarning: The frame.append method is deprecated and will be removed from pandas in a future version. Use pandas.concat instead.\n",
      "  data=data.append(output)\n"
     ]
    }
   ],
   "source": [
    "players_it=get_players(2)\n",
    "cols = players_it.columns.drop(['Team','Year','Player','Role'])\n",
    "players_it[cols]=players_it[cols].apply(lambda x: x.str.replace(',',''))\n",
    "players_it[cols] = players_it[cols].apply(pd.to_numeric, errors='coerce')"
   ]
  },
  {
   "cell_type": "code",
   "execution_count": 47,
   "id": "108d75f8",
   "metadata": {},
   "outputs": [
    {
     "name": "stdout",
     "output_type": "stream",
     "text": [
      "Turkish-BSL\n"
     ]
    },
    {
     "name": "stderr",
     "output_type": "stream",
     "text": [
      "C:\\Users\\marli\\AppData\\Local\\Temp\\ipykernel_16564\\1379242875.py:37: FutureWarning: The frame.append method is deprecated and will be removed from pandas in a future version. Use pandas.concat instead.\n",
      "  data=data.append(output)\n",
      "C:\\Users\\marli\\AppData\\Local\\Temp\\ipykernel_16564\\1379242875.py:37: FutureWarning: The frame.append method is deprecated and will be removed from pandas in a future version. Use pandas.concat instead.\n",
      "  data=data.append(output)\n",
      "C:\\Users\\marli\\AppData\\Local\\Temp\\ipykernel_16564\\1379242875.py:37: FutureWarning: The frame.append method is deprecated and will be removed from pandas in a future version. Use pandas.concat instead.\n",
      "  data=data.append(output)\n",
      "C:\\Users\\marli\\AppData\\Local\\Temp\\ipykernel_16564\\1379242875.py:37: FutureWarning: The frame.append method is deprecated and will be removed from pandas in a future version. Use pandas.concat instead.\n",
      "  data=data.append(output)\n",
      "C:\\Users\\marli\\AppData\\Local\\Temp\\ipykernel_16564\\1379242875.py:37: FutureWarning: The frame.append method is deprecated and will be removed from pandas in a future version. Use pandas.concat instead.\n",
      "  data=data.append(output)\n",
      "C:\\Users\\marli\\AppData\\Local\\Temp\\ipykernel_16564\\1379242875.py:37: FutureWarning: The frame.append method is deprecated and will be removed from pandas in a future version. Use pandas.concat instead.\n",
      "  data=data.append(output)\n",
      "C:\\Users\\marli\\AppData\\Local\\Temp\\ipykernel_16564\\1379242875.py:37: FutureWarning: The frame.append method is deprecated and will be removed from pandas in a future version. Use pandas.concat instead.\n",
      "  data=data.append(output)\n",
      "C:\\Users\\marli\\AppData\\Local\\Temp\\ipykernel_16564\\1379242875.py:37: FutureWarning: The frame.append method is deprecated and will be removed from pandas in a future version. Use pandas.concat instead.\n",
      "  data=data.append(output)\n",
      "C:\\Users\\marli\\AppData\\Local\\Temp\\ipykernel_16564\\1379242875.py:37: FutureWarning: The frame.append method is deprecated and will be removed from pandas in a future version. Use pandas.concat instead.\n",
      "  data=data.append(output)\n",
      "C:\\Users\\marli\\AppData\\Local\\Temp\\ipykernel_16564\\1379242875.py:37: FutureWarning: The frame.append method is deprecated and will be removed from pandas in a future version. Use pandas.concat instead.\n",
      "  data=data.append(output)\n",
      "C:\\Users\\marli\\AppData\\Local\\Temp\\ipykernel_16564\\1379242875.py:37: FutureWarning: The frame.append method is deprecated and will be removed from pandas in a future version. Use pandas.concat instead.\n",
      "  data=data.append(output)\n",
      "C:\\Users\\marli\\AppData\\Local\\Temp\\ipykernel_16564\\1379242875.py:37: FutureWarning: The frame.append method is deprecated and will be removed from pandas in a future version. Use pandas.concat instead.\n",
      "  data=data.append(output)\n",
      "C:\\Users\\marli\\AppData\\Local\\Temp\\ipykernel_16564\\1379242875.py:37: FutureWarning: The frame.append method is deprecated and will be removed from pandas in a future version. Use pandas.concat instead.\n",
      "  data=data.append(output)\n",
      "C:\\Users\\marli\\AppData\\Local\\Temp\\ipykernel_16564\\1379242875.py:37: FutureWarning: The frame.append method is deprecated and will be removed from pandas in a future version. Use pandas.concat instead.\n",
      "  data=data.append(output)\n",
      "C:\\Users\\marli\\AppData\\Local\\Temp\\ipykernel_16564\\1379242875.py:37: FutureWarning: The frame.append method is deprecated and will be removed from pandas in a future version. Use pandas.concat instead.\n",
      "  data=data.append(output)\n",
      "C:\\Users\\marli\\AppData\\Local\\Temp\\ipykernel_16564\\1379242875.py:37: FutureWarning: The frame.append method is deprecated and will be removed from pandas in a future version. Use pandas.concat instead.\n",
      "  data=data.append(output)\n",
      "C:\\Users\\marli\\AppData\\Local\\Temp\\ipykernel_16564\\1379242875.py:37: FutureWarning: The frame.append method is deprecated and will be removed from pandas in a future version. Use pandas.concat instead.\n",
      "  data=data.append(output)\n",
      "C:\\Users\\marli\\AppData\\Local\\Temp\\ipykernel_16564\\1379242875.py:37: FutureWarning: The frame.append method is deprecated and will be removed from pandas in a future version. Use pandas.concat instead.\n",
      "  data=data.append(output)\n",
      "C:\\Users\\marli\\AppData\\Local\\Temp\\ipykernel_16564\\1379242875.py:37: FutureWarning: The frame.append method is deprecated and will be removed from pandas in a future version. Use pandas.concat instead.\n",
      "  data=data.append(output)\n",
      "C:\\Users\\marli\\AppData\\Local\\Temp\\ipykernel_16564\\1379242875.py:37: FutureWarning: The frame.append method is deprecated and will be removed from pandas in a future version. Use pandas.concat instead.\n",
      "  data=data.append(output)\n",
      "C:\\Users\\marli\\AppData\\Local\\Temp\\ipykernel_16564\\1379242875.py:37: FutureWarning: The frame.append method is deprecated and will be removed from pandas in a future version. Use pandas.concat instead.\n",
      "  data=data.append(output)\n",
      "C:\\Users\\marli\\AppData\\Local\\Temp\\ipykernel_16564\\1379242875.py:37: FutureWarning: The frame.append method is deprecated and will be removed from pandas in a future version. Use pandas.concat instead.\n",
      "  data=data.append(output)\n",
      "C:\\Users\\marli\\AppData\\Local\\Temp\\ipykernel_16564\\1379242875.py:37: FutureWarning: The frame.append method is deprecated and will be removed from pandas in a future version. Use pandas.concat instead.\n",
      "  data=data.append(output)\n",
      "C:\\Users\\marli\\AppData\\Local\\Temp\\ipykernel_16564\\1379242875.py:37: FutureWarning: The frame.append method is deprecated and will be removed from pandas in a future version. Use pandas.concat instead.\n",
      "  data=data.append(output)\n",
      "C:\\Users\\marli\\AppData\\Local\\Temp\\ipykernel_16564\\1379242875.py:37: FutureWarning: The frame.append method is deprecated and will be removed from pandas in a future version. Use pandas.concat instead.\n",
      "  data=data.append(output)\n",
      "C:\\Users\\marli\\AppData\\Local\\Temp\\ipykernel_16564\\1379242875.py:37: FutureWarning: The frame.append method is deprecated and will be removed from pandas in a future version. Use pandas.concat instead.\n",
      "  data=data.append(output)\n",
      "C:\\Users\\marli\\AppData\\Local\\Temp\\ipykernel_16564\\1379242875.py:37: FutureWarning: The frame.append method is deprecated and will be removed from pandas in a future version. Use pandas.concat instead.\n",
      "  data=data.append(output)\n",
      "C:\\Users\\marli\\AppData\\Local\\Temp\\ipykernel_16564\\1379242875.py:37: FutureWarning: The frame.append method is deprecated and will be removed from pandas in a future version. Use pandas.concat instead.\n",
      "  data=data.append(output)\n",
      "C:\\Users\\marli\\AppData\\Local\\Temp\\ipykernel_16564\\1379242875.py:37: FutureWarning: The frame.append method is deprecated and will be removed from pandas in a future version. Use pandas.concat instead.\n",
      "  data=data.append(output)\n",
      "C:\\Users\\marli\\AppData\\Local\\Temp\\ipykernel_16564\\1379242875.py:37: FutureWarning: The frame.append method is deprecated and will be removed from pandas in a future version. Use pandas.concat instead.\n",
      "  data=data.append(output)\n",
      "C:\\Users\\marli\\AppData\\Local\\Temp\\ipykernel_16564\\1379242875.py:37: FutureWarning: The frame.append method is deprecated and will be removed from pandas in a future version. Use pandas.concat instead.\n",
      "  data=data.append(output)\n",
      "C:\\Users\\marli\\AppData\\Local\\Temp\\ipykernel_16564\\1379242875.py:37: FutureWarning: The frame.append method is deprecated and will be removed from pandas in a future version. Use pandas.concat instead.\n",
      "  data=data.append(output)\n",
      "C:\\Users\\marli\\AppData\\Local\\Temp\\ipykernel_16564\\1379242875.py:37: FutureWarning: The frame.append method is deprecated and will be removed from pandas in a future version. Use pandas.concat instead.\n",
      "  data=data.append(output)\n",
      "C:\\Users\\marli\\AppData\\Local\\Temp\\ipykernel_16564\\1379242875.py:37: FutureWarning: The frame.append method is deprecated and will be removed from pandas in a future version. Use pandas.concat instead.\n",
      "  data=data.append(output)\n",
      "C:\\Users\\marli\\AppData\\Local\\Temp\\ipykernel_16564\\1379242875.py:37: FutureWarning: The frame.append method is deprecated and will be removed from pandas in a future version. Use pandas.concat instead.\n",
      "  data=data.append(output)\n",
      "C:\\Users\\marli\\AppData\\Local\\Temp\\ipykernel_16564\\1379242875.py:37: FutureWarning: The frame.append method is deprecated and will be removed from pandas in a future version. Use pandas.concat instead.\n",
      "  data=data.append(output)\n"
     ]
    },
    {
     "name": "stderr",
     "output_type": "stream",
     "text": [
      "C:\\Users\\marli\\AppData\\Local\\Temp\\ipykernel_16564\\1379242875.py:37: FutureWarning: The frame.append method is deprecated and will be removed from pandas in a future version. Use pandas.concat instead.\n",
      "  data=data.append(output)\n",
      "C:\\Users\\marli\\AppData\\Local\\Temp\\ipykernel_16564\\1379242875.py:37: FutureWarning: The frame.append method is deprecated and will be removed from pandas in a future version. Use pandas.concat instead.\n",
      "  data=data.append(output)\n",
      "C:\\Users\\marli\\AppData\\Local\\Temp\\ipykernel_16564\\1379242875.py:37: FutureWarning: The frame.append method is deprecated and will be removed from pandas in a future version. Use pandas.concat instead.\n",
      "  data=data.append(output)\n",
      "C:\\Users\\marli\\AppData\\Local\\Temp\\ipykernel_16564\\1379242875.py:37: FutureWarning: The frame.append method is deprecated and will be removed from pandas in a future version. Use pandas.concat instead.\n",
      "  data=data.append(output)\n",
      "C:\\Users\\marli\\AppData\\Local\\Temp\\ipykernel_16564\\1379242875.py:37: FutureWarning: The frame.append method is deprecated and will be removed from pandas in a future version. Use pandas.concat instead.\n",
      "  data=data.append(output)\n",
      "C:\\Users\\marli\\AppData\\Local\\Temp\\ipykernel_16564\\1379242875.py:37: FutureWarning: The frame.append method is deprecated and will be removed from pandas in a future version. Use pandas.concat instead.\n",
      "  data=data.append(output)\n",
      "C:\\Users\\marli\\AppData\\Local\\Temp\\ipykernel_16564\\1379242875.py:37: FutureWarning: The frame.append method is deprecated and will be removed from pandas in a future version. Use pandas.concat instead.\n",
      "  data=data.append(output)\n",
      "C:\\Users\\marli\\AppData\\Local\\Temp\\ipykernel_16564\\1379242875.py:37: FutureWarning: The frame.append method is deprecated and will be removed from pandas in a future version. Use pandas.concat instead.\n",
      "  data=data.append(output)\n",
      "C:\\Users\\marli\\AppData\\Local\\Temp\\ipykernel_16564\\1379242875.py:37: FutureWarning: The frame.append method is deprecated and will be removed from pandas in a future version. Use pandas.concat instead.\n",
      "  data=data.append(output)\n",
      "C:\\Users\\marli\\AppData\\Local\\Temp\\ipykernel_16564\\1379242875.py:37: FutureWarning: The frame.append method is deprecated and will be removed from pandas in a future version. Use pandas.concat instead.\n",
      "  data=data.append(output)\n",
      "C:\\Users\\marli\\AppData\\Local\\Temp\\ipykernel_16564\\1379242875.py:37: FutureWarning: The frame.append method is deprecated and will be removed from pandas in a future version. Use pandas.concat instead.\n",
      "  data=data.append(output)\n",
      "C:\\Users\\marli\\AppData\\Local\\Temp\\ipykernel_16564\\1379242875.py:37: FutureWarning: The frame.append method is deprecated and will be removed from pandas in a future version. Use pandas.concat instead.\n",
      "  data=data.append(output)\n",
      "C:\\Users\\marli\\AppData\\Local\\Temp\\ipykernel_16564\\1379242875.py:37: FutureWarning: The frame.append method is deprecated and will be removed from pandas in a future version. Use pandas.concat instead.\n",
      "  data=data.append(output)\n",
      "C:\\Users\\marli\\AppData\\Local\\Temp\\ipykernel_16564\\1379242875.py:37: FutureWarning: The frame.append method is deprecated and will be removed from pandas in a future version. Use pandas.concat instead.\n",
      "  data=data.append(output)\n",
      "C:\\Users\\marli\\AppData\\Local\\Temp\\ipykernel_16564\\1379242875.py:37: FutureWarning: The frame.append method is deprecated and will be removed from pandas in a future version. Use pandas.concat instead.\n",
      "  data=data.append(output)\n",
      "C:\\Users\\marli\\AppData\\Local\\Temp\\ipykernel_16564\\1379242875.py:37: FutureWarning: The frame.append method is deprecated and will be removed from pandas in a future version. Use pandas.concat instead.\n",
      "  data=data.append(output)\n",
      "C:\\Users\\marli\\AppData\\Local\\Temp\\ipykernel_16564\\1379242875.py:37: FutureWarning: The frame.append method is deprecated and will be removed from pandas in a future version. Use pandas.concat instead.\n",
      "  data=data.append(output)\n",
      "C:\\Users\\marli\\AppData\\Local\\Temp\\ipykernel_16564\\1379242875.py:37: FutureWarning: The frame.append method is deprecated and will be removed from pandas in a future version. Use pandas.concat instead.\n",
      "  data=data.append(output)\n",
      "C:\\Users\\marli\\AppData\\Local\\Temp\\ipykernel_16564\\1379242875.py:37: FutureWarning: The frame.append method is deprecated and will be removed from pandas in a future version. Use pandas.concat instead.\n",
      "  data=data.append(output)\n"
     ]
    }
   ],
   "source": [
    "players_tur=get_players(3)\n",
    "cols = players_tur.columns.drop(['Team','Year','Player','Role'])\n",
    "players_tur[cols]=players_tur[cols].apply(lambda x: x.str.replace(',',''))\n",
    "players_tur[cols] = players_tur[cols].apply(pd.to_numeric, errors='coerce')"
   ]
  },
  {
   "cell_type": "code",
   "execution_count": 48,
   "id": "8c6e142e",
   "metadata": {},
   "outputs": [
    {
     "name": "stdout",
     "output_type": "stream",
     "text": [
      "Greek-HEBA-A1\n"
     ]
    },
    {
     "name": "stderr",
     "output_type": "stream",
     "text": [
      "C:\\Users\\marli\\AppData\\Local\\Temp\\ipykernel_16564\\1379242875.py:37: FutureWarning: The frame.append method is deprecated and will be removed from pandas in a future version. Use pandas.concat instead.\n",
      "  data=data.append(output)\n",
      "C:\\Users\\marli\\AppData\\Local\\Temp\\ipykernel_16564\\1379242875.py:37: FutureWarning: The frame.append method is deprecated and will be removed from pandas in a future version. Use pandas.concat instead.\n",
      "  data=data.append(output)\n",
      "C:\\Users\\marli\\AppData\\Local\\Temp\\ipykernel_16564\\1379242875.py:37: FutureWarning: The frame.append method is deprecated and will be removed from pandas in a future version. Use pandas.concat instead.\n",
      "  data=data.append(output)\n",
      "C:\\Users\\marli\\AppData\\Local\\Temp\\ipykernel_16564\\1379242875.py:37: FutureWarning: The frame.append method is deprecated and will be removed from pandas in a future version. Use pandas.concat instead.\n",
      "  data=data.append(output)\n",
      "C:\\Users\\marli\\AppData\\Local\\Temp\\ipykernel_16564\\1379242875.py:37: FutureWarning: The frame.append method is deprecated and will be removed from pandas in a future version. Use pandas.concat instead.\n",
      "  data=data.append(output)\n",
      "C:\\Users\\marli\\AppData\\Local\\Temp\\ipykernel_16564\\1379242875.py:37: FutureWarning: The frame.append method is deprecated and will be removed from pandas in a future version. Use pandas.concat instead.\n",
      "  data=data.append(output)\n",
      "C:\\Users\\marli\\AppData\\Local\\Temp\\ipykernel_16564\\1379242875.py:37: FutureWarning: The frame.append method is deprecated and will be removed from pandas in a future version. Use pandas.concat instead.\n",
      "  data=data.append(output)\n",
      "C:\\Users\\marli\\AppData\\Local\\Temp\\ipykernel_16564\\1379242875.py:37: FutureWarning: The frame.append method is deprecated and will be removed from pandas in a future version. Use pandas.concat instead.\n",
      "  data=data.append(output)\n",
      "C:\\Users\\marli\\AppData\\Local\\Temp\\ipykernel_16564\\1379242875.py:37: FutureWarning: The frame.append method is deprecated and will be removed from pandas in a future version. Use pandas.concat instead.\n",
      "  data=data.append(output)\n",
      "C:\\Users\\marli\\AppData\\Local\\Temp\\ipykernel_16564\\1379242875.py:37: FutureWarning: The frame.append method is deprecated and will be removed from pandas in a future version. Use pandas.concat instead.\n",
      "  data=data.append(output)\n",
      "C:\\Users\\marli\\AppData\\Local\\Temp\\ipykernel_16564\\1379242875.py:37: FutureWarning: The frame.append method is deprecated and will be removed from pandas in a future version. Use pandas.concat instead.\n",
      "  data=data.append(output)\n",
      "C:\\Users\\marli\\AppData\\Local\\Temp\\ipykernel_16564\\1379242875.py:37: FutureWarning: The frame.append method is deprecated and will be removed from pandas in a future version. Use pandas.concat instead.\n",
      "  data=data.append(output)\n",
      "C:\\Users\\marli\\AppData\\Local\\Temp\\ipykernel_16564\\1379242875.py:37: FutureWarning: The frame.append method is deprecated and will be removed from pandas in a future version. Use pandas.concat instead.\n",
      "  data=data.append(output)\n",
      "C:\\Users\\marli\\AppData\\Local\\Temp\\ipykernel_16564\\1379242875.py:37: FutureWarning: The frame.append method is deprecated and will be removed from pandas in a future version. Use pandas.concat instead.\n",
      "  data=data.append(output)\n",
      "C:\\Users\\marli\\AppData\\Local\\Temp\\ipykernel_16564\\1379242875.py:37: FutureWarning: The frame.append method is deprecated and will be removed from pandas in a future version. Use pandas.concat instead.\n",
      "  data=data.append(output)\n",
      "C:\\Users\\marli\\AppData\\Local\\Temp\\ipykernel_16564\\1379242875.py:37: FutureWarning: The frame.append method is deprecated and will be removed from pandas in a future version. Use pandas.concat instead.\n",
      "  data=data.append(output)\n",
      "C:\\Users\\marli\\AppData\\Local\\Temp\\ipykernel_16564\\1379242875.py:37: FutureWarning: The frame.append method is deprecated and will be removed from pandas in a future version. Use pandas.concat instead.\n",
      "  data=data.append(output)\n",
      "C:\\Users\\marli\\AppData\\Local\\Temp\\ipykernel_16564\\1379242875.py:37: FutureWarning: The frame.append method is deprecated and will be removed from pandas in a future version. Use pandas.concat instead.\n",
      "  data=data.append(output)\n",
      "C:\\Users\\marli\\AppData\\Local\\Temp\\ipykernel_16564\\1379242875.py:37: FutureWarning: The frame.append method is deprecated and will be removed from pandas in a future version. Use pandas.concat instead.\n",
      "  data=data.append(output)\n",
      "C:\\Users\\marli\\AppData\\Local\\Temp\\ipykernel_16564\\1379242875.py:37: FutureWarning: The frame.append method is deprecated and will be removed from pandas in a future version. Use pandas.concat instead.\n",
      "  data=data.append(output)\n",
      "C:\\Users\\marli\\AppData\\Local\\Temp\\ipykernel_16564\\1379242875.py:37: FutureWarning: The frame.append method is deprecated and will be removed from pandas in a future version. Use pandas.concat instead.\n",
      "  data=data.append(output)\n",
      "C:\\Users\\marli\\AppData\\Local\\Temp\\ipykernel_16564\\1379242875.py:37: FutureWarning: The frame.append method is deprecated and will be removed from pandas in a future version. Use pandas.concat instead.\n",
      "  data=data.append(output)\n",
      "C:\\Users\\marli\\AppData\\Local\\Temp\\ipykernel_16564\\1379242875.py:37: FutureWarning: The frame.append method is deprecated and will be removed from pandas in a future version. Use pandas.concat instead.\n",
      "  data=data.append(output)\n",
      "C:\\Users\\marli\\AppData\\Local\\Temp\\ipykernel_16564\\1379242875.py:37: FutureWarning: The frame.append method is deprecated and will be removed from pandas in a future version. Use pandas.concat instead.\n",
      "  data=data.append(output)\n",
      "C:\\Users\\marli\\AppData\\Local\\Temp\\ipykernel_16564\\1379242875.py:37: FutureWarning: The frame.append method is deprecated and will be removed from pandas in a future version. Use pandas.concat instead.\n",
      "  data=data.append(output)\n",
      "C:\\Users\\marli\\AppData\\Local\\Temp\\ipykernel_16564\\1379242875.py:37: FutureWarning: The frame.append method is deprecated and will be removed from pandas in a future version. Use pandas.concat instead.\n",
      "  data=data.append(output)\n",
      "C:\\Users\\marli\\AppData\\Local\\Temp\\ipykernel_16564\\1379242875.py:37: FutureWarning: The frame.append method is deprecated and will be removed from pandas in a future version. Use pandas.concat instead.\n",
      "  data=data.append(output)\n",
      "C:\\Users\\marli\\AppData\\Local\\Temp\\ipykernel_16564\\1379242875.py:37: FutureWarning: The frame.append method is deprecated and will be removed from pandas in a future version. Use pandas.concat instead.\n",
      "  data=data.append(output)\n",
      "C:\\Users\\marli\\AppData\\Local\\Temp\\ipykernel_16564\\1379242875.py:37: FutureWarning: The frame.append method is deprecated and will be removed from pandas in a future version. Use pandas.concat instead.\n",
      "  data=data.append(output)\n",
      "C:\\Users\\marli\\AppData\\Local\\Temp\\ipykernel_16564\\1379242875.py:37: FutureWarning: The frame.append method is deprecated and will be removed from pandas in a future version. Use pandas.concat instead.\n",
      "  data=data.append(output)\n",
      "C:\\Users\\marli\\AppData\\Local\\Temp\\ipykernel_16564\\1379242875.py:37: FutureWarning: The frame.append method is deprecated and will be removed from pandas in a future version. Use pandas.concat instead.\n",
      "  data=data.append(output)\n",
      "C:\\Users\\marli\\AppData\\Local\\Temp\\ipykernel_16564\\1379242875.py:37: FutureWarning: The frame.append method is deprecated and will be removed from pandas in a future version. Use pandas.concat instead.\n",
      "  data=data.append(output)\n",
      "C:\\Users\\marli\\AppData\\Local\\Temp\\ipykernel_16564\\1379242875.py:37: FutureWarning: The frame.append method is deprecated and will be removed from pandas in a future version. Use pandas.concat instead.\n",
      "  data=data.append(output)\n",
      "C:\\Users\\marli\\AppData\\Local\\Temp\\ipykernel_16564\\1379242875.py:37: FutureWarning: The frame.append method is deprecated and will be removed from pandas in a future version. Use pandas.concat instead.\n",
      "  data=data.append(output)\n",
      "C:\\Users\\marli\\AppData\\Local\\Temp\\ipykernel_16564\\1379242875.py:37: FutureWarning: The frame.append method is deprecated and will be removed from pandas in a future version. Use pandas.concat instead.\n",
      "  data=data.append(output)\n",
      "C:\\Users\\marli\\AppData\\Local\\Temp\\ipykernel_16564\\1379242875.py:37: FutureWarning: The frame.append method is deprecated and will be removed from pandas in a future version. Use pandas.concat instead.\n",
      "  data=data.append(output)\n"
     ]
    },
    {
     "name": "stderr",
     "output_type": "stream",
     "text": [
      "C:\\Users\\marli\\AppData\\Local\\Temp\\ipykernel_16564\\1379242875.py:37: FutureWarning: The frame.append method is deprecated and will be removed from pandas in a future version. Use pandas.concat instead.\n",
      "  data=data.append(output)\n",
      "C:\\Users\\marli\\AppData\\Local\\Temp\\ipykernel_16564\\1379242875.py:37: FutureWarning: The frame.append method is deprecated and will be removed from pandas in a future version. Use pandas.concat instead.\n",
      "  data=data.append(output)\n",
      "C:\\Users\\marli\\AppData\\Local\\Temp\\ipykernel_16564\\1379242875.py:37: FutureWarning: The frame.append method is deprecated and will be removed from pandas in a future version. Use pandas.concat instead.\n",
      "  data=data.append(output)\n",
      "C:\\Users\\marli\\AppData\\Local\\Temp\\ipykernel_16564\\1379242875.py:37: FutureWarning: The frame.append method is deprecated and will be removed from pandas in a future version. Use pandas.concat instead.\n",
      "  data=data.append(output)\n",
      "C:\\Users\\marli\\AppData\\Local\\Temp\\ipykernel_16564\\1379242875.py:37: FutureWarning: The frame.append method is deprecated and will be removed from pandas in a future version. Use pandas.concat instead.\n",
      "  data=data.append(output)\n",
      "C:\\Users\\marli\\AppData\\Local\\Temp\\ipykernel_16564\\1379242875.py:37: FutureWarning: The frame.append method is deprecated and will be removed from pandas in a future version. Use pandas.concat instead.\n",
      "  data=data.append(output)\n",
      "C:\\Users\\marli\\AppData\\Local\\Temp\\ipykernel_16564\\1379242875.py:37: FutureWarning: The frame.append method is deprecated and will be removed from pandas in a future version. Use pandas.concat instead.\n",
      "  data=data.append(output)\n",
      "C:\\Users\\marli\\AppData\\Local\\Temp\\ipykernel_16564\\1379242875.py:37: FutureWarning: The frame.append method is deprecated and will be removed from pandas in a future version. Use pandas.concat instead.\n",
      "  data=data.append(output)\n",
      "C:\\Users\\marli\\AppData\\Local\\Temp\\ipykernel_16564\\1379242875.py:37: FutureWarning: The frame.append method is deprecated and will be removed from pandas in a future version. Use pandas.concat instead.\n",
      "  data=data.append(output)\n",
      "C:\\Users\\marli\\AppData\\Local\\Temp\\ipykernel_16564\\1379242875.py:37: FutureWarning: The frame.append method is deprecated and will be removed from pandas in a future version. Use pandas.concat instead.\n",
      "  data=data.append(output)\n",
      "C:\\Users\\marli\\AppData\\Local\\Temp\\ipykernel_16564\\1379242875.py:37: FutureWarning: The frame.append method is deprecated and will be removed from pandas in a future version. Use pandas.concat instead.\n",
      "  data=data.append(output)\n",
      "C:\\Users\\marli\\AppData\\Local\\Temp\\ipykernel_16564\\1379242875.py:37: FutureWarning: The frame.append method is deprecated and will be removed from pandas in a future version. Use pandas.concat instead.\n",
      "  data=data.append(output)\n",
      "C:\\Users\\marli\\AppData\\Local\\Temp\\ipykernel_16564\\1379242875.py:37: FutureWarning: The frame.append method is deprecated and will be removed from pandas in a future version. Use pandas.concat instead.\n",
      "  data=data.append(output)\n",
      "C:\\Users\\marli\\AppData\\Local\\Temp\\ipykernel_16564\\1379242875.py:37: FutureWarning: The frame.append method is deprecated and will be removed from pandas in a future version. Use pandas.concat instead.\n",
      "  data=data.append(output)\n",
      "C:\\Users\\marli\\AppData\\Local\\Temp\\ipykernel_16564\\1379242875.py:37: FutureWarning: The frame.append method is deprecated and will be removed from pandas in a future version. Use pandas.concat instead.\n",
      "  data=data.append(output)\n",
      "C:\\Users\\marli\\AppData\\Local\\Temp\\ipykernel_16564\\1379242875.py:37: FutureWarning: The frame.append method is deprecated and will be removed from pandas in a future version. Use pandas.concat instead.\n",
      "  data=data.append(output)\n",
      "C:\\Users\\marli\\AppData\\Local\\Temp\\ipykernel_16564\\1379242875.py:37: FutureWarning: The frame.append method is deprecated and will be removed from pandas in a future version. Use pandas.concat instead.\n",
      "  data=data.append(output)\n",
      "C:\\Users\\marli\\AppData\\Local\\Temp\\ipykernel_16564\\1379242875.py:37: FutureWarning: The frame.append method is deprecated and will be removed from pandas in a future version. Use pandas.concat instead.\n",
      "  data=data.append(output)\n",
      "C:\\Users\\marli\\AppData\\Local\\Temp\\ipykernel_16564\\1379242875.py:37: FutureWarning: The frame.append method is deprecated and will be removed from pandas in a future version. Use pandas.concat instead.\n",
      "  data=data.append(output)\n"
     ]
    }
   ],
   "source": [
    "players_gr=get_players(4)\n",
    "cols = players_gr.columns.drop(['Team','Year','Player','Role'])\n",
    "players_gr[cols]=players_gr[cols].apply(lambda x: x.str.replace(',',''))\n",
    "players_gr[cols] = players_gr[cols].apply(pd.to_numeric, errors='coerce')"
   ]
  },
  {
   "cell_type": "code",
   "execution_count": 49,
   "id": "2037e1cf",
   "metadata": {},
   "outputs": [
    {
     "name": "stdout",
     "output_type": "stream",
     "text": [
      "French-Jeep-Elite\n"
     ]
    },
    {
     "name": "stderr",
     "output_type": "stream",
     "text": [
      "C:\\Users\\marli\\AppData\\Local\\Temp\\ipykernel_16564\\1379242875.py:37: FutureWarning: The frame.append method is deprecated and will be removed from pandas in a future version. Use pandas.concat instead.\n",
      "  data=data.append(output)\n",
      "C:\\Users\\marli\\AppData\\Local\\Temp\\ipykernel_16564\\1379242875.py:37: FutureWarning: The frame.append method is deprecated and will be removed from pandas in a future version. Use pandas.concat instead.\n",
      "  data=data.append(output)\n",
      "C:\\Users\\marli\\AppData\\Local\\Temp\\ipykernel_16564\\1379242875.py:37: FutureWarning: The frame.append method is deprecated and will be removed from pandas in a future version. Use pandas.concat instead.\n",
      "  data=data.append(output)\n",
      "C:\\Users\\marli\\AppData\\Local\\Temp\\ipykernel_16564\\1379242875.py:37: FutureWarning: The frame.append method is deprecated and will be removed from pandas in a future version. Use pandas.concat instead.\n",
      "  data=data.append(output)\n",
      "C:\\Users\\marli\\AppData\\Local\\Temp\\ipykernel_16564\\1379242875.py:37: FutureWarning: The frame.append method is deprecated and will be removed from pandas in a future version. Use pandas.concat instead.\n",
      "  data=data.append(output)\n",
      "C:\\Users\\marli\\AppData\\Local\\Temp\\ipykernel_16564\\1379242875.py:37: FutureWarning: The frame.append method is deprecated and will be removed from pandas in a future version. Use pandas.concat instead.\n",
      "  data=data.append(output)\n",
      "C:\\Users\\marli\\AppData\\Local\\Temp\\ipykernel_16564\\1379242875.py:37: FutureWarning: The frame.append method is deprecated and will be removed from pandas in a future version. Use pandas.concat instead.\n",
      "  data=data.append(output)\n",
      "C:\\Users\\marli\\AppData\\Local\\Temp\\ipykernel_16564\\1379242875.py:37: FutureWarning: The frame.append method is deprecated and will be removed from pandas in a future version. Use pandas.concat instead.\n",
      "  data=data.append(output)\n",
      "C:\\Users\\marli\\AppData\\Local\\Temp\\ipykernel_16564\\1379242875.py:37: FutureWarning: The frame.append method is deprecated and will be removed from pandas in a future version. Use pandas.concat instead.\n",
      "  data=data.append(output)\n",
      "C:\\Users\\marli\\AppData\\Local\\Temp\\ipykernel_16564\\1379242875.py:37: FutureWarning: The frame.append method is deprecated and will be removed from pandas in a future version. Use pandas.concat instead.\n",
      "  data=data.append(output)\n",
      "C:\\Users\\marli\\AppData\\Local\\Temp\\ipykernel_16564\\1379242875.py:37: FutureWarning: The frame.append method is deprecated and will be removed from pandas in a future version. Use pandas.concat instead.\n",
      "  data=data.append(output)\n",
      "C:\\Users\\marli\\AppData\\Local\\Temp\\ipykernel_16564\\1379242875.py:37: FutureWarning: The frame.append method is deprecated and will be removed from pandas in a future version. Use pandas.concat instead.\n",
      "  data=data.append(output)\n",
      "C:\\Users\\marli\\AppData\\Local\\Temp\\ipykernel_16564\\1379242875.py:37: FutureWarning: The frame.append method is deprecated and will be removed from pandas in a future version. Use pandas.concat instead.\n",
      "  data=data.append(output)\n",
      "C:\\Users\\marli\\AppData\\Local\\Temp\\ipykernel_16564\\1379242875.py:37: FutureWarning: The frame.append method is deprecated and will be removed from pandas in a future version. Use pandas.concat instead.\n",
      "  data=data.append(output)\n",
      "C:\\Users\\marli\\AppData\\Local\\Temp\\ipykernel_16564\\1379242875.py:37: FutureWarning: The frame.append method is deprecated and will be removed from pandas in a future version. Use pandas.concat instead.\n",
      "  data=data.append(output)\n",
      "C:\\Users\\marli\\AppData\\Local\\Temp\\ipykernel_16564\\1379242875.py:37: FutureWarning: The frame.append method is deprecated and will be removed from pandas in a future version. Use pandas.concat instead.\n",
      "  data=data.append(output)\n",
      "C:\\Users\\marli\\AppData\\Local\\Temp\\ipykernel_16564\\1379242875.py:37: FutureWarning: The frame.append method is deprecated and will be removed from pandas in a future version. Use pandas.concat instead.\n",
      "  data=data.append(output)\n",
      "C:\\Users\\marli\\AppData\\Local\\Temp\\ipykernel_16564\\1379242875.py:37: FutureWarning: The frame.append method is deprecated and will be removed from pandas in a future version. Use pandas.concat instead.\n",
      "  data=data.append(output)\n",
      "C:\\Users\\marli\\AppData\\Local\\Temp\\ipykernel_16564\\1379242875.py:37: FutureWarning: The frame.append method is deprecated and will be removed from pandas in a future version. Use pandas.concat instead.\n",
      "  data=data.append(output)\n",
      "C:\\Users\\marli\\AppData\\Local\\Temp\\ipykernel_16564\\1379242875.py:37: FutureWarning: The frame.append method is deprecated and will be removed from pandas in a future version. Use pandas.concat instead.\n",
      "  data=data.append(output)\n",
      "C:\\Users\\marli\\AppData\\Local\\Temp\\ipykernel_16564\\1379242875.py:37: FutureWarning: The frame.append method is deprecated and will be removed from pandas in a future version. Use pandas.concat instead.\n",
      "  data=data.append(output)\n",
      "C:\\Users\\marli\\AppData\\Local\\Temp\\ipykernel_16564\\1379242875.py:37: FutureWarning: The frame.append method is deprecated and will be removed from pandas in a future version. Use pandas.concat instead.\n",
      "  data=data.append(output)\n",
      "C:\\Users\\marli\\AppData\\Local\\Temp\\ipykernel_16564\\1379242875.py:37: FutureWarning: The frame.append method is deprecated and will be removed from pandas in a future version. Use pandas.concat instead.\n",
      "  data=data.append(output)\n",
      "C:\\Users\\marli\\AppData\\Local\\Temp\\ipykernel_16564\\1379242875.py:37: FutureWarning: The frame.append method is deprecated and will be removed from pandas in a future version. Use pandas.concat instead.\n",
      "  data=data.append(output)\n",
      "C:\\Users\\marli\\AppData\\Local\\Temp\\ipykernel_16564\\1379242875.py:37: FutureWarning: The frame.append method is deprecated and will be removed from pandas in a future version. Use pandas.concat instead.\n",
      "  data=data.append(output)\n",
      "C:\\Users\\marli\\AppData\\Local\\Temp\\ipykernel_16564\\1379242875.py:37: FutureWarning: The frame.append method is deprecated and will be removed from pandas in a future version. Use pandas.concat instead.\n",
      "  data=data.append(output)\n",
      "C:\\Users\\marli\\AppData\\Local\\Temp\\ipykernel_16564\\1379242875.py:37: FutureWarning: The frame.append method is deprecated and will be removed from pandas in a future version. Use pandas.concat instead.\n",
      "  data=data.append(output)\n",
      "C:\\Users\\marli\\AppData\\Local\\Temp\\ipykernel_16564\\1379242875.py:37: FutureWarning: The frame.append method is deprecated and will be removed from pandas in a future version. Use pandas.concat instead.\n",
      "  data=data.append(output)\n",
      "C:\\Users\\marli\\AppData\\Local\\Temp\\ipykernel_16564\\1379242875.py:37: FutureWarning: The frame.append method is deprecated and will be removed from pandas in a future version. Use pandas.concat instead.\n",
      "  data=data.append(output)\n",
      "C:\\Users\\marli\\AppData\\Local\\Temp\\ipykernel_16564\\1379242875.py:37: FutureWarning: The frame.append method is deprecated and will be removed from pandas in a future version. Use pandas.concat instead.\n",
      "  data=data.append(output)\n",
      "C:\\Users\\marli\\AppData\\Local\\Temp\\ipykernel_16564\\1379242875.py:37: FutureWarning: The frame.append method is deprecated and will be removed from pandas in a future version. Use pandas.concat instead.\n",
      "  data=data.append(output)\n",
      "C:\\Users\\marli\\AppData\\Local\\Temp\\ipykernel_16564\\1379242875.py:37: FutureWarning: The frame.append method is deprecated and will be removed from pandas in a future version. Use pandas.concat instead.\n",
      "  data=data.append(output)\n",
      "C:\\Users\\marli\\AppData\\Local\\Temp\\ipykernel_16564\\1379242875.py:37: FutureWarning: The frame.append method is deprecated and will be removed from pandas in a future version. Use pandas.concat instead.\n",
      "  data=data.append(output)\n",
      "C:\\Users\\marli\\AppData\\Local\\Temp\\ipykernel_16564\\1379242875.py:37: FutureWarning: The frame.append method is deprecated and will be removed from pandas in a future version. Use pandas.concat instead.\n",
      "  data=data.append(output)\n",
      "C:\\Users\\marli\\AppData\\Local\\Temp\\ipykernel_16564\\1379242875.py:37: FutureWarning: The frame.append method is deprecated and will be removed from pandas in a future version. Use pandas.concat instead.\n",
      "  data=data.append(output)\n",
      "C:\\Users\\marli\\AppData\\Local\\Temp\\ipykernel_16564\\1379242875.py:37: FutureWarning: The frame.append method is deprecated and will be removed from pandas in a future version. Use pandas.concat instead.\n",
      "  data=data.append(output)\n"
     ]
    },
    {
     "name": "stderr",
     "output_type": "stream",
     "text": [
      "C:\\Users\\marli\\AppData\\Local\\Temp\\ipykernel_16564\\1379242875.py:37: FutureWarning: The frame.append method is deprecated and will be removed from pandas in a future version. Use pandas.concat instead.\n",
      "  data=data.append(output)\n",
      "C:\\Users\\marli\\AppData\\Local\\Temp\\ipykernel_16564\\1379242875.py:37: FutureWarning: The frame.append method is deprecated and will be removed from pandas in a future version. Use pandas.concat instead.\n",
      "  data=data.append(output)\n",
      "C:\\Users\\marli\\AppData\\Local\\Temp\\ipykernel_16564\\1379242875.py:37: FutureWarning: The frame.append method is deprecated and will be removed from pandas in a future version. Use pandas.concat instead.\n",
      "  data=data.append(output)\n",
      "C:\\Users\\marli\\AppData\\Local\\Temp\\ipykernel_16564\\1379242875.py:37: FutureWarning: The frame.append method is deprecated and will be removed from pandas in a future version. Use pandas.concat instead.\n",
      "  data=data.append(output)\n",
      "C:\\Users\\marli\\AppData\\Local\\Temp\\ipykernel_16564\\1379242875.py:37: FutureWarning: The frame.append method is deprecated and will be removed from pandas in a future version. Use pandas.concat instead.\n",
      "  data=data.append(output)\n",
      "C:\\Users\\marli\\AppData\\Local\\Temp\\ipykernel_16564\\1379242875.py:37: FutureWarning: The frame.append method is deprecated and will be removed from pandas in a future version. Use pandas.concat instead.\n",
      "  data=data.append(output)\n",
      "C:\\Users\\marli\\AppData\\Local\\Temp\\ipykernel_16564\\1379242875.py:37: FutureWarning: The frame.append method is deprecated and will be removed from pandas in a future version. Use pandas.concat instead.\n",
      "  data=data.append(output)\n",
      "C:\\Users\\marli\\AppData\\Local\\Temp\\ipykernel_16564\\1379242875.py:37: FutureWarning: The frame.append method is deprecated and will be removed from pandas in a future version. Use pandas.concat instead.\n",
      "  data=data.append(output)\n",
      "C:\\Users\\marli\\AppData\\Local\\Temp\\ipykernel_16564\\1379242875.py:37: FutureWarning: The frame.append method is deprecated and will be removed from pandas in a future version. Use pandas.concat instead.\n",
      "  data=data.append(output)\n",
      "C:\\Users\\marli\\AppData\\Local\\Temp\\ipykernel_16564\\1379242875.py:37: FutureWarning: The frame.append method is deprecated and will be removed from pandas in a future version. Use pandas.concat instead.\n",
      "  data=data.append(output)\n",
      "C:\\Users\\marli\\AppData\\Local\\Temp\\ipykernel_16564\\1379242875.py:37: FutureWarning: The frame.append method is deprecated and will be removed from pandas in a future version. Use pandas.concat instead.\n",
      "  data=data.append(output)\n",
      "C:\\Users\\marli\\AppData\\Local\\Temp\\ipykernel_16564\\1379242875.py:37: FutureWarning: The frame.append method is deprecated and will be removed from pandas in a future version. Use pandas.concat instead.\n",
      "  data=data.append(output)\n",
      "C:\\Users\\marli\\AppData\\Local\\Temp\\ipykernel_16564\\1379242875.py:37: FutureWarning: The frame.append method is deprecated and will be removed from pandas in a future version. Use pandas.concat instead.\n",
      "  data=data.append(output)\n",
      "C:\\Users\\marli\\AppData\\Local\\Temp\\ipykernel_16564\\1379242875.py:37: FutureWarning: The frame.append method is deprecated and will be removed from pandas in a future version. Use pandas.concat instead.\n",
      "  data=data.append(output)\n",
      "C:\\Users\\marli\\AppData\\Local\\Temp\\ipykernel_16564\\1379242875.py:37: FutureWarning: The frame.append method is deprecated and will be removed from pandas in a future version. Use pandas.concat instead.\n",
      "  data=data.append(output)\n",
      "C:\\Users\\marli\\AppData\\Local\\Temp\\ipykernel_16564\\1379242875.py:37: FutureWarning: The frame.append method is deprecated and will be removed from pandas in a future version. Use pandas.concat instead.\n",
      "  data=data.append(output)\n",
      "C:\\Users\\marli\\AppData\\Local\\Temp\\ipykernel_16564\\1379242875.py:37: FutureWarning: The frame.append method is deprecated and will be removed from pandas in a future version. Use pandas.concat instead.\n",
      "  data=data.append(output)\n",
      "C:\\Users\\marli\\AppData\\Local\\Temp\\ipykernel_16564\\1379242875.py:37: FutureWarning: The frame.append method is deprecated and will be removed from pandas in a future version. Use pandas.concat instead.\n",
      "  data=data.append(output)\n",
      "C:\\Users\\marli\\AppData\\Local\\Temp\\ipykernel_16564\\1379242875.py:37: FutureWarning: The frame.append method is deprecated and will be removed from pandas in a future version. Use pandas.concat instead.\n",
      "  data=data.append(output)\n",
      "C:\\Users\\marli\\AppData\\Local\\Temp\\ipykernel_16564\\1379242875.py:37: FutureWarning: The frame.append method is deprecated and will be removed from pandas in a future version. Use pandas.concat instead.\n",
      "  data=data.append(output)\n",
      "C:\\Users\\marli\\AppData\\Local\\Temp\\ipykernel_16564\\1379242875.py:37: FutureWarning: The frame.append method is deprecated and will be removed from pandas in a future version. Use pandas.concat instead.\n",
      "  data=data.append(output)\n",
      "C:\\Users\\marli\\AppData\\Local\\Temp\\ipykernel_16564\\1379242875.py:37: FutureWarning: The frame.append method is deprecated and will be removed from pandas in a future version. Use pandas.concat instead.\n",
      "  data=data.append(output)\n",
      "C:\\Users\\marli\\AppData\\Local\\Temp\\ipykernel_16564\\1379242875.py:37: FutureWarning: The frame.append method is deprecated and will be removed from pandas in a future version. Use pandas.concat instead.\n",
      "  data=data.append(output)\n",
      "C:\\Users\\marli\\AppData\\Local\\Temp\\ipykernel_16564\\1379242875.py:37: FutureWarning: The frame.append method is deprecated and will be removed from pandas in a future version. Use pandas.concat instead.\n",
      "  data=data.append(output)\n",
      "C:\\Users\\marli\\AppData\\Local\\Temp\\ipykernel_16564\\1379242875.py:37: FutureWarning: The frame.append method is deprecated and will be removed from pandas in a future version. Use pandas.concat instead.\n",
      "  data=data.append(output)\n",
      "C:\\Users\\marli\\AppData\\Local\\Temp\\ipykernel_16564\\1379242875.py:37: FutureWarning: The frame.append method is deprecated and will be removed from pandas in a future version. Use pandas.concat instead.\n",
      "  data=data.append(output)\n",
      "C:\\Users\\marli\\AppData\\Local\\Temp\\ipykernel_16564\\1379242875.py:37: FutureWarning: The frame.append method is deprecated and will be removed from pandas in a future version. Use pandas.concat instead.\n",
      "  data=data.append(output)\n",
      "C:\\Users\\marli\\AppData\\Local\\Temp\\ipykernel_16564\\1379242875.py:37: FutureWarning: The frame.append method is deprecated and will be removed from pandas in a future version. Use pandas.concat instead.\n",
      "  data=data.append(output)\n",
      "C:\\Users\\marli\\AppData\\Local\\Temp\\ipykernel_16564\\1379242875.py:37: FutureWarning: The frame.append method is deprecated and will be removed from pandas in a future version. Use pandas.concat instead.\n",
      "  data=data.append(output)\n",
      "C:\\Users\\marli\\AppData\\Local\\Temp\\ipykernel_16564\\1379242875.py:37: FutureWarning: The frame.append method is deprecated and will be removed from pandas in a future version. Use pandas.concat instead.\n",
      "  data=data.append(output)\n",
      "C:\\Users\\marli\\AppData\\Local\\Temp\\ipykernel_16564\\1379242875.py:37: FutureWarning: The frame.append method is deprecated and will be removed from pandas in a future version. Use pandas.concat instead.\n",
      "  data=data.append(output)\n",
      "C:\\Users\\marli\\AppData\\Local\\Temp\\ipykernel_16564\\1379242875.py:37: FutureWarning: The frame.append method is deprecated and will be removed from pandas in a future version. Use pandas.concat instead.\n",
      "  data=data.append(output)\n",
      "C:\\Users\\marli\\AppData\\Local\\Temp\\ipykernel_16564\\1379242875.py:37: FutureWarning: The frame.append method is deprecated and will be removed from pandas in a future version. Use pandas.concat instead.\n",
      "  data=data.append(output)\n",
      "C:\\Users\\marli\\AppData\\Local\\Temp\\ipykernel_16564\\1379242875.py:37: FutureWarning: The frame.append method is deprecated and will be removed from pandas in a future version. Use pandas.concat instead.\n",
      "  data=data.append(output)\n",
      "C:\\Users\\marli\\AppData\\Local\\Temp\\ipykernel_16564\\1379242875.py:37: FutureWarning: The frame.append method is deprecated and will be removed from pandas in a future version. Use pandas.concat instead.\n",
      "  data=data.append(output)\n",
      "C:\\Users\\marli\\AppData\\Local\\Temp\\ipykernel_16564\\1379242875.py:37: FutureWarning: The frame.append method is deprecated and will be removed from pandas in a future version. Use pandas.concat instead.\n",
      "  data=data.append(output)\n"
     ]
    },
    {
     "name": "stderr",
     "output_type": "stream",
     "text": [
      "C:\\Users\\marli\\AppData\\Local\\Temp\\ipykernel_16564\\1379242875.py:37: FutureWarning: The frame.append method is deprecated and will be removed from pandas in a future version. Use pandas.concat instead.\n",
      "  data=data.append(output)\n",
      "C:\\Users\\marli\\AppData\\Local\\Temp\\ipykernel_16564\\1379242875.py:37: FutureWarning: The frame.append method is deprecated and will be removed from pandas in a future version. Use pandas.concat instead.\n",
      "  data=data.append(output)\n",
      "C:\\Users\\marli\\AppData\\Local\\Temp\\ipykernel_16564\\1379242875.py:37: FutureWarning: The frame.append method is deprecated and will be removed from pandas in a future version. Use pandas.concat instead.\n",
      "  data=data.append(output)\n",
      "C:\\Users\\marli\\AppData\\Local\\Temp\\ipykernel_16564\\1379242875.py:37: FutureWarning: The frame.append method is deprecated and will be removed from pandas in a future version. Use pandas.concat instead.\n",
      "  data=data.append(output)\n",
      "C:\\Users\\marli\\AppData\\Local\\Temp\\ipykernel_16564\\1379242875.py:37: FutureWarning: The frame.append method is deprecated and will be removed from pandas in a future version. Use pandas.concat instead.\n",
      "  data=data.append(output)\n",
      "C:\\Users\\marli\\AppData\\Local\\Temp\\ipykernel_16564\\1379242875.py:37: FutureWarning: The frame.append method is deprecated and will be removed from pandas in a future version. Use pandas.concat instead.\n",
      "  data=data.append(output)\n",
      "C:\\Users\\marli\\AppData\\Local\\Temp\\ipykernel_16564\\1379242875.py:37: FutureWarning: The frame.append method is deprecated and will be removed from pandas in a future version. Use pandas.concat instead.\n",
      "  data=data.append(output)\n",
      "C:\\Users\\marli\\AppData\\Local\\Temp\\ipykernel_16564\\1379242875.py:37: FutureWarning: The frame.append method is deprecated and will be removed from pandas in a future version. Use pandas.concat instead.\n",
      "  data=data.append(output)\n",
      "C:\\Users\\marli\\AppData\\Local\\Temp\\ipykernel_16564\\1379242875.py:37: FutureWarning: The frame.append method is deprecated and will be removed from pandas in a future version. Use pandas.concat instead.\n",
      "  data=data.append(output)\n",
      "C:\\Users\\marli\\AppData\\Local\\Temp\\ipykernel_16564\\1379242875.py:37: FutureWarning: The frame.append method is deprecated and will be removed from pandas in a future version. Use pandas.concat instead.\n",
      "  data=data.append(output)\n",
      "C:\\Users\\marli\\AppData\\Local\\Temp\\ipykernel_16564\\1379242875.py:37: FutureWarning: The frame.append method is deprecated and will be removed from pandas in a future version. Use pandas.concat instead.\n",
      "  data=data.append(output)\n",
      "C:\\Users\\marli\\AppData\\Local\\Temp\\ipykernel_16564\\1379242875.py:37: FutureWarning: The frame.append method is deprecated and will be removed from pandas in a future version. Use pandas.concat instead.\n",
      "  data=data.append(output)\n",
      "C:\\Users\\marli\\AppData\\Local\\Temp\\ipykernel_16564\\1379242875.py:37: FutureWarning: The frame.append method is deprecated and will be removed from pandas in a future version. Use pandas.concat instead.\n",
      "  data=data.append(output)\n",
      "C:\\Users\\marli\\AppData\\Local\\Temp\\ipykernel_16564\\1379242875.py:37: FutureWarning: The frame.append method is deprecated and will be removed from pandas in a future version. Use pandas.concat instead.\n",
      "  data=data.append(output)\n",
      "C:\\Users\\marli\\AppData\\Local\\Temp\\ipykernel_16564\\1379242875.py:37: FutureWarning: The frame.append method is deprecated and will be removed from pandas in a future version. Use pandas.concat instead.\n",
      "  data=data.append(output)\n",
      "C:\\Users\\marli\\AppData\\Local\\Temp\\ipykernel_16564\\1379242875.py:37: FutureWarning: The frame.append method is deprecated and will be removed from pandas in a future version. Use pandas.concat instead.\n",
      "  data=data.append(output)\n",
      "C:\\Users\\marli\\AppData\\Local\\Temp\\ipykernel_16564\\1379242875.py:37: FutureWarning: The frame.append method is deprecated and will be removed from pandas in a future version. Use pandas.concat instead.\n",
      "  data=data.append(output)\n",
      "C:\\Users\\marli\\AppData\\Local\\Temp\\ipykernel_16564\\1379242875.py:37: FutureWarning: The frame.append method is deprecated and will be removed from pandas in a future version. Use pandas.concat instead.\n",
      "  data=data.append(output)\n"
     ]
    }
   ],
   "source": [
    "players_fr=get_players(5)\n",
    "cols = players_fr.columns.drop(['Team','Year','Player','Role'])\n",
    "players_fr[cols]=players_fr[cols].apply(lambda x: x.str.replace(',',''))\n",
    "players_fr[cols] = players_fr[cols].apply(pd.to_numeric, errors='coerce')"
   ]
  },
  {
   "cell_type": "code",
   "execution_count": 50,
   "id": "f22b2e08",
   "metadata": {},
   "outputs": [
    {
     "name": "stdout",
     "output_type": "stream",
     "text": [
      "Adriatic-League-Liga-ABA\n"
     ]
    },
    {
     "name": "stderr",
     "output_type": "stream",
     "text": [
      "C:\\Users\\marli\\AppData\\Local\\Temp\\ipykernel_16564\\1379242875.py:37: FutureWarning: The frame.append method is deprecated and will be removed from pandas in a future version. Use pandas.concat instead.\n",
      "  data=data.append(output)\n",
      "C:\\Users\\marli\\AppData\\Local\\Temp\\ipykernel_16564\\1379242875.py:37: FutureWarning: The frame.append method is deprecated and will be removed from pandas in a future version. Use pandas.concat instead.\n",
      "  data=data.append(output)\n",
      "C:\\Users\\marli\\AppData\\Local\\Temp\\ipykernel_16564\\1379242875.py:37: FutureWarning: The frame.append method is deprecated and will be removed from pandas in a future version. Use pandas.concat instead.\n",
      "  data=data.append(output)\n",
      "C:\\Users\\marli\\AppData\\Local\\Temp\\ipykernel_16564\\1379242875.py:37: FutureWarning: The frame.append method is deprecated and will be removed from pandas in a future version. Use pandas.concat instead.\n",
      "  data=data.append(output)\n",
      "C:\\Users\\marli\\AppData\\Local\\Temp\\ipykernel_16564\\1379242875.py:37: FutureWarning: The frame.append method is deprecated and will be removed from pandas in a future version. Use pandas.concat instead.\n",
      "  data=data.append(output)\n",
      "C:\\Users\\marli\\AppData\\Local\\Temp\\ipykernel_16564\\1379242875.py:37: FutureWarning: The frame.append method is deprecated and will be removed from pandas in a future version. Use pandas.concat instead.\n",
      "  data=data.append(output)\n",
      "C:\\Users\\marli\\AppData\\Local\\Temp\\ipykernel_16564\\1379242875.py:37: FutureWarning: The frame.append method is deprecated and will be removed from pandas in a future version. Use pandas.concat instead.\n",
      "  data=data.append(output)\n",
      "C:\\Users\\marli\\AppData\\Local\\Temp\\ipykernel_16564\\1379242875.py:37: FutureWarning: The frame.append method is deprecated and will be removed from pandas in a future version. Use pandas.concat instead.\n",
      "  data=data.append(output)\n",
      "C:\\Users\\marli\\AppData\\Local\\Temp\\ipykernel_16564\\1379242875.py:37: FutureWarning: The frame.append method is deprecated and will be removed from pandas in a future version. Use pandas.concat instead.\n",
      "  data=data.append(output)\n",
      "C:\\Users\\marli\\AppData\\Local\\Temp\\ipykernel_16564\\1379242875.py:37: FutureWarning: The frame.append method is deprecated and will be removed from pandas in a future version. Use pandas.concat instead.\n",
      "  data=data.append(output)\n",
      "C:\\Users\\marli\\AppData\\Local\\Temp\\ipykernel_16564\\1379242875.py:37: FutureWarning: The frame.append method is deprecated and will be removed from pandas in a future version. Use pandas.concat instead.\n",
      "  data=data.append(output)\n",
      "C:\\Users\\marli\\AppData\\Local\\Temp\\ipykernel_16564\\1379242875.py:37: FutureWarning: The frame.append method is deprecated and will be removed from pandas in a future version. Use pandas.concat instead.\n",
      "  data=data.append(output)\n",
      "C:\\Users\\marli\\AppData\\Local\\Temp\\ipykernel_16564\\1379242875.py:37: FutureWarning: The frame.append method is deprecated and will be removed from pandas in a future version. Use pandas.concat instead.\n",
      "  data=data.append(output)\n",
      "C:\\Users\\marli\\AppData\\Local\\Temp\\ipykernel_16564\\1379242875.py:37: FutureWarning: The frame.append method is deprecated and will be removed from pandas in a future version. Use pandas.concat instead.\n",
      "  data=data.append(output)\n",
      "C:\\Users\\marli\\AppData\\Local\\Temp\\ipykernel_16564\\1379242875.py:37: FutureWarning: The frame.append method is deprecated and will be removed from pandas in a future version. Use pandas.concat instead.\n",
      "  data=data.append(output)\n",
      "C:\\Users\\marli\\AppData\\Local\\Temp\\ipykernel_16564\\1379242875.py:37: FutureWarning: The frame.append method is deprecated and will be removed from pandas in a future version. Use pandas.concat instead.\n",
      "  data=data.append(output)\n",
      "C:\\Users\\marli\\AppData\\Local\\Temp\\ipykernel_16564\\1379242875.py:37: FutureWarning: The frame.append method is deprecated and will be removed from pandas in a future version. Use pandas.concat instead.\n",
      "  data=data.append(output)\n",
      "C:\\Users\\marli\\AppData\\Local\\Temp\\ipykernel_16564\\1379242875.py:37: FutureWarning: The frame.append method is deprecated and will be removed from pandas in a future version. Use pandas.concat instead.\n",
      "  data=data.append(output)\n",
      "C:\\Users\\marli\\AppData\\Local\\Temp\\ipykernel_16564\\1379242875.py:37: FutureWarning: The frame.append method is deprecated and will be removed from pandas in a future version. Use pandas.concat instead.\n",
      "  data=data.append(output)\n",
      "C:\\Users\\marli\\AppData\\Local\\Temp\\ipykernel_16564\\1379242875.py:37: FutureWarning: The frame.append method is deprecated and will be removed from pandas in a future version. Use pandas.concat instead.\n",
      "  data=data.append(output)\n",
      "C:\\Users\\marli\\AppData\\Local\\Temp\\ipykernel_16564\\1379242875.py:37: FutureWarning: The frame.append method is deprecated and will be removed from pandas in a future version. Use pandas.concat instead.\n",
      "  data=data.append(output)\n",
      "C:\\Users\\marli\\AppData\\Local\\Temp\\ipykernel_16564\\1379242875.py:37: FutureWarning: The frame.append method is deprecated and will be removed from pandas in a future version. Use pandas.concat instead.\n",
      "  data=data.append(output)\n",
      "C:\\Users\\marli\\AppData\\Local\\Temp\\ipykernel_16564\\1379242875.py:37: FutureWarning: The frame.append method is deprecated and will be removed from pandas in a future version. Use pandas.concat instead.\n",
      "  data=data.append(output)\n",
      "C:\\Users\\marli\\AppData\\Local\\Temp\\ipykernel_16564\\1379242875.py:37: FutureWarning: The frame.append method is deprecated and will be removed from pandas in a future version. Use pandas.concat instead.\n",
      "  data=data.append(output)\n",
      "C:\\Users\\marli\\AppData\\Local\\Temp\\ipykernel_16564\\1379242875.py:37: FutureWarning: The frame.append method is deprecated and will be removed from pandas in a future version. Use pandas.concat instead.\n",
      "  data=data.append(output)\n",
      "C:\\Users\\marli\\AppData\\Local\\Temp\\ipykernel_16564\\1379242875.py:37: FutureWarning: The frame.append method is deprecated and will be removed from pandas in a future version. Use pandas.concat instead.\n",
      "  data=data.append(output)\n",
      "C:\\Users\\marli\\AppData\\Local\\Temp\\ipykernel_16564\\1379242875.py:37: FutureWarning: The frame.append method is deprecated and will be removed from pandas in a future version. Use pandas.concat instead.\n",
      "  data=data.append(output)\n",
      "C:\\Users\\marli\\AppData\\Local\\Temp\\ipykernel_16564\\1379242875.py:37: FutureWarning: The frame.append method is deprecated and will be removed from pandas in a future version. Use pandas.concat instead.\n",
      "  data=data.append(output)\n",
      "C:\\Users\\marli\\AppData\\Local\\Temp\\ipykernel_16564\\1379242875.py:37: FutureWarning: The frame.append method is deprecated and will be removed from pandas in a future version. Use pandas.concat instead.\n",
      "  data=data.append(output)\n",
      "C:\\Users\\marli\\AppData\\Local\\Temp\\ipykernel_16564\\1379242875.py:37: FutureWarning: The frame.append method is deprecated and will be removed from pandas in a future version. Use pandas.concat instead.\n",
      "  data=data.append(output)\n",
      "C:\\Users\\marli\\AppData\\Local\\Temp\\ipykernel_16564\\1379242875.py:37: FutureWarning: The frame.append method is deprecated and will be removed from pandas in a future version. Use pandas.concat instead.\n",
      "  data=data.append(output)\n",
      "C:\\Users\\marli\\AppData\\Local\\Temp\\ipykernel_16564\\1379242875.py:37: FutureWarning: The frame.append method is deprecated and will be removed from pandas in a future version. Use pandas.concat instead.\n",
      "  data=data.append(output)\n",
      "C:\\Users\\marli\\AppData\\Local\\Temp\\ipykernel_16564\\1379242875.py:37: FutureWarning: The frame.append method is deprecated and will be removed from pandas in a future version. Use pandas.concat instead.\n",
      "  data=data.append(output)\n",
      "C:\\Users\\marli\\AppData\\Local\\Temp\\ipykernel_16564\\1379242875.py:37: FutureWarning: The frame.append method is deprecated and will be removed from pandas in a future version. Use pandas.concat instead.\n",
      "  data=data.append(output)\n",
      "C:\\Users\\marli\\AppData\\Local\\Temp\\ipykernel_16564\\1379242875.py:37: FutureWarning: The frame.append method is deprecated and will be removed from pandas in a future version. Use pandas.concat instead.\n",
      "  data=data.append(output)\n",
      "C:\\Users\\marli\\AppData\\Local\\Temp\\ipykernel_16564\\1379242875.py:37: FutureWarning: The frame.append method is deprecated and will be removed from pandas in a future version. Use pandas.concat instead.\n",
      "  data=data.append(output)\n"
     ]
    },
    {
     "name": "stderr",
     "output_type": "stream",
     "text": [
      "C:\\Users\\marli\\AppData\\Local\\Temp\\ipykernel_16564\\1379242875.py:37: FutureWarning: The frame.append method is deprecated and will be removed from pandas in a future version. Use pandas.concat instead.\n",
      "  data=data.append(output)\n",
      "C:\\Users\\marli\\AppData\\Local\\Temp\\ipykernel_16564\\1379242875.py:37: FutureWarning: The frame.append method is deprecated and will be removed from pandas in a future version. Use pandas.concat instead.\n",
      "  data=data.append(output)\n",
      "C:\\Users\\marli\\AppData\\Local\\Temp\\ipykernel_16564\\1379242875.py:37: FutureWarning: The frame.append method is deprecated and will be removed from pandas in a future version. Use pandas.concat instead.\n",
      "  data=data.append(output)\n",
      "C:\\Users\\marli\\AppData\\Local\\Temp\\ipykernel_16564\\1379242875.py:37: FutureWarning: The frame.append method is deprecated and will be removed from pandas in a future version. Use pandas.concat instead.\n",
      "  data=data.append(output)\n",
      "C:\\Users\\marli\\AppData\\Local\\Temp\\ipykernel_16564\\1379242875.py:37: FutureWarning: The frame.append method is deprecated and will be removed from pandas in a future version. Use pandas.concat instead.\n",
      "  data=data.append(output)\n",
      "C:\\Users\\marli\\AppData\\Local\\Temp\\ipykernel_16564\\1379242875.py:37: FutureWarning: The frame.append method is deprecated and will be removed from pandas in a future version. Use pandas.concat instead.\n",
      "  data=data.append(output)\n",
      "C:\\Users\\marli\\AppData\\Local\\Temp\\ipykernel_16564\\1379242875.py:37: FutureWarning: The frame.append method is deprecated and will be removed from pandas in a future version. Use pandas.concat instead.\n",
      "  data=data.append(output)\n",
      "C:\\Users\\marli\\AppData\\Local\\Temp\\ipykernel_16564\\1379242875.py:37: FutureWarning: The frame.append method is deprecated and will be removed from pandas in a future version. Use pandas.concat instead.\n",
      "  data=data.append(output)\n",
      "C:\\Users\\marli\\AppData\\Local\\Temp\\ipykernel_16564\\1379242875.py:37: FutureWarning: The frame.append method is deprecated and will be removed from pandas in a future version. Use pandas.concat instead.\n",
      "  data=data.append(output)\n",
      "C:\\Users\\marli\\AppData\\Local\\Temp\\ipykernel_16564\\1379242875.py:37: FutureWarning: The frame.append method is deprecated and will be removed from pandas in a future version. Use pandas.concat instead.\n",
      "  data=data.append(output)\n",
      "C:\\Users\\marli\\AppData\\Local\\Temp\\ipykernel_16564\\1379242875.py:37: FutureWarning: The frame.append method is deprecated and will be removed from pandas in a future version. Use pandas.concat instead.\n",
      "  data=data.append(output)\n",
      "C:\\Users\\marli\\AppData\\Local\\Temp\\ipykernel_16564\\1379242875.py:37: FutureWarning: The frame.append method is deprecated and will be removed from pandas in a future version. Use pandas.concat instead.\n",
      "  data=data.append(output)\n",
      "C:\\Users\\marli\\AppData\\Local\\Temp\\ipykernel_16564\\1379242875.py:37: FutureWarning: The frame.append method is deprecated and will be removed from pandas in a future version. Use pandas.concat instead.\n",
      "  data=data.append(output)\n",
      "C:\\Users\\marli\\AppData\\Local\\Temp\\ipykernel_16564\\1379242875.py:37: FutureWarning: The frame.append method is deprecated and will be removed from pandas in a future version. Use pandas.concat instead.\n",
      "  data=data.append(output)\n",
      "C:\\Users\\marli\\AppData\\Local\\Temp\\ipykernel_16564\\1379242875.py:37: FutureWarning: The frame.append method is deprecated and will be removed from pandas in a future version. Use pandas.concat instead.\n",
      "  data=data.append(output)\n",
      "C:\\Users\\marli\\AppData\\Local\\Temp\\ipykernel_16564\\1379242875.py:37: FutureWarning: The frame.append method is deprecated and will be removed from pandas in a future version. Use pandas.concat instead.\n",
      "  data=data.append(output)\n",
      "C:\\Users\\marli\\AppData\\Local\\Temp\\ipykernel_16564\\1379242875.py:37: FutureWarning: The frame.append method is deprecated and will be removed from pandas in a future version. Use pandas.concat instead.\n",
      "  data=data.append(output)\n",
      "C:\\Users\\marli\\AppData\\Local\\Temp\\ipykernel_16564\\1379242875.py:37: FutureWarning: The frame.append method is deprecated and will be removed from pandas in a future version. Use pandas.concat instead.\n",
      "  data=data.append(output)\n",
      "C:\\Users\\marli\\AppData\\Local\\Temp\\ipykernel_16564\\1379242875.py:37: FutureWarning: The frame.append method is deprecated and will be removed from pandas in a future version. Use pandas.concat instead.\n",
      "  data=data.append(output)\n"
     ]
    }
   ],
   "source": [
    "players_adr=get_players(6)\n",
    "cols = players_adr.columns.drop(['Team','Year','Player','Role'])\n",
    "players_adr[cols]=players_adr[cols].apply(lambda x: x.str.replace(',',''))\n",
    "players_adr[cols] = players_adr[cols].apply(pd.to_numeric, errors='coerce')"
   ]
  },
  {
   "cell_type": "code",
   "execution_count": 51,
   "id": "e2aab485",
   "metadata": {},
   "outputs": [
    {
     "name": "stdout",
     "output_type": "stream",
     "text": [
      "VTB-United-League\n"
     ]
    },
    {
     "name": "stderr",
     "output_type": "stream",
     "text": [
      "C:\\Users\\marli\\AppData\\Local\\Temp\\ipykernel_16564\\1379242875.py:37: FutureWarning: The frame.append method is deprecated and will be removed from pandas in a future version. Use pandas.concat instead.\n",
      "  data=data.append(output)\n",
      "C:\\Users\\marli\\AppData\\Local\\Temp\\ipykernel_16564\\1379242875.py:37: FutureWarning: The frame.append method is deprecated and will be removed from pandas in a future version. Use pandas.concat instead.\n",
      "  data=data.append(output)\n",
      "C:\\Users\\marli\\AppData\\Local\\Temp\\ipykernel_16564\\1379242875.py:37: FutureWarning: The frame.append method is deprecated and will be removed from pandas in a future version. Use pandas.concat instead.\n",
      "  data=data.append(output)\n",
      "C:\\Users\\marli\\AppData\\Local\\Temp\\ipykernel_16564\\1379242875.py:37: FutureWarning: The frame.append method is deprecated and will be removed from pandas in a future version. Use pandas.concat instead.\n",
      "  data=data.append(output)\n",
      "C:\\Users\\marli\\AppData\\Local\\Temp\\ipykernel_16564\\1379242875.py:37: FutureWarning: The frame.append method is deprecated and will be removed from pandas in a future version. Use pandas.concat instead.\n",
      "  data=data.append(output)\n",
      "C:\\Users\\marli\\AppData\\Local\\Temp\\ipykernel_16564\\1379242875.py:37: FutureWarning: The frame.append method is deprecated and will be removed from pandas in a future version. Use pandas.concat instead.\n",
      "  data=data.append(output)\n",
      "C:\\Users\\marli\\AppData\\Local\\Temp\\ipykernel_16564\\1379242875.py:37: FutureWarning: The frame.append method is deprecated and will be removed from pandas in a future version. Use pandas.concat instead.\n",
      "  data=data.append(output)\n",
      "C:\\Users\\marli\\AppData\\Local\\Temp\\ipykernel_16564\\1379242875.py:37: FutureWarning: The frame.append method is deprecated and will be removed from pandas in a future version. Use pandas.concat instead.\n",
      "  data=data.append(output)\n",
      "C:\\Users\\marli\\AppData\\Local\\Temp\\ipykernel_16564\\1379242875.py:37: FutureWarning: The frame.append method is deprecated and will be removed from pandas in a future version. Use pandas.concat instead.\n",
      "  data=data.append(output)\n",
      "C:\\Users\\marli\\AppData\\Local\\Temp\\ipykernel_16564\\1379242875.py:37: FutureWarning: The frame.append method is deprecated and will be removed from pandas in a future version. Use pandas.concat instead.\n",
      "  data=data.append(output)\n",
      "C:\\Users\\marli\\AppData\\Local\\Temp\\ipykernel_16564\\1379242875.py:37: FutureWarning: The frame.append method is deprecated and will be removed from pandas in a future version. Use pandas.concat instead.\n",
      "  data=data.append(output)\n",
      "C:\\Users\\marli\\AppData\\Local\\Temp\\ipykernel_16564\\1379242875.py:37: FutureWarning: The frame.append method is deprecated and will be removed from pandas in a future version. Use pandas.concat instead.\n",
      "  data=data.append(output)\n",
      "C:\\Users\\marli\\AppData\\Local\\Temp\\ipykernel_16564\\1379242875.py:37: FutureWarning: The frame.append method is deprecated and will be removed from pandas in a future version. Use pandas.concat instead.\n",
      "  data=data.append(output)\n",
      "C:\\Users\\marli\\AppData\\Local\\Temp\\ipykernel_16564\\1379242875.py:37: FutureWarning: The frame.append method is deprecated and will be removed from pandas in a future version. Use pandas.concat instead.\n",
      "  data=data.append(output)\n",
      "C:\\Users\\marli\\AppData\\Local\\Temp\\ipykernel_16564\\1379242875.py:37: FutureWarning: The frame.append method is deprecated and will be removed from pandas in a future version. Use pandas.concat instead.\n",
      "  data=data.append(output)\n",
      "C:\\Users\\marli\\AppData\\Local\\Temp\\ipykernel_16564\\1379242875.py:37: FutureWarning: The frame.append method is deprecated and will be removed from pandas in a future version. Use pandas.concat instead.\n",
      "  data=data.append(output)\n",
      "C:\\Users\\marli\\AppData\\Local\\Temp\\ipykernel_16564\\1379242875.py:37: FutureWarning: The frame.append method is deprecated and will be removed from pandas in a future version. Use pandas.concat instead.\n",
      "  data=data.append(output)\n",
      "C:\\Users\\marli\\AppData\\Local\\Temp\\ipykernel_16564\\1379242875.py:37: FutureWarning: The frame.append method is deprecated and will be removed from pandas in a future version. Use pandas.concat instead.\n",
      "  data=data.append(output)\n",
      "C:\\Users\\marli\\AppData\\Local\\Temp\\ipykernel_16564\\1379242875.py:37: FutureWarning: The frame.append method is deprecated and will be removed from pandas in a future version. Use pandas.concat instead.\n",
      "  data=data.append(output)\n",
      "C:\\Users\\marli\\AppData\\Local\\Temp\\ipykernel_16564\\1379242875.py:37: FutureWarning: The frame.append method is deprecated and will be removed from pandas in a future version. Use pandas.concat instead.\n",
      "  data=data.append(output)\n",
      "C:\\Users\\marli\\AppData\\Local\\Temp\\ipykernel_16564\\1379242875.py:37: FutureWarning: The frame.append method is deprecated and will be removed from pandas in a future version. Use pandas.concat instead.\n",
      "  data=data.append(output)\n",
      "C:\\Users\\marli\\AppData\\Local\\Temp\\ipykernel_16564\\1379242875.py:37: FutureWarning: The frame.append method is deprecated and will be removed from pandas in a future version. Use pandas.concat instead.\n",
      "  data=data.append(output)\n",
      "C:\\Users\\marli\\AppData\\Local\\Temp\\ipykernel_16564\\1379242875.py:37: FutureWarning: The frame.append method is deprecated and will be removed from pandas in a future version. Use pandas.concat instead.\n",
      "  data=data.append(output)\n",
      "C:\\Users\\marli\\AppData\\Local\\Temp\\ipykernel_16564\\1379242875.py:37: FutureWarning: The frame.append method is deprecated and will be removed from pandas in a future version. Use pandas.concat instead.\n",
      "  data=data.append(output)\n",
      "C:\\Users\\marli\\AppData\\Local\\Temp\\ipykernel_16564\\1379242875.py:37: FutureWarning: The frame.append method is deprecated and will be removed from pandas in a future version. Use pandas.concat instead.\n",
      "  data=data.append(output)\n",
      "C:\\Users\\marli\\AppData\\Local\\Temp\\ipykernel_16564\\1379242875.py:37: FutureWarning: The frame.append method is deprecated and will be removed from pandas in a future version. Use pandas.concat instead.\n",
      "  data=data.append(output)\n",
      "C:\\Users\\marli\\AppData\\Local\\Temp\\ipykernel_16564\\1379242875.py:37: FutureWarning: The frame.append method is deprecated and will be removed from pandas in a future version. Use pandas.concat instead.\n",
      "  data=data.append(output)\n",
      "C:\\Users\\marli\\AppData\\Local\\Temp\\ipykernel_16564\\1379242875.py:37: FutureWarning: The frame.append method is deprecated and will be removed from pandas in a future version. Use pandas.concat instead.\n",
      "  data=data.append(output)\n",
      "C:\\Users\\marli\\AppData\\Local\\Temp\\ipykernel_16564\\1379242875.py:37: FutureWarning: The frame.append method is deprecated and will be removed from pandas in a future version. Use pandas.concat instead.\n",
      "  data=data.append(output)\n",
      "C:\\Users\\marli\\AppData\\Local\\Temp\\ipykernel_16564\\1379242875.py:37: FutureWarning: The frame.append method is deprecated and will be removed from pandas in a future version. Use pandas.concat instead.\n",
      "  data=data.append(output)\n",
      "C:\\Users\\marli\\AppData\\Local\\Temp\\ipykernel_16564\\1379242875.py:37: FutureWarning: The frame.append method is deprecated and will be removed from pandas in a future version. Use pandas.concat instead.\n",
      "  data=data.append(output)\n",
      "C:\\Users\\marli\\AppData\\Local\\Temp\\ipykernel_16564\\1379242875.py:37: FutureWarning: The frame.append method is deprecated and will be removed from pandas in a future version. Use pandas.concat instead.\n",
      "  data=data.append(output)\n",
      "C:\\Users\\marli\\AppData\\Local\\Temp\\ipykernel_16564\\1379242875.py:37: FutureWarning: The frame.append method is deprecated and will be removed from pandas in a future version. Use pandas.concat instead.\n",
      "  data=data.append(output)\n",
      "C:\\Users\\marli\\AppData\\Local\\Temp\\ipykernel_16564\\1379242875.py:37: FutureWarning: The frame.append method is deprecated and will be removed from pandas in a future version. Use pandas.concat instead.\n",
      "  data=data.append(output)\n",
      "C:\\Users\\marli\\AppData\\Local\\Temp\\ipykernel_16564\\1379242875.py:37: FutureWarning: The frame.append method is deprecated and will be removed from pandas in a future version. Use pandas.concat instead.\n",
      "  data=data.append(output)\n",
      "C:\\Users\\marli\\AppData\\Local\\Temp\\ipykernel_16564\\1379242875.py:37: FutureWarning: The frame.append method is deprecated and will be removed from pandas in a future version. Use pandas.concat instead.\n",
      "  data=data.append(output)\n"
     ]
    },
    {
     "name": "stderr",
     "output_type": "stream",
     "text": [
      "C:\\Users\\marli\\AppData\\Local\\Temp\\ipykernel_16564\\1379242875.py:37: FutureWarning: The frame.append method is deprecated and will be removed from pandas in a future version. Use pandas.concat instead.\n",
      "  data=data.append(output)\n",
      "C:\\Users\\marli\\AppData\\Local\\Temp\\ipykernel_16564\\1379242875.py:37: FutureWarning: The frame.append method is deprecated and will be removed from pandas in a future version. Use pandas.concat instead.\n",
      "  data=data.append(output)\n",
      "C:\\Users\\marli\\AppData\\Local\\Temp\\ipykernel_16564\\1379242875.py:37: FutureWarning: The frame.append method is deprecated and will be removed from pandas in a future version. Use pandas.concat instead.\n",
      "  data=data.append(output)\n",
      "C:\\Users\\marli\\AppData\\Local\\Temp\\ipykernel_16564\\1379242875.py:37: FutureWarning: The frame.append method is deprecated and will be removed from pandas in a future version. Use pandas.concat instead.\n",
      "  data=data.append(output)\n",
      "C:\\Users\\marli\\AppData\\Local\\Temp\\ipykernel_16564\\1379242875.py:37: FutureWarning: The frame.append method is deprecated and will be removed from pandas in a future version. Use pandas.concat instead.\n",
      "  data=data.append(output)\n",
      "C:\\Users\\marli\\AppData\\Local\\Temp\\ipykernel_16564\\1379242875.py:37: FutureWarning: The frame.append method is deprecated and will be removed from pandas in a future version. Use pandas.concat instead.\n",
      "  data=data.append(output)\n",
      "C:\\Users\\marli\\AppData\\Local\\Temp\\ipykernel_16564\\1379242875.py:37: FutureWarning: The frame.append method is deprecated and will be removed from pandas in a future version. Use pandas.concat instead.\n",
      "  data=data.append(output)\n",
      "C:\\Users\\marli\\AppData\\Local\\Temp\\ipykernel_16564\\1379242875.py:37: FutureWarning: The frame.append method is deprecated and will be removed from pandas in a future version. Use pandas.concat instead.\n",
      "  data=data.append(output)\n",
      "C:\\Users\\marli\\AppData\\Local\\Temp\\ipykernel_16564\\1379242875.py:37: FutureWarning: The frame.append method is deprecated and will be removed from pandas in a future version. Use pandas.concat instead.\n",
      "  data=data.append(output)\n",
      "C:\\Users\\marli\\AppData\\Local\\Temp\\ipykernel_16564\\1379242875.py:37: FutureWarning: The frame.append method is deprecated and will be removed from pandas in a future version. Use pandas.concat instead.\n",
      "  data=data.append(output)\n",
      "C:\\Users\\marli\\AppData\\Local\\Temp\\ipykernel_16564\\1379242875.py:37: FutureWarning: The frame.append method is deprecated and will be removed from pandas in a future version. Use pandas.concat instead.\n",
      "  data=data.append(output)\n",
      "C:\\Users\\marli\\AppData\\Local\\Temp\\ipykernel_16564\\1379242875.py:37: FutureWarning: The frame.append method is deprecated and will be removed from pandas in a future version. Use pandas.concat instead.\n",
      "  data=data.append(output)\n",
      "C:\\Users\\marli\\AppData\\Local\\Temp\\ipykernel_16564\\1379242875.py:37: FutureWarning: The frame.append method is deprecated and will be removed from pandas in a future version. Use pandas.concat instead.\n",
      "  data=data.append(output)\n",
      "C:\\Users\\marli\\AppData\\Local\\Temp\\ipykernel_16564\\1379242875.py:37: FutureWarning: The frame.append method is deprecated and will be removed from pandas in a future version. Use pandas.concat instead.\n",
      "  data=data.append(output)\n",
      "C:\\Users\\marli\\AppData\\Local\\Temp\\ipykernel_16564\\1379242875.py:37: FutureWarning: The frame.append method is deprecated and will be removed from pandas in a future version. Use pandas.concat instead.\n",
      "  data=data.append(output)\n",
      "C:\\Users\\marli\\AppData\\Local\\Temp\\ipykernel_16564\\1379242875.py:37: FutureWarning: The frame.append method is deprecated and will be removed from pandas in a future version. Use pandas.concat instead.\n",
      "  data=data.append(output)\n",
      "C:\\Users\\marli\\AppData\\Local\\Temp\\ipykernel_16564\\1379242875.py:37: FutureWarning: The frame.append method is deprecated and will be removed from pandas in a future version. Use pandas.concat instead.\n",
      "  data=data.append(output)\n",
      "C:\\Users\\marli\\AppData\\Local\\Temp\\ipykernel_16564\\1379242875.py:37: FutureWarning: The frame.append method is deprecated and will be removed from pandas in a future version. Use pandas.concat instead.\n",
      "  data=data.append(output)\n",
      "C:\\Users\\marli\\AppData\\Local\\Temp\\ipykernel_16564\\1379242875.py:37: FutureWarning: The frame.append method is deprecated and will be removed from pandas in a future version. Use pandas.concat instead.\n",
      "  data=data.append(output)\n"
     ]
    }
   ],
   "source": [
    "players_rus=get_players(7)\n",
    "cols = players_rus.columns.drop(['Team','Year','Player','Role'])\n",
    "players_rus[cols]=players_rus[cols].apply(lambda x: x.str.replace(',',''))\n",
    "players_rus[cols] = players_rus[cols].apply(pd.to_numeric, errors='coerce')"
   ]
  },
  {
   "cell_type": "code",
   "execution_count": 36,
   "id": "0abfefed",
   "metadata": {},
   "outputs": [],
   "source": [
    "players_esp.to_csv('players_esp.csv',index=False)"
   ]
  },
  {
   "cell_type": "code",
   "execution_count": 52,
   "id": "624b4db8",
   "metadata": {},
   "outputs": [],
   "source": [
    "players_it.to_csv('players_it.csv',index=False)\n",
    "players_tur.to_csv('players_tur.csv',index=False)\n",
    "players_gr.to_csv('players_gr.csv',index=False)\n",
    "players_fr.to_csv('players_fr.csv',index=False)\n",
    "players_rus.to_csv('players_rus.csv',index=False)\n",
    "players_adr.to_csv('players_adr.csv',index=False)"
   ]
  },
  {
   "cell_type": "code",
   "execution_count": 12,
   "id": "425e2c61",
   "metadata": {
    "collapsed": true
   },
   "outputs": [
    {
     "name": "stdout",
     "output_type": "stream",
     "text": [
      "Spanish-ACB\n",
      "1\n",
      "2\n"
     ]
    },
    {
     "name": "stderr",
     "output_type": "stream",
     "text": [
      "C:\\Users\\marli\\AppData\\Local\\Temp\\ipykernel_10136\\838563138.py:38: FutureWarning: The frame.append method is deprecated and will be removed from pandas in a future version. Use pandas.concat instead.\n",
      "  data=data.append(output)\n"
     ]
    },
    {
     "name": "stdout",
     "output_type": "stream",
     "text": [
      "1\n",
      "2\n"
     ]
    },
    {
     "name": "stderr",
     "output_type": "stream",
     "text": [
      "C:\\Users\\marli\\AppData\\Local\\Temp\\ipykernel_10136\\838563138.py:38: FutureWarning: The frame.append method is deprecated and will be removed from pandas in a future version. Use pandas.concat instead.\n",
      "  data=data.append(output)\n"
     ]
    },
    {
     "name": "stdout",
     "output_type": "stream",
     "text": [
      "1\n",
      "2\n"
     ]
    },
    {
     "name": "stderr",
     "output_type": "stream",
     "text": [
      "C:\\Users\\marli\\AppData\\Local\\Temp\\ipykernel_10136\\838563138.py:38: FutureWarning: The frame.append method is deprecated and will be removed from pandas in a future version. Use pandas.concat instead.\n",
      "  data=data.append(output)\n"
     ]
    },
    {
     "name": "stdout",
     "output_type": "stream",
     "text": [
      "1\n",
      "2\n",
      "1\n",
      "2\n"
     ]
    },
    {
     "name": "stderr",
     "output_type": "stream",
     "text": [
      "C:\\Users\\marli\\AppData\\Local\\Temp\\ipykernel_10136\\838563138.py:38: FutureWarning: The frame.append method is deprecated and will be removed from pandas in a future version. Use pandas.concat instead.\n",
      "  data=data.append(output)\n"
     ]
    },
    {
     "name": "stdout",
     "output_type": "stream",
     "text": [
      "1\n",
      "2\n"
     ]
    },
    {
     "name": "stderr",
     "output_type": "stream",
     "text": [
      "C:\\Users\\marli\\AppData\\Local\\Temp\\ipykernel_10136\\838563138.py:38: FutureWarning: The frame.append method is deprecated and will be removed from pandas in a future version. Use pandas.concat instead.\n",
      "  data=data.append(output)\n"
     ]
    },
    {
     "name": "stdout",
     "output_type": "stream",
     "text": [
      "1\n",
      "2\n"
     ]
    },
    {
     "name": "stderr",
     "output_type": "stream",
     "text": [
      "C:\\Users\\marli\\AppData\\Local\\Temp\\ipykernel_10136\\838563138.py:38: FutureWarning: The frame.append method is deprecated and will be removed from pandas in a future version. Use pandas.concat instead.\n",
      "  data=data.append(output)\n"
     ]
    },
    {
     "name": "stdout",
     "output_type": "stream",
     "text": [
      "1\n",
      "2\n",
      "1\n",
      "2\n"
     ]
    },
    {
     "name": "stderr",
     "output_type": "stream",
     "text": [
      "C:\\Users\\marli\\AppData\\Local\\Temp\\ipykernel_10136\\838563138.py:38: FutureWarning: The frame.append method is deprecated and will be removed from pandas in a future version. Use pandas.concat instead.\n",
      "  data=data.append(output)\n"
     ]
    },
    {
     "name": "stdout",
     "output_type": "stream",
     "text": [
      "1\n",
      "2\n"
     ]
    },
    {
     "name": "stderr",
     "output_type": "stream",
     "text": [
      "C:\\Users\\marli\\AppData\\Local\\Temp\\ipykernel_10136\\838563138.py:38: FutureWarning: The frame.append method is deprecated and will be removed from pandas in a future version. Use pandas.concat instead.\n",
      "  data=data.append(output)\n"
     ]
    },
    {
     "name": "stdout",
     "output_type": "stream",
     "text": [
      "1\n",
      "2\n"
     ]
    },
    {
     "name": "stderr",
     "output_type": "stream",
     "text": [
      "C:\\Users\\marli\\AppData\\Local\\Temp\\ipykernel_10136\\838563138.py:38: FutureWarning: The frame.append method is deprecated and will be removed from pandas in a future version. Use pandas.concat instead.\n",
      "  data=data.append(output)\n"
     ]
    },
    {
     "name": "stdout",
     "output_type": "stream",
     "text": [
      "1\n",
      "2\n",
      "1\n",
      "2\n"
     ]
    },
    {
     "name": "stderr",
     "output_type": "stream",
     "text": [
      "C:\\Users\\marli\\AppData\\Local\\Temp\\ipykernel_10136\\838563138.py:38: FutureWarning: The frame.append method is deprecated and will be removed from pandas in a future version. Use pandas.concat instead.\n",
      "  data=data.append(output)\n"
     ]
    },
    {
     "name": "stdout",
     "output_type": "stream",
     "text": [
      "1\n",
      "2\n"
     ]
    },
    {
     "name": "stderr",
     "output_type": "stream",
     "text": [
      "C:\\Users\\marli\\AppData\\Local\\Temp\\ipykernel_10136\\838563138.py:38: FutureWarning: The frame.append method is deprecated and will be removed from pandas in a future version. Use pandas.concat instead.\n",
      "  data=data.append(output)\n"
     ]
    },
    {
     "name": "stdout",
     "output_type": "stream",
     "text": [
      "1\n",
      "2\n"
     ]
    },
    {
     "name": "stderr",
     "output_type": "stream",
     "text": [
      "C:\\Users\\marli\\AppData\\Local\\Temp\\ipykernel_10136\\838563138.py:38: FutureWarning: The frame.append method is deprecated and will be removed from pandas in a future version. Use pandas.concat instead.\n",
      "  data=data.append(output)\n"
     ]
    },
    {
     "name": "stdout",
     "output_type": "stream",
     "text": [
      "1\n",
      "2\n",
      "1\n",
      "2\n",
      "3\n",
      "1\n",
      "2\n"
     ]
    },
    {
     "name": "stderr",
     "output_type": "stream",
     "text": [
      "C:\\Users\\marli\\AppData\\Local\\Temp\\ipykernel_10136\\838563138.py:38: FutureWarning: The frame.append method is deprecated and will be removed from pandas in a future version. Use pandas.concat instead.\n",
      "  data=data.append(output)\n"
     ]
    },
    {
     "name": "stdout",
     "output_type": "stream",
     "text": [
      "1\n",
      "2\n"
     ]
    },
    {
     "name": "stderr",
     "output_type": "stream",
     "text": [
      "C:\\Users\\marli\\AppData\\Local\\Temp\\ipykernel_10136\\838563138.py:38: FutureWarning: The frame.append method is deprecated and will be removed from pandas in a future version. Use pandas.concat instead.\n",
      "  data=data.append(output)\n"
     ]
    },
    {
     "name": "stdout",
     "output_type": "stream",
     "text": [
      "1\n",
      "2\n"
     ]
    },
    {
     "name": "stderr",
     "output_type": "stream",
     "text": [
      "C:\\Users\\marli\\AppData\\Local\\Temp\\ipykernel_10136\\838563138.py:38: FutureWarning: The frame.append method is deprecated and will be removed from pandas in a future version. Use pandas.concat instead.\n",
      "  data=data.append(output)\n"
     ]
    },
    {
     "name": "stdout",
     "output_type": "stream",
     "text": [
      "1\n",
      "2\n",
      "1\n",
      "2\n"
     ]
    },
    {
     "name": "stderr",
     "output_type": "stream",
     "text": [
      "C:\\Users\\marli\\AppData\\Local\\Temp\\ipykernel_10136\\838563138.py:38: FutureWarning: The frame.append method is deprecated and will be removed from pandas in a future version. Use pandas.concat instead.\n",
      "  data=data.append(output)\n"
     ]
    },
    {
     "name": "stdout",
     "output_type": "stream",
     "text": [
      "1\n",
      "2\n"
     ]
    },
    {
     "name": "stderr",
     "output_type": "stream",
     "text": [
      "C:\\Users\\marli\\AppData\\Local\\Temp\\ipykernel_10136\\838563138.py:38: FutureWarning: The frame.append method is deprecated and will be removed from pandas in a future version. Use pandas.concat instead.\n",
      "  data=data.append(output)\n"
     ]
    },
    {
     "name": "stdout",
     "output_type": "stream",
     "text": [
      "1\n",
      "2\n"
     ]
    },
    {
     "name": "stderr",
     "output_type": "stream",
     "text": [
      "C:\\Users\\marli\\AppData\\Local\\Temp\\ipykernel_10136\\838563138.py:38: FutureWarning: The frame.append method is deprecated and will be removed from pandas in a future version. Use pandas.concat instead.\n",
      "  data=data.append(output)\n"
     ]
    },
    {
     "name": "stdout",
     "output_type": "stream",
     "text": [
      "1\n",
      "2\n",
      "1\n",
      "2\n",
      "3\n",
      "1\n",
      "2\n"
     ]
    },
    {
     "name": "stderr",
     "output_type": "stream",
     "text": [
      "C:\\Users\\marli\\AppData\\Local\\Temp\\ipykernel_10136\\838563138.py:38: FutureWarning: The frame.append method is deprecated and will be removed from pandas in a future version. Use pandas.concat instead.\n",
      "  data=data.append(output)\n"
     ]
    },
    {
     "name": "stdout",
     "output_type": "stream",
     "text": [
      "1\n",
      "2\n"
     ]
    },
    {
     "name": "stderr",
     "output_type": "stream",
     "text": [
      "C:\\Users\\marli\\AppData\\Local\\Temp\\ipykernel_10136\\838563138.py:38: FutureWarning: The frame.append method is deprecated and will be removed from pandas in a future version. Use pandas.concat instead.\n",
      "  data=data.append(output)\n"
     ]
    },
    {
     "name": "stdout",
     "output_type": "stream",
     "text": [
      "1\n",
      "2\n"
     ]
    },
    {
     "name": "stderr",
     "output_type": "stream",
     "text": [
      "C:\\Users\\marli\\AppData\\Local\\Temp\\ipykernel_10136\\838563138.py:38: FutureWarning: The frame.append method is deprecated and will be removed from pandas in a future version. Use pandas.concat instead.\n",
      "  data=data.append(output)\n"
     ]
    },
    {
     "name": "stdout",
     "output_type": "stream",
     "text": [
      "1\n",
      "2\n",
      "1\n",
      "2\n"
     ]
    },
    {
     "name": "stderr",
     "output_type": "stream",
     "text": [
      "C:\\Users\\marli\\AppData\\Local\\Temp\\ipykernel_10136\\838563138.py:38: FutureWarning: The frame.append method is deprecated and will be removed from pandas in a future version. Use pandas.concat instead.\n",
      "  data=data.append(output)\n"
     ]
    },
    {
     "name": "stdout",
     "output_type": "stream",
     "text": [
      "1\n",
      "2\n"
     ]
    },
    {
     "name": "stderr",
     "output_type": "stream",
     "text": [
      "C:\\Users\\marli\\AppData\\Local\\Temp\\ipykernel_10136\\838563138.py:38: FutureWarning: The frame.append method is deprecated and will be removed from pandas in a future version. Use pandas.concat instead.\n",
      "  data=data.append(output)\n"
     ]
    },
    {
     "name": "stdout",
     "output_type": "stream",
     "text": [
      "1\n",
      "2\n"
     ]
    },
    {
     "name": "stderr",
     "output_type": "stream",
     "text": [
      "C:\\Users\\marli\\AppData\\Local\\Temp\\ipykernel_10136\\838563138.py:38: FutureWarning: The frame.append method is deprecated and will be removed from pandas in a future version. Use pandas.concat instead.\n",
      "  data=data.append(output)\n"
     ]
    },
    {
     "name": "stdout",
     "output_type": "stream",
     "text": [
      "1\n",
      "2\n",
      "3\n",
      "1\n",
      "2\n",
      "1\n",
      "2\n",
      "3\n",
      "1\n",
      "2\n"
     ]
    },
    {
     "name": "stderr",
     "output_type": "stream",
     "text": [
      "C:\\Users\\marli\\AppData\\Local\\Temp\\ipykernel_10136\\838563138.py:38: FutureWarning: The frame.append method is deprecated and will be removed from pandas in a future version. Use pandas.concat instead.\n",
      "  data=data.append(output)\n"
     ]
    },
    {
     "name": "stdout",
     "output_type": "stream",
     "text": [
      "1\n",
      "2\n"
     ]
    },
    {
     "name": "stderr",
     "output_type": "stream",
     "text": [
      "C:\\Users\\marli\\AppData\\Local\\Temp\\ipykernel_10136\\838563138.py:38: FutureWarning: The frame.append method is deprecated and will be removed from pandas in a future version. Use pandas.concat instead.\n",
      "  data=data.append(output)\n"
     ]
    },
    {
     "name": "stdout",
     "output_type": "stream",
     "text": [
      "1\n",
      "2\n"
     ]
    },
    {
     "name": "stderr",
     "output_type": "stream",
     "text": [
      "C:\\Users\\marli\\AppData\\Local\\Temp\\ipykernel_10136\\838563138.py:38: FutureWarning: The frame.append method is deprecated and will be removed from pandas in a future version. Use pandas.concat instead.\n",
      "  data=data.append(output)\n"
     ]
    },
    {
     "name": "stdout",
     "output_type": "stream",
     "text": [
      "1\n",
      "2\n",
      "1\n",
      "2\n"
     ]
    },
    {
     "name": "stderr",
     "output_type": "stream",
     "text": [
      "C:\\Users\\marli\\AppData\\Local\\Temp\\ipykernel_10136\\838563138.py:38: FutureWarning: The frame.append method is deprecated and will be removed from pandas in a future version. Use pandas.concat instead.\n",
      "  data=data.append(output)\n"
     ]
    },
    {
     "name": "stdout",
     "output_type": "stream",
     "text": [
      "1\n",
      "2\n"
     ]
    },
    {
     "name": "stderr",
     "output_type": "stream",
     "text": [
      "C:\\Users\\marli\\AppData\\Local\\Temp\\ipykernel_10136\\838563138.py:38: FutureWarning: The frame.append method is deprecated and will be removed from pandas in a future version. Use pandas.concat instead.\n",
      "  data=data.append(output)\n"
     ]
    },
    {
     "name": "stdout",
     "output_type": "stream",
     "text": [
      "1\n",
      "2\n"
     ]
    },
    {
     "name": "stderr",
     "output_type": "stream",
     "text": [
      "C:\\Users\\marli\\AppData\\Local\\Temp\\ipykernel_10136\\838563138.py:38: FutureWarning: The frame.append method is deprecated and will be removed from pandas in a future version. Use pandas.concat instead.\n",
      "  data=data.append(output)\n"
     ]
    },
    {
     "name": "stdout",
     "output_type": "stream",
     "text": [
      "1\n",
      "2\n",
      "1\n",
      "2\n"
     ]
    },
    {
     "name": "stderr",
     "output_type": "stream",
     "text": [
      "C:\\Users\\marli\\AppData\\Local\\Temp\\ipykernel_10136\\838563138.py:38: FutureWarning: The frame.append method is deprecated and will be removed from pandas in a future version. Use pandas.concat instead.\n",
      "  data=data.append(output)\n"
     ]
    },
    {
     "name": "stdout",
     "output_type": "stream",
     "text": [
      "1\n",
      "2\n"
     ]
    },
    {
     "name": "stderr",
     "output_type": "stream",
     "text": [
      "C:\\Users\\marli\\AppData\\Local\\Temp\\ipykernel_10136\\838563138.py:38: FutureWarning: The frame.append method is deprecated and will be removed from pandas in a future version. Use pandas.concat instead.\n",
      "  data=data.append(output)\n"
     ]
    },
    {
     "name": "stdout",
     "output_type": "stream",
     "text": [
      "1\n",
      "2\n"
     ]
    },
    {
     "name": "stderr",
     "output_type": "stream",
     "text": [
      "C:\\Users\\marli\\AppData\\Local\\Temp\\ipykernel_10136\\838563138.py:38: FutureWarning: The frame.append method is deprecated and will be removed from pandas in a future version. Use pandas.concat instead.\n",
      "  data=data.append(output)\n"
     ]
    },
    {
     "name": "stdout",
     "output_type": "stream",
     "text": [
      "1\n",
      "2\n",
      "1\n",
      "2\n"
     ]
    },
    {
     "name": "stderr",
     "output_type": "stream",
     "text": [
      "C:\\Users\\marli\\AppData\\Local\\Temp\\ipykernel_10136\\838563138.py:38: FutureWarning: The frame.append method is deprecated and will be removed from pandas in a future version. Use pandas.concat instead.\n",
      "  data=data.append(output)\n"
     ]
    },
    {
     "name": "stdout",
     "output_type": "stream",
     "text": [
      "1\n",
      "2\n"
     ]
    },
    {
     "name": "stderr",
     "output_type": "stream",
     "text": [
      "C:\\Users\\marli\\AppData\\Local\\Temp\\ipykernel_10136\\838563138.py:38: FutureWarning: The frame.append method is deprecated and will be removed from pandas in a future version. Use pandas.concat instead.\n",
      "  data=data.append(output)\n"
     ]
    },
    {
     "name": "stdout",
     "output_type": "stream",
     "text": [
      "1\n",
      "2\n"
     ]
    },
    {
     "name": "stderr",
     "output_type": "stream",
     "text": [
      "C:\\Users\\marli\\AppData\\Local\\Temp\\ipykernel_10136\\838563138.py:38: FutureWarning: The frame.append method is deprecated and will be removed from pandas in a future version. Use pandas.concat instead.\n",
      "  data=data.append(output)\n"
     ]
    },
    {
     "name": "stdout",
     "output_type": "stream",
     "text": [
      "1\n",
      "2\n",
      "1\n",
      "2\n"
     ]
    },
    {
     "name": "stderr",
     "output_type": "stream",
     "text": [
      "C:\\Users\\marli\\AppData\\Local\\Temp\\ipykernel_10136\\838563138.py:38: FutureWarning: The frame.append method is deprecated and will be removed from pandas in a future version. Use pandas.concat instead.\n",
      "  data=data.append(output)\n"
     ]
    },
    {
     "name": "stdout",
     "output_type": "stream",
     "text": [
      "1\n",
      "2\n"
     ]
    },
    {
     "name": "stderr",
     "output_type": "stream",
     "text": [
      "C:\\Users\\marli\\AppData\\Local\\Temp\\ipykernel_10136\\838563138.py:38: FutureWarning: The frame.append method is deprecated and will be removed from pandas in a future version. Use pandas.concat instead.\n",
      "  data=data.append(output)\n"
     ]
    },
    {
     "name": "stdout",
     "output_type": "stream",
     "text": [
      "1\n",
      "2\n"
     ]
    },
    {
     "name": "stderr",
     "output_type": "stream",
     "text": [
      "C:\\Users\\marli\\AppData\\Local\\Temp\\ipykernel_10136\\838563138.py:38: FutureWarning: The frame.append method is deprecated and will be removed from pandas in a future version. Use pandas.concat instead.\n",
      "  data=data.append(output)\n"
     ]
    },
    {
     "name": "stdout",
     "output_type": "stream",
     "text": [
      "1\n",
      "2\n",
      "1\n",
      "2\n"
     ]
    },
    {
     "name": "stderr",
     "output_type": "stream",
     "text": [
      "C:\\Users\\marli\\AppData\\Local\\Temp\\ipykernel_10136\\838563138.py:38: FutureWarning: The frame.append method is deprecated and will be removed from pandas in a future version. Use pandas.concat instead.\n",
      "  data=data.append(output)\n"
     ]
    },
    {
     "name": "stdout",
     "output_type": "stream",
     "text": [
      "1\n",
      "2\n"
     ]
    },
    {
     "name": "stderr",
     "output_type": "stream",
     "text": [
      "C:\\Users\\marli\\AppData\\Local\\Temp\\ipykernel_10136\\838563138.py:38: FutureWarning: The frame.append method is deprecated and will be removed from pandas in a future version. Use pandas.concat instead.\n",
      "  data=data.append(output)\n"
     ]
    },
    {
     "name": "stdout",
     "output_type": "stream",
     "text": [
      "1\n",
      "2\n"
     ]
    },
    {
     "name": "stderr",
     "output_type": "stream",
     "text": [
      "C:\\Users\\marli\\AppData\\Local\\Temp\\ipykernel_10136\\838563138.py:38: FutureWarning: The frame.append method is deprecated and will be removed from pandas in a future version. Use pandas.concat instead.\n",
      "  data=data.append(output)\n"
     ]
    },
    {
     "name": "stdout",
     "output_type": "stream",
     "text": [
      "1\n",
      "2\n",
      "1\n",
      "2\n"
     ]
    },
    {
     "name": "stderr",
     "output_type": "stream",
     "text": [
      "C:\\Users\\marli\\AppData\\Local\\Temp\\ipykernel_10136\\838563138.py:38: FutureWarning: The frame.append method is deprecated and will be removed from pandas in a future version. Use pandas.concat instead.\n",
      "  data=data.append(output)\n"
     ]
    },
    {
     "name": "stdout",
     "output_type": "stream",
     "text": [
      "1\n",
      "2\n"
     ]
    },
    {
     "name": "stderr",
     "output_type": "stream",
     "text": [
      "C:\\Users\\marli\\AppData\\Local\\Temp\\ipykernel_10136\\838563138.py:38: FutureWarning: The frame.append method is deprecated and will be removed from pandas in a future version. Use pandas.concat instead.\n",
      "  data=data.append(output)\n"
     ]
    },
    {
     "name": "stdout",
     "output_type": "stream",
     "text": [
      "1\n",
      "2\n",
      "3\n",
      "1\n",
      "2\n",
      "3\n",
      "1\n",
      "2\n",
      "3\n",
      "1\n",
      "2\n"
     ]
    },
    {
     "name": "stderr",
     "output_type": "stream",
     "text": [
      "C:\\Users\\marli\\AppData\\Local\\Temp\\ipykernel_10136\\838563138.py:38: FutureWarning: The frame.append method is deprecated and will be removed from pandas in a future version. Use pandas.concat instead.\n",
      "  data=data.append(output)\n"
     ]
    },
    {
     "name": "stdout",
     "output_type": "stream",
     "text": [
      "1\n",
      "2\n",
      "3\n",
      "1\n",
      "2\n",
      "3\n",
      "1\n",
      "2\n",
      "1\n",
      "2\n"
     ]
    },
    {
     "name": "stderr",
     "output_type": "stream",
     "text": [
      "C:\\Users\\marli\\AppData\\Local\\Temp\\ipykernel_10136\\838563138.py:38: FutureWarning: The frame.append method is deprecated and will be removed from pandas in a future version. Use pandas.concat instead.\n",
      "  data=data.append(output)\n"
     ]
    },
    {
     "name": "stdout",
     "output_type": "stream",
     "text": [
      "1\n",
      "2\n"
     ]
    },
    {
     "name": "stderr",
     "output_type": "stream",
     "text": [
      "C:\\Users\\marli\\AppData\\Local\\Temp\\ipykernel_10136\\838563138.py:38: FutureWarning: The frame.append method is deprecated and will be removed from pandas in a future version. Use pandas.concat instead.\n",
      "  data=data.append(output)\n"
     ]
    },
    {
     "name": "stdout",
     "output_type": "stream",
     "text": [
      "1\n",
      "2\n"
     ]
    },
    {
     "name": "stderr",
     "output_type": "stream",
     "text": [
      "C:\\Users\\marli\\AppData\\Local\\Temp\\ipykernel_10136\\838563138.py:38: FutureWarning: The frame.append method is deprecated and will be removed from pandas in a future version. Use pandas.concat instead.\n",
      "  data=data.append(output)\n"
     ]
    },
    {
     "name": "stdout",
     "output_type": "stream",
     "text": [
      "1\n",
      "2\n",
      "1\n",
      "2\n"
     ]
    },
    {
     "name": "stderr",
     "output_type": "stream",
     "text": [
      "C:\\Users\\marli\\AppData\\Local\\Temp\\ipykernel_10136\\838563138.py:38: FutureWarning: The frame.append method is deprecated and will be removed from pandas in a future version. Use pandas.concat instead.\n",
      "  data=data.append(output)\n"
     ]
    },
    {
     "name": "stdout",
     "output_type": "stream",
     "text": [
      "1\n",
      "2\n"
     ]
    },
    {
     "name": "stderr",
     "output_type": "stream",
     "text": [
      "C:\\Users\\marli\\AppData\\Local\\Temp\\ipykernel_10136\\838563138.py:38: FutureWarning: The frame.append method is deprecated and will be removed from pandas in a future version. Use pandas.concat instead.\n",
      "  data=data.append(output)\n"
     ]
    },
    {
     "name": "stdout",
     "output_type": "stream",
     "text": [
      "1\n",
      "2\n"
     ]
    },
    {
     "name": "stderr",
     "output_type": "stream",
     "text": [
      "C:\\Users\\marli\\AppData\\Local\\Temp\\ipykernel_10136\\838563138.py:38: FutureWarning: The frame.append method is deprecated and will be removed from pandas in a future version. Use pandas.concat instead.\n",
      "  data=data.append(output)\n"
     ]
    },
    {
     "name": "stdout",
     "output_type": "stream",
     "text": [
      "1\n",
      "2\n",
      "1\n",
      "2\n",
      "3\n",
      "1\n",
      "2\n"
     ]
    },
    {
     "name": "stderr",
     "output_type": "stream",
     "text": [
      "C:\\Users\\marli\\AppData\\Local\\Temp\\ipykernel_10136\\838563138.py:38: FutureWarning: The frame.append method is deprecated and will be removed from pandas in a future version. Use pandas.concat instead.\n",
      "  data=data.append(output)\n"
     ]
    },
    {
     "name": "stdout",
     "output_type": "stream",
     "text": [
      "1\n",
      "2\n",
      "3\n",
      "1\n",
      "2\n"
     ]
    },
    {
     "name": "stderr",
     "output_type": "stream",
     "text": [
      "C:\\Users\\marli\\AppData\\Local\\Temp\\ipykernel_10136\\838563138.py:38: FutureWarning: The frame.append method is deprecated and will be removed from pandas in a future version. Use pandas.concat instead.\n",
      "  data=data.append(output)\n"
     ]
    },
    {
     "name": "stdout",
     "output_type": "stream",
     "text": [
      "1\n",
      "2\n"
     ]
    },
    {
     "name": "stderr",
     "output_type": "stream",
     "text": [
      "C:\\Users\\marli\\AppData\\Local\\Temp\\ipykernel_10136\\838563138.py:38: FutureWarning: The frame.append method is deprecated and will be removed from pandas in a future version. Use pandas.concat instead.\n",
      "  data=data.append(output)\n"
     ]
    },
    {
     "name": "stdout",
     "output_type": "stream",
     "text": [
      "1\n",
      "2\n"
     ]
    },
    {
     "name": "stderr",
     "output_type": "stream",
     "text": [
      "C:\\Users\\marli\\AppData\\Local\\Temp\\ipykernel_10136\\838563138.py:38: FutureWarning: The frame.append method is deprecated and will be removed from pandas in a future version. Use pandas.concat instead.\n",
      "  data=data.append(output)\n"
     ]
    },
    {
     "name": "stdout",
     "output_type": "stream",
     "text": [
      "1\n",
      "2\n"
     ]
    },
    {
     "name": "stderr",
     "output_type": "stream",
     "text": [
      "C:\\Users\\marli\\AppData\\Local\\Temp\\ipykernel_10136\\838563138.py:38: FutureWarning: The frame.append method is deprecated and will be removed from pandas in a future version. Use pandas.concat instead.\n",
      "  data=data.append(output)\n"
     ]
    },
    {
     "name": "stdout",
     "output_type": "stream",
     "text": [
      "1\n",
      "2\n"
     ]
    },
    {
     "name": "stderr",
     "output_type": "stream",
     "text": [
      "C:\\Users\\marli\\AppData\\Local\\Temp\\ipykernel_10136\\838563138.py:38: FutureWarning: The frame.append method is deprecated and will be removed from pandas in a future version. Use pandas.concat instead.\n",
      "  data=data.append(output)\n"
     ]
    },
    {
     "name": "stdout",
     "output_type": "stream",
     "text": [
      "1\n",
      "2\n"
     ]
    },
    {
     "name": "stderr",
     "output_type": "stream",
     "text": [
      "C:\\Users\\marli\\AppData\\Local\\Temp\\ipykernel_10136\\838563138.py:38: FutureWarning: The frame.append method is deprecated and will be removed from pandas in a future version. Use pandas.concat instead.\n",
      "  data=data.append(output)\n"
     ]
    },
    {
     "name": "stdout",
     "output_type": "stream",
     "text": [
      "1\n",
      "2\n"
     ]
    }
   ],
   "source": [
    "players_esp_adv=get_players_adv(1)\n",
    "cols = players_esp_adv.columns.drop(['Team','Year','Player'])\n",
    "players_esp_adv[cols]=players_esp_adv[cols].apply(lambda x: x.str.replace(',',''))\n",
    "players_esp_adv[cols] = players_esp_adv[cols].apply(pd.to_numeric, errors='coerce')\n",
    "players_esp_adv.to_csv('players_esp_adv.csv',index=False)"
   ]
  },
  {
   "cell_type": "code",
   "execution_count": 22,
   "id": "9732c56e",
   "metadata": {
    "scrolled": true
   },
   "outputs": [
    {
     "name": "stdout",
     "output_type": "stream",
     "text": [
      "VTB-United-League\n"
     ]
    },
    {
     "name": "stderr",
     "output_type": "stream",
     "text": [
      "C:\\Users\\marli\\AppData\\Local\\Temp\\ipykernel_10136\\2033483725.py:35: FutureWarning: The frame.append method is deprecated and will be removed from pandas in a future version. Use pandas.concat instead.\n",
      "  data=data.append(output)\n",
      "C:\\Users\\marli\\AppData\\Local\\Temp\\ipykernel_10136\\2033483725.py:35: FutureWarning: The frame.append method is deprecated and will be removed from pandas in a future version. Use pandas.concat instead.\n",
      "  data=data.append(output)\n",
      "C:\\Users\\marli\\AppData\\Local\\Temp\\ipykernel_10136\\2033483725.py:35: FutureWarning: The frame.append method is deprecated and will be removed from pandas in a future version. Use pandas.concat instead.\n",
      "  data=data.append(output)\n",
      "C:\\Users\\marli\\AppData\\Local\\Temp\\ipykernel_10136\\2033483725.py:35: FutureWarning: The frame.append method is deprecated and will be removed from pandas in a future version. Use pandas.concat instead.\n",
      "  data=data.append(output)\n",
      "C:\\Users\\marli\\AppData\\Local\\Temp\\ipykernel_10136\\2033483725.py:35: FutureWarning: The frame.append method is deprecated and will be removed from pandas in a future version. Use pandas.concat instead.\n",
      "  data=data.append(output)\n",
      "C:\\Users\\marli\\AppData\\Local\\Temp\\ipykernel_10136\\2033483725.py:35: FutureWarning: The frame.append method is deprecated and will be removed from pandas in a future version. Use pandas.concat instead.\n",
      "  data=data.append(output)\n",
      "C:\\Users\\marli\\AppData\\Local\\Temp\\ipykernel_10136\\2033483725.py:35: FutureWarning: The frame.append method is deprecated and will be removed from pandas in a future version. Use pandas.concat instead.\n",
      "  data=data.append(output)\n",
      "C:\\Users\\marli\\AppData\\Local\\Temp\\ipykernel_10136\\2033483725.py:35: FutureWarning: The frame.append method is deprecated and will be removed from pandas in a future version. Use pandas.concat instead.\n",
      "  data=data.append(output)\n",
      "C:\\Users\\marli\\AppData\\Local\\Temp\\ipykernel_10136\\2033483725.py:35: FutureWarning: The frame.append method is deprecated and will be removed from pandas in a future version. Use pandas.concat instead.\n",
      "  data=data.append(output)\n",
      "C:\\Users\\marli\\AppData\\Local\\Temp\\ipykernel_10136\\2033483725.py:35: FutureWarning: The frame.append method is deprecated and will be removed from pandas in a future version. Use pandas.concat instead.\n",
      "  data=data.append(output)\n",
      "C:\\Users\\marli\\AppData\\Local\\Temp\\ipykernel_10136\\2033483725.py:35: FutureWarning: The frame.append method is deprecated and will be removed from pandas in a future version. Use pandas.concat instead.\n",
      "  data=data.append(output)\n",
      "C:\\Users\\marli\\AppData\\Local\\Temp\\ipykernel_10136\\2033483725.py:35: FutureWarning: The frame.append method is deprecated and will be removed from pandas in a future version. Use pandas.concat instead.\n",
      "  data=data.append(output)\n",
      "C:\\Users\\marli\\AppData\\Local\\Temp\\ipykernel_10136\\2033483725.py:35: FutureWarning: The frame.append method is deprecated and will be removed from pandas in a future version. Use pandas.concat instead.\n",
      "  data=data.append(output)\n",
      "C:\\Users\\marli\\AppData\\Local\\Temp\\ipykernel_10136\\2033483725.py:35: FutureWarning: The frame.append method is deprecated and will be removed from pandas in a future version. Use pandas.concat instead.\n",
      "  data=data.append(output)\n",
      "C:\\Users\\marli\\AppData\\Local\\Temp\\ipykernel_10136\\2033483725.py:35: FutureWarning: The frame.append method is deprecated and will be removed from pandas in a future version. Use pandas.concat instead.\n",
      "  data=data.append(output)\n",
      "C:\\Users\\marli\\AppData\\Local\\Temp\\ipykernel_10136\\2033483725.py:35: FutureWarning: The frame.append method is deprecated and will be removed from pandas in a future version. Use pandas.concat instead.\n",
      "  data=data.append(output)\n",
      "C:\\Users\\marli\\AppData\\Local\\Temp\\ipykernel_10136\\2033483725.py:35: FutureWarning: The frame.append method is deprecated and will be removed from pandas in a future version. Use pandas.concat instead.\n",
      "  data=data.append(output)\n",
      "C:\\Users\\marli\\AppData\\Local\\Temp\\ipykernel_10136\\2033483725.py:35: FutureWarning: The frame.append method is deprecated and will be removed from pandas in a future version. Use pandas.concat instead.\n",
      "  data=data.append(output)\n",
      "C:\\Users\\marli\\AppData\\Local\\Temp\\ipykernel_10136\\2033483725.py:35: FutureWarning: The frame.append method is deprecated and will be removed from pandas in a future version. Use pandas.concat instead.\n",
      "  data=data.append(output)\n",
      "C:\\Users\\marli\\AppData\\Local\\Temp\\ipykernel_10136\\2033483725.py:35: FutureWarning: The frame.append method is deprecated and will be removed from pandas in a future version. Use pandas.concat instead.\n",
      "  data=data.append(output)\n",
      "C:\\Users\\marli\\AppData\\Local\\Temp\\ipykernel_10136\\2033483725.py:35: FutureWarning: The frame.append method is deprecated and will be removed from pandas in a future version. Use pandas.concat instead.\n",
      "  data=data.append(output)\n",
      "C:\\Users\\marli\\AppData\\Local\\Temp\\ipykernel_10136\\2033483725.py:35: FutureWarning: The frame.append method is deprecated and will be removed from pandas in a future version. Use pandas.concat instead.\n",
      "  data=data.append(output)\n",
      "C:\\Users\\marli\\AppData\\Local\\Temp\\ipykernel_10136\\2033483725.py:35: FutureWarning: The frame.append method is deprecated and will be removed from pandas in a future version. Use pandas.concat instead.\n",
      "  data=data.append(output)\n",
      "C:\\Users\\marli\\AppData\\Local\\Temp\\ipykernel_10136\\2033483725.py:35: FutureWarning: The frame.append method is deprecated and will be removed from pandas in a future version. Use pandas.concat instead.\n",
      "  data=data.append(output)\n",
      "C:\\Users\\marli\\AppData\\Local\\Temp\\ipykernel_10136\\2033483725.py:35: FutureWarning: The frame.append method is deprecated and will be removed from pandas in a future version. Use pandas.concat instead.\n",
      "  data=data.append(output)\n",
      "C:\\Users\\marli\\AppData\\Local\\Temp\\ipykernel_10136\\2033483725.py:35: FutureWarning: The frame.append method is deprecated and will be removed from pandas in a future version. Use pandas.concat instead.\n",
      "  data=data.append(output)\n",
      "C:\\Users\\marli\\AppData\\Local\\Temp\\ipykernel_10136\\2033483725.py:35: FutureWarning: The frame.append method is deprecated and will be removed from pandas in a future version. Use pandas.concat instead.\n",
      "  data=data.append(output)\n",
      "C:\\Users\\marli\\AppData\\Local\\Temp\\ipykernel_10136\\2033483725.py:35: FutureWarning: The frame.append method is deprecated and will be removed from pandas in a future version. Use pandas.concat instead.\n",
      "  data=data.append(output)\n",
      "C:\\Users\\marli\\AppData\\Local\\Temp\\ipykernel_10136\\2033483725.py:35: FutureWarning: The frame.append method is deprecated and will be removed from pandas in a future version. Use pandas.concat instead.\n",
      "  data=data.append(output)\n",
      "C:\\Users\\marli\\AppData\\Local\\Temp\\ipykernel_10136\\2033483725.py:35: FutureWarning: The frame.append method is deprecated and will be removed from pandas in a future version. Use pandas.concat instead.\n",
      "  data=data.append(output)\n",
      "C:\\Users\\marli\\AppData\\Local\\Temp\\ipykernel_10136\\2033483725.py:35: FutureWarning: The frame.append method is deprecated and will be removed from pandas in a future version. Use pandas.concat instead.\n",
      "  data=data.append(output)\n"
     ]
    }
   ],
   "source": [
    "players=get_players_adv(2)\n",
    "cols = players.columns.drop(['Team','Year','Player'])\n",
    "players[cols]=players[cols].apply(lambda x: x.str.replace(',',''))\n",
    "players[cols] = players[cols].apply(pd.to_numeric, errors='coerce')\n",
    "players.to_csv('players_it_adv.csv',index=False)"
   ]
  },
  {
   "cell_type": "code",
   "execution_count": null,
   "id": "99d6e0f6",
   "metadata": {},
   "outputs": [],
   "source": [
    "players=get_players_adv(3)\n",
    "cols = players.columns.drop(['Team','Year','Player'])\n",
    "players[cols]=players[cols].apply(lambda x: x.str.replace(',',''))\n",
    "players[cols] = players[cols].apply(pd.to_numeric, errors='coerce')\n",
    "players.to_csv('players_tur_adv.csv',index=False)"
   ]
  },
  {
   "cell_type": "code",
   "execution_count": null,
   "id": "8391cf5b",
   "metadata": {},
   "outputs": [],
   "source": [
    "players=get_players_adv(4)\n",
    "cols = players.columns.drop(['Team','Year','Player'])\n",
    "players[cols]=players[cols].apply(lambda x: x.str.replace(',',''))\n",
    "players[cols] = players[cols].apply(pd.to_numeric, errors='coerce')\n",
    "players.to_csv('players_gr_adv.csv',index=False)"
   ]
  },
  {
   "cell_type": "code",
   "execution_count": null,
   "id": "e75b64e4",
   "metadata": {},
   "outputs": [],
   "source": [
    "players=get_players_adv(5)\n",
    "cols = players.columns.drop(['Team','Year','Player'])\n",
    "players[cols]=players[cols].apply(lambda x: x.str.replace(',',''))\n",
    "players[cols] = players[cols].apply(pd.to_numeric, errors='coerce')\n",
    "players.to_csv('players_fr_adv.csv',index=False)"
   ]
  },
  {
   "cell_type": "code",
   "execution_count": null,
   "id": "c3e894d2",
   "metadata": {},
   "outputs": [],
   "source": [
    "players=get_players_adv(6)\n",
    "cols = players.columns.drop(['Team','Year','Player'])\n",
    "players[cols]=players[cols].apply(lambda x: x.str.replace(',',''))\n",
    "players[cols] = players[cols].apply(pd.to_numeric, errors='coerce')\n",
    "players.to_csv('players_adr_adv.csv',index=False)"
   ]
  },
  {
   "cell_type": "code",
   "execution_count": null,
   "id": "c1192640",
   "metadata": {},
   "outputs": [],
   "source": [
    "players=get_players_adv(7)\n",
    "cols = players.columns.drop(['Team','Year','Player'])\n",
    "players[cols]=players[cols].apply(lambda x: x.str.replace(',',''))\n",
    "players[cols] = players[cols].apply(pd.to_numeric, errors='coerce')\n",
    "players.to_csv('players_rus_adv.csv',index=False)"
   ]
  }
 ],
 "metadata": {
  "kernelspec": {
   "display_name": "Python 3 (ipykernel)",
   "language": "python",
   "name": "python3"
  },
  "language_info": {
   "codemirror_mode": {
    "name": "ipython",
    "version": 3
   },
   "file_extension": ".py",
   "mimetype": "text/x-python",
   "name": "python",
   "nbconvert_exporter": "python",
   "pygments_lexer": "ipython3",
   "version": "3.9.12"
  }
 },
 "nbformat": 4,
 "nbformat_minor": 5
}
