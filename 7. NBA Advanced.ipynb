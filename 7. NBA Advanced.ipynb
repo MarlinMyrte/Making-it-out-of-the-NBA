{
 "cells": [
  {
   "cell_type": "code",
   "execution_count": 1,
   "id": "bd3b4185",
   "metadata": {},
   "outputs": [],
   "source": [
    "import numpy as np\n",
    "import pandas as pd"
   ]
  },
  {
   "cell_type": "code",
   "execution_count": 46,
   "id": "e1b0cef3",
   "metadata": {},
   "outputs": [],
   "source": [
    "data_21_22=pd.read_csv(\"Data/NBA/Team Box Scores/Games_data_21-22.csv\")"
   ]
  },
  {
   "cell_type": "code",
   "execution_count": 47,
   "id": "35966414",
   "metadata": {},
   "outputs": [],
   "source": [
    "data_21_22_home=data_21_22.drop(data_21_22[(data_21_22.index % 2)!=0].index)\n",
    "data_21_22_away=data_21_22.drop(data_21_22[(data_21_22.index % 2)==0].index)"
   ]
  },
  {
   "cell_type": "code",
   "execution_count": 48,
   "id": "65bd5843",
   "metadata": {},
   "outputs": [],
   "source": [
    "data_21_22_home.reset_index(drop=True,inplace=True)\n",
    "data_21_22_away.reset_index(drop=True,inplace=True)"
   ]
  },
  {
   "cell_type": "code",
   "execution_count": 49,
   "id": "1bc36769",
   "metadata": {},
   "outputs": [],
   "source": [
    "data_21_22_home_new=data_21_22_home.join(data_21_22_away,rsuffix='_Opp')\n",
    "data_21_22_away_new=data_21_22_away.join(data_21_22_home,rsuffix='_Opp')"
   ]
  },
  {
   "cell_type": "code",
   "execution_count": 50,
   "id": "d9cbd4ed",
   "metadata": {},
   "outputs": [
    {
     "name": "stderr",
     "output_type": "stream",
     "text": [
      "C:\\Users\\marli\\AppData\\Local\\Temp\\ipykernel_10988\\992322494.py:1: FutureWarning: The frame.append method is deprecated and will be removed from pandas in a future version. Use pandas.concat instead.\n",
      "  data_21_22=data_21_22_home_new.append(data_21_22_away_new)\n"
     ]
    }
   ],
   "source": [
    "data_21_22=data_21_22_home_new.append(data_21_22_away_new)"
   ]
  },
  {
   "cell_type": "code",
   "execution_count": 51,
   "id": "4b1061d5",
   "metadata": {},
   "outputs": [],
   "source": [
    "data_21_22['Year']='2021-2022'\n",
    "data_21_22['Away Poss']=data_21_22['FGA_Opp']+0.44*data_21_22['FTA_Opp']-1.07*(data_21_22['OREB_Opp']/(data_21_22['OREB_Opp']+data_21_22['DREB']))*(data_21_22['FGA_Opp']-data_21_22['FGM_Opp'])+data_21_22['TOV_Opp']"
   ]
  },
  {
   "cell_type": "code",
   "execution_count": 116,
   "id": "ae0d8158",
   "metadata": {},
   "outputs": [],
   "source": [
    "data_21_22['id']=data_21_22['TEAM_ABBREVIATION']+data_21_22['Year']\n",
    "data_21_22['2PA']=data_21_22['FGA']-data_21_22['FG3A']\n",
    "data_21_22_pv=pd.pivot_table(data_21_22,index='id', values=['Away Poss','STL','BLK','2PA','AST','FGM'],aggfunc='sum')"
   ]
  },
  {
   "cell_type": "code",
   "execution_count": 229,
   "id": "9006d87b",
   "metadata": {
    "scrolled": false
   },
   "outputs": [
    {
     "name": "stderr",
     "output_type": "stream",
     "text": [
      "C:\\Users\\marli\\AppData\\Local\\Temp\\ipykernel_10988\\680015340.py:1: DtypeWarning: Columns (58,64,65,68,79,93) have mixed types. Specify dtype option on import or set low_memory=False.\n",
      "  data_00_21=pd.read_csv(\"Data/NBA/Team Box Scores/Games_data_00-21.csv\")\n"
     ]
    }
   ],
   "source": [
    "data_00_21=pd.read_csv(\"Data/NBA/Team Box Scores/Games_data_00-21.csv\")"
   ]
  },
  {
   "cell_type": "code",
   "execution_count": 230,
   "id": "83816467",
   "metadata": {},
   "outputs": [],
   "source": [
    "data_00_21=data_00_21[data_00_21['SEASON_ID']>=22000]"
   ]
  },
  {
   "cell_type": "code",
   "execution_count": 231,
   "id": "6b66423f",
   "metadata": {},
   "outputs": [],
   "source": [
    "data_00_21=data_00_21.drop_duplicates(subset='GAME_ID')"
   ]
  },
  {
   "cell_type": "code",
   "execution_count": 232,
   "id": "9b623311",
   "metadata": {},
   "outputs": [],
   "source": [
    "data_00_21['Year']=data_00_21['SEASON_ID'].apply(lambda x: str(x-20000)+'-'+str(x-20000+1))"
   ]
  },
  {
   "cell_type": "code",
   "execution_count": 233,
   "id": "e0cee11f",
   "metadata": {},
   "outputs": [],
   "source": [
    "data_00_21_home=data_00_21.copy()\n",
    "data_00_21_away=data_00_21.copy()"
   ]
  },
  {
   "cell_type": "code",
   "execution_count": 234,
   "id": "e860b6b5",
   "metadata": {},
   "outputs": [],
   "source": [
    "data_00_21_home['Away Poss']=data_00_21_home['FGA_AWAY']+0.44*data_00_21_home['FTA_AWAY']-1.07*(data_00_21_home['OREB_AWAY']/(data_00_21_home['OREB_AWAY']+data_00_21_home['DREB_HOME']))*(data_00_21_home['FGA_AWAY']-data_00_21_home['FGM_AWAY'])+data_00_21_home['TOV_AWAY']\n",
    "data_00_21_away['Away Poss']=data_00_21_away['FGA_HOME']+0.44*data_00_21_away['FTA_HOME']-1.07*(data_00_21_away['OREB_HOME']/(data_00_21_away['OREB_HOME']+data_00_21_away['DREB_AWAY']))*(data_00_21_away['FGA_HOME']-data_00_21_away['FGM_HOME'])+data_00_21_away['TOV_HOME']"
   ]
  },
  {
   "cell_type": "code",
   "execution_count": 235,
   "id": "3c054322",
   "metadata": {},
   "outputs": [],
   "source": [
    "data_00_21_home['id']=data_00_21_home['TEAM_ABBREVIATION_HOME']+data_00_21_home['Year']\n",
    "data_00_21_home['2PA']=data_00_21_home['FGA_HOME']-data_00_21_home['FG3A_HOME']\n",
    "data_00_21_home['STL']=data_00_21_home['STL_HOME']\n",
    "data_00_21_home['BLK']=data_00_21_home['BLK_HOME']\n",
    "data_00_21_home['AST']=data_00_21_home['AST_HOME']\n",
    "data_00_21_home['FGM']=data_00_21_home['FGM_HOME']"
   ]
  },
  {
   "cell_type": "code",
   "execution_count": 236,
   "id": "47af70ed",
   "metadata": {},
   "outputs": [],
   "source": [
    "data_00_21_away['id']=data_00_21_away['TEAM_ABBREVIATION_AWAY']+data_00_21_away['Year']\n",
    "data_00_21_away['2PA']=data_00_21_away['FGA_AWAY']-data_00_21_away['FG3A_AWAY']\n",
    "data_00_21_away['STL']=data_00_21_away['STL_AWAY']\n",
    "data_00_21_away['BLK']=data_00_21_away['BLK_AWAY']\n",
    "data_00_21_away['AST']=data_00_21_away['AST_AWAY']\n",
    "data_00_21_away['FGM']=data_00_21_away['FGM_AWAY']"
   ]
  },
  {
   "cell_type": "code",
   "execution_count": 237,
   "id": "c14d768b",
   "metadata": {
    "scrolled": false
   },
   "outputs": [
    {
     "name": "stderr",
     "output_type": "stream",
     "text": [
      "C:\\Users\\marli\\AppData\\Local\\Temp\\ipykernel_10988\\618506948.py:1: FutureWarning: The frame.append method is deprecated and will be removed from pandas in a future version. Use pandas.concat instead.\n",
      "  data_00_21=data_00_21_home.append(data_00_21_away)\n"
     ]
    }
   ],
   "source": [
    "data_00_21=data_00_21_home.append(data_00_21_away)"
   ]
  },
  {
   "cell_type": "code",
   "execution_count": 238,
   "id": "bbfa1c0c",
   "metadata": {
    "scrolled": false
   },
   "outputs": [],
   "source": [
    "data_00_21_pv=pd.pivot_table(data_00_21,index='id', values=['Away Poss','STL','BLK','2PA','AST','FGM'],aggfunc='sum')"
   ]
  },
  {
   "cell_type": "code",
   "execution_count": 241,
   "id": "b8f5b71f",
   "metadata": {},
   "outputs": [
    {
     "name": "stderr",
     "output_type": "stream",
     "text": [
      "C:\\Users\\marli\\AppData\\Local\\Temp\\ipykernel_10988\\829205077.py:1: FutureWarning: The frame.append method is deprecated and will be removed from pandas in a future version. Use pandas.concat instead.\n",
      "  data=data_00_21_pv.append(data_21_22_pv)\n"
     ]
    }
   ],
   "source": [
    "data=data_00_21_pv.append(data_21_22_pv)"
   ]
  },
  {
   "cell_type": "code",
   "execution_count": 259,
   "id": "9c161051",
   "metadata": {},
   "outputs": [],
   "source": [
    "data['Year']=data.index\n",
    "data['Year']=data['Year'].apply(lambda x: x[3:])"
   ]
  },
  {
   "cell_type": "code",
   "execution_count": 263,
   "id": "229e1563",
   "metadata": {},
   "outputs": [],
   "source": [
    "data['Ast%']=data['AST']/data['FGM']*100\n",
    "data['ST%']=data['STL']/data['Away Poss']*100\n",
    "data['BLK%']=data['BLK']/data['2PA']*100"
   ]
  },
  {
   "cell_type": "code",
   "execution_count": 265,
   "id": "1e1b3e5f",
   "metadata": {},
   "outputs": [],
   "source": [
    "data.to_csv('nba_team_adv_for_comparison.csv')"
   ]
  },
  {
   "cell_type": "code",
   "execution_count": null,
   "id": "5f856bba",
   "metadata": {},
   "outputs": [],
   "source": []
  }
 ],
 "metadata": {
  "kernelspec": {
   "display_name": "Python 3 (ipykernel)",
   "language": "python",
   "name": "python3"
  },
  "language_info": {
   "codemirror_mode": {
    "name": "ipython",
    "version": 3
   },
   "file_extension": ".py",
   "mimetype": "text/x-python",
   "name": "python",
   "nbconvert_exporter": "python",
   "pygments_lexer": "ipython3",
   "version": "3.9.12"
  }
 },
 "nbformat": 4,
 "nbformat_minor": 5
}
