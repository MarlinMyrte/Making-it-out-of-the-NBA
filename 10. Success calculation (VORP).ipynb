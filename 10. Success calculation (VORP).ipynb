{
 "cells": [
  {
   "cell_type": "code",
   "execution_count": 1,
   "id": "7e0b0326",
   "metadata": {},
   "outputs": [],
   "source": [
    "import numpy as np\n",
    "import pandas as pd"
   ]
  },
  {
   "cell_type": "code",
   "execution_count": 2,
   "id": "51182800",
   "metadata": {},
   "outputs": [],
   "source": [
    "leagues=['esp','it','tur','gr','fr','rus','adr']"
   ]
  },
  {
   "cell_type": "code",
   "execution_count": 3,
   "id": "5cfee57b",
   "metadata": {},
   "outputs": [
    {
     "name": "stderr",
     "output_type": "stream",
     "text": [
      "C:\\Users\\marli\\AppData\\Local\\Temp\\ipykernel_17368\\2414007061.py:4: FutureWarning: The frame.append method is deprecated and will be removed from pandas in a future version. Use pandas.concat instead.\n",
      "  eur=eur.append(data)\n",
      "C:\\Users\\marli\\AppData\\Local\\Temp\\ipykernel_17368\\2414007061.py:4: FutureWarning: The frame.append method is deprecated and will be removed from pandas in a future version. Use pandas.concat instead.\n",
      "  eur=eur.append(data)\n",
      "C:\\Users\\marli\\AppData\\Local\\Temp\\ipykernel_17368\\2414007061.py:4: FutureWarning: The frame.append method is deprecated and will be removed from pandas in a future version. Use pandas.concat instead.\n",
      "  eur=eur.append(data)\n",
      "C:\\Users\\marli\\AppData\\Local\\Temp\\ipykernel_17368\\2414007061.py:4: FutureWarning: The frame.append method is deprecated and will be removed from pandas in a future version. Use pandas.concat instead.\n",
      "  eur=eur.append(data)\n",
      "C:\\Users\\marli\\AppData\\Local\\Temp\\ipykernel_17368\\2414007061.py:4: FutureWarning: The frame.append method is deprecated and will be removed from pandas in a future version. Use pandas.concat instead.\n",
      "  eur=eur.append(data)\n",
      "C:\\Users\\marli\\AppData\\Local\\Temp\\ipykernel_17368\\2414007061.py:4: FutureWarning: The frame.append method is deprecated and will be removed from pandas in a future version. Use pandas.concat instead.\n",
      "  eur=eur.append(data)\n",
      "C:\\Users\\marli\\AppData\\Local\\Temp\\ipykernel_17368\\2414007061.py:4: FutureWarning: The frame.append method is deprecated and will be removed from pandas in a future version. Use pandas.concat instead.\n",
      "  eur=eur.append(data)\n"
     ]
    }
   ],
   "source": [
    "eur=pd.DataFrame()\n",
    "for i in leagues:\n",
    "    data=pd.read_csv('players_'+i+'_bpm.csv')\n",
    "    eur=eur.append(data)"
   ]
  },
  {
   "cell_type": "code",
   "execution_count": 4,
   "id": "871c1b5b",
   "metadata": {},
   "outputs": [],
   "source": [
    "nba=pd.read_csv('nba_players_adv.csv',encoding='ISO-8859-1')"
   ]
  },
  {
   "cell_type": "code",
   "execution_count": 5,
   "id": "269160dd",
   "metadata": {},
   "outputs": [],
   "source": [
    "euroleague=pd.read_csv('euroleague_players.csv')"
   ]
  },
  {
   "cell_type": "code",
   "execution_count": 6,
   "id": "b09216ee",
   "metadata": {},
   "outputs": [],
   "source": [
    "eur['Off Std Err']=23.8/eur['Min']**(1/2)+0.56\n",
    "eur['Def Std Err']=7.65/eur['Min']**(1/2)+0.91\n",
    "eur['Total Std Err']=(eur['Off Std Err']**2+eur['Def Std Err']**2)**(1/2)\n",
    "\n",
    "nba['Off Std Err']=23.8/nba['MP']**(1/2)+0.56\n",
    "nba['Def Std Err']=7.65/nba['MP']**(1/2)+0.91\n",
    "nba['Total Std Err']=(nba['Off Std Err']**2+nba['Def Std Err']**2)**(1/2)\n",
    "\n",
    "euroleague['Off Std Err']=23.8/euroleague['Min']**(1/2)+0.56\n",
    "euroleague['Def Std Err']=7.65/euroleague['Min']**(1/2)+0.91\n",
    "euroleague['Total Std Err']=(euroleague['Off Std Err']**2+euroleague['Def Std Err']**2)**(1/2)"
   ]
  },
  {
   "cell_type": "code",
   "execution_count": 7,
   "id": "c11a6f37",
   "metadata": {},
   "outputs": [],
   "source": [
    "eur=eur[eur['Total Std Err']<=3]\n",
    "nba=nba[nba['Total Std Err']<=3]\n",
    "euroleague=euroleague[euroleague['Total Std Err']<=3]"
   ]
  },
  {
   "cell_type": "code",
   "execution_count": 8,
   "id": "ec443b92",
   "metadata": {},
   "outputs": [],
   "source": [
    "eur['Player_Name']=eur['Player_Name'].apply(lambda x: x.replace(',',''))"
   ]
  },
  {
   "cell_type": "code",
   "execution_count": 9,
   "id": "ae88409b",
   "metadata": {
    "scrolled": true
   },
   "outputs": [],
   "source": [
    "eur['Player_Upper']=eur['Player_Name'].apply(lambda x: str.upper(x))\n",
    "nba['Player_Upper']=nba['Player'].apply(lambda x: str.upper(x))\n",
    "euroleague['Player_Upper']=euroleague['Player_Name'].apply(lambda x: str.upper(x))"
   ]
  },
  {
   "cell_type": "code",
   "execution_count": 10,
   "id": "d92bce2f",
   "metadata": {},
   "outputs": [],
   "source": [
    "eur['id']=eur['Player_Upper']+eur['year']\n",
    "nba['id']=nba['Player_Upper']+nba['year']\n",
    "euroleague['id']=euroleague['Player_Upper']+euroleague['year']"
   ]
  },
  {
   "cell_type": "code",
   "execution_count": 11,
   "id": "6565dc11",
   "metadata": {},
   "outputs": [],
   "source": [
    "nba_names=nba[['Player_Upper','year']]\n",
    "eur_names=eur[['Player_Upper','year']]\n",
    "euroleague_names=euroleague[['Player_Upper','year']]"
   ]
  },
  {
   "cell_type": "code",
   "execution_count": 12,
   "id": "5577ee8f",
   "metadata": {},
   "outputs": [],
   "source": [
    "eur_names=eur_names[eur_names['Player_Upper'].isin(list(eur_names.merge(nba_names,on='Player_Upper',how='inner')['Player_Upper'].unique()))]\n",
    "euroleague_names=euroleague_names[euroleague_names['Player_Upper'].isin(list(euroleague_names.merge(nba_names,on='Player_Upper',how='inner')['Player_Upper'].unique()))]\n",
    "nba_names_eur=nba_names[nba_names['Player_Upper'].isin(list(eur_names.merge(nba_names,on='Player_Upper',how='inner')['Player_Upper'].unique()))]\n",
    "nba_names_euroleague=nba_names[nba_names['Player_Upper'].isin(list(euroleague_names.merge(nba_names,on='Player_Upper',how='inner')['Player_Upper'].unique()))]"
   ]
  },
  {
   "cell_type": "code",
   "execution_count": 13,
   "id": "6299d084",
   "metadata": {
    "scrolled": false
   },
   "outputs": [
    {
     "name": "stderr",
     "output_type": "stream",
     "text": [
      "C:\\Users\\marli\\AppData\\Local\\Temp\\ipykernel_17368\\3405998059.py:1: FutureWarning: The frame.append method is deprecated and will be removed from pandas in a future version. Use pandas.concat instead.\n",
      "  nba_names=nba_names_eur.append(nba_names_euroleague)\n"
     ]
    }
   ],
   "source": [
    "nba_names=nba_names_eur.append(nba_names_euroleague)"
   ]
  },
  {
   "cell_type": "code",
   "execution_count": 14,
   "id": "68c74e4c",
   "metadata": {},
   "outputs": [],
   "source": [
    "nba_names['id']=nba_names['Player_Upper']+nba_names['year']"
   ]
  },
  {
   "cell_type": "code",
   "execution_count": 15,
   "id": "4ebc4398",
   "metadata": {},
   "outputs": [],
   "source": [
    "nba_names.drop_duplicates('id',inplace=True)"
   ]
  },
  {
   "cell_type": "code",
   "execution_count": 16,
   "id": "36839931",
   "metadata": {},
   "outputs": [],
   "source": [
    "nba_names.drop(columns='id',inplace=True)"
   ]
  },
  {
   "cell_type": "code",
   "execution_count": 17,
   "id": "b9f9cd97",
   "metadata": {},
   "outputs": [],
   "source": [
    "common_eur=eur[eur['Player_Upper'].isin(list(eur_names['Player_Upper'].unique()))]\n",
    "common_nba=nba[nba['Player_Upper'].isin(list(nba_names['Player_Upper'].unique()))]\n",
    "common_euroleague=euroleague[euroleague['Player_Upper'].isin(list(euroleague_names['Player_Upper'].unique()))]"
   ]
  },
  {
   "cell_type": "code",
   "execution_count": 18,
   "id": "21bb5d77",
   "metadata": {},
   "outputs": [
    {
     "name": "stderr",
     "output_type": "stream",
     "text": [
      "C:\\Users\\marli\\AppData\\Local\\Temp\\ipykernel_17368\\3210357965.py:1: SettingWithCopyWarning: \n",
      "A value is trying to be set on a copy of a slice from a DataFrame.\n",
      "Try using .loc[row_indexer,col_indexer] = value instead\n",
      "\n",
      "See the caveats in the documentation: https://pandas.pydata.org/pandas-docs/stable/user_guide/indexing.html#returning-a-view-versus-a-copy\n",
      "  common_eur['league']='EUR'\n",
      "C:\\Users\\marli\\AppData\\Local\\Temp\\ipykernel_17368\\3210357965.py:2: SettingWithCopyWarning: \n",
      "A value is trying to be set on a copy of a slice from a DataFrame.\n",
      "Try using .loc[row_indexer,col_indexer] = value instead\n",
      "\n",
      "See the caveats in the documentation: https://pandas.pydata.org/pandas-docs/stable/user_guide/indexing.html#returning-a-view-versus-a-copy\n",
      "  common_nba['league']='NBA'\n",
      "C:\\Users\\marli\\AppData\\Local\\Temp\\ipykernel_17368\\3210357965.py:3: SettingWithCopyWarning: \n",
      "A value is trying to be set on a copy of a slice from a DataFrame.\n",
      "Try using .loc[row_indexer,col_indexer] = value instead\n",
      "\n",
      "See the caveats in the documentation: https://pandas.pydata.org/pandas-docs/stable/user_guide/indexing.html#returning-a-view-versus-a-copy\n",
      "  common_euroleague['league']='Euroleague'\n"
     ]
    }
   ],
   "source": [
    "common_eur['league']='EUR'\n",
    "common_nba['league']='NBA'\n",
    "common_euroleague['league']='Euroleague'"
   ]
  },
  {
   "cell_type": "code",
   "execution_count": 19,
   "id": "0fdbe469",
   "metadata": {
    "scrolled": true
   },
   "outputs": [],
   "source": [
    "common_nba=common_nba[['Player_Upper','id','year','VORP','MP','league']].sort_values(by='id')\n",
    "common_eur=common_eur[['Player_Upper','id','year','VORP','Min','GP','league']].sort_values(by='id')\n",
    "common_euroleague=common_euroleague[['Player_Upper','id','year','VORP','Min','GP','league']].sort_values(by='id')"
   ]
  },
  {
   "cell_type": "code",
   "execution_count": 20,
   "id": "3ca3331e",
   "metadata": {},
   "outputs": [],
   "source": [
    "df=common_eur[common_eur['id'].duplicated(keep=False)].sort_values(by='id')\n",
    "\n",
    "weights=df.groupby(['Player_Upper','id','year','league']).apply(lambda x: pd.Series([np.average(x['VORP'], weights=x['GP'])], index=['VORP']))\n",
    "\n",
    "df_euroleague=common_euroleague[common_euroleague['id'].duplicated(keep=False)].sort_values(by='id')\n",
    "\n",
    "weights_euroleague=df_euroleague.groupby(['Player_Upper','id','year','league']).apply(lambda x: pd.Series([np.average(x['VORP'], weights=x['GP'])], index=['VORP']))"
   ]
  },
  {
   "cell_type": "code",
   "execution_count": 21,
   "id": "d1ff734b",
   "metadata": {},
   "outputs": [],
   "source": [
    "weights.reset_index(inplace=True)\n",
    "\n",
    "weights_euroleague.reset_index(inplace=True)"
   ]
  },
  {
   "cell_type": "code",
   "execution_count": 22,
   "id": "61f75428",
   "metadata": {
    "scrolled": false
   },
   "outputs": [],
   "source": [
    "weights['Min']=0\n",
    "weights_euroleague['Min']=0\n",
    "k=0\n",
    "for i in weights['id']:\n",
    "    weights.iloc[k,5]=common_eur[common_eur['id']==i]['Min'].sum()\n",
    "    k+=1\n",
    "    \n",
    "k=0\n",
    "for i in weights_euroleague['id']:\n",
    "    weights_euroleague.iloc[k,5]=common_euroleague[common_euroleague['id']==i]['Min'].sum()\n",
    "    k+=1"
   ]
  },
  {
   "cell_type": "code",
   "execution_count": 23,
   "id": "8065a768",
   "metadata": {},
   "outputs": [],
   "source": [
    "common_eur.drop(columns='GP',inplace=True)\n",
    "\n",
    "common_euroleague.drop(columns='GP',inplace=True)"
   ]
  },
  {
   "cell_type": "code",
   "execution_count": 24,
   "id": "ffbedd11",
   "metadata": {},
   "outputs": [
    {
     "name": "stderr",
     "output_type": "stream",
     "text": [
      "C:\\Users\\marli\\AppData\\Local\\Temp\\ipykernel_17368\\4169461134.py:1: FutureWarning: The frame.append method is deprecated and will be removed from pandas in a future version. Use pandas.concat instead.\n",
      "  common_eur=common_eur.append(weights)\n",
      "C:\\Users\\marli\\AppData\\Local\\Temp\\ipykernel_17368\\4169461134.py:3: FutureWarning: The frame.append method is deprecated and will be removed from pandas in a future version. Use pandas.concat instead.\n",
      "  common_euroleague=common_euroleague.append(weights_euroleague)\n"
     ]
    }
   ],
   "source": [
    "common_eur=common_eur.append(weights)\n",
    "\n",
    "common_euroleague=common_euroleague.append(weights_euroleague)"
   ]
  },
  {
   "cell_type": "code",
   "execution_count": 25,
   "id": "61d992f1",
   "metadata": {},
   "outputs": [],
   "source": [
    "common_eur.reset_index(drop=True,inplace=True)\n",
    "\n",
    "common_euroleague.reset_index(drop=True,inplace=True)"
   ]
  },
  {
   "cell_type": "code",
   "execution_count": 26,
   "id": "9544ba0f",
   "metadata": {
    "scrolled": true
   },
   "outputs": [],
   "source": [
    "common_eur.drop_duplicates(subset='id',keep='last',inplace=True)\n",
    "\n",
    "common_euroleague.drop_duplicates(subset='id',keep='last',inplace=True)"
   ]
  },
  {
   "cell_type": "code",
   "execution_count": 27,
   "id": "89c7246c",
   "metadata": {},
   "outputs": [],
   "source": [
    "common_eur.sort_values(by='id',ignore_index=True,inplace=True)\n",
    "\n",
    "common_euroleague.sort_values(by='id',ignore_index=True,inplace=True)"
   ]
  },
  {
   "cell_type": "code",
   "execution_count": 28,
   "id": "80c07e61",
   "metadata": {},
   "outputs": [],
   "source": [
    "common_nba.rename(columns={'MP':'Min'},inplace=True)"
   ]
  },
  {
   "cell_type": "code",
   "execution_count": 29,
   "id": "3692bc4a",
   "metadata": {
    "scrolled": true
   },
   "outputs": [
    {
     "name": "stderr",
     "output_type": "stream",
     "text": [
      "C:\\Users\\marli\\AppData\\Local\\Temp\\ipykernel_17368\\1165846611.py:1: FutureWarning: The frame.append method is deprecated and will be removed from pandas in a future version. Use pandas.concat instead.\n",
      "  comb=common_nba.append(common_eur)\n"
     ]
    }
   ],
   "source": [
    "comb=common_nba.append(common_eur)"
   ]
  },
  {
   "cell_type": "code",
   "execution_count": 30,
   "id": "0ee00097",
   "metadata": {},
   "outputs": [
    {
     "name": "stderr",
     "output_type": "stream",
     "text": [
      "C:\\Users\\marli\\AppData\\Local\\Temp\\ipykernel_17368\\4141076311.py:1: FutureWarning: The frame.append method is deprecated and will be removed from pandas in a future version. Use pandas.concat instead.\n",
      "  comb=comb.append(common_euroleague)\n"
     ]
    }
   ],
   "source": [
    "comb=comb.append(common_euroleague)"
   ]
  },
  {
   "cell_type": "code",
   "execution_count": 31,
   "id": "b0f998de",
   "metadata": {},
   "outputs": [],
   "source": [
    "comb=comb.sort_values(by=['id'],ignore_index=True)"
   ]
  },
  {
   "cell_type": "code",
   "execution_count": 32,
   "id": "b5ce73a6",
   "metadata": {},
   "outputs": [],
   "source": [
    "# Some players played in the same season for an NBA Team and a European team and we need to know which happened first\n",
    "comb.to_csv('for_sorting_vorp.csv',index=False)"
   ]
  },
  {
   "cell_type": "code",
   "execution_count": 33,
   "id": "388cb5bd",
   "metadata": {},
   "outputs": [],
   "source": [
    "# To delete ANDRE OWENS, CHRIS JOHNSON, CHRIS WRIGHT, DAVID HARRISON, DEVIN BOOKER, ERIC WILLIAMS, JOE SMITH, JUSTIN ROBINSON,\n",
    "# MARKO SIMONOVIC, MIKE SCOTT, TONY MITCHELL, MICHAEL JORDAN\n",
    "comb=pd.read_csv('sorted_vorp_euroleague.csv')"
   ]
  },
  {
   "cell_type": "code",
   "execution_count": 34,
   "id": "a2cbd8bf",
   "metadata": {},
   "outputs": [],
   "source": [
    "comb=comb[~comb['Player_Upper'].isin(['ANDRE OWENS','CHRIS JOHNSON','CHRIS WRIGHT','DAVID HARRISON', 'DEVIN BOOKER', 'ERIC WILLIAMS', 'JOE SMITH', 'JUSTIN ROBINSON', 'MARKO SIMONOVIC', 'MIKE SCOTT', 'TONY MITCHELL', 'MICHAEL JORDAN'])]"
   ]
  },
  {
   "cell_type": "code",
   "execution_count": 35,
   "id": "af3ccfa1",
   "metadata": {},
   "outputs": [],
   "source": [
    "# THERE ARE 2 MIKE JAMES\n",
    "comb=comb[~comb['id'].isin(['MIKE JAMES2001-2002','MIKE JAMES2002-2003','MIKE JAMES2003-2004','MIKE JAMES2004-2005', 'MIKE JAMES2005-2006', 'MIKE JAMES2006-2007', 'MIKE JAMES2007-2008', 'MIKE JAMES2008-2009', 'MIKE JAMES2009-2010', 'MIKE JAMES2010-2011', 'MIKE JAMES2011-2012','MIKE JAMES2012-2013','MIKE JAMES2013-2014'])]"
   ]
  },
  {
   "cell_type": "code",
   "execution_count": 36,
   "id": "43c1c0fc",
   "metadata": {},
   "outputs": [],
   "source": [
    "# Lockout season\n",
    "comb=comb[comb['lockout']==0]"
   ]
  },
  {
   "cell_type": "code",
   "execution_count": 37,
   "id": "3109696b",
   "metadata": {},
   "outputs": [],
   "source": [
    "lst=[]\n",
    "for i in comb['Player_Upper'].unique():\n",
    "    if comb[comb['Player_Upper']==i]['league'].nunique()==1:\n",
    "        lst.append(i)"
   ]
  },
  {
   "cell_type": "code",
   "execution_count": 38,
   "id": "c548e067",
   "metadata": {},
   "outputs": [],
   "source": [
    "comb=comb[~comb['Player_Upper'].isin(lst)]"
   ]
  },
  {
   "cell_type": "code",
   "execution_count": 39,
   "id": "a6352404",
   "metadata": {},
   "outputs": [],
   "source": [
    "comb.sort_values(by=['id','league'],inplace=True)"
   ]
  },
  {
   "cell_type": "code",
   "execution_count": 40,
   "id": "ddc2f929",
   "metadata": {},
   "outputs": [],
   "source": [
    "comb['is_euroleague']=comb['league'].apply(lambda x: 1 if x=='Euroleague' else 0)\n",
    "comb['league']=comb['league'].apply(lambda x: 'EUR' if x=='Euroleague' else x)"
   ]
  },
  {
   "cell_type": "code",
   "execution_count": 43,
   "id": "116f94a3",
   "metadata": {},
   "outputs": [],
   "source": [
    "comb.sort_values(by=['id','flag'],inplace=True)"
   ]
  },
  {
   "cell_type": "code",
   "execution_count": 44,
   "id": "95218f4d",
   "metadata": {},
   "outputs": [],
   "source": [
    "nba_to_eur=comb.copy()"
   ]
  },
  {
   "cell_type": "code",
   "execution_count": 48,
   "id": "3b8246b9",
   "metadata": {},
   "outputs": [],
   "source": [
    "# 2 back and forth\n",
    "# 3 create new column"
   ]
  },
  {
   "cell_type": "code",
   "execution_count": 49,
   "id": "fb388bf5",
   "metadata": {},
   "outputs": [],
   "source": [
    "nba_to_eur['dum']=nba_to_eur['league'].apply(lambda x: 1 if x=='NBA' else 2)"
   ]
  },
  {
   "cell_type": "code",
   "execution_count": 50,
   "id": "d4a4dd17",
   "metadata": {},
   "outputs": [],
   "source": [
    "nba_to_eur['calc']=nba_to_eur['dum'].diff()"
   ]
  },
  {
   "cell_type": "code",
   "execution_count": 51,
   "id": "0c027dec",
   "metadata": {},
   "outputs": [],
   "source": [
    "for i in range(1,len(nba_to_eur)):\n",
    "    x=nba_to_eur.iloc[i,0]\n",
    "    if x==nba_to_eur.iloc[i-1,0]:\n",
    "        pass\n",
    "    else:\n",
    "        nba_to_eur.iloc[i,10]='First'"
   ]
  },
  {
   "cell_type": "code",
   "execution_count": 52,
   "id": "13c00dfe",
   "metadata": {},
   "outputs": [],
   "source": [
    "nba_to_eur['calc']=nba_to_eur['calc'].fillna('First')"
   ]
  },
  {
   "cell_type": "code",
   "execution_count": 53,
   "id": "b3bfd75f",
   "metadata": {
    "scrolled": true
   },
   "outputs": [],
   "source": [
    "nba_to_eur_list=list(nba_to_eur[nba_to_eur['calc']==1]['Player_Upper'])"
   ]
  },
  {
   "cell_type": "code",
   "execution_count": 54,
   "id": "a42002a4",
   "metadata": {},
   "outputs": [],
   "source": [
    "nba_to_eur=nba_to_eur[nba_to_eur['Player_Upper'].isin(nba_to_eur_list)]"
   ]
  },
  {
   "cell_type": "code",
   "execution_count": 55,
   "id": "d2aac2c9",
   "metadata": {},
   "outputs": [],
   "source": [
    "nba_to_eur.reset_index(drop=True,inplace=True)"
   ]
  },
  {
   "cell_type": "code",
   "execution_count": 56,
   "id": "65ff3412",
   "metadata": {},
   "outputs": [],
   "source": [
    "del_df=pd.DataFrame(index=range(len(nba_to_eur)),columns=['to_delete'])"
   ]
  },
  {
   "cell_type": "code",
   "execution_count": 57,
   "id": "4e03dca0",
   "metadata": {},
   "outputs": [],
   "source": [
    "del_df['to_delete']=0"
   ]
  },
  {
   "cell_type": "code",
   "execution_count": 58,
   "id": "434ec4ca",
   "metadata": {},
   "outputs": [],
   "source": [
    "for i in nba_to_eur['Player_Upper'].unique():\n",
    "    df=nba_to_eur[nba_to_eur['Player_Upper']==i]\n",
    "    for j in range(len(df)):\n",
    "        if df.iloc[j,5]=='EUR':\n",
    "            idx=df[j:j+1].index.tolist()[0]\n",
    "            del_df.iloc[idx,0]=1\n",
    "            continue\n",
    "        else:\n",
    "            break"
   ]
  },
  {
   "cell_type": "code",
   "execution_count": 59,
   "id": "ee5adf83",
   "metadata": {},
   "outputs": [],
   "source": [
    "nba_to_eur['to_delete']=del_df['to_delete']"
   ]
  },
  {
   "cell_type": "code",
   "execution_count": 60,
   "id": "900fe4fe",
   "metadata": {},
   "outputs": [],
   "source": [
    "nba_to_eur=nba_to_eur[nba_to_eur['to_delete']==0]"
   ]
  },
  {
   "cell_type": "code",
   "execution_count": 61,
   "id": "1fb44eb2",
   "metadata": {},
   "outputs": [],
   "source": [
    "nba_to_eur.reset_index(drop=True,inplace=True)"
   ]
  },
  {
   "cell_type": "code",
   "execution_count": 62,
   "id": "8c9dab60",
   "metadata": {},
   "outputs": [],
   "source": [
    "scale=pd.DataFrame(index=range(len(nba_to_eur)),columns=['scale'])\n",
    "for i in nba_to_eur['Player_Upper'].unique():\n",
    "    df=nba_to_eur[nba_to_eur['Player_Upper']==i]\n",
    "    for j in range(len(df)-1):\n",
    "        idx=df[j:j+1].index.tolist()[0]\n",
    "        if df.iloc[j,5]=='NBA':\n",
    "            scale.iloc[idx,0]=-1\n",
    "            if df.iloc[j,5]==df.iloc[j+1,5]:\n",
    "                continue\n",
    "            else:\n",
    "                scale.iloc[idx,0]=0\n",
    "        else:\n",
    "            scale.iloc[idx,0]=1\n",
    "    scale.iloc[idx+1,0]=1"
   ]
  },
  {
   "cell_type": "code",
   "execution_count": 63,
   "id": "6f65f114",
   "metadata": {},
   "outputs": [],
   "source": [
    "nba_to_eur['scale']=scale['scale']"
   ]
  },
  {
   "cell_type": "code",
   "execution_count": 64,
   "id": "aad8ea0a",
   "metadata": {},
   "outputs": [],
   "source": [
    "del_nba_df=pd.DataFrame(index=range(len(nba_to_eur)),columns=['to_delete_nba'])\n",
    "\n",
    "del_nba_df['to_delete_nba']=0\n",
    "\n",
    "for i in nba_to_eur['Player_Upper'].unique():\n",
    "    df=nba_to_eur[nba_to_eur['Player_Upper']==i]\n",
    "    for j in range(len(df)-1,0,-1):\n",
    "        if df.iloc[j,5]=='NBA':\n",
    "            idx=df[j:j+1].index.tolist()[0]\n",
    "            del_nba_df.iloc[idx,0]=1\n",
    "            continue\n",
    "        else:\n",
    "            break"
   ]
  },
  {
   "cell_type": "code",
   "execution_count": 65,
   "id": "3d1df5ad",
   "metadata": {},
   "outputs": [],
   "source": [
    "nba_to_eur['to_delete_nba']=del_nba_df['to_delete_nba']"
   ]
  },
  {
   "cell_type": "code",
   "execution_count": 66,
   "id": "790bd046",
   "metadata": {},
   "outputs": [],
   "source": [
    "nba_to_eur=nba_to_eur[nba_to_eur['to_delete_nba']==0]"
   ]
  },
  {
   "cell_type": "code",
   "execution_count": 67,
   "id": "b5e9177c",
   "metadata": {},
   "outputs": [],
   "source": [
    "nba_to_eur.reset_index(drop=True,inplace=True)"
   ]
  },
  {
   "cell_type": "code",
   "execution_count": 68,
   "id": "639dea40",
   "metadata": {
    "scrolled": true
   },
   "outputs": [],
   "source": [
    "nba_to_eur['dum']=nba_to_eur['league'].apply(lambda x: 1 if x=='NBA' else 2)"
   ]
  },
  {
   "cell_type": "code",
   "execution_count": 69,
   "id": "6fb4cc82",
   "metadata": {},
   "outputs": [],
   "source": [
    "nba_to_eur['calc']=nba_to_eur['dum'].diff()\n",
    "\n",
    "for i in range(1,len(nba_to_eur)):\n",
    "    x=nba_to_eur.iloc[i,0]\n",
    "    if x==nba_to_eur.iloc[i-1,0]:\n",
    "        pass\n",
    "    else:\n",
    "        nba_to_eur.iloc[i,10]='First'\n",
    "\n",
    "nba_to_eur['calc']=nba_to_eur['calc'].fillna('First')"
   ]
  },
  {
   "cell_type": "code",
   "execution_count": 70,
   "id": "031bc9ca",
   "metadata": {},
   "outputs": [],
   "source": [
    "second_stint=pd.DataFrame(index=range(len(nba_to_eur)),columns=['Player_Upper','year','second_stint'])\n",
    "\n",
    "\n",
    "second_stint['Player_Upper']=nba_to_eur['Player_Upper']\n",
    "second_stint['year']=nba_to_eur['year']\n",
    "second_stint['second_stint']=''\n",
    "\n",
    "for i in nba_to_eur['Player_Upper'].unique():\n",
    "    df=nba_to_eur[nba_to_eur['Player_Upper']==i]\n",
    "    for j in range(len(df)):\n",
    "        if df.iloc[j,10]==-1:\n",
    "            idx=df[j:j+1].index.tolist()[0]\n",
    "            second_stint.iloc[idx,2]='2'\n",
    "            second_stint.iloc[idx,0]=df.iloc[j,0]\n",
    "            second_stint.iloc[idx,1]=df.iloc[j,2]\n",
    "            for k in range(j+1,len(df)):\n",
    "                idx=df[k:k+1].index.tolist()[0]\n",
    "                second_stint.iloc[idx,2]='2'\n",
    "                second_stint.iloc[idx,0]=df.iloc[k,0]\n",
    "                second_stint.iloc[idx,1]=df.iloc[k,2]\n",
    "            break\n",
    "        else:\n",
    "            continue"
   ]
  },
  {
   "cell_type": "code",
   "execution_count": 71,
   "id": "a1428d0a",
   "metadata": {},
   "outputs": [],
   "source": [
    "second_stint['Player_Upper']=second_stint['Player_Upper']+second_stint['second_stint']\n",
    "second_stint['id']=second_stint['Player_Upper']+second_stint['year']"
   ]
  },
  {
   "cell_type": "code",
   "execution_count": 72,
   "id": "1d1f6120",
   "metadata": {},
   "outputs": [],
   "source": [
    "nba_to_eur['Player_Upper']=second_stint['Player_Upper']\n",
    "nba_to_eur['id']=second_stint['id']"
   ]
  },
  {
   "cell_type": "code",
   "execution_count": 73,
   "id": "1e904ff3",
   "metadata": {},
   "outputs": [],
   "source": [
    "third_stint=pd.DataFrame(index=range(len(nba_to_eur)),columns=['Player_Upper','year','third_stint'])\n",
    "\n",
    "\n",
    "third_stint['Player_Upper']=nba_to_eur['Player_Upper']\n",
    "third_stint['year']=nba_to_eur['year']\n",
    "third_stint['third_stint']=''\n",
    "\n",
    "for i in nba_to_eur['Player_Upper'].unique():\n",
    "    df=nba_to_eur[nba_to_eur['Player_Upper']==i]\n",
    "    cnt=0\n",
    "    for j in range(len(df)):\n",
    "        if df.iloc[j,10]==-1:\n",
    "            cnt+=1\n",
    "        else:\n",
    "            pass\n",
    "        \n",
    "        if cnt==2:\n",
    "            idx=df[j:j+1].index.tolist()[0]\n",
    "            third_stint.iloc[idx,2]='3'\n",
    "            third_stint.iloc[idx,0]=df.iloc[j,0]\n",
    "            third_stint.iloc[idx,1]=df.iloc[j,2]\n",
    "            for k in range(j+1,len(df)):\n",
    "                idx=df[k:k+1].index.tolist()[0]\n",
    "                third_stint.iloc[idx,2]='3'\n",
    "                third_stint.iloc[idx,0]=df.iloc[k,0]\n",
    "                third_stint.iloc[idx,1]=df.iloc[k,2]\n",
    "            break\n",
    "        else:\n",
    "            continue"
   ]
  },
  {
   "cell_type": "code",
   "execution_count": 74,
   "id": "e4800883",
   "metadata": {},
   "outputs": [],
   "source": [
    "third_stint['Player_Upper']=third_stint['Player_Upper']+third_stint['third_stint']\n",
    "third_stint['id']=third_stint['Player_Upper']+third_stint['year']"
   ]
  },
  {
   "cell_type": "code",
   "execution_count": 75,
   "id": "f35fade4",
   "metadata": {},
   "outputs": [],
   "source": [
    "third_stint['Player_Upper']=third_stint['Player_Upper'].apply(lambda x: x.replace('23','3'))\n",
    "third_stint['id']=third_stint['id'].apply(lambda x: x.replace('23','3'))"
   ]
  },
  {
   "cell_type": "code",
   "execution_count": 76,
   "id": "0256739d",
   "metadata": {},
   "outputs": [],
   "source": [
    "nba_to_eur['Player_Upper']=third_stint['Player_Upper']\n",
    "nba_to_eur['id']=third_stint['id']"
   ]
  },
  {
   "cell_type": "code",
   "execution_count": 77,
   "id": "9b07f87d",
   "metadata": {},
   "outputs": [],
   "source": [
    "scale=pd.DataFrame(index=range(len(nba_to_eur)),columns=['scale'])\n",
    "\n",
    "for i in nba_to_eur['Player_Upper'].unique():\n",
    "    df=nba_to_eur[nba_to_eur['Player_Upper']==i]\n",
    "    for j in range(len(df)):\n",
    "        if df.iloc[j,12]==0:\n",
    "            idx=df[j:j+1].index.tolist()[0]\n",
    "            scale.iloc[idx,0]=0\n",
    "            try:\n",
    "                for k in range(j-1,-1,-1):\n",
    "                    idx=df[k:k+1].index.tolist()[0]\n",
    "                    scale.iloc[idx,0]=k-j\n",
    "            except:\n",
    "                pass\n",
    "            try:\n",
    "                for k in range(j+1,len(df)):\n",
    "                    idx=df[k:k+1].index.tolist()[0]\n",
    "                    scale.iloc[idx,0]=k-j\n",
    "            except:\n",
    "                pass\n",
    "        else:\n",
    "            continue"
   ]
  },
  {
   "cell_type": "code",
   "execution_count": 78,
   "id": "292444f4",
   "metadata": {},
   "outputs": [],
   "source": [
    "nba_to_eur['scale']=scale['scale']"
   ]
  },
  {
   "cell_type": "code",
   "execution_count": 80,
   "id": "e93e62cd",
   "metadata": {},
   "outputs": [],
   "source": [
    "mins=pd.DataFrame(index=nba_to_eur['Player_Upper'].unique(),columns=['min'])\n",
    "maxs=pd.DataFrame(index=nba_to_eur['Player_Upper'].unique(),columns=['maxs'])\n",
    "\n",
    "for i in nba_to_eur['Player_Upper'].unique():\n",
    "    df=nba_to_eur[nba_to_eur['Player_Upper']==i]\n",
    "    df.reset_index(drop=True,inplace=True)\n",
    "    idx=df['VORP'].idxmin()\n",
    "    mins.loc[i,'min']=df.loc[idx,'scale']\n",
    "    idx=df['VORP'].idxmax()\n",
    "    maxs.loc[i,'max']=df.loc[idx,'scale']"
   ]
  },
  {
   "cell_type": "code",
   "execution_count": 81,
   "id": "f9d43fa3",
   "metadata": {},
   "outputs": [],
   "source": [
    "mins.reset_index(inplace=True)"
   ]
  },
  {
   "cell_type": "code",
   "execution_count": 82,
   "id": "af0c1f46",
   "metadata": {
    "scrolled": true
   },
   "outputs": [
    {
     "data": {
      "text/plain": [
       "<AxesSubplot:>"
      ]
     },
     "execution_count": 82,
     "metadata": {},
     "output_type": "execute_result"
    },
    {
     "data": {
      "image/png": "[encoded data removed]",
      "text/plain": [
       "<Figure size 432x288 with 1 Axes>"
      ]
     },
     "metadata": {
      "needs_background": "light"
     },
     "output_type": "display_data"
    }
   ],
   "source": [
    "mins['min'].hist(bins=mins['min'].nunique())"
   ]
  },
  {
   "cell_type": "code",
   "execution_count": 83,
   "id": "23d0d73e",
   "metadata": {},
   "outputs": [
    {
     "data": {
      "text/plain": [
       "<AxesSubplot:>"
      ]
     },
     "execution_count": 83,
     "metadata": {},
     "output_type": "execute_result"
    },
    {
     "data": {
      "image/png": "[encoded data removed]",
      "text/plain": [
       "<Figure size 432x288 with 1 Axes>"
      ]
     },
     "metadata": {
      "needs_background": "light"
     },
     "output_type": "display_data"
    }
   ],
   "source": [
    "maxs['max'].hist(bins=maxs['max'].nunique())"
   ]
  },
  {
   "cell_type": "code",
   "execution_count": 84,
   "id": "91c9bbf1",
   "metadata": {
    "scrolled": false
   },
   "outputs": [
    {
     "data": {
      "text/plain": [
       " 1.0     200\n",
       " 2.0      90\n",
       " 3.0      52\n",
       " 4.0      28\n",
       " 0.0      25\n",
       "-1.0      15\n",
       "-2.0      15\n",
       " 5.0      14\n",
       " 6.0      11\n",
       "-3.0      10\n",
       " 7.0       8\n",
       " 8.0       6\n",
       "-4.0       6\n",
       "-6.0       5\n",
       " 9.0       4\n",
       "-5.0       2\n",
       " 10.0      2\n",
       "-7.0       2\n",
       "-11.0      1\n",
       "-10.0      1\n",
       "-13.0      1\n",
       " 12.0      1\n",
       " 11.0      1\n",
       "Name: max, dtype: int64"
      ]
     },
     "execution_count": 84,
     "metadata": {},
     "output_type": "execute_result"
    }
   ],
   "source": [
    "maxs['max'].value_counts()"
   ]
  },
  {
   "cell_type": "code",
   "execution_count": 85,
   "id": "9e4f8da3",
   "metadata": {},
   "outputs": [],
   "source": [
    "weighted_vorp=nba_to_eur.groupby(['Player_Upper','league','is_euroleague']).apply(lambda x: pd.Series([np.average(x['VORP'], weights=x['Min'])], index=['VORP']))\n",
    "weighted_vorp.reset_index(inplace=True)"
   ]
  },
  {
   "cell_type": "code",
   "execution_count": 86,
   "id": "034d0502",
   "metadata": {},
   "outputs": [],
   "source": [
    "weighted_vorp['league']=weighted_vorp.apply(lambda x: 'Euroleague' if x['is_euroleague']==1 else 'EUR' if x['league']=='EUR' else 'NBA',axis=1)"
   ]
  },
  {
   "cell_type": "code",
   "execution_count": 87,
   "id": "4a6e6b38",
   "metadata": {
    "scrolled": true
   },
   "outputs": [],
   "source": [
    "weighted_vorp=weighted_vorp.pivot(index='Player_Upper',columns='league',values='VORP')\n",
    "weighted_vorp.reset_index(inplace=True)"
   ]
  },
  {
   "cell_type": "code",
   "execution_count": 88,
   "id": "9d013d70",
   "metadata": {
    "scrolled": true
   },
   "outputs": [],
   "source": [
    "weighted_vorp['EUR_weight']=weighted_vorp.apply(lambda x: 1 if np.isnan(x['Euroleague']) else 0 if np.isnan(x['EUR']) else 1/3,axis=1)\n",
    "weighted_vorp['Euroleague_weight']=weighted_vorp.apply(lambda x: 1 if np.isnan(x['EUR']) else 0 if np.isnan(x['Euroleague']) else 2/3,axis=1)\n",
    "\n",
    "\n",
    "weighted_vorp['weighted_EUR']=weighted_vorp['EUR']*weighted_vorp['EUR_weight']\n",
    "weighted_vorp['weighted_Euroleague']=weighted_vorp['Euroleague']*weighted_vorp['Euroleague_weight']"
   ]
  },
  {
   "cell_type": "code",
   "execution_count": 89,
   "id": "0bc638cf",
   "metadata": {
    "scrolled": true
   },
   "outputs": [],
   "source": [
    "weighted_vorp.fillna(0,inplace=True)"
   ]
  },
  {
   "cell_type": "code",
   "execution_count": 90,
   "id": "9965db93",
   "metadata": {},
   "outputs": [],
   "source": [
    "weighted_vorp['Total EUR']=weighted_vorp['EUR']+weighted_vorp['Euroleague']"
   ]
  },
  {
   "cell_type": "code",
   "execution_count": 92,
   "id": "69eaf7a8",
   "metadata": {},
   "outputs": [],
   "source": [
    "avg_inc=(weighted_vorp['Total EUR']-weighted_vorp['NBA'])[(weighted_vorp['Total EUR']-weighted_vorp['NBA'])>0].mean()\n",
    "\n",
    "def success(nba,eur):\n",
    "    global avg_inc\n",
    "    if nba<=0 and eur>0:\n",
    "        x=1\n",
    "    elif nba>0 and eur>nba+avg_inc:\n",
    "        x=1\n",
    "    else:\n",
    "        x=0\n",
    "    return x"
   ]
  },
  {
   "cell_type": "code",
   "execution_count": 93,
   "id": "71ed6549",
   "metadata": {
    "scrolled": false
   },
   "outputs": [],
   "source": [
    "weighted_vorp['success'] = weighted_vorp.apply(lambda x: success(x['NBA'], x['Total EUR']), axis=1)"
   ]
  },
  {
   "cell_type": "code",
   "execution_count": 97,
   "id": "874eb64b",
   "metadata": {},
   "outputs": [],
   "source": [
    "nba_to_eur=nba_to_eur.merge(weighted_vorp[['Player_Upper','success']], left_on='Player_Upper',right_on='Player_Upper',how='left')"
   ]
  },
  {
   "cell_type": "code",
   "execution_count": 966,
   "id": "af4901b3",
   "metadata": {},
   "outputs": [],
   "source": [
    "weighted_vorp.to_csv('weighted_vorp.csv',index=False)"
   ]
  },
  {
   "cell_type": "code",
   "execution_count": 98,
   "id": "1d65e278",
   "metadata": {},
   "outputs": [],
   "source": [
    "nba_to_eur.to_csv('vorp.csv',index=False)"
   ]
  },
  {
   "cell_type": "code",
   "execution_count": null,
   "id": "32771e2b",
   "metadata": {},
   "outputs": [],
   "source": []
  }
 ],
 "metadata": {
  "kernelspec": {
   "display_name": "Python 3 (ipykernel)",
   "language": "python",
   "name": "python3"
  },
  "language_info": {
   "codemirror_mode": {
    "name": "ipython",
    "version": 3
   },
   "file_extension": ".py",
   "mimetype": "text/x-python",
   "name": "python",
   "nbconvert_exporter": "python",
   "pygments_lexer": "ipython3",
   "version": "3.9.12"
  }
 },
 "nbformat": 4,
 "nbformat_minor": 5
}
