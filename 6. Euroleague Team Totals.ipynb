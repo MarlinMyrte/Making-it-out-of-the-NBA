{
 "cells": [
  {
   "cell_type": "code",
   "execution_count": 6,
   "id": "97c0c698",
   "metadata": {},
   "outputs": [],
   "source": [
    "import numpy as np\n",
    "import pandas as pd"
   ]
  },
  {
   "cell_type": "code",
   "execution_count": 7,
   "id": "cb0f162f",
   "metadata": {},
   "outputs": [],
   "source": [
    "teams=pd.DataFrame()"
   ]
  },
  {
   "cell_type": "code",
   "execution_count": 8,
   "id": "4e79b2a9",
   "metadata": {
    "scrolled": true
   },
   "outputs": [
    {
     "name": "stderr",
     "output_type": "stream",
     "text": [
      "C:\\Users\\marli\\AppData\\Local\\Temp\\ipykernel_29376\\1573092862.py:66: FutureWarning: The frame.append method is deprecated and will be removed from pandas in a future version. Use pandas.concat instead.\n",
      "  comb=reg.append(po)\n",
      "C:\\Users\\marli\\AppData\\Local\\Temp\\ipykernel_29376\\1573092862.py:90: FutureWarning: The frame.append method is deprecated and will be removed from pandas in a future version. Use pandas.concat instead.\n",
      "  teams=teams.append(totals)\n",
      "C:\\Users\\marli\\AppData\\Local\\Temp\\ipykernel_29376\\1573092862.py:66: FutureWarning: The frame.append method is deprecated and will be removed from pandas in a future version. Use pandas.concat instead.\n",
      "  comb=reg.append(po)\n",
      "C:\\Users\\marli\\AppData\\Local\\Temp\\ipykernel_29376\\1573092862.py:90: FutureWarning: The frame.append method is deprecated and will be removed from pandas in a future version. Use pandas.concat instead.\n",
      "  teams=teams.append(totals)\n"
     ]
    },
    {
     "name": "stdout",
     "output_type": "stream",
     "text": [
      "2000\n",
      "2001\n"
     ]
    },
    {
     "name": "stderr",
     "output_type": "stream",
     "text": [
      "C:\\Users\\marli\\AppData\\Local\\Temp\\ipykernel_29376\\1573092862.py:66: FutureWarning: The frame.append method is deprecated and will be removed from pandas in a future version. Use pandas.concat instead.\n",
      "  comb=reg.append(po)\n",
      "C:\\Users\\marli\\AppData\\Local\\Temp\\ipykernel_29376\\1573092862.py:90: FutureWarning: The frame.append method is deprecated and will be removed from pandas in a future version. Use pandas.concat instead.\n",
      "  teams=teams.append(totals)\n",
      "C:\\Users\\marli\\AppData\\Local\\Temp\\ipykernel_29376\\1573092862.py:66: FutureWarning: The frame.append method is deprecated and will be removed from pandas in a future version. Use pandas.concat instead.\n",
      "  comb=reg.append(po)\n",
      "C:\\Users\\marli\\AppData\\Local\\Temp\\ipykernel_29376\\1573092862.py:90: FutureWarning: The frame.append method is deprecated and will be removed from pandas in a future version. Use pandas.concat instead.\n",
      "  teams=teams.append(totals)\n"
     ]
    },
    {
     "name": "stdout",
     "output_type": "stream",
     "text": [
      "2002\n",
      "2003\n"
     ]
    },
    {
     "name": "stderr",
     "output_type": "stream",
     "text": [
      "C:\\Users\\marli\\AppData\\Local\\Temp\\ipykernel_29376\\1573092862.py:66: FutureWarning: The frame.append method is deprecated and will be removed from pandas in a future version. Use pandas.concat instead.\n",
      "  comb=reg.append(po)\n",
      "C:\\Users\\marli\\AppData\\Local\\Temp\\ipykernel_29376\\1573092862.py:90: FutureWarning: The frame.append method is deprecated and will be removed from pandas in a future version. Use pandas.concat instead.\n",
      "  teams=teams.append(totals)\n",
      "C:\\Users\\marli\\AppData\\Local\\Temp\\ipykernel_29376\\1573092862.py:66: FutureWarning: The frame.append method is deprecated and will be removed from pandas in a future version. Use pandas.concat instead.\n",
      "  comb=reg.append(po)\n",
      "C:\\Users\\marli\\AppData\\Local\\Temp\\ipykernel_29376\\1573092862.py:90: FutureWarning: The frame.append method is deprecated and will be removed from pandas in a future version. Use pandas.concat instead.\n",
      "  teams=teams.append(totals)\n"
     ]
    },
    {
     "name": "stdout",
     "output_type": "stream",
     "text": [
      "2004\n",
      "2005\n"
     ]
    },
    {
     "name": "stderr",
     "output_type": "stream",
     "text": [
      "C:\\Users\\marli\\AppData\\Local\\Temp\\ipykernel_29376\\1573092862.py:66: FutureWarning: The frame.append method is deprecated and will be removed from pandas in a future version. Use pandas.concat instead.\n",
      "  comb=reg.append(po)\n",
      "C:\\Users\\marli\\AppData\\Local\\Temp\\ipykernel_29376\\1573092862.py:90: FutureWarning: The frame.append method is deprecated and will be removed from pandas in a future version. Use pandas.concat instead.\n",
      "  teams=teams.append(totals)\n",
      "C:\\Users\\marli\\AppData\\Local\\Temp\\ipykernel_29376\\1573092862.py:66: FutureWarning: The frame.append method is deprecated and will be removed from pandas in a future version. Use pandas.concat instead.\n",
      "  comb=reg.append(po)\n"
     ]
    },
    {
     "name": "stdout",
     "output_type": "stream",
     "text": [
      "2006\n",
      "2007\n"
     ]
    },
    {
     "name": "stderr",
     "output_type": "stream",
     "text": [
      "C:\\Users\\marli\\AppData\\Local\\Temp\\ipykernel_29376\\1573092862.py:90: FutureWarning: The frame.append method is deprecated and will be removed from pandas in a future version. Use pandas.concat instead.\n",
      "  teams=teams.append(totals)\n",
      "C:\\Users\\marli\\AppData\\Local\\Temp\\ipykernel_29376\\1573092862.py:66: FutureWarning: The frame.append method is deprecated and will be removed from pandas in a future version. Use pandas.concat instead.\n",
      "  comb=reg.append(po)\n",
      "C:\\Users\\marli\\AppData\\Local\\Temp\\ipykernel_29376\\1573092862.py:90: FutureWarning: The frame.append method is deprecated and will be removed from pandas in a future version. Use pandas.concat instead.\n",
      "  teams=teams.append(totals)\n",
      "C:\\Users\\marli\\AppData\\Local\\Temp\\ipykernel_29376\\1573092862.py:66: FutureWarning: The frame.append method is deprecated and will be removed from pandas in a future version. Use pandas.concat instead.\n",
      "  comb=reg.append(po)\n",
      "C:\\Users\\marli\\AppData\\Local\\Temp\\ipykernel_29376\\1573092862.py:90: FutureWarning: The frame.append method is deprecated and will be removed from pandas in a future version. Use pandas.concat instead.\n",
      "  teams=teams.append(totals)\n"
     ]
    },
    {
     "name": "stdout",
     "output_type": "stream",
     "text": [
      "2008\n",
      "2009\n"
     ]
    },
    {
     "name": "stderr",
     "output_type": "stream",
     "text": [
      "C:\\Users\\marli\\AppData\\Local\\Temp\\ipykernel_29376\\1573092862.py:66: FutureWarning: The frame.append method is deprecated and will be removed from pandas in a future version. Use pandas.concat instead.\n",
      "  comb=reg.append(po)\n",
      "C:\\Users\\marli\\AppData\\Local\\Temp\\ipykernel_29376\\1573092862.py:90: FutureWarning: The frame.append method is deprecated and will be removed from pandas in a future version. Use pandas.concat instead.\n",
      "  teams=teams.append(totals)\n",
      "C:\\Users\\marli\\AppData\\Local\\Temp\\ipykernel_29376\\1573092862.py:66: FutureWarning: The frame.append method is deprecated and will be removed from pandas in a future version. Use pandas.concat instead.\n",
      "  comb=reg.append(po)\n",
      "C:\\Users\\marli\\AppData\\Local\\Temp\\ipykernel_29376\\1573092862.py:90: FutureWarning: The frame.append method is deprecated and will be removed from pandas in a future version. Use pandas.concat instead.\n",
      "  teams=teams.append(totals)\n"
     ]
    },
    {
     "name": "stdout",
     "output_type": "stream",
     "text": [
      "2010\n",
      "2011\n"
     ]
    },
    {
     "name": "stderr",
     "output_type": "stream",
     "text": [
      "C:\\Users\\marli\\AppData\\Local\\Temp\\ipykernel_29376\\1573092862.py:66: FutureWarning: The frame.append method is deprecated and will be removed from pandas in a future version. Use pandas.concat instead.\n",
      "  comb=reg.append(po)\n",
      "C:\\Users\\marli\\AppData\\Local\\Temp\\ipykernel_29376\\1573092862.py:90: FutureWarning: The frame.append method is deprecated and will be removed from pandas in a future version. Use pandas.concat instead.\n",
      "  teams=teams.append(totals)\n",
      "C:\\Users\\marli\\AppData\\Local\\Temp\\ipykernel_29376\\1573092862.py:66: FutureWarning: The frame.append method is deprecated and will be removed from pandas in a future version. Use pandas.concat instead.\n",
      "  comb=reg.append(po)\n",
      "C:\\Users\\marli\\AppData\\Local\\Temp\\ipykernel_29376\\1573092862.py:90: FutureWarning: The frame.append method is deprecated and will be removed from pandas in a future version. Use pandas.concat instead.\n",
      "  teams=teams.append(totals)\n"
     ]
    },
    {
     "name": "stdout",
     "output_type": "stream",
     "text": [
      "2012\n",
      "2013\n"
     ]
    },
    {
     "name": "stderr",
     "output_type": "stream",
     "text": [
      "C:\\Users\\marli\\AppData\\Local\\Temp\\ipykernel_29376\\1573092862.py:66: FutureWarning: The frame.append method is deprecated and will be removed from pandas in a future version. Use pandas.concat instead.\n",
      "  comb=reg.append(po)\n",
      "C:\\Users\\marli\\AppData\\Local\\Temp\\ipykernel_29376\\1573092862.py:90: FutureWarning: The frame.append method is deprecated and will be removed from pandas in a future version. Use pandas.concat instead.\n",
      "  teams=teams.append(totals)\n",
      "C:\\Users\\marli\\AppData\\Local\\Temp\\ipykernel_29376\\1573092862.py:66: FutureWarning: The frame.append method is deprecated and will be removed from pandas in a future version. Use pandas.concat instead.\n",
      "  comb=reg.append(po)\n",
      "C:\\Users\\marli\\AppData\\Local\\Temp\\ipykernel_29376\\1573092862.py:90: FutureWarning: The frame.append method is deprecated and will be removed from pandas in a future version. Use pandas.concat instead.\n",
      "  teams=teams.append(totals)\n"
     ]
    },
    {
     "name": "stdout",
     "output_type": "stream",
     "text": [
      "2014\n",
      "2015\n"
     ]
    },
    {
     "name": "stderr",
     "output_type": "stream",
     "text": [
      "C:\\Users\\marli\\AppData\\Local\\Temp\\ipykernel_29376\\1573092862.py:66: FutureWarning: The frame.append method is deprecated and will be removed from pandas in a future version. Use pandas.concat instead.\n",
      "  comb=reg.append(po)\n",
      "C:\\Users\\marli\\AppData\\Local\\Temp\\ipykernel_29376\\1573092862.py:90: FutureWarning: The frame.append method is deprecated and will be removed from pandas in a future version. Use pandas.concat instead.\n",
      "  teams=teams.append(totals)\n"
     ]
    },
    {
     "name": "stdout",
     "output_type": "stream",
     "text": [
      "2016\n"
     ]
    },
    {
     "name": "stderr",
     "output_type": "stream",
     "text": [
      "C:\\Users\\marli\\AppData\\Local\\Temp\\ipykernel_29376\\1573092862.py:66: FutureWarning: The frame.append method is deprecated and will be removed from pandas in a future version. Use pandas.concat instead.\n",
      "  comb=reg.append(po)\n",
      "C:\\Users\\marli\\AppData\\Local\\Temp\\ipykernel_29376\\1573092862.py:90: FutureWarning: The frame.append method is deprecated and will be removed from pandas in a future version. Use pandas.concat instead.\n",
      "  teams=teams.append(totals)\n",
      "C:\\Users\\marli\\AppData\\Local\\Temp\\ipykernel_29376\\1573092862.py:66: FutureWarning: The frame.append method is deprecated and will be removed from pandas in a future version. Use pandas.concat instead.\n",
      "  comb=reg.append(po)\n",
      "C:\\Users\\marli\\AppData\\Local\\Temp\\ipykernel_29376\\1573092862.py:90: FutureWarning: The frame.append method is deprecated and will be removed from pandas in a future version. Use pandas.concat instead.\n",
      "  teams=teams.append(totals)\n"
     ]
    },
    {
     "name": "stdout",
     "output_type": "stream",
     "text": [
      "2017\n",
      "2018\n"
     ]
    },
    {
     "name": "stderr",
     "output_type": "stream",
     "text": [
      "C:\\Users\\marli\\AppData\\Local\\Temp\\ipykernel_29376\\1573092862.py:35: FutureWarning: The frame.append method is deprecated and will be removed from pandas in a future version. Use pandas.concat instead.\n",
      "  teams=teams.append(totals)\n",
      "C:\\Users\\marli\\AppData\\Local\\Temp\\ipykernel_29376\\1573092862.py:66: FutureWarning: The frame.append method is deprecated and will be removed from pandas in a future version. Use pandas.concat instead.\n",
      "  comb=reg.append(po)\n",
      "C:\\Users\\marli\\AppData\\Local\\Temp\\ipykernel_29376\\1573092862.py:90: FutureWarning: The frame.append method is deprecated and will be removed from pandas in a future version. Use pandas.concat instead.\n",
      "  teams=teams.append(totals)\n"
     ]
    },
    {
     "name": "stdout",
     "output_type": "stream",
     "text": [
      "2019\n",
      "2020\n",
      "2021\n"
     ]
    },
    {
     "name": "stderr",
     "output_type": "stream",
     "text": [
      "C:\\Users\\marli\\AppData\\Local\\Temp\\ipykernel_29376\\1573092862.py:51: FutureWarning: The frame.append method is deprecated and will be removed from pandas in a future version. Use pandas.concat instead.\n",
      "  teams=teams.append(data)\n"
     ]
    }
   ],
   "source": [
    "for i in range(2000,2022):\n",
    "    if i==2019:\n",
    "        reg=pd.read_excel(\"Data/Euroleague/Teams/\"+str(i)+\"-\"+str(i+1)+\".xlsx\",sheet_name='TM TRAD STATS',skiprows=2)\n",
    "        \n",
    "        reg=reg[reg[\"TEAM\"].isna()==False]\n",
    "        reg=reg[reg[\"TEAM\"]!='AVERAGE']\n",
    "\n",
    "\n",
    "        reg=reg[['TEAM','Code','GP','Min','Pts','FGA','FTA','TR', 'Ast','ST','BLK','PF']]\n",
    "\n",
    "        comb=reg\n",
    "\n",
    "        comb['Min']=comb['Min']*comb['GP']\n",
    "        comb['FGA']=comb['FGA']*comb['GP']\n",
    "        comb['FTA']=comb['FTA']*comb['GP']\n",
    "        comb['TR']=comb['TR']*comb['GP']\n",
    "        comb['Ast']=comb['Ast']*comb['GP']\n",
    "        comb['ST']=comb['ST']*comb['GP']\n",
    "        comb['BLK']=comb['BLK']*comb['GP']\n",
    "        comb['PF']=comb['PF']*comb['GP']\n",
    "        comb['Pts']=comb['Pts']*comb['GP']\n",
    "        \n",
    "        comb['year']=str(i)+\"-\"+str(i+1)\n",
    "        comb['id']=comb['Code']+comb['year']\n",
    "\n",
    "        totals_gp=comb.groupby(['id'])[['GP']].sum()\n",
    "        totals_rest=comb.groupby(['id'])[['Min', 'FGA', 'FTA', 'TR', 'Ast', 'ST', 'BLK', 'PF', 'Pts']].sum()\n",
    "        totals=totals_gp.join(totals_rest)\n",
    "\n",
    "        totals=totals.merge(comb[['id', 'TEAM','Code']],left_on='id',right_on='id',how='left')\n",
    "        totals=totals[['id','TEAM','Code', 'GP','Min', 'FGA', 'FTA', 'TR', 'Ast', 'ST', 'BLK', 'PF', 'Pts']]\n",
    "\n",
    "        totals['Min']=totals['Min'].apply(lambda x: round(x,0))\n",
    "        totals=totals.drop_duplicates()\n",
    "        teams=teams.append(totals)\n",
    "        \n",
    "    elif i==2021:\n",
    "        data=pd.read_excel(\"Data/Euroleague/Teams/2021-2022.xlsx\",sheet_name='TEAMS_STATS',skiprows=9)\n",
    "\n",
    "        data=data[data[\"TEAM\"].isna()==False]\n",
    "        \n",
    "        data=data[['TEAM','TM TAG','GP','MIN','PTS','FGA','FTA','TR', 'AST','ST','BLK','PF']]\n",
    "        \n",
    "        data['year']='2021-2022'\n",
    "        data['id']=data['TM TAG']+data['year']\n",
    "        \n",
    "        data=data[['id','TEAM', 'TM TAG', 'GP','MIN','FGA', 'FTA', 'TR', 'AST', 'ST', 'BLK', 'PF', 'PTS']]\n",
    "        data = data.rename(columns={'TM TAG': 'Code', 'MIN': 'Min', 'PTS': 'Pts', 'AST':'Ast'})\n",
    "        data['Min']=data['Min'].apply(lambda x: round(x,0))\n",
    "\n",
    "        teams=teams.append(data)\n",
    "\n",
    "    else:\n",
    "        reg=pd.read_excel(\"Data/Euroleague/Teams/\"+str(i)+\"-\"+str(i+1)+\".xlsx\",sheet_name='TM TRAD STATS',skiprows=2)\n",
    "        po=pd.read_excel(\"Data/Euroleague/Teams/Playoffs/\"+str(i)+\"-\"+str(i+1)+\".xlsx\",sheet_name='TM TRAD STATS',skiprows=2)\n",
    "        \n",
    "        reg=reg[reg[\"TEAM\"].isna()==False]\n",
    "        reg=reg[reg[\"TEAM\"]!='AVERAGE']\n",
    "        po=po[po[\"TEAM\"].isna()==False]\n",
    "        po=po[po['GP']!=0]\n",
    "        po=po[po[\"TEAM\"]!='AVERAGE']\n",
    "\n",
    "        reg=reg[['TEAM','Code','GP','Min','Pts','FGA','FTA','TR', 'Ast','ST','BLK','PF']]\n",
    "        po=po[['TEAM','Code','GP','Min','Pts','FGA','FTA','TR', 'Ast','ST','BLK','PF']]\n",
    "\n",
    "        comb=reg.append(po)\n",
    "\n",
    "        comb['Min']=comb['Min']*comb['GP']\n",
    "        comb['FGA']=comb['FGA']*comb['GP']\n",
    "        comb['FTA']=comb['FTA']*comb['GP']\n",
    "        comb['TR']=comb['TR']*comb['GP']\n",
    "        comb['Ast']=comb['Ast']*comb['GP']\n",
    "        comb['ST']=comb['ST']*comb['GP']\n",
    "        comb['BLK']=comb['BLK']*comb['GP']\n",
    "        comb['PF']=comb['PF']*comb['GP']\n",
    "        comb['Pts']=comb['Pts']*comb['GP']\n",
    "        \n",
    "        comb['year']=str(i)+\"-\"+str(i+1)\n",
    "        comb['id']=comb['Code']+comb['year']\n",
    "\n",
    "        totals_gp=comb.groupby(['id'])[['GP']].sum()\n",
    "        totals_rest=comb.groupby(['id'])[['Min', 'FGA', 'FTA', 'TR', 'Ast', 'ST', 'BLK', 'PF', 'Pts']].sum()\n",
    "        totals=totals_gp.join(totals_rest)\n",
    "\n",
    "        totals=totals.merge(comb[['id', 'TEAM','Code']],left_on='id',right_on='id',how='left')\n",
    "        totals=totals[['id','TEAM','Code', 'GP','Min', 'FGA', 'FTA', 'TR', 'Ast', 'ST', 'BLK', 'PF', 'Pts']]\n",
    "        totals['Min']=totals['Min'].apply(lambda x: round(x,0))\n",
    "\n",
    "        totals=totals.drop_duplicates()\n",
    "        teams=teams.append(totals)\n",
    "    print(i)"
   ]
  },
  {
   "cell_type": "code",
   "execution_count": 9,
   "id": "bd6c32a4",
   "metadata": {},
   "outputs": [],
   "source": [
    "teams.to_csv('euroleague_teams.csv',index=False)"
   ]
  },
  {
   "cell_type": "code",
   "execution_count": null,
   "id": "677b3b22",
   "metadata": {},
   "outputs": [],
   "source": []
  }
 ],
 "metadata": {
  "kernelspec": {
   "display_name": "Python 3 (ipykernel)",
   "language": "python",
   "name": "python3"
  },
  "language_info": {
   "codemirror_mode": {
    "name": "ipython",
    "version": 3
   },
   "file_extension": ".py",
   "mimetype": "text/x-python",
   "name": "python",
   "nbconvert_exporter": "python",
   "pygments_lexer": "ipython3",
   "version": "3.9.12"
  }
 },
 "nbformat": 4,
 "nbformat_minor": 5
}
