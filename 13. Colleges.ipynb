{
 "cells": [
  {
   "cell_type": "code",
   "execution_count": 1,
   "id": "4592a3bf",
   "metadata": {},
   "outputs": [],
   "source": [
    "import numpy as np\n",
    "import pandas as pd"
   ]
  },
  {
   "cell_type": "code",
   "execution_count": null,
   "id": "f4d982be",
   "metadata": {},
   "outputs": [],
   "source": [
    "colleges=pd.read_excel('colleges.xlsx')\n",
    "\n",
    "college_df=pd.DataFrame()\n",
    "    \n",
    "k=0\n",
    "j=0\n",
    "for i in range(1,len(colleges)):\n",
    "    college_df.loc[j,k]=colleges.loc[i,'Names']\n",
    "    k+=1\n",
    "    if k==5:\n",
    "        k=0\n",
    "        j+=1\n",
    "        \n",
    "\n",
    "college_df.rename(columns={0:'school',1:'city',2:'region',3:'conference',4:'division'},inplace=True)"
   ]
  }
 ],
 "metadata": {
  "kernelspec": {
   "display_name": "Python 3 (ipykernel)",
   "language": "python",
   "name": "python3"
  },
  "language_info": {
   "codemirror_mode": {
    "name": "ipython",
    "version": 3
   },
   "file_extension": ".py",
   "mimetype": "text/x-python",
   "name": "python",
   "nbconvert_exporter": "python",
   "pygments_lexer": "ipython3",
   "version": "3.9.12"
  }
 },
 "nbformat": 4,
 "nbformat_minor": 5
}
