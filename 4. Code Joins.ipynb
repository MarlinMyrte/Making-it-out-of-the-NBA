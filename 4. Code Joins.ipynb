{
 "cells": [
  {
   "cell_type": "code",
   "execution_count": 1,
   "id": "703f74bc",
   "metadata": {},
   "outputs": [],
   "source": [
    "import numpy as np\n",
    "import pandas as pd"
   ]
  },
  {
   "cell_type": "code",
   "execution_count": 252,
   "id": "5e9e65b6",
   "metadata": {},
   "outputs": [],
   "source": [
    "teams_esp=pd.read_csv('team_esp.csv')\n",
    "teams_it=pd.read_csv('team_it.csv')\n",
    "teams_tur=pd.read_csv('team_tur.csv')\n",
    "teams_gr=pd.read_csv('team_gr.csv')\n",
    "teams_fr=pd.read_csv('team_fr.csv')\n",
    "teams_rus=pd.read_csv('team_rus.csv')\n",
    "teams_adr=pd.read_csv('team_adr.csv')"
   ]
  },
  {
   "cell_type": "code",
   "execution_count": 254,
   "id": "1ec85b5a",
   "metadata": {},
   "outputs": [],
   "source": [
    "names=pd.read_excel('Names.xlsx')"
   ]
  },
  {
   "cell_type": "code",
   "execution_count": 255,
   "id": "b6ae5c77",
   "metadata": {},
   "outputs": [],
   "source": [
    "names['Local Name']=names['Local Name'].apply(lambda x: x.upper())\n",
    "names=names.sort_values(by='Local Name')"
   ]
  },
  {
   "cell_type": "code",
   "execution_count": 256,
   "id": "c268509f",
   "metadata": {},
   "outputs": [],
   "source": [
    "teams_esp['Team']=teams_esp['Team'].apply(lambda x: x.upper())\n",
    "teams_esp=teams_esp.sort_values(by='Team')\n",
    "teams_esp=teams_esp.reset_index(drop=True)\n",
    "names_tba=names[names['Local Country']=='ESP']['Code TBU']\n",
    "names_tba=names_tba.reset_index(drop=True)\n",
    "teams_esp.insert(loc=1,column='Code TBU', value=names_tba)\n",
    "teams_esp['New id']=teams_esp['Code TBU']+teams_esp['Year']\n",
    "teams_esp.to_csv('team_esp.csv',index=False)"
   ]
  },
  {
   "cell_type": "code",
   "execution_count": 257,
   "id": "fdbe19cc",
   "metadata": {},
   "outputs": [],
   "source": [
    "teams_it['Team']=teams_it['Team'].apply(lambda x: x.upper())\n",
    "teams_it=teams_it.sort_values(by='Team')\n",
    "teams_it=teams_it.reset_index(drop=True)\n",
    "names_tba=names[names['Local Country']=='IT']['Code TBU']\n",
    "names_tba=names_tba.reset_index(drop=True)\n",
    "teams_it.insert(loc=1,column='Code TBU', value=names_tba)\n",
    "teams_it['New id']=teams_it['Code TBU']+teams_it['Year']\n",
    "teams_it.to_csv('team_it.csv',index=False)"
   ]
  },
  {
   "cell_type": "code",
   "execution_count": 258,
   "id": "373b6ef0",
   "metadata": {},
   "outputs": [],
   "source": [
    "teams_tur['Team']=teams_tur['Team'].apply(lambda x: x.upper())\n",
    "teams_tur=teams_tur.sort_values(by='Team')\n",
    "teams_tur=teams_tur.reset_index(drop=True)\n",
    "names_tba=names[names['Local Country']=='TUR']['Code TBU']\n",
    "names_tba=names_tba.reset_index(drop=True)\n",
    "teams_tur.insert(loc=1,column='Code TBU', value=names_tba)\n",
    "teams_tur['New id']=teams_tur['Code TBU']+teams_tur['Year']\n",
    "teams_tur.to_csv('team_tur.csv',index=False)"
   ]
  },
  {
   "cell_type": "code",
   "execution_count": 259,
   "id": "21af5e3c",
   "metadata": {},
   "outputs": [],
   "source": [
    "teams_gr['Team']=teams_gr['Team'].apply(lambda x: x.upper())\n",
    "teams_gr=teams_gr.sort_values(by='Team')\n",
    "teams_gr=teams_gr.reset_index(drop=True)\n",
    "names_tba=names[names['Local Country']=='GR']['Code TBU']\n",
    "names_tba=names_tba.reset_index(drop=True)\n",
    "teams_gr.insert(loc=1,column='Code TBU', value=names_tba)\n",
    "teams_gr['New id']=teams_gr['Code TBU']+teams_gr['Year']\n",
    "teams_gr.to_csv('team_gr.csv',index=False)"
   ]
  },
  {
   "cell_type": "code",
   "execution_count": 260,
   "id": "45e5878f",
   "metadata": {},
   "outputs": [],
   "source": [
    "teams_fr['Team']=teams_fr['Team'].apply(lambda x: x.upper())\n",
    "teams_fr=teams_fr.sort_values(by='Team')\n",
    "teams_fr=teams_fr.reset_index(drop=True)\n",
    "names_tba=names[names['Local Country']=='FR']['Code TBU']\n",
    "names_tba=names_tba.reset_index(drop=True)\n",
    "teams_fr.insert(loc=1,column='Code TBU', value=names_tba)\n",
    "teams_fr['New id']=teams_fr['Code TBU']+teams_fr['Year']\n",
    "teams_fr.to_csv('team_fr.csv',index=False)"
   ]
  },
  {
   "cell_type": "code",
   "execution_count": 261,
   "id": "c77f2a62",
   "metadata": {},
   "outputs": [],
   "source": [
    "teams_adr['Team']=teams_adr['Team'].apply(lambda x: x.upper())\n",
    "teams_adr=teams_adr.sort_values(by='Team')\n",
    "teams_adr=teams_adr.reset_index(drop=True)\n",
    "names_tba=names[names['Local Country']=='ADR']['Code TBU']\n",
    "names_tba=names_tba.reset_index(drop=True)\n",
    "teams_adr.insert(loc=1,column='Code TBU', value=names_tba)\n",
    "teams_adr['New id']=teams_adr['Code TBU']+teams_adr['Year']\n",
    "teams_adr.to_csv('team_adr.csv',index=False)"
   ]
  },
  {
   "cell_type": "code",
   "execution_count": 262,
   "id": "5c1f5dc0",
   "metadata": {},
   "outputs": [],
   "source": [
    "teams_rus['Team']=teams_rus['Team'].apply(lambda x: x.upper())\n",
    "teams_rus=teams_rus.sort_values(by='Team')\n",
    "teams_rus=teams_rus.reset_index(drop=True)\n",
    "names_tba=names[names['Local Country']=='RUS']['Code TBU']\n",
    "names_tba=names_tba.reset_index(drop=True)\n",
    "teams_rus.insert(loc=1,column='Code TBU', value=names_tba)\n",
    "teams_rus['New id']=teams_rus['Code TBU']+teams_rus['Year']\n",
    "teams_rus.to_csv('team_rus.csv',index=False)"
   ]
  },
  {
   "cell_type": "code",
   "execution_count": null,
   "id": "0743a67f",
   "metadata": {},
   "outputs": [],
   "source": []
  },
  {
   "cell_type": "code",
   "execution_count": 338,
   "id": "ea201a85",
   "metadata": {},
   "outputs": [],
   "source": [
    "players_esp=pd.read_csv('players_esp.csv')\n",
    "players_it=pd.read_csv('players_it.csv')\n",
    "players_tur=pd.read_csv('players_tur.csv')\n",
    "players_gr=pd.read_csv('players_gr.csv')\n",
    "players_fr=pd.read_csv('players_fr.csv')\n",
    "players_rus=pd.read_csv('players_rus.csv')\n",
    "players_adr=pd.read_csv('players_adr.csv')"
   ]
  },
  {
   "cell_type": "code",
   "execution_count": 340,
   "id": "e0989530",
   "metadata": {},
   "outputs": [],
   "source": [
    "names=pd.read_excel('Names.xlsx')"
   ]
  },
  {
   "cell_type": "code",
   "execution_count": 341,
   "id": "129d2fbb",
   "metadata": {},
   "outputs": [],
   "source": [
    "names_tba=names[names['Country']=='ESP'][['Team Code','Player Code']]\n",
    "players_esp=players_esp.merge(names_tba, left_on='Team',right_on='Player Code',how='inner')\n",
    "players_esp.drop(columns='Player Code',inplace=True)\n",
    "players_esp['New id']=players_esp['Team Code']+players_esp['Year']\n",
    "players_esp.to_csv('players_esp.csv',index=False)"
   ]
  },
  {
   "cell_type": "code",
   "execution_count": 342,
   "id": "7b021cbd",
   "metadata": {},
   "outputs": [],
   "source": [
    "names_tba=names[names['Country']=='IT'][['Team Code','Player Code']]\n",
    "players_it=players_it.merge(names_tba, left_on='Team',right_on='Player Code',how='inner')\n",
    "players_it.drop(columns='Player Code',inplace=True)\n",
    "players_it['New id']=players_it['Team Code']+players_it['Year']\n",
    "players_it.to_csv('players_it.csv',index=False)"
   ]
  },
  {
   "cell_type": "code",
   "execution_count": 343,
   "id": "127ce4d4",
   "metadata": {},
   "outputs": [],
   "source": [
    "names_tba=names[names['Country']=='TUR'][['Team Code','Player Code']]\n",
    "players_tur=players_tur.merge(names_tba, left_on='Team',right_on='Player Code',how='inner')\n",
    "players_tur.drop(columns='Player Code',inplace=True)\n",
    "players_tur['New id']=players_tur['Team Code']+players_tur['Year']\n",
    "players_tur.to_csv('players_tur.csv',index=False)"
   ]
  },
  {
   "cell_type": "code",
   "execution_count": 344,
   "id": "96e93f67",
   "metadata": {},
   "outputs": [],
   "source": [
    "names_tba=names[names['Country']=='GR'][['Team Code','Player Code']]\n",
    "players_gr=players_gr.merge(names_tba, left_on='Team',right_on='Player Code',how='inner')\n",
    "players_gr.drop(columns='Player Code',inplace=True)\n",
    "players_gr['New id']=players_gr['Team Code']+players_gr['Year']\n",
    "players_gr.to_csv('players_gr.csv',index=False)"
   ]
  },
  {
   "cell_type": "code",
   "execution_count": 345,
   "id": "703b51a5",
   "metadata": {},
   "outputs": [],
   "source": [
    "names_tba=names[names['Country']=='FR'][['Team Code','Player Code']]\n",
    "players_fr=players_fr.merge(names_tba, left_on='Team',right_on='Player Code',how='inner')\n",
    "players_fr.drop(columns='Player Code',inplace=True)\n",
    "players_fr['New id']=players_fr['Team Code']+players_fr['Year']\n",
    "players_fr.to_csv('players_fr.csv',index=False)"
   ]
  },
  {
   "cell_type": "code",
   "execution_count": 346,
   "id": "bd314de7",
   "metadata": {},
   "outputs": [],
   "source": [
    "names_tba=names[names['Country']=='RUS'][['Team Code','Player Code']]\n",
    "players_rus=players_rus.merge(names_tba, left_on='Team',right_on='Player Code',how='inner')\n",
    "players_rus.drop(columns='Player Code',inplace=True)\n",
    "players_rus['New id']=players_rus['Team Code']+players_rus['Year']\n",
    "players_rus.to_csv('players_rus.csv',index=False)"
   ]
  },
  {
   "cell_type": "code",
   "execution_count": 347,
   "id": "8f549fbe",
   "metadata": {},
   "outputs": [],
   "source": [
    "names_tba=names[names['Country']=='ADR'][['Team Code','Player Code']]\n",
    "players_adr=players_adr.merge(names_tba, left_on='Team',right_on='Player Code',how='inner')\n",
    "players_adr.drop(columns='Player Code',inplace=True)\n",
    "players_adr['New id']=players_adr['Team Code']+players_adr['Year']\n",
    "players_adr.to_csv('players_adr.csv',index=False)"
   ]
  },
  {
   "cell_type": "code",
   "execution_count": null,
   "id": "0e0eb889",
   "metadata": {},
   "outputs": [],
   "source": []
  }
 ],
 "metadata": {
  "kernelspec": {
   "display_name": "Python 3 (ipykernel)",
   "language": "python",
   "name": "python3"
  },
  "language_info": {
   "codemirror_mode": {
    "name": "ipython",
    "version": 3
   },
   "file_extension": ".py",
   "mimetype": "text/x-python",
   "name": "python",
   "nbconvert_exporter": "python",
   "pygments_lexer": "ipython3",
   "version": "3.9.12"
  }
 },
 "nbformat": 4,
 "nbformat_minor": 5
}
