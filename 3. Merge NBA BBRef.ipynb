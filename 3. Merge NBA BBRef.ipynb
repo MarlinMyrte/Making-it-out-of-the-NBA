{
 "cells": [
  {
   "cell_type": "code",
   "execution_count": 1,
   "id": "93d5a0a7",
   "metadata": {},
   "outputs": [],
   "source": [
    "import numpy as np\n",
    "import pandas as pd"
   ]
  },
  {
   "cell_type": "code",
   "execution_count": 2,
   "id": "b963f149",
   "metadata": {},
   "outputs": [],
   "source": [
    "nba_players_adv=pd.DataFrame()"
   ]
  },
  {
   "cell_type": "code",
   "execution_count": 3,
   "id": "2b5cbc0b",
   "metadata": {
    "scrolled": true
   },
   "outputs": [
    {
     "name": "stderr",
     "output_type": "stream",
     "text": [
      "C:\\Users\\marli\\AppData\\Local\\Temp\\ipykernel_14448\\2252525966.py:4: FutureWarning: The frame.append method is deprecated and will be removed from pandas in a future version. Use pandas.concat instead.\n",
      "  nba_players_adv=nba_players_adv.append(data)\n",
      "C:\\Users\\marli\\AppData\\Local\\Temp\\ipykernel_14448\\2252525966.py:4: FutureWarning: The frame.append method is deprecated and will be removed from pandas in a future version. Use pandas.concat instead.\n",
      "  nba_players_adv=nba_players_adv.append(data)\n",
      "C:\\Users\\marli\\AppData\\Local\\Temp\\ipykernel_14448\\2252525966.py:4: FutureWarning: The frame.append method is deprecated and will be removed from pandas in a future version. Use pandas.concat instead.\n",
      "  nba_players_adv=nba_players_adv.append(data)\n",
      "C:\\Users\\marli\\AppData\\Local\\Temp\\ipykernel_14448\\2252525966.py:4: FutureWarning: The frame.append method is deprecated and will be removed from pandas in a future version. Use pandas.concat instead.\n",
      "  nba_players_adv=nba_players_adv.append(data)\n",
      "C:\\Users\\marli\\AppData\\Local\\Temp\\ipykernel_14448\\2252525966.py:4: FutureWarning: The frame.append method is deprecated and will be removed from pandas in a future version. Use pandas.concat instead.\n",
      "  nba_players_adv=nba_players_adv.append(data)\n",
      "C:\\Users\\marli\\AppData\\Local\\Temp\\ipykernel_14448\\2252525966.py:4: FutureWarning: The frame.append method is deprecated and will be removed from pandas in a future version. Use pandas.concat instead.\n",
      "  nba_players_adv=nba_players_adv.append(data)\n",
      "C:\\Users\\marli\\AppData\\Local\\Temp\\ipykernel_14448\\2252525966.py:4: FutureWarning: The frame.append method is deprecated and will be removed from pandas in a future version. Use pandas.concat instead.\n",
      "  nba_players_adv=nba_players_adv.append(data)\n",
      "C:\\Users\\marli\\AppData\\Local\\Temp\\ipykernel_14448\\2252525966.py:4: FutureWarning: The frame.append method is deprecated and will be removed from pandas in a future version. Use pandas.concat instead.\n",
      "  nba_players_adv=nba_players_adv.append(data)\n",
      "C:\\Users\\marli\\AppData\\Local\\Temp\\ipykernel_14448\\2252525966.py:4: FutureWarning: The frame.append method is deprecated and will be removed from pandas in a future version. Use pandas.concat instead.\n",
      "  nba_players_adv=nba_players_adv.append(data)\n",
      "C:\\Users\\marli\\AppData\\Local\\Temp\\ipykernel_14448\\2252525966.py:4: FutureWarning: The frame.append method is deprecated and will be removed from pandas in a future version. Use pandas.concat instead.\n",
      "  nba_players_adv=nba_players_adv.append(data)\n",
      "C:\\Users\\marli\\AppData\\Local\\Temp\\ipykernel_14448\\2252525966.py:4: FutureWarning: The frame.append method is deprecated and will be removed from pandas in a future version. Use pandas.concat instead.\n",
      "  nba_players_adv=nba_players_adv.append(data)\n",
      "C:\\Users\\marli\\AppData\\Local\\Temp\\ipykernel_14448\\2252525966.py:4: FutureWarning: The frame.append method is deprecated and will be removed from pandas in a future version. Use pandas.concat instead.\n",
      "  nba_players_adv=nba_players_adv.append(data)\n",
      "C:\\Users\\marli\\AppData\\Local\\Temp\\ipykernel_14448\\2252525966.py:4: FutureWarning: The frame.append method is deprecated and will be removed from pandas in a future version. Use pandas.concat instead.\n",
      "  nba_players_adv=nba_players_adv.append(data)\n",
      "C:\\Users\\marli\\AppData\\Local\\Temp\\ipykernel_14448\\2252525966.py:4: FutureWarning: The frame.append method is deprecated and will be removed from pandas in a future version. Use pandas.concat instead.\n",
      "  nba_players_adv=nba_players_adv.append(data)\n",
      "C:\\Users\\marli\\AppData\\Local\\Temp\\ipykernel_14448\\2252525966.py:4: FutureWarning: The frame.append method is deprecated and will be removed from pandas in a future version. Use pandas.concat instead.\n",
      "  nba_players_adv=nba_players_adv.append(data)\n",
      "C:\\Users\\marli\\AppData\\Local\\Temp\\ipykernel_14448\\2252525966.py:4: FutureWarning: The frame.append method is deprecated and will be removed from pandas in a future version. Use pandas.concat instead.\n",
      "  nba_players_adv=nba_players_adv.append(data)\n",
      "C:\\Users\\marli\\AppData\\Local\\Temp\\ipykernel_14448\\2252525966.py:4: FutureWarning: The frame.append method is deprecated and will be removed from pandas in a future version. Use pandas.concat instead.\n",
      "  nba_players_adv=nba_players_adv.append(data)\n",
      "C:\\Users\\marli\\AppData\\Local\\Temp\\ipykernel_14448\\2252525966.py:4: FutureWarning: The frame.append method is deprecated and will be removed from pandas in a future version. Use pandas.concat instead.\n",
      "  nba_players_adv=nba_players_adv.append(data)\n",
      "C:\\Users\\marli\\AppData\\Local\\Temp\\ipykernel_14448\\2252525966.py:4: FutureWarning: The frame.append method is deprecated and will be removed from pandas in a future version. Use pandas.concat instead.\n",
      "  nba_players_adv=nba_players_adv.append(data)\n",
      "C:\\Users\\marli\\AppData\\Local\\Temp\\ipykernel_14448\\2252525966.py:4: FutureWarning: The frame.append method is deprecated and will be removed from pandas in a future version. Use pandas.concat instead.\n",
      "  nba_players_adv=nba_players_adv.append(data)\n",
      "C:\\Users\\marli\\AppData\\Local\\Temp\\ipykernel_14448\\2252525966.py:4: FutureWarning: The frame.append method is deprecated and will be removed from pandas in a future version. Use pandas.concat instead.\n",
      "  nba_players_adv=nba_players_adv.append(data)\n",
      "C:\\Users\\marli\\AppData\\Local\\Temp\\ipykernel_14448\\2252525966.py:4: FutureWarning: The frame.append method is deprecated and will be removed from pandas in a future version. Use pandas.concat instead.\n",
      "  nba_players_adv=nba_players_adv.append(data)\n"
     ]
    }
   ],
   "source": [
    "for i in range(2000,2022):\n",
    "    data=pd.read_excel(\"Data/NBA/players_advanced.xlsx\",sheet_name=str(i)+\"-\"+str(i+1))\n",
    "    data['year']=str(i)+\"-\"+str(i+1)\n",
    "    nba_players_adv=nba_players_adv.append(data)"
   ]
  },
  {
   "cell_type": "code",
   "execution_count": 4,
   "id": "83906a25",
   "metadata": {},
   "outputs": [],
   "source": [
    "nba_players_adv.drop(columns='Rk',inplace=True)\n",
    "nba_players_adv.to_csv('nba_players_adv.csv',index=False)"
   ]
  },
  {
   "cell_type": "code",
   "execution_count": 5,
   "id": "8e97d8ff",
   "metadata": {},
   "outputs": [],
   "source": [
    "nba_teams_adv=pd.DataFrame()"
   ]
  },
  {
   "cell_type": "code",
   "execution_count": 6,
   "id": "ab431fef",
   "metadata": {
    "scrolled": true
   },
   "outputs": [
    {
     "name": "stderr",
     "output_type": "stream",
     "text": [
      "C:\\Users\\marli\\AppData\\Local\\Temp\\ipykernel_14448\\2517925003.py:4: FutureWarning: The frame.append method is deprecated and will be removed from pandas in a future version. Use pandas.concat instead.\n",
      "  nba_teams_adv=nba_teams_adv.append(data)\n",
      "C:\\Users\\marli\\AppData\\Local\\Temp\\ipykernel_14448\\2517925003.py:4: FutureWarning: The frame.append method is deprecated and will be removed from pandas in a future version. Use pandas.concat instead.\n",
      "  nba_teams_adv=nba_teams_adv.append(data)\n",
      "C:\\Users\\marli\\AppData\\Local\\Temp\\ipykernel_14448\\2517925003.py:4: FutureWarning: The frame.append method is deprecated and will be removed from pandas in a future version. Use pandas.concat instead.\n",
      "  nba_teams_adv=nba_teams_adv.append(data)\n",
      "C:\\Users\\marli\\AppData\\Local\\Temp\\ipykernel_14448\\2517925003.py:4: FutureWarning: The frame.append method is deprecated and will be removed from pandas in a future version. Use pandas.concat instead.\n",
      "  nba_teams_adv=nba_teams_adv.append(data)\n",
      "C:\\Users\\marli\\AppData\\Local\\Temp\\ipykernel_14448\\2517925003.py:4: FutureWarning: The frame.append method is deprecated and will be removed from pandas in a future version. Use pandas.concat instead.\n",
      "  nba_teams_adv=nba_teams_adv.append(data)\n",
      "C:\\Users\\marli\\AppData\\Local\\Temp\\ipykernel_14448\\2517925003.py:4: FutureWarning: The frame.append method is deprecated and will be removed from pandas in a future version. Use pandas.concat instead.\n",
      "  nba_teams_adv=nba_teams_adv.append(data)\n",
      "C:\\Users\\marli\\AppData\\Local\\Temp\\ipykernel_14448\\2517925003.py:4: FutureWarning: The frame.append method is deprecated and will be removed from pandas in a future version. Use pandas.concat instead.\n",
      "  nba_teams_adv=nba_teams_adv.append(data)\n",
      "C:\\Users\\marli\\AppData\\Local\\Temp\\ipykernel_14448\\2517925003.py:4: FutureWarning: The frame.append method is deprecated and will be removed from pandas in a future version. Use pandas.concat instead.\n",
      "  nba_teams_adv=nba_teams_adv.append(data)\n",
      "C:\\Users\\marli\\AppData\\Local\\Temp\\ipykernel_14448\\2517925003.py:4: FutureWarning: The frame.append method is deprecated and will be removed from pandas in a future version. Use pandas.concat instead.\n",
      "  nba_teams_adv=nba_teams_adv.append(data)\n",
      "C:\\Users\\marli\\AppData\\Local\\Temp\\ipykernel_14448\\2517925003.py:4: FutureWarning: The frame.append method is deprecated and will be removed from pandas in a future version. Use pandas.concat instead.\n",
      "  nba_teams_adv=nba_teams_adv.append(data)\n",
      "C:\\Users\\marli\\AppData\\Local\\Temp\\ipykernel_14448\\2517925003.py:4: FutureWarning: The frame.append method is deprecated and will be removed from pandas in a future version. Use pandas.concat instead.\n",
      "  nba_teams_adv=nba_teams_adv.append(data)\n",
      "C:\\Users\\marli\\AppData\\Local\\Temp\\ipykernel_14448\\2517925003.py:4: FutureWarning: The frame.append method is deprecated and will be removed from pandas in a future version. Use pandas.concat instead.\n",
      "  nba_teams_adv=nba_teams_adv.append(data)\n",
      "C:\\Users\\marli\\AppData\\Local\\Temp\\ipykernel_14448\\2517925003.py:4: FutureWarning: The frame.append method is deprecated and will be removed from pandas in a future version. Use pandas.concat instead.\n",
      "  nba_teams_adv=nba_teams_adv.append(data)\n",
      "C:\\Users\\marli\\AppData\\Local\\Temp\\ipykernel_14448\\2517925003.py:4: FutureWarning: The frame.append method is deprecated and will be removed from pandas in a future version. Use pandas.concat instead.\n",
      "  nba_teams_adv=nba_teams_adv.append(data)\n",
      "C:\\Users\\marli\\AppData\\Local\\Temp\\ipykernel_14448\\2517925003.py:4: FutureWarning: The frame.append method is deprecated and will be removed from pandas in a future version. Use pandas.concat instead.\n",
      "  nba_teams_adv=nba_teams_adv.append(data)\n",
      "C:\\Users\\marli\\AppData\\Local\\Temp\\ipykernel_14448\\2517925003.py:4: FutureWarning: The frame.append method is deprecated and will be removed from pandas in a future version. Use pandas.concat instead.\n",
      "  nba_teams_adv=nba_teams_adv.append(data)\n",
      "C:\\Users\\marli\\AppData\\Local\\Temp\\ipykernel_14448\\2517925003.py:4: FutureWarning: The frame.append method is deprecated and will be removed from pandas in a future version. Use pandas.concat instead.\n",
      "  nba_teams_adv=nba_teams_adv.append(data)\n",
      "C:\\Users\\marli\\AppData\\Local\\Temp\\ipykernel_14448\\2517925003.py:4: FutureWarning: The frame.append method is deprecated and will be removed from pandas in a future version. Use pandas.concat instead.\n",
      "  nba_teams_adv=nba_teams_adv.append(data)\n",
      "C:\\Users\\marli\\AppData\\Local\\Temp\\ipykernel_14448\\2517925003.py:4: FutureWarning: The frame.append method is deprecated and will be removed from pandas in a future version. Use pandas.concat instead.\n",
      "  nba_teams_adv=nba_teams_adv.append(data)\n",
      "C:\\Users\\marli\\AppData\\Local\\Temp\\ipykernel_14448\\2517925003.py:4: FutureWarning: The frame.append method is deprecated and will be removed from pandas in a future version. Use pandas.concat instead.\n",
      "  nba_teams_adv=nba_teams_adv.append(data)\n",
      "C:\\Users\\marli\\AppData\\Local\\Temp\\ipykernel_14448\\2517925003.py:4: FutureWarning: The frame.append method is deprecated and will be removed from pandas in a future version. Use pandas.concat instead.\n",
      "  nba_teams_adv=nba_teams_adv.append(data)\n",
      "C:\\Users\\marli\\AppData\\Local\\Temp\\ipykernel_14448\\2517925003.py:4: FutureWarning: The frame.append method is deprecated and will be removed from pandas in a future version. Use pandas.concat instead.\n",
      "  nba_teams_adv=nba_teams_adv.append(data)\n"
     ]
    }
   ],
   "source": [
    "for i in range(2000,2022):\n",
    "    data=pd.read_excel(\"Data/NBA/teams_advanced.xlsx\",sheet_name=str(i)+\"-\"+str(i+1))\n",
    "    data['year']=str(i)+\"-\"+str(i+1)\n",
    "    nba_teams_adv=nba_teams_adv.append(data)"
   ]
  },
  {
   "cell_type": "code",
   "execution_count": 7,
   "id": "6868d1e3",
   "metadata": {},
   "outputs": [],
   "source": [
    "nba_teams_adv.drop(columns='Rk',inplace=True)\n",
    "nba_teams_adv.to_csv('nba_teams_adv.csv',index=False)"
   ]
  },
  {
   "cell_type": "code",
   "execution_count": null,
   "id": "be0651dc",
   "metadata": {},
   "outputs": [],
   "source": []
  },
  {
   "cell_type": "code",
   "execution_count": 29,
   "id": "f5d6451b",
   "metadata": {},
   "outputs": [],
   "source": [
    "nba_players_per100=pd.DataFrame()"
   ]
  },
  {
   "cell_type": "code",
   "execution_count": 30,
   "id": "542a1e31",
   "metadata": {
    "scrolled": true
   },
   "outputs": [
    {
     "name": "stderr",
     "output_type": "stream",
     "text": [
      "C:\\Users\\marli\\AppData\\Local\\Temp\\ipykernel_14448\\3266446117.py:4: FutureWarning: The frame.append method is deprecated and will be removed from pandas in a future version. Use pandas.concat instead.\n",
      "  nba_players_per100=nba_players_per100.append(data)\n",
      "C:\\Users\\marli\\AppData\\Local\\Temp\\ipykernel_14448\\3266446117.py:4: FutureWarning: The frame.append method is deprecated and will be removed from pandas in a future version. Use pandas.concat instead.\n",
      "  nba_players_per100=nba_players_per100.append(data)\n",
      "C:\\Users\\marli\\AppData\\Local\\Temp\\ipykernel_14448\\3266446117.py:4: FutureWarning: The frame.append method is deprecated and will be removed from pandas in a future version. Use pandas.concat instead.\n",
      "  nba_players_per100=nba_players_per100.append(data)\n",
      "C:\\Users\\marli\\AppData\\Local\\Temp\\ipykernel_14448\\3266446117.py:4: FutureWarning: The frame.append method is deprecated and will be removed from pandas in a future version. Use pandas.concat instead.\n",
      "  nba_players_per100=nba_players_per100.append(data)\n",
      "C:\\Users\\marli\\AppData\\Local\\Temp\\ipykernel_14448\\3266446117.py:4: FutureWarning: The frame.append method is deprecated and will be removed from pandas in a future version. Use pandas.concat instead.\n",
      "  nba_players_per100=nba_players_per100.append(data)\n",
      "C:\\Users\\marli\\AppData\\Local\\Temp\\ipykernel_14448\\3266446117.py:4: FutureWarning: The frame.append method is deprecated and will be removed from pandas in a future version. Use pandas.concat instead.\n",
      "  nba_players_per100=nba_players_per100.append(data)\n",
      "C:\\Users\\marli\\AppData\\Local\\Temp\\ipykernel_14448\\3266446117.py:4: FutureWarning: The frame.append method is deprecated and will be removed from pandas in a future version. Use pandas.concat instead.\n",
      "  nba_players_per100=nba_players_per100.append(data)\n",
      "C:\\Users\\marli\\AppData\\Local\\Temp\\ipykernel_14448\\3266446117.py:4: FutureWarning: The frame.append method is deprecated and will be removed from pandas in a future version. Use pandas.concat instead.\n",
      "  nba_players_per100=nba_players_per100.append(data)\n",
      "C:\\Users\\marli\\AppData\\Local\\Temp\\ipykernel_14448\\3266446117.py:4: FutureWarning: The frame.append method is deprecated and will be removed from pandas in a future version. Use pandas.concat instead.\n",
      "  nba_players_per100=nba_players_per100.append(data)\n",
      "C:\\Users\\marli\\AppData\\Local\\Temp\\ipykernel_14448\\3266446117.py:4: FutureWarning: The frame.append method is deprecated and will be removed from pandas in a future version. Use pandas.concat instead.\n",
      "  nba_players_per100=nba_players_per100.append(data)\n",
      "C:\\Users\\marli\\AppData\\Local\\Temp\\ipykernel_14448\\3266446117.py:4: FutureWarning: The frame.append method is deprecated and will be removed from pandas in a future version. Use pandas.concat instead.\n",
      "  nba_players_per100=nba_players_per100.append(data)\n",
      "C:\\Users\\marli\\AppData\\Local\\Temp\\ipykernel_14448\\3266446117.py:4: FutureWarning: The frame.append method is deprecated and will be removed from pandas in a future version. Use pandas.concat instead.\n",
      "  nba_players_per100=nba_players_per100.append(data)\n",
      "C:\\Users\\marli\\AppData\\Local\\Temp\\ipykernel_14448\\3266446117.py:4: FutureWarning: The frame.append method is deprecated and will be removed from pandas in a future version. Use pandas.concat instead.\n",
      "  nba_players_per100=nba_players_per100.append(data)\n",
      "C:\\Users\\marli\\AppData\\Local\\Temp\\ipykernel_14448\\3266446117.py:4: FutureWarning: The frame.append method is deprecated and will be removed from pandas in a future version. Use pandas.concat instead.\n",
      "  nba_players_per100=nba_players_per100.append(data)\n",
      "C:\\Users\\marli\\AppData\\Local\\Temp\\ipykernel_14448\\3266446117.py:4: FutureWarning: The frame.append method is deprecated and will be removed from pandas in a future version. Use pandas.concat instead.\n",
      "  nba_players_per100=nba_players_per100.append(data)\n",
      "C:\\Users\\marli\\AppData\\Local\\Temp\\ipykernel_14448\\3266446117.py:4: FutureWarning: The frame.append method is deprecated and will be removed from pandas in a future version. Use pandas.concat instead.\n",
      "  nba_players_per100=nba_players_per100.append(data)\n",
      "C:\\Users\\marli\\AppData\\Local\\Temp\\ipykernel_14448\\3266446117.py:4: FutureWarning: The frame.append method is deprecated and will be removed from pandas in a future version. Use pandas.concat instead.\n",
      "  nba_players_per100=nba_players_per100.append(data)\n",
      "C:\\Users\\marli\\AppData\\Local\\Temp\\ipykernel_14448\\3266446117.py:4: FutureWarning: The frame.append method is deprecated and will be removed from pandas in a future version. Use pandas.concat instead.\n",
      "  nba_players_per100=nba_players_per100.append(data)\n",
      "C:\\Users\\marli\\AppData\\Local\\Temp\\ipykernel_14448\\3266446117.py:4: FutureWarning: The frame.append method is deprecated and will be removed from pandas in a future version. Use pandas.concat instead.\n",
      "  nba_players_per100=nba_players_per100.append(data)\n",
      "C:\\Users\\marli\\AppData\\Local\\Temp\\ipykernel_14448\\3266446117.py:4: FutureWarning: The frame.append method is deprecated and will be removed from pandas in a future version. Use pandas.concat instead.\n",
      "  nba_players_per100=nba_players_per100.append(data)\n",
      "C:\\Users\\marli\\AppData\\Local\\Temp\\ipykernel_14448\\3266446117.py:4: FutureWarning: The frame.append method is deprecated and will be removed from pandas in a future version. Use pandas.concat instead.\n",
      "  nba_players_per100=nba_players_per100.append(data)\n",
      "C:\\Users\\marli\\AppData\\Local\\Temp\\ipykernel_14448\\3266446117.py:4: FutureWarning: The frame.append method is deprecated and will be removed from pandas in a future version. Use pandas.concat instead.\n",
      "  nba_players_per100=nba_players_per100.append(data)\n"
     ]
    }
   ],
   "source": [
    "for i in range(2000,2022):\n",
    "    data=pd.read_excel(\"Data/NBA/players_per100.xlsx\",sheet_name=str(i)+\"-\"+str(i+1))\n",
    "    data['year']=str(i)+\"-\"+str(i+1)\n",
    "    nba_players_per100=nba_players_per100.append(data)"
   ]
  },
  {
   "cell_type": "code",
   "execution_count": 31,
   "id": "19a54059",
   "metadata": {},
   "outputs": [],
   "source": [
    "nba_players_per100.drop(columns=['Rk','Unnamed: 29'],inplace=True)"
   ]
  },
  {
   "cell_type": "code",
   "execution_count": null,
   "id": "d7053409",
   "metadata": {},
   "outputs": [],
   "source": []
  },
  {
   "cell_type": "code",
   "execution_count": 32,
   "id": "71ba6b5e",
   "metadata": {},
   "outputs": [],
   "source": [
    "nba_players_basic=pd.DataFrame()"
   ]
  },
  {
   "cell_type": "code",
   "execution_count": 33,
   "id": "72bd0f05",
   "metadata": {
    "scrolled": true
   },
   "outputs": [
    {
     "name": "stderr",
     "output_type": "stream",
     "text": [
      "C:\\Users\\marli\\AppData\\Local\\Temp\\ipykernel_14448\\2867723103.py:4: FutureWarning: The frame.append method is deprecated and will be removed from pandas in a future version. Use pandas.concat instead.\n",
      "  nba_players_basic=nba_players_basic.append(data)\n",
      "C:\\Users\\marli\\AppData\\Local\\Temp\\ipykernel_14448\\2867723103.py:4: FutureWarning: The frame.append method is deprecated and will be removed from pandas in a future version. Use pandas.concat instead.\n",
      "  nba_players_basic=nba_players_basic.append(data)\n",
      "C:\\Users\\marli\\AppData\\Local\\Temp\\ipykernel_14448\\2867723103.py:4: FutureWarning: The frame.append method is deprecated and will be removed from pandas in a future version. Use pandas.concat instead.\n",
      "  nba_players_basic=nba_players_basic.append(data)\n",
      "C:\\Users\\marli\\AppData\\Local\\Temp\\ipykernel_14448\\2867723103.py:4: FutureWarning: The frame.append method is deprecated and will be removed from pandas in a future version. Use pandas.concat instead.\n",
      "  nba_players_basic=nba_players_basic.append(data)\n",
      "C:\\Users\\marli\\AppData\\Local\\Temp\\ipykernel_14448\\2867723103.py:4: FutureWarning: The frame.append method is deprecated and will be removed from pandas in a future version. Use pandas.concat instead.\n",
      "  nba_players_basic=nba_players_basic.append(data)\n",
      "C:\\Users\\marli\\AppData\\Local\\Temp\\ipykernel_14448\\2867723103.py:4: FutureWarning: The frame.append method is deprecated and will be removed from pandas in a future version. Use pandas.concat instead.\n",
      "  nba_players_basic=nba_players_basic.append(data)\n",
      "C:\\Users\\marli\\AppData\\Local\\Temp\\ipykernel_14448\\2867723103.py:4: FutureWarning: The frame.append method is deprecated and will be removed from pandas in a future version. Use pandas.concat instead.\n",
      "  nba_players_basic=nba_players_basic.append(data)\n",
      "C:\\Users\\marli\\AppData\\Local\\Temp\\ipykernel_14448\\2867723103.py:4: FutureWarning: The frame.append method is deprecated and will be removed from pandas in a future version. Use pandas.concat instead.\n",
      "  nba_players_basic=nba_players_basic.append(data)\n",
      "C:\\Users\\marli\\AppData\\Local\\Temp\\ipykernel_14448\\2867723103.py:4: FutureWarning: The frame.append method is deprecated and will be removed from pandas in a future version. Use pandas.concat instead.\n",
      "  nba_players_basic=nba_players_basic.append(data)\n",
      "C:\\Users\\marli\\AppData\\Local\\Temp\\ipykernel_14448\\2867723103.py:4: FutureWarning: The frame.append method is deprecated and will be removed from pandas in a future version. Use pandas.concat instead.\n",
      "  nba_players_basic=nba_players_basic.append(data)\n",
      "C:\\Users\\marli\\AppData\\Local\\Temp\\ipykernel_14448\\2867723103.py:4: FutureWarning: The frame.append method is deprecated and will be removed from pandas in a future version. Use pandas.concat instead.\n",
      "  nba_players_basic=nba_players_basic.append(data)\n",
      "C:\\Users\\marli\\AppData\\Local\\Temp\\ipykernel_14448\\2867723103.py:4: FutureWarning: The frame.append method is deprecated and will be removed from pandas in a future version. Use pandas.concat instead.\n",
      "  nba_players_basic=nba_players_basic.append(data)\n",
      "C:\\Users\\marli\\AppData\\Local\\Temp\\ipykernel_14448\\2867723103.py:4: FutureWarning: The frame.append method is deprecated and will be removed from pandas in a future version. Use pandas.concat instead.\n",
      "  nba_players_basic=nba_players_basic.append(data)\n",
      "C:\\Users\\marli\\AppData\\Local\\Temp\\ipykernel_14448\\2867723103.py:4: FutureWarning: The frame.append method is deprecated and will be removed from pandas in a future version. Use pandas.concat instead.\n",
      "  nba_players_basic=nba_players_basic.append(data)\n",
      "C:\\Users\\marli\\AppData\\Local\\Temp\\ipykernel_14448\\2867723103.py:4: FutureWarning: The frame.append method is deprecated and will be removed from pandas in a future version. Use pandas.concat instead.\n",
      "  nba_players_basic=nba_players_basic.append(data)\n",
      "C:\\Users\\marli\\AppData\\Local\\Temp\\ipykernel_14448\\2867723103.py:4: FutureWarning: The frame.append method is deprecated and will be removed from pandas in a future version. Use pandas.concat instead.\n",
      "  nba_players_basic=nba_players_basic.append(data)\n",
      "C:\\Users\\marli\\AppData\\Local\\Temp\\ipykernel_14448\\2867723103.py:4: FutureWarning: The frame.append method is deprecated and will be removed from pandas in a future version. Use pandas.concat instead.\n",
      "  nba_players_basic=nba_players_basic.append(data)\n",
      "C:\\Users\\marli\\AppData\\Local\\Temp\\ipykernel_14448\\2867723103.py:4: FutureWarning: The frame.append method is deprecated and will be removed from pandas in a future version. Use pandas.concat instead.\n",
      "  nba_players_basic=nba_players_basic.append(data)\n",
      "C:\\Users\\marli\\AppData\\Local\\Temp\\ipykernel_14448\\2867723103.py:4: FutureWarning: The frame.append method is deprecated and will be removed from pandas in a future version. Use pandas.concat instead.\n",
      "  nba_players_basic=nba_players_basic.append(data)\n",
      "C:\\Users\\marli\\AppData\\Local\\Temp\\ipykernel_14448\\2867723103.py:4: FutureWarning: The frame.append method is deprecated and will be removed from pandas in a future version. Use pandas.concat instead.\n",
      "  nba_players_basic=nba_players_basic.append(data)\n",
      "C:\\Users\\marli\\AppData\\Local\\Temp\\ipykernel_14448\\2867723103.py:4: FutureWarning: The frame.append method is deprecated and will be removed from pandas in a future version. Use pandas.concat instead.\n",
      "  nba_players_basic=nba_players_basic.append(data)\n",
      "C:\\Users\\marli\\AppData\\Local\\Temp\\ipykernel_14448\\2867723103.py:4: FutureWarning: The frame.append method is deprecated and will be removed from pandas in a future version. Use pandas.concat instead.\n",
      "  nba_players_basic=nba_players_basic.append(data)\n"
     ]
    }
   ],
   "source": [
    "for i in range(2000,2022):\n",
    "    data=pd.read_excel(\"Data/NBA/players_basic.xlsx\",sheet_name=str(i)+\"-\"+str(i+1))\n",
    "    data['year']=str(i)+\"-\"+str(i+1)\n",
    "    nba_players_basic=nba_players_basic.append(data)"
   ]
  },
  {
   "cell_type": "code",
   "execution_count": 34,
   "id": "f5ef8dba",
   "metadata": {},
   "outputs": [],
   "source": [
    "nba_players_basic.drop(columns='Rk',inplace=True)"
   ]
  },
  {
   "cell_type": "code",
   "execution_count": 36,
   "id": "68e3f697",
   "metadata": {
    "scrolled": true
   },
   "outputs": [],
   "source": [
    "nba_players_basic['id']=nba_players_basic['Player']+nba_players_basic['year']+nba_players_basic['Tm']+nba_players_basic['Pos']\n",
    "nba_players_per100['id']=nba_players_per100['Player']+nba_players_per100['year']+nba_players_per100['Tm']+nba_players_per100['Pos']\n",
    "nba_players_per100.rename(columns={'FG':'FGper100','FGA':'FGAper100','3P':'3Pper100','3PA':'3PAper100','2P':'2Pper100','2PA':'2PAper100','FT':'FTper100','FTA':'FTAper100','ORB':'ORBper100','DRB':'DRBper100','TRB':'TRBper100','AST':'ASTper100','STL':'STLper100','BLK':'BLKper100','TOV':'TOVper100','PF':'PFper100','PTS':'PTSper100','ORtg':'ORtgper100','DRtg':'DRtgper100'},inplace=True)\n",
    "nba_players_per100=nba_players_per100[['id','FGper100','FGAper100','3Pper100','3PAper100','2Pper100','2PAper100','FTper100','FTAper100','ORBper100','DRBper100','TRBper100','ASTper100','STLper100','BLKper100','TOVper100','PFper100','PTSper100','ORtgper100','DRtgper100']]"
   ]
  },
  {
   "cell_type": "code",
   "execution_count": 39,
   "id": "e2f26c3f",
   "metadata": {},
   "outputs": [
    {
     "ename": "KeyError",
     "evalue": "'Player'",
     "output_type": "error",
     "traceback": [
      "\u001b[1;31m---------------------------------------------------------------------------\u001b[0m",
      "\u001b[1;31mKeyError\u001b[0m                                  Traceback (most recent call last)",
      "File \u001b[1;32m~\\anaconda3\\lib\\site-packages\\pandas\\core\\indexes\\base.py:3621\u001b[0m, in \u001b[0;36mIndex.get_loc\u001b[1;34m(self, key, method, tolerance)\u001b[0m\n\u001b[0;32m   3620\u001b[0m \u001b[38;5;28;01mtry\u001b[39;00m:\n\u001b[1;32m-> 3621\u001b[0m     \u001b[38;5;28;01mreturn\u001b[39;00m \u001b[38;5;28;43mself\u001b[39;49m\u001b[38;5;241;43m.\u001b[39;49m\u001b[43m_engine\u001b[49m\u001b[38;5;241;43m.\u001b[39;49m\u001b[43mget_loc\u001b[49m\u001b[43m(\u001b[49m\u001b[43mcasted_key\u001b[49m\u001b[43m)\u001b[49m\n\u001b[0;32m   3622\u001b[0m \u001b[38;5;28;01mexcept\u001b[39;00m \u001b[38;5;167;01mKeyError\u001b[39;00m \u001b[38;5;28;01mas\u001b[39;00m err:\n",
      "File \u001b[1;32m~\\anaconda3\\lib\\site-packages\\pandas\\_libs\\index.pyx:136\u001b[0m, in \u001b[0;36mpandas._libs.index.IndexEngine.get_loc\u001b[1;34m()\u001b[0m\n",
      "File \u001b[1;32m~\\anaconda3\\lib\\site-packages\\pandas\\_libs\\index.pyx:163\u001b[0m, in \u001b[0;36mpandas._libs.index.IndexEngine.get_loc\u001b[1;34m()\u001b[0m\n",
      "File \u001b[1;32mpandas\\_libs\\hashtable_class_helper.pxi:5198\u001b[0m, in \u001b[0;36mpandas._libs.hashtable.PyObjectHashTable.get_item\u001b[1;34m()\u001b[0m\n",
      "File \u001b[1;32mpandas\\_libs\\hashtable_class_helper.pxi:5206\u001b[0m, in \u001b[0;36mpandas._libs.hashtable.PyObjectHashTable.get_item\u001b[1;34m()\u001b[0m\n",
      "\u001b[1;31mKeyError\u001b[0m: 'Player'",
      "\nThe above exception was the direct cause of the following exception:\n",
      "\u001b[1;31mKeyError\u001b[0m                                  Traceback (most recent call last)",
      "Input \u001b[1;32mIn [39]\u001b[0m, in \u001b[0;36m<cell line: 4>\u001b[1;34m()\u001b[0m\n\u001b[0;32m      2\u001b[0m nba_players_basic_per_100[\u001b[38;5;124m'\u001b[39m\u001b[38;5;124mid\u001b[39m\u001b[38;5;124m'\u001b[39m]\u001b[38;5;241m=\u001b[39mnba_players_basic_per_100[\u001b[38;5;124m'\u001b[39m\u001b[38;5;124mPlayer\u001b[39m\u001b[38;5;124m'\u001b[39m]\u001b[38;5;241m+\u001b[39mnba_players_basic_per_100[\u001b[38;5;124m'\u001b[39m\u001b[38;5;124myear\u001b[39m\u001b[38;5;124m'\u001b[39m]\n\u001b[0;32m      3\u001b[0m nba_players_basic[\u001b[38;5;124m'\u001b[39m\u001b[38;5;124mid\u001b[39m\u001b[38;5;124m'\u001b[39m]\u001b[38;5;241m=\u001b[39mnba_players_basic[\u001b[38;5;124m'\u001b[39m\u001b[38;5;124mPlayer\u001b[39m\u001b[38;5;124m'\u001b[39m]\u001b[38;5;241m+\u001b[39mnba_players_basic[\u001b[38;5;124m'\u001b[39m\u001b[38;5;124myear\u001b[39m\u001b[38;5;124m'\u001b[39m]\n\u001b[1;32m----> 4\u001b[0m nba_players_per100[\u001b[38;5;124m'\u001b[39m\u001b[38;5;124mid\u001b[39m\u001b[38;5;124m'\u001b[39m]\u001b[38;5;241m=\u001b[39m\u001b[43mnba_players_per100\u001b[49m\u001b[43m[\u001b[49m\u001b[38;5;124;43m'\u001b[39;49m\u001b[38;5;124;43mPlayer\u001b[39;49m\u001b[38;5;124;43m'\u001b[39;49m\u001b[43m]\u001b[49m\u001b[38;5;241m+\u001b[39mnba_players_per100[\u001b[38;5;124m'\u001b[39m\u001b[38;5;124myear\u001b[39m\u001b[38;5;124m'\u001b[39m]\n\u001b[0;32m      6\u001b[0m nba_players_basic\u001b[38;5;241m.\u001b[39mto_csv(\u001b[38;5;124m'\u001b[39m\u001b[38;5;124mnba_players_basic.csv\u001b[39m\u001b[38;5;124m'\u001b[39m,index\u001b[38;5;241m=\u001b[39m\u001b[38;5;28;01mFalse\u001b[39;00m)\n\u001b[0;32m      7\u001b[0m nba_players_per100\u001b[38;5;241m.\u001b[39mto_csv(\u001b[38;5;124m'\u001b[39m\u001b[38;5;124mnba_players_per100.csv\u001b[39m\u001b[38;5;124m'\u001b[39m,index\u001b[38;5;241m=\u001b[39m\u001b[38;5;28;01mFalse\u001b[39;00m)\n",
      "File \u001b[1;32m~\\anaconda3\\lib\\site-packages\\pandas\\core\\frame.py:3505\u001b[0m, in \u001b[0;36mDataFrame.__getitem__\u001b[1;34m(self, key)\u001b[0m\n\u001b[0;32m   3503\u001b[0m \u001b[38;5;28;01mif\u001b[39;00m \u001b[38;5;28mself\u001b[39m\u001b[38;5;241m.\u001b[39mcolumns\u001b[38;5;241m.\u001b[39mnlevels \u001b[38;5;241m>\u001b[39m \u001b[38;5;241m1\u001b[39m:\n\u001b[0;32m   3504\u001b[0m     \u001b[38;5;28;01mreturn\u001b[39;00m \u001b[38;5;28mself\u001b[39m\u001b[38;5;241m.\u001b[39m_getitem_multilevel(key)\n\u001b[1;32m-> 3505\u001b[0m indexer \u001b[38;5;241m=\u001b[39m \u001b[38;5;28;43mself\u001b[39;49m\u001b[38;5;241;43m.\u001b[39;49m\u001b[43mcolumns\u001b[49m\u001b[38;5;241;43m.\u001b[39;49m\u001b[43mget_loc\u001b[49m\u001b[43m(\u001b[49m\u001b[43mkey\u001b[49m\u001b[43m)\u001b[49m\n\u001b[0;32m   3506\u001b[0m \u001b[38;5;28;01mif\u001b[39;00m is_integer(indexer):\n\u001b[0;32m   3507\u001b[0m     indexer \u001b[38;5;241m=\u001b[39m [indexer]\n",
      "File \u001b[1;32m~\\anaconda3\\lib\\site-packages\\pandas\\core\\indexes\\base.py:3623\u001b[0m, in \u001b[0;36mIndex.get_loc\u001b[1;34m(self, key, method, tolerance)\u001b[0m\n\u001b[0;32m   3621\u001b[0m     \u001b[38;5;28;01mreturn\u001b[39;00m \u001b[38;5;28mself\u001b[39m\u001b[38;5;241m.\u001b[39m_engine\u001b[38;5;241m.\u001b[39mget_loc(casted_key)\n\u001b[0;32m   3622\u001b[0m \u001b[38;5;28;01mexcept\u001b[39;00m \u001b[38;5;167;01mKeyError\u001b[39;00m \u001b[38;5;28;01mas\u001b[39;00m err:\n\u001b[1;32m-> 3623\u001b[0m     \u001b[38;5;28;01mraise\u001b[39;00m \u001b[38;5;167;01mKeyError\u001b[39;00m(key) \u001b[38;5;28;01mfrom\u001b[39;00m \u001b[38;5;21;01merr\u001b[39;00m\n\u001b[0;32m   3624\u001b[0m \u001b[38;5;28;01mexcept\u001b[39;00m \u001b[38;5;167;01mTypeError\u001b[39;00m:\n\u001b[0;32m   3625\u001b[0m     \u001b[38;5;66;03m# If we have a listlike key, _check_indexing_error will raise\u001b[39;00m\n\u001b[0;32m   3626\u001b[0m     \u001b[38;5;66;03m#  InvalidIndexError. Otherwise we fall through and re-raise\u001b[39;00m\n\u001b[0;32m   3627\u001b[0m     \u001b[38;5;66;03m#  the TypeError.\u001b[39;00m\n\u001b[0;32m   3628\u001b[0m     \u001b[38;5;28mself\u001b[39m\u001b[38;5;241m.\u001b[39m_check_indexing_error(key)\n",
      "\u001b[1;31mKeyError\u001b[0m: 'Player'"
     ]
    }
   ],
   "source": [
    "nba_players_basic_per_100=nba_players_basic.merge(nba_players_per100,right_on='id',left_on='id',how='left')\n",
    "nba_players_basic_per_100['id']=nba_players_basic_per_100['Player']+nba_players_basic_per_100['year']\n",
    "nba_players_basic['id']=nba_players_basic['Player']+nba_players_basic['year']\n",
    "nba_players_per100['id']=nba_players_per100['Player']+nba_players_per100['year']\n",
    "\n",
    "nba_players_basic.to_csv('nba_players_basic.csv',index=False)\n",
    "nba_players_per100.to_csv('nba_players_per100.csv',index=False)\n",
    "nba_players_basic_per_100.to_csv('nba_players_basic_per_100.csv',index=False)"
   ]
  },
  {
   "cell_type": "code",
   "execution_count": null,
   "id": "cb42de58",
   "metadata": {},
   "outputs": [],
   "source": []
  },
  {
   "cell_type": "code",
   "execution_count": null,
   "id": "b60de585",
   "metadata": {},
   "outputs": [],
   "source": []
  },
  {
   "cell_type": "code",
   "execution_count": null,
   "id": "acf056e2",
   "metadata": {},
   "outputs": [],
   "source": []
  },
  {
   "cell_type": "code",
   "execution_count": 33,
   "id": "d2c85db0",
   "metadata": {},
   "outputs": [],
   "source": [
    "nba_players_shooting=pd.DataFrame()"
   ]
  },
  {
   "cell_type": "code",
   "execution_count": 34,
   "id": "36cd849f",
   "metadata": {
    "scrolled": true
   },
   "outputs": [
    {
     "name": "stderr",
     "output_type": "stream",
     "text": [
      "C:\\Users\\marli\\AppData\\Local\\Temp\\ipykernel_7252\\1600494543.py:4: FutureWarning: The frame.append method is deprecated and will be removed from pandas in a future version. Use pandas.concat instead.\n",
      "  nba_players_shooting=nba_players_shooting.append(data)\n",
      "C:\\Users\\marli\\AppData\\Local\\Temp\\ipykernel_7252\\1600494543.py:4: FutureWarning: The frame.append method is deprecated and will be removed from pandas in a future version. Use pandas.concat instead.\n",
      "  nba_players_shooting=nba_players_shooting.append(data)\n",
      "C:\\Users\\marli\\AppData\\Local\\Temp\\ipykernel_7252\\1600494543.py:4: FutureWarning: The frame.append method is deprecated and will be removed from pandas in a future version. Use pandas.concat instead.\n",
      "  nba_players_shooting=nba_players_shooting.append(data)\n",
      "C:\\Users\\marli\\AppData\\Local\\Temp\\ipykernel_7252\\1600494543.py:4: FutureWarning: The frame.append method is deprecated and will be removed from pandas in a future version. Use pandas.concat instead.\n",
      "  nba_players_shooting=nba_players_shooting.append(data)\n",
      "C:\\Users\\marli\\AppData\\Local\\Temp\\ipykernel_7252\\1600494543.py:4: FutureWarning: The frame.append method is deprecated and will be removed from pandas in a future version. Use pandas.concat instead.\n",
      "  nba_players_shooting=nba_players_shooting.append(data)\n",
      "C:\\Users\\marli\\AppData\\Local\\Temp\\ipykernel_7252\\1600494543.py:4: FutureWarning: The frame.append method is deprecated and will be removed from pandas in a future version. Use pandas.concat instead.\n",
      "  nba_players_shooting=nba_players_shooting.append(data)\n",
      "C:\\Users\\marli\\AppData\\Local\\Temp\\ipykernel_7252\\1600494543.py:4: FutureWarning: The frame.append method is deprecated and will be removed from pandas in a future version. Use pandas.concat instead.\n",
      "  nba_players_shooting=nba_players_shooting.append(data)\n",
      "C:\\Users\\marli\\AppData\\Local\\Temp\\ipykernel_7252\\1600494543.py:4: FutureWarning: The frame.append method is deprecated and will be removed from pandas in a future version. Use pandas.concat instead.\n",
      "  nba_players_shooting=nba_players_shooting.append(data)\n",
      "C:\\Users\\marli\\AppData\\Local\\Temp\\ipykernel_7252\\1600494543.py:4: FutureWarning: The frame.append method is deprecated and will be removed from pandas in a future version. Use pandas.concat instead.\n",
      "  nba_players_shooting=nba_players_shooting.append(data)\n",
      "C:\\Users\\marli\\AppData\\Local\\Temp\\ipykernel_7252\\1600494543.py:4: FutureWarning: The frame.append method is deprecated and will be removed from pandas in a future version. Use pandas.concat instead.\n",
      "  nba_players_shooting=nba_players_shooting.append(data)\n",
      "C:\\Users\\marli\\AppData\\Local\\Temp\\ipykernel_7252\\1600494543.py:4: FutureWarning: The frame.append method is deprecated and will be removed from pandas in a future version. Use pandas.concat instead.\n",
      "  nba_players_shooting=nba_players_shooting.append(data)\n",
      "C:\\Users\\marli\\AppData\\Local\\Temp\\ipykernel_7252\\1600494543.py:4: FutureWarning: The frame.append method is deprecated and will be removed from pandas in a future version. Use pandas.concat instead.\n",
      "  nba_players_shooting=nba_players_shooting.append(data)\n",
      "C:\\Users\\marli\\AppData\\Local\\Temp\\ipykernel_7252\\1600494543.py:4: FutureWarning: The frame.append method is deprecated and will be removed from pandas in a future version. Use pandas.concat instead.\n",
      "  nba_players_shooting=nba_players_shooting.append(data)\n",
      "C:\\Users\\marli\\AppData\\Local\\Temp\\ipykernel_7252\\1600494543.py:4: FutureWarning: The frame.append method is deprecated and will be removed from pandas in a future version. Use pandas.concat instead.\n",
      "  nba_players_shooting=nba_players_shooting.append(data)\n",
      "C:\\Users\\marli\\AppData\\Local\\Temp\\ipykernel_7252\\1600494543.py:4: FutureWarning: The frame.append method is deprecated and will be removed from pandas in a future version. Use pandas.concat instead.\n",
      "  nba_players_shooting=nba_players_shooting.append(data)\n",
      "C:\\Users\\marli\\AppData\\Local\\Temp\\ipykernel_7252\\1600494543.py:4: FutureWarning: The frame.append method is deprecated and will be removed from pandas in a future version. Use pandas.concat instead.\n",
      "  nba_players_shooting=nba_players_shooting.append(data)\n",
      "C:\\Users\\marli\\AppData\\Local\\Temp\\ipykernel_7252\\1600494543.py:4: FutureWarning: The frame.append method is deprecated and will be removed from pandas in a future version. Use pandas.concat instead.\n",
      "  nba_players_shooting=nba_players_shooting.append(data)\n",
      "C:\\Users\\marli\\AppData\\Local\\Temp\\ipykernel_7252\\1600494543.py:4: FutureWarning: The frame.append method is deprecated and will be removed from pandas in a future version. Use pandas.concat instead.\n",
      "  nba_players_shooting=nba_players_shooting.append(data)\n",
      "C:\\Users\\marli\\AppData\\Local\\Temp\\ipykernel_7252\\1600494543.py:4: FutureWarning: The frame.append method is deprecated and will be removed from pandas in a future version. Use pandas.concat instead.\n",
      "  nba_players_shooting=nba_players_shooting.append(data)\n",
      "C:\\Users\\marli\\AppData\\Local\\Temp\\ipykernel_7252\\1600494543.py:4: FutureWarning: The frame.append method is deprecated and will be removed from pandas in a future version. Use pandas.concat instead.\n",
      "  nba_players_shooting=nba_players_shooting.append(data)\n",
      "C:\\Users\\marli\\AppData\\Local\\Temp\\ipykernel_7252\\1600494543.py:4: FutureWarning: The frame.append method is deprecated and will be removed from pandas in a future version. Use pandas.concat instead.\n",
      "  nba_players_shooting=nba_players_shooting.append(data)\n",
      "C:\\Users\\marli\\AppData\\Local\\Temp\\ipykernel_7252\\1600494543.py:4: FutureWarning: The frame.append method is deprecated and will be removed from pandas in a future version. Use pandas.concat instead.\n",
      "  nba_players_shooting=nba_players_shooting.append(data)\n"
     ]
    }
   ],
   "source": [
    "for i in range(2000,2022):\n",
    "    data=pd.read_excel(\"Data/NBA/players_shooting.xlsx\",sheet_name=str(i)+\"-\"+str(i+1))\n",
    "    data['year']=str(i)+\"-\"+str(i+1)\n",
    "    nba_players_shooting=nba_players_shooting.append(data)"
   ]
  },
  {
   "cell_type": "code",
   "execution_count": 35,
   "id": "eb86feff",
   "metadata": {},
   "outputs": [],
   "source": [
    "nba_players_shooting.drop(columns='Rk',inplace=True)\n",
    "nba_players_shooting.to_csv('nba_players_shooting.csv',index=False)"
   ]
  },
  {
   "cell_type": "code",
   "execution_count": null,
   "id": "44c73cb3",
   "metadata": {},
   "outputs": [],
   "source": []
  },
  {
   "cell_type": "code",
   "execution_count": 2,
   "id": "2efcea7b",
   "metadata": {},
   "outputs": [],
   "source": [
    "recruiting_ranks=pd.DataFrame()"
   ]
  },
  {
   "cell_type": "code",
   "execution_count": 3,
   "id": "0773e1a1",
   "metadata": {},
   "outputs": [
    {
     "name": "stderr",
     "output_type": "stream",
     "text": [
      "C:\\Users\\marli\\AppData\\Local\\Temp\\ipykernel_11916\\2561928180.py:4: FutureWarning: The frame.append method is deprecated and will be removed from pandas in a future version. Use pandas.concat instead.\n",
      "  recruiting_ranks=recruiting_ranks.append(data)\n",
      "C:\\Users\\marli\\AppData\\Local\\Temp\\ipykernel_11916\\2561928180.py:4: FutureWarning: The frame.append method is deprecated and will be removed from pandas in a future version. Use pandas.concat instead.\n",
      "  recruiting_ranks=recruiting_ranks.append(data)\n",
      "C:\\Users\\marli\\AppData\\Local\\Temp\\ipykernel_11916\\2561928180.py:4: FutureWarning: The frame.append method is deprecated and will be removed from pandas in a future version. Use pandas.concat instead.\n",
      "  recruiting_ranks=recruiting_ranks.append(data)\n",
      "C:\\Users\\marli\\AppData\\Local\\Temp\\ipykernel_11916\\2561928180.py:4: FutureWarning: The frame.append method is deprecated and will be removed from pandas in a future version. Use pandas.concat instead.\n",
      "  recruiting_ranks=recruiting_ranks.append(data)\n",
      "C:\\Users\\marli\\AppData\\Local\\Temp\\ipykernel_11916\\2561928180.py:4: FutureWarning: The frame.append method is deprecated and will be removed from pandas in a future version. Use pandas.concat instead.\n",
      "  recruiting_ranks=recruiting_ranks.append(data)\n",
      "C:\\Users\\marli\\AppData\\Local\\Temp\\ipykernel_11916\\2561928180.py:4: FutureWarning: The frame.append method is deprecated and will be removed from pandas in a future version. Use pandas.concat instead.\n",
      "  recruiting_ranks=recruiting_ranks.append(data)\n",
      "C:\\Users\\marli\\AppData\\Local\\Temp\\ipykernel_11916\\2561928180.py:4: FutureWarning: The frame.append method is deprecated and will be removed from pandas in a future version. Use pandas.concat instead.\n",
      "  recruiting_ranks=recruiting_ranks.append(data)\n",
      "C:\\Users\\marli\\AppData\\Local\\Temp\\ipykernel_11916\\2561928180.py:4: FutureWarning: The frame.append method is deprecated and will be removed from pandas in a future version. Use pandas.concat instead.\n",
      "  recruiting_ranks=recruiting_ranks.append(data)\n",
      "C:\\Users\\marli\\AppData\\Local\\Temp\\ipykernel_11916\\2561928180.py:4: FutureWarning: The frame.append method is deprecated and will be removed from pandas in a future version. Use pandas.concat instead.\n",
      "  recruiting_ranks=recruiting_ranks.append(data)\n",
      "C:\\Users\\marli\\AppData\\Local\\Temp\\ipykernel_11916\\2561928180.py:4: FutureWarning: The frame.append method is deprecated and will be removed from pandas in a future version. Use pandas.concat instead.\n",
      "  recruiting_ranks=recruiting_ranks.append(data)\n",
      "C:\\Users\\marli\\AppData\\Local\\Temp\\ipykernel_11916\\2561928180.py:4: FutureWarning: The frame.append method is deprecated and will be removed from pandas in a future version. Use pandas.concat instead.\n",
      "  recruiting_ranks=recruiting_ranks.append(data)\n",
      "C:\\Users\\marli\\AppData\\Local\\Temp\\ipykernel_11916\\2561928180.py:4: FutureWarning: The frame.append method is deprecated and will be removed from pandas in a future version. Use pandas.concat instead.\n",
      "  recruiting_ranks=recruiting_ranks.append(data)\n",
      "C:\\Users\\marli\\AppData\\Local\\Temp\\ipykernel_11916\\2561928180.py:4: FutureWarning: The frame.append method is deprecated and will be removed from pandas in a future version. Use pandas.concat instead.\n",
      "  recruiting_ranks=recruiting_ranks.append(data)\n",
      "C:\\Users\\marli\\AppData\\Local\\Temp\\ipykernel_11916\\2561928180.py:4: FutureWarning: The frame.append method is deprecated and will be removed from pandas in a future version. Use pandas.concat instead.\n",
      "  recruiting_ranks=recruiting_ranks.append(data)\n",
      "C:\\Users\\marli\\AppData\\Local\\Temp\\ipykernel_11916\\2561928180.py:4: FutureWarning: The frame.append method is deprecated and will be removed from pandas in a future version. Use pandas.concat instead.\n",
      "  recruiting_ranks=recruiting_ranks.append(data)\n",
      "C:\\Users\\marli\\AppData\\Local\\Temp\\ipykernel_11916\\2561928180.py:4: FutureWarning: The frame.append method is deprecated and will be removed from pandas in a future version. Use pandas.concat instead.\n",
      "  recruiting_ranks=recruiting_ranks.append(data)\n",
      "C:\\Users\\marli\\AppData\\Local\\Temp\\ipykernel_11916\\2561928180.py:4: FutureWarning: The frame.append method is deprecated and will be removed from pandas in a future version. Use pandas.concat instead.\n",
      "  recruiting_ranks=recruiting_ranks.append(data)\n",
      "C:\\Users\\marli\\AppData\\Local\\Temp\\ipykernel_11916\\2561928180.py:4: FutureWarning: The frame.append method is deprecated and will be removed from pandas in a future version. Use pandas.concat instead.\n",
      "  recruiting_ranks=recruiting_ranks.append(data)\n",
      "C:\\Users\\marli\\AppData\\Local\\Temp\\ipykernel_11916\\2561928180.py:4: FutureWarning: The frame.append method is deprecated and will be removed from pandas in a future version. Use pandas.concat instead.\n",
      "  recruiting_ranks=recruiting_ranks.append(data)\n",
      "C:\\Users\\marli\\AppData\\Local\\Temp\\ipykernel_11916\\2561928180.py:4: FutureWarning: The frame.append method is deprecated and will be removed from pandas in a future version. Use pandas.concat instead.\n",
      "  recruiting_ranks=recruiting_ranks.append(data)\n",
      "C:\\Users\\marli\\AppData\\Local\\Temp\\ipykernel_11916\\2561928180.py:4: FutureWarning: The frame.append method is deprecated and will be removed from pandas in a future version. Use pandas.concat instead.\n",
      "  recruiting_ranks=recruiting_ranks.append(data)\n",
      "C:\\Users\\marli\\AppData\\Local\\Temp\\ipykernel_11916\\2561928180.py:4: FutureWarning: The frame.append method is deprecated and will be removed from pandas in a future version. Use pandas.concat instead.\n",
      "  recruiting_ranks=recruiting_ranks.append(data)\n"
     ]
    }
   ],
   "source": [
    "for i in range(2000,2022):\n",
    "    data=pd.read_excel(\"Data/NBA/recruiting_ranks.xlsx\",sheet_name=str(i))\n",
    "    data['year']=str(i)\n",
    "    recruiting_ranks=recruiting_ranks.append(data)"
   ]
  },
  {
   "cell_type": "code",
   "execution_count": 10,
   "id": "7c4b361c",
   "metadata": {},
   "outputs": [],
   "source": [
    "recruiting_ranks.to_csv('recruiting_ranks.csv',index=False)"
   ]
  },
  {
   "cell_type": "code",
   "execution_count": null,
   "id": "553ce34a",
   "metadata": {},
   "outputs": [],
   "source": []
  }
 ],
 "metadata": {
  "kernelspec": {
   "display_name": "Python 3 (ipykernel)",
   "language": "python",
   "name": "python3"
  },
  "language_info": {
   "codemirror_mode": {
    "name": "ipython",
    "version": 3
   },
   "file_extension": ".py",
   "mimetype": "text/x-python",
   "name": "python",
   "nbconvert_exporter": "python",
   "pygments_lexer": "ipython3",
   "version": "3.9.12"
  }
 },
 "nbformat": 4,
 "nbformat_minor": 5
}
